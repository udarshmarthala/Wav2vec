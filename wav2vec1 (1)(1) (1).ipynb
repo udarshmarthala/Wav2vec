{
 "cells": [
  {
   "cell_type": "code",
   "execution_count": 1,
   "metadata": {
    "id": "khtqYmEHpQ1J",
    "scrolled": true,
    "tags": []
   },
   "outputs": [
    {
     "name": "stdout",
     "output_type": "stream",
     "text": [
      "Requirement already satisfied: datasets in c:\\users\\sai krishna\\appdata\\local\\programs\\python\\python311\\lib\\site-packages (2.18.0)\n",
      "Requirement already satisfied: filelock in c:\\users\\sai krishna\\appdata\\local\\programs\\python\\python311\\lib\\site-packages (from datasets) (3.13.1)\n",
      "Requirement already satisfied: numpy>=1.17 in c:\\users\\sai krishna\\appdata\\local\\programs\\python\\python311\\lib\\site-packages (from datasets) (1.26.3)\n",
      "Requirement already satisfied: pyarrow>=12.0.0 in c:\\users\\sai krishna\\appdata\\local\\programs\\python\\python311\\lib\\site-packages (from datasets) (15.0.0)\n",
      "Requirement already satisfied: pyarrow-hotfix in c:\\users\\sai krishna\\appdata\\local\\programs\\python\\python311\\lib\\site-packages (from datasets) (0.6)\n",
      "Requirement already satisfied: dill<0.3.9,>=0.3.0 in c:\\users\\sai krishna\\appdata\\local\\programs\\python\\python311\\lib\\site-packages (from datasets) (0.3.7)\n",
      "Requirement already satisfied: pandas in c:\\users\\sai krishna\\appdata\\local\\programs\\python\\python311\\lib\\site-packages (from datasets) (2.2.0)\n",
      "Requirement already satisfied: requests>=2.19.0 in c:\\users\\sai krishna\\appdata\\local\\programs\\python\\python311\\lib\\site-packages (from datasets) (2.31.0)\n",
      "Requirement already satisfied: tqdm>=4.62.1 in c:\\users\\sai krishna\\appdata\\local\\programs\\python\\python311\\lib\\site-packages (from datasets) (4.66.1)\n",
      "Requirement already satisfied: xxhash in c:\\users\\sai krishna\\appdata\\local\\programs\\python\\python311\\lib\\site-packages (from datasets) (3.4.1)\n",
      "Requirement already satisfied: multiprocess in c:\\users\\sai krishna\\appdata\\local\\programs\\python\\python311\\lib\\site-packages (from datasets) (0.70.15)\n",
      "Requirement already satisfied: fsspec[http]<=2024.2.0,>=2023.1.0 in c:\\users\\sai krishna\\appdata\\local\\programs\\python\\python311\\lib\\site-packages (from datasets) (2024.2.0)\n",
      "Requirement already satisfied: aiohttp in c:\\users\\sai krishna\\appdata\\local\\programs\\python\\python311\\lib\\site-packages (from datasets) (3.9.3)\n",
      "Requirement already satisfied: huggingface-hub>=0.19.4 in c:\\users\\sai krishna\\appdata\\local\\programs\\python\\python311\\lib\\site-packages (from datasets) (0.21.3)\n",
      "Requirement already satisfied: packaging in c:\\users\\sai krishna\\appdata\\roaming\\python\\python311\\site-packages (from datasets) (23.2)\n",
      "Requirement already satisfied: pyyaml>=5.1 in c:\\users\\sai krishna\\appdata\\local\\programs\\python\\python311\\lib\\site-packages (from datasets) (6.0.1)\n",
      "Requirement already satisfied: aiosignal>=1.1.2 in c:\\users\\sai krishna\\appdata\\local\\programs\\python\\python311\\lib\\site-packages (from aiohttp->datasets) (1.3.1)\n",
      "Requirement already satisfied: attrs>=17.3.0 in c:\\users\\sai krishna\\appdata\\local\\programs\\python\\python311\\lib\\site-packages (from aiohttp->datasets) (23.1.0)\n",
      "Requirement already satisfied: frozenlist>=1.1.1 in c:\\users\\sai krishna\\appdata\\local\\programs\\python\\python311\\lib\\site-packages (from aiohttp->datasets) (1.4.1)\n",
      "Requirement already satisfied: multidict<7.0,>=4.5 in c:\\users\\sai krishna\\appdata\\local\\programs\\python\\python311\\lib\\site-packages (from aiohttp->datasets) (6.0.5)\n",
      "Requirement already satisfied: yarl<2.0,>=1.0 in c:\\users\\sai krishna\\appdata\\local\\programs\\python\\python311\\lib\\site-packages (from aiohttp->datasets) (1.9.4)\n",
      "Requirement already satisfied: typing-extensions>=3.7.4.3 in c:\\users\\sai krishna\\appdata\\local\\programs\\python\\python311\\lib\\site-packages (from huggingface-hub>=0.19.4->datasets) (4.9.0)\n",
      "Requirement already satisfied: charset-normalizer<4,>=2 in c:\\users\\sai krishna\\appdata\\local\\programs\\python\\python311\\lib\\site-packages (from requests>=2.19.0->datasets) (3.3.2)\n",
      "Requirement already satisfied: idna<4,>=2.5 in c:\\users\\sai krishna\\appdata\\local\\programs\\python\\python311\\lib\\site-packages (from requests>=2.19.0->datasets) (3.6)\n",
      "Requirement already satisfied: urllib3<3,>=1.21.1 in c:\\users\\sai krishna\\appdata\\local\\programs\\python\\python311\\lib\\site-packages (from requests>=2.19.0->datasets) (2.0.7)\n",
      "Requirement already satisfied: certifi>=2017.4.17 in c:\\users\\sai krishna\\appdata\\local\\programs\\python\\python311\\lib\\site-packages (from requests>=2.19.0->datasets) (2023.11.17)\n",
      "Requirement already satisfied: colorama in c:\\users\\sai krishna\\appdata\\roaming\\python\\python311\\site-packages (from tqdm>=4.62.1->datasets) (0.4.6)\n",
      "Requirement already satisfied: python-dateutil>=2.8.2 in c:\\users\\sai krishna\\appdata\\local\\programs\\python\\python311\\lib\\site-packages (from pandas->datasets) (2.8.2)\n",
      "Requirement already satisfied: pytz>=2020.1 in c:\\users\\sai krishna\\appdata\\local\\programs\\python\\python311\\lib\\site-packages (from pandas->datasets) (2023.3.post1)\n",
      "Requirement already satisfied: tzdata>=2022.7 in c:\\users\\sai krishna\\appdata\\local\\programs\\python\\python311\\lib\\site-packages (from pandas->datasets) (2023.3)\n",
      "Requirement already satisfied: six>=1.5 in c:\\users\\sai krishna\\appdata\\local\\programs\\python\\python311\\lib\\site-packages (from python-dateutil>=2.8.2->pandas->datasets) (1.16.0)\n"
     ]
    },
    {
     "name": "stderr",
     "output_type": "stream",
     "text": [
      "\n",
      "[notice] A new release of pip is available: 23.2.1 -> 24.0\n",
      "[notice] To update, run: python.exe -m pip install --upgrade pip\n"
     ]
    },
    {
     "name": "stdout",
     "output_type": "stream",
     "text": [
      "Requirement already satisfied: pydub in c:\\users\\sai krishna\\appdata\\local\\programs\\python\\python311\\lib\\site-packages (0.25.1)\n"
     ]
    },
    {
     "name": "stderr",
     "output_type": "stream",
     "text": [
      "\n",
      "[notice] A new release of pip is available: 23.2.1 -> 24.0\n",
      "[notice] To update, run: python.exe -m pip install --upgrade pip\n"
     ]
    },
    {
     "name": "stdout",
     "output_type": "stream",
     "text": [
      "Collecting git+https://github.com/huggingface/transformers.git\n",
      "  Cloning https://github.com/huggingface/transformers.git to c:\\users\\sai krishna\\appdata\\local\\temp\\pip-req-build-90nswier\n",
      "  Resolved https://github.com/huggingface/transformers.git to commit caa5c65db1f4db617cdac2ad667ba62edf94dd98\n",
      "  Installing build dependencies: started\n",
      "  Installing build dependencies: finished with status 'done'\n",
      "  Getting requirements to build wheel: started\n",
      "  Getting requirements to build wheel: finished with status 'done'\n",
      "  Preparing metadata (pyproject.toml): started\n",
      "  Preparing metadata (pyproject.toml): finished with status 'done'\n",
      "Requirement already satisfied: filelock in c:\\users\\sai krishna\\appdata\\local\\programs\\python\\python311\\lib\\site-packages (from transformers==4.40.0.dev0) (3.13.1)\n",
      "Requirement already satisfied: huggingface-hub<1.0,>=0.19.3 in c:\\users\\sai krishna\\appdata\\local\\programs\\python\\python311\\lib\\site-packages (from transformers==4.40.0.dev0) (0.21.3)\n",
      "Requirement already satisfied: numpy>=1.17 in c:\\users\\sai krishna\\appdata\\local\\programs\\python\\python311\\lib\\site-packages (from transformers==4.40.0.dev0) (1.26.3)\n",
      "Requirement already satisfied: packaging>=20.0 in c:\\users\\sai krishna\\appdata\\roaming\\python\\python311\\site-packages (from transformers==4.40.0.dev0) (23.2)\n",
      "Requirement already satisfied: pyyaml>=5.1 in c:\\users\\sai krishna\\appdata\\local\\programs\\python\\python311\\lib\\site-packages (from transformers==4.40.0.dev0) (6.0.1)\n",
      "Requirement already satisfied: regex!=2019.12.17 in c:\\users\\sai krishna\\appdata\\local\\programs\\python\\python311\\lib\\site-packages (from transformers==4.40.0.dev0) (2023.12.25)\n",
      "Requirement already satisfied: requests in c:\\users\\sai krishna\\appdata\\local\\programs\\python\\python311\\lib\\site-packages (from transformers==4.40.0.dev0) (2.31.0)\n",
      "Requirement already satisfied: tokenizers<0.19,>=0.14 in c:\\users\\sai krishna\\appdata\\local\\programs\\python\\python311\\lib\\site-packages (from transformers==4.40.0.dev0) (0.15.2)\n",
      "Requirement already satisfied: safetensors>=0.4.1 in c:\\users\\sai krishna\\appdata\\local\\programs\\python\\python311\\lib\\site-packages (from transformers==4.40.0.dev0) (0.4.2)\n",
      "Requirement already satisfied: tqdm>=4.27 in c:\\users\\sai krishna\\appdata\\local\\programs\\python\\python311\\lib\\site-packages (from transformers==4.40.0.dev0) (4.66.1)\n",
      "Requirement already satisfied: fsspec>=2023.5.0 in c:\\users\\sai krishna\\appdata\\local\\programs\\python\\python311\\lib\\site-packages (from huggingface-hub<1.0,>=0.19.3->transformers==4.40.0.dev0) (2024.2.0)\n",
      "Requirement already satisfied: typing-extensions>=3.7.4.3 in c:\\users\\sai krishna\\appdata\\local\\programs\\python\\python311\\lib\\site-packages (from huggingface-hub<1.0,>=0.19.3->transformers==4.40.0.dev0) (4.9.0)\n",
      "Requirement already satisfied: colorama in c:\\users\\sai krishna\\appdata\\roaming\\python\\python311\\site-packages (from tqdm>=4.27->transformers==4.40.0.dev0) (0.4.6)\n",
      "Requirement already satisfied: charset-normalizer<4,>=2 in c:\\users\\sai krishna\\appdata\\local\\programs\\python\\python311\\lib\\site-packages (from requests->transformers==4.40.0.dev0) (3.3.2)\n",
      "Requirement already satisfied: idna<4,>=2.5 in c:\\users\\sai krishna\\appdata\\local\\programs\\python\\python311\\lib\\site-packages (from requests->transformers==4.40.0.dev0) (3.6)\n",
      "Requirement already satisfied: urllib3<3,>=1.21.1 in c:\\users\\sai krishna\\appdata\\local\\programs\\python\\python311\\lib\\site-packages (from requests->transformers==4.40.0.dev0) (2.0.7)\n",
      "Requirement already satisfied: certifi>=2017.4.17 in c:\\users\\sai krishna\\appdata\\local\\programs\\python\\python311\\lib\\site-packages (from requests->transformers==4.40.0.dev0) (2023.11.17)\n",
      "Building wheels for collected packages: transformers\n",
      "  Building wheel for transformers (pyproject.toml): started\n",
      "  Building wheel for transformers (pyproject.toml): finished with status 'done'\n",
      "  Created wheel for transformers: filename=transformers-4.40.0.dev0-py3-none-any.whl size=8888600 sha256=96fd51df12d6a0a1e4a2e2cf3344490af21d164917447d8738d3e80aea68051c\n",
      "  Stored in directory: C:\\Users\\Sai Krishna\\AppData\\Local\\Temp\\pip-ephem-wheel-cache-fon1km9n\\wheels\\32\\4b\\78\\f195c684dd3a9ed21f3b39fe8f85b48df7918581b6437be143\n",
      "Successfully built transformers\n",
      "Installing collected packages: transformers\n",
      "  Attempting uninstall: transformers\n",
      "    Found existing installation: transformers 4.39.0.dev0\n",
      "    Uninstalling transformers-4.39.0.dev0:\n",
      "      Successfully uninstalled transformers-4.39.0.dev0\n",
      "Successfully installed transformers-4.40.0.dev0\n"
     ]
    },
    {
     "name": "stderr",
     "output_type": "stream",
     "text": [
      "  Running command git clone --filter=blob:none --quiet https://github.com/huggingface/transformers.git 'C:\\Users\\Sai Krishna\\AppData\\Local\\Temp\\pip-req-build-90nswier'\n",
      "\n",
      "[notice] A new release of pip is available: 23.2.1 -> 24.0\n",
      "[notice] To update, run: python.exe -m pip install --upgrade pip\n"
     ]
    },
    {
     "name": "stdout",
     "output_type": "stream",
     "text": [
      "^C\n"
     ]
    }
   ],
   "source": [
    "!pip install datasets\n",
    "!pip install pydub\n",
    "\n",
    "!pip install git+https://github.com/huggingface/transformers.git\n",
    "!pip install huggingface-hub"
   ]
  },
  {
   "cell_type": "code",
   "execution_count": 11,
   "metadata": {
    "id": "vVbhrLuVq8Lb"
   },
   "outputs": [],
   "source": [
    "import os\n",
    "import librosa\n",
    "import shutil\n",
    "import pandas as pd\n",
    "import numpy as np\n",
    "\n",
    "import tensorflow as tf\n",
    "from tensorflow import keras\n",
    "from tensorflow.keras import layers"
   ]
  },
  {
   "cell_type": "code",
   "execution_count": null,
   "metadata": {},
   "outputs": [],
   "source": []
  },
  {
   "cell_type": "code",
   "execution_count": null,
   "metadata": {
    "colab": {
     "base_uri": "https://localhost:8080/"
    },
    "executionInfo": {
     "elapsed": 28313,
     "status": "ok",
     "timestamp": 1683122414609,
     "user": {
      "displayName": "Jagadeesh M",
      "userId": "09911460282180839202"
     },
     "user_tz": -330
    },
    "id": "vWdLy5llTZ8x",
    "outputId": "2397d39a-acae-404e-84ee-eeef3a363793"
   },
   "outputs": [],
   "source": []
  },
  {
   "cell_type": "markdown",
   "metadata": {
    "id": "FnFWIaTbChKP"
   },
   "source": [
    "Loading Training dataset"
   ]
  },
  {
   "cell_type": "code",
   "execution_count": 12,
   "metadata": {
    "colab": {
     "base_uri": "https://localhost:8080/",
     "height": 225
    },
    "executionInfo": {
     "elapsed": 8159,
     "status": "ok",
     "timestamp": 1683122536879,
     "user": {
      "displayName": "Jagadeesh M",
      "userId": "09911460282180839202"
     },
     "user_tz": -330
    },
    "id": "qrWbtthXd89c",
    "outputId": "90c836fb-e4bd-4d04-f824-08720a3f7f83"
   },
   "outputs": [
    {
     "name": "stdout",
     "output_type": "stream",
     "text": [
      "(5422, 2)\n",
      "                                                   path            class_name\n",
      "3469  C:\\Users\\Sai Krishna\\Desktop\\Bird-Species-Clas...  Northern Mockingbird\n",
      "5315  C:\\Users\\Sai Krishna\\Desktop\\Bird-Species-Clas...          Song Sparrow\n",
      "1529  C:\\Users\\Sai Krishna\\Desktop\\Bird-Species-Clas...         Bewick's Wren\n",
      "1638  C:\\Users\\Sai Krishna\\Desktop\\Bird-Species-Clas...         Bewick's Wren\n",
      "501   C:\\Users\\Sai Krishna\\Desktop\\Bird-Species-Clas...        American Robin\n"
     ]
    }
   ],
   "source": [
    "import os\n",
    "import pandas as pd\n",
    "\n",
    "label = []\n",
    "path = []\n",
    "\n",
    "root = r\"C:\\Users\\Sai Krishna\\Desktop\\Bird-Species-Classification-main 2\\Bird-Species-Classification-main\\archive\\train\"\n",
    "for species in os.listdir(root):\n",
    "    species_folder = os.path.join(root, species)\n",
    "    for audio in os.listdir(species_folder):\n",
    "        audio_path = os.path.join(species_folder, audio)\n",
    "        path.append(audio_path)\n",
    "        label.append(species)\n",
    "df_train = pd.DataFrame({'path': path,'class_name': label})\n",
    "\n",
    "print(df_train.shape)\n",
    "print(df_train.sample(5))\n"
   ]
  },
  {
   "cell_type": "code",
   "execution_count": null,
   "metadata": {
    "id": "nXvs1rRmTPPs"
   },
   "outputs": [],
   "source": []
  },
  {
   "cell_type": "code",
   "execution_count": 13,
   "metadata": {
    "colab": {
     "base_uri": "https://localhost:8080/",
     "height": 206
    },
    "executionInfo": {
     "elapsed": 8,
     "status": "ok",
     "timestamp": 1683122536880,
     "user": {
      "displayName": "Jagadeesh M",
      "userId": "09911460282180839202"
     },
     "user_tz": -330
    },
    "id": "9qG0vIrQeeuv",
    "outputId": "94f6df90-c8ec-40e7-8a0b-c5ac3d0965ac"
   },
   "outputs": [
    {
     "data": {
      "text/html": [
       "<div>\n",
       "<style scoped>\n",
       "    .dataframe tbody tr th:only-of-type {\n",
       "        vertical-align: middle;\n",
       "    }\n",
       "\n",
       "    .dataframe tbody tr th {\n",
       "        vertical-align: top;\n",
       "    }\n",
       "\n",
       "    .dataframe thead th {\n",
       "        text-align: right;\n",
       "    }\n",
       "</style>\n",
       "<table border=\"1\" class=\"dataframe\">\n",
       "  <thead>\n",
       "    <tr style=\"text-align: right;\">\n",
       "      <th></th>\n",
       "      <th>path</th>\n",
       "      <th>class_name</th>\n",
       "      <th>class_label</th>\n",
       "    </tr>\n",
       "  </thead>\n",
       "  <tbody>\n",
       "    <tr>\n",
       "      <th>1890</th>\n",
       "      <td>C:\\Users\\Sai Krishna\\Desktop\\Bird-Species-Clas...</td>\n",
       "      <td>Bewick's Wren</td>\n",
       "      <td>4</td>\n",
       "    </tr>\n",
       "    <tr>\n",
       "      <th>3277</th>\n",
       "      <td>C:\\Users\\Sai Krishna\\Desktop\\Bird-Species-Clas...</td>\n",
       "      <td>Northern Mockingbird</td>\n",
       "      <td>1</td>\n",
       "    </tr>\n",
       "    <tr>\n",
       "      <th>2571</th>\n",
       "      <td>C:\\Users\\Sai Krishna\\Desktop\\Bird-Species-Clas...</td>\n",
       "      <td>Northern Cardinal</td>\n",
       "      <td>2</td>\n",
       "    </tr>\n",
       "    <tr>\n",
       "      <th>3098</th>\n",
       "      <td>C:\\Users\\Sai Krishna\\Desktop\\Bird-Species-Clas...</td>\n",
       "      <td>Northern Mockingbird</td>\n",
       "      <td>1</td>\n",
       "    </tr>\n",
       "    <tr>\n",
       "      <th>2425</th>\n",
       "      <td>C:\\Users\\Sai Krishna\\Desktop\\Bird-Species-Clas...</td>\n",
       "      <td>Northern Cardinal</td>\n",
       "      <td>2</td>\n",
       "    </tr>\n",
       "  </tbody>\n",
       "</table>\n",
       "</div>"
      ],
      "text/plain": [
       "                                                   path            class_name  \\\n",
       "1890  C:\\Users\\Sai Krishna\\Desktop\\Bird-Species-Clas...         Bewick's Wren   \n",
       "3277  C:\\Users\\Sai Krishna\\Desktop\\Bird-Species-Clas...  Northern Mockingbird   \n",
       "2571  C:\\Users\\Sai Krishna\\Desktop\\Bird-Species-Clas...     Northern Cardinal   \n",
       "3098  C:\\Users\\Sai Krishna\\Desktop\\Bird-Species-Clas...  Northern Mockingbird   \n",
       "2425  C:\\Users\\Sai Krishna\\Desktop\\Bird-Species-Clas...     Northern Cardinal   \n",
       "\n",
       "      class_label  \n",
       "1890            4  \n",
       "3277            1  \n",
       "2571            2  \n",
       "3098            1  \n",
       "2425            2  "
      ]
     },
     "execution_count": 13,
     "metadata": {},
     "output_type": "execute_result"
    }
   ],
   "source": [
    "\n",
    "cls_label = {'Song Sparrow' : 0, 'Northern Mockingbird': 1, 'Northern Cardinal': 2, 'American Robin': 3, \"Bewick's Wren\": 4, }\n",
    "      \n",
    "def name_to_label(x):\n",
    "  cls_name = x['class_name']\n",
    "  return cls_label[cls_name]\n",
    "\n",
    "df_train['class_label'] = df_train.apply(name_to_label, axis=1)\n",
    "df_train.sample(5)"
   ]
  },
  {
   "cell_type": "code",
   "execution_count": 14,
   "metadata": {
    "colab": {
     "base_uri": "https://localhost:8080/",
     "height": 112
    },
    "executionInfo": {
     "elapsed": 329822,
     "status": "ok",
     "timestamp": 1683122866695,
     "user": {
      "displayName": "Jagadeesh M",
      "userId": "09911460282180839202"
     },
     "user_tz": -330
    },
    "id": "0Uhar3Da1Hv0",
    "outputId": "ee7e8fe0-4257-424a-e91b-d1e1c718018b"
   },
   "outputs": [
    {
     "data": {
      "text/plain": [
       "(5422, 4)"
      ]
     },
     "execution_count": 14,
     "metadata": {},
     "output_type": "execute_result"
    }
   ],
   "source": [
    "# adding wav form audio\n",
    "def get_audio(x):\n",
    "  path = x['path']\n",
    "  y, sr = librosa.load(path)\n",
    "  return y\n",
    "\n",
    "\n",
    "df_train['audio'] = df_train.apply(get_audio, axis=1)\n",
    "# df_train= df_train.iloc[:500, :]\n",
    "df_train.shape"
   ]
  },
  {
   "cell_type": "code",
   "execution_count": 35,
   "metadata": {},
   "outputs": [
    {
     "name": "stdout",
     "output_type": "stream",
     "text": [
      "Train shape: (3795, 4)\n",
      "Test shape: (813, 4)\n",
      "Validation shape: (814, 4)\n"
     ]
    }
   ],
   "source": [
    "import pandas as pd\n",
    "from sklearn.model_selection import train_test_split\n",
    "\n",
    "# Assuming your dataframe is named df\n",
    "# Splitting the data into train (70%), test (15%), and validation (15%)\n",
    "train, tests = train_test_split(df_train, test_size=0.3, random_state=42)\n",
    "tests, validation = train_test_split(tests, test_size=0.5, random_state=42)\n",
    "\n",
    "# Optionally, you can reset the index of the resulting dataframes\n",
    "train.reset_index(drop=True, inplace=True)\n",
    "tests.reset_index(drop=True, inplace=True)\n",
    "validation.reset_index(drop=True, inplace=True)\n",
    "\n",
    "# Checking the shapes of resulting dataframes\n",
    "print(\"Train shape:\", train.shape)\n",
    "print(\"Test shape:\", tests.shape)\n",
    "print(\"Validation shape:\", validation.shape)\n"
   ]
  },
  {
   "cell_type": "code",
   "execution_count": 16,
   "metadata": {},
   "outputs": [
    {
     "data": {
      "text/html": [
       "<div>\n",
       "<style scoped>\n",
       "    .dataframe tbody tr th:only-of-type {\n",
       "        vertical-align: middle;\n",
       "    }\n",
       "\n",
       "    .dataframe tbody tr th {\n",
       "        vertical-align: top;\n",
       "    }\n",
       "\n",
       "    .dataframe thead th {\n",
       "        text-align: right;\n",
       "    }\n",
       "</style>\n",
       "<table border=\"1\" class=\"dataframe\">\n",
       "  <thead>\n",
       "    <tr style=\"text-align: right;\">\n",
       "      <th></th>\n",
       "      <th>path</th>\n",
       "      <th>class_name</th>\n",
       "      <th>class_label</th>\n",
       "      <th>audio</th>\n",
       "    </tr>\n",
       "  </thead>\n",
       "  <tbody>\n",
       "    <tr>\n",
       "      <th>0</th>\n",
       "      <td>C:\\Users\\Sai Krishna\\Desktop\\Bird-Species-Clas...</td>\n",
       "      <td>American Robin</td>\n",
       "      <td>3</td>\n",
       "      <td>[0.003616797, 0.001814173, -0.0019637893, -0.0...</td>\n",
       "    </tr>\n",
       "    <tr>\n",
       "      <th>1</th>\n",
       "      <td>C:\\Users\\Sai Krishna\\Desktop\\Bird-Species-Clas...</td>\n",
       "      <td>Song Sparrow</td>\n",
       "      <td>0</td>\n",
       "      <td>[0.36222664, 0.35741165, 0.37221903, 0.3803425...</td>\n",
       "    </tr>\n",
       "    <tr>\n",
       "      <th>2</th>\n",
       "      <td>C:\\Users\\Sai Krishna\\Desktop\\Bird-Species-Clas...</td>\n",
       "      <td>Northern Mockingbird</td>\n",
       "      <td>1</td>\n",
       "      <td>[0.0047181095, 0.0017732569, 0.0024605547, 0.0...</td>\n",
       "    </tr>\n",
       "    <tr>\n",
       "      <th>3</th>\n",
       "      <td>C:\\Users\\Sai Krishna\\Desktop\\Bird-Species-Clas...</td>\n",
       "      <td>Northern Mockingbird</td>\n",
       "      <td>1</td>\n",
       "      <td>[0.0779135, 0.22012527, 0.15181243, -0.0531408...</td>\n",
       "    </tr>\n",
       "    <tr>\n",
       "      <th>4</th>\n",
       "      <td>C:\\Users\\Sai Krishna\\Desktop\\Bird-Species-Clas...</td>\n",
       "      <td>Northern Mockingbird</td>\n",
       "      <td>1</td>\n",
       "      <td>[0.082885824, 0.07086076, 0.0830652, 0.1128958...</td>\n",
       "    </tr>\n",
       "    <tr>\n",
       "      <th>...</th>\n",
       "      <td>...</td>\n",
       "      <td>...</td>\n",
       "      <td>...</td>\n",
       "      <td>...</td>\n",
       "    </tr>\n",
       "    <tr>\n",
       "      <th>808</th>\n",
       "      <td>C:\\Users\\Sai Krishna\\Desktop\\Bird-Species-Clas...</td>\n",
       "      <td>American Robin</td>\n",
       "      <td>3</td>\n",
       "      <td>[-0.0064973934, -0.006627053, -0.0046102772, -...</td>\n",
       "    </tr>\n",
       "    <tr>\n",
       "      <th>809</th>\n",
       "      <td>C:\\Users\\Sai Krishna\\Desktop\\Bird-Species-Clas...</td>\n",
       "      <td>Song Sparrow</td>\n",
       "      <td>0</td>\n",
       "      <td>[-0.2185958, -0.040640883, 0.16442378, 0.27282...</td>\n",
       "    </tr>\n",
       "    <tr>\n",
       "      <th>810</th>\n",
       "      <td>C:\\Users\\Sai Krishna\\Desktop\\Bird-Species-Clas...</td>\n",
       "      <td>Bewick's Wren</td>\n",
       "      <td>4</td>\n",
       "      <td>[-0.1326544, 0.49200144, 0.6175406, 0.04238271...</td>\n",
       "    </tr>\n",
       "    <tr>\n",
       "      <th>811</th>\n",
       "      <td>C:\\Users\\Sai Krishna\\Desktop\\Bird-Species-Clas...</td>\n",
       "      <td>Bewick's Wren</td>\n",
       "      <td>4</td>\n",
       "      <td>[-0.1710395, -0.17151687, -0.17392355, -0.1739...</td>\n",
       "    </tr>\n",
       "    <tr>\n",
       "      <th>812</th>\n",
       "      <td>C:\\Users\\Sai Krishna\\Desktop\\Bird-Species-Clas...</td>\n",
       "      <td>Northern Mockingbird</td>\n",
       "      <td>1</td>\n",
       "      <td>[-0.021951683, -0.026681969, -0.013034069, 0.0...</td>\n",
       "    </tr>\n",
       "  </tbody>\n",
       "</table>\n",
       "<p>813 rows × 4 columns</p>\n",
       "</div>"
      ],
      "text/plain": [
       "                                                  path            class_name  \\\n",
       "0    C:\\Users\\Sai Krishna\\Desktop\\Bird-Species-Clas...        American Robin   \n",
       "1    C:\\Users\\Sai Krishna\\Desktop\\Bird-Species-Clas...          Song Sparrow   \n",
       "2    C:\\Users\\Sai Krishna\\Desktop\\Bird-Species-Clas...  Northern Mockingbird   \n",
       "3    C:\\Users\\Sai Krishna\\Desktop\\Bird-Species-Clas...  Northern Mockingbird   \n",
       "4    C:\\Users\\Sai Krishna\\Desktop\\Bird-Species-Clas...  Northern Mockingbird   \n",
       "..                                                 ...                   ...   \n",
       "808  C:\\Users\\Sai Krishna\\Desktop\\Bird-Species-Clas...        American Robin   \n",
       "809  C:\\Users\\Sai Krishna\\Desktop\\Bird-Species-Clas...          Song Sparrow   \n",
       "810  C:\\Users\\Sai Krishna\\Desktop\\Bird-Species-Clas...         Bewick's Wren   \n",
       "811  C:\\Users\\Sai Krishna\\Desktop\\Bird-Species-Clas...         Bewick's Wren   \n",
       "812  C:\\Users\\Sai Krishna\\Desktop\\Bird-Species-Clas...  Northern Mockingbird   \n",
       "\n",
       "     class_label                                              audio  \n",
       "0              3  [0.003616797, 0.001814173, -0.0019637893, -0.0...  \n",
       "1              0  [0.36222664, 0.35741165, 0.37221903, 0.3803425...  \n",
       "2              1  [0.0047181095, 0.0017732569, 0.0024605547, 0.0...  \n",
       "3              1  [0.0779135, 0.22012527, 0.15181243, -0.0531408...  \n",
       "4              1  [0.082885824, 0.07086076, 0.0830652, 0.1128958...  \n",
       "..           ...                                                ...  \n",
       "808            3  [-0.0064973934, -0.006627053, -0.0046102772, -...  \n",
       "809            0  [-0.2185958, -0.040640883, 0.16442378, 0.27282...  \n",
       "810            4  [-0.1326544, 0.49200144, 0.6175406, 0.04238271...  \n",
       "811            4  [-0.1710395, -0.17151687, -0.17392355, -0.1739...  \n",
       "812            1  [-0.021951683, -0.026681969, -0.013034069, 0.0...  \n",
       "\n",
       "[813 rows x 4 columns]"
      ]
     },
     "execution_count": 16,
     "metadata": {},
     "output_type": "execute_result"
    }
   ],
   "source": [
    "tests"
   ]
  },
  {
   "cell_type": "markdown",
   "metadata": {
    "id": "4kFYYb_ECkzm"
   },
   "source": [
    "Loading Validation dataset"
   ]
  },
  {
   "cell_type": "code",
   "execution_count": 17,
   "metadata": {
    "colab": {
     "base_uri": "https://localhost:8080/",
     "height": 225
    },
    "executionInfo": {
     "elapsed": 1726,
     "status": "ok",
     "timestamp": 1683122872924,
     "user": {
      "displayName": "Jagadeesh M",
      "userId": "09911460282180839202"
     },
     "user_tz": -330
    },
    "id": "M-Js_U1BCnHD",
    "outputId": "a2630c13-634c-4d84-eed9-e3a51e3fa9af",
    "tags": []
   },
   "outputs": [
    {
     "ename": "FileNotFoundError",
     "evalue": "[WinError 3] The system cannot find the path specified: 'archive/train/'",
     "output_type": "error",
     "traceback": [
      "\u001b[1;31m---------------------------------------------------------------------------\u001b[0m",
      "\u001b[1;31mFileNotFoundError\u001b[0m                         Traceback (most recent call last)",
      "Cell \u001b[1;32mIn [17], line 7\u001b[0m\n\u001b[0;32m      4\u001b[0m path \u001b[38;5;241m=\u001b[39m []\n\u001b[0;32m      6\u001b[0m root \u001b[38;5;241m=\u001b[39m \u001b[38;5;124m'\u001b[39m\u001b[38;5;124marchive/train/\u001b[39m\u001b[38;5;124m'\u001b[39m\n\u001b[1;32m----> 7\u001b[0m \u001b[38;5;28;01mfor\u001b[39;00m species \u001b[38;5;129;01min\u001b[39;00m os\u001b[38;5;241m.\u001b[39mlistdir(root):\n\u001b[0;32m      8\u001b[0m     species_folder \u001b[38;5;241m=\u001b[39m root \u001b[38;5;241m+\u001b[39m \u001b[38;5;124m'\u001b[39m\u001b[38;5;124m/\u001b[39m\u001b[38;5;124m'\u001b[39m \u001b[38;5;241m+\u001b[39m species\n\u001b[0;32m      9\u001b[0m     \u001b[38;5;28;01mfor\u001b[39;00m audio \u001b[38;5;129;01min\u001b[39;00m os\u001b[38;5;241m.\u001b[39mlistdir(species_folder):\n",
      "\u001b[1;31mFileNotFoundError\u001b[0m: [WinError 3] The system cannot find the path specified: 'archive/train/'"
     ]
    }
   ],
   "source": []
  },
  {
   "cell_type": "code",
   "execution_count": 8,
   "metadata": {
    "colab": {
     "base_uri": "https://localhost:8080/",
     "height": 206
    },
    "collapsed": true,
    "executionInfo": {
     "elapsed": 10,
     "status": "ok",
     "timestamp": 1683122872925,
     "user": {
      "displayName": "Jagadeesh M",
      "userId": "09911460282180839202"
     },
     "user_tz": -330
    },
    "id": "6Y2r-SEHCnEj",
    "jupyter": {
     "outputs_hidden": true
    },
    "outputId": "2aa125e7-5c4c-45bc-861f-3ef5bae4871f",
    "tags": []
   },
   "outputs": [
    {
     "data": {
      "text/html": [
       "<div>\n",
       "<style scoped>\n",
       "    .dataframe tbody tr th:only-of-type {\n",
       "        vertical-align: middle;\n",
       "    }\n",
       "\n",
       "    .dataframe tbody tr th {\n",
       "        vertical-align: top;\n",
       "    }\n",
       "\n",
       "    .dataframe thead th {\n",
       "        text-align: right;\n",
       "    }\n",
       "</style>\n",
       "<table border=\"1\" class=\"dataframe\">\n",
       "  <thead>\n",
       "    <tr style=\"text-align: right;\">\n",
       "      <th></th>\n",
       "      <th>path</th>\n",
       "      <th>class_name</th>\n",
       "      <th>class_label</th>\n",
       "    </tr>\n",
       "  </thead>\n",
       "  <tbody>\n",
       "    <tr>\n",
       "      <th>870</th>\n",
       "      <td>archive/train//American Robin/562449-1.wav</td>\n",
       "      <td>American Robin</td>\n",
       "      <td>3</td>\n",
       "    </tr>\n",
       "    <tr>\n",
       "      <th>861</th>\n",
       "      <td>archive/train//American Robin/562221-2.wav</td>\n",
       "      <td>American Robin</td>\n",
       "      <td>3</td>\n",
       "    </tr>\n",
       "    <tr>\n",
       "      <th>686</th>\n",
       "      <td>archive/train//American Robin/416294-4.wav</td>\n",
       "      <td>American Robin</td>\n",
       "      <td>3</td>\n",
       "    </tr>\n",
       "    <tr>\n",
       "      <th>816</th>\n",
       "      <td>archive/train//American Robin/483628-8.wav</td>\n",
       "      <td>American Robin</td>\n",
       "      <td>3</td>\n",
       "    </tr>\n",
       "    <tr>\n",
       "      <th>988</th>\n",
       "      <td>archive/train//American Robin/96869-1.wav</td>\n",
       "      <td>American Robin</td>\n",
       "      <td>3</td>\n",
       "    </tr>\n",
       "  </tbody>\n",
       "</table>\n",
       "</div>"
      ],
      "text/plain": [
       "                                           path      class_name  class_label\n",
       "870  archive/train//American Robin/562449-1.wav  American Robin            3\n",
       "861  archive/train//American Robin/562221-2.wav  American Robin            3\n",
       "686  archive/train//American Robin/416294-4.wav  American Robin            3\n",
       "816  archive/train//American Robin/483628-8.wav  American Robin            3\n",
       "988   archive/train//American Robin/96869-1.wav  American Robin            3"
      ]
     },
     "execution_count": 8,
     "metadata": {},
     "output_type": "execute_result"
    }
   ],
   "source": []
  },
  {
   "cell_type": "code",
   "execution_count": 9,
   "metadata": {
    "colab": {
     "base_uri": "https://localhost:8080/",
     "height": 112
    },
    "collapsed": true,
    "executionInfo": {
     "elapsed": 36177,
     "status": "ok",
     "timestamp": 1683122909094,
     "user": {
      "displayName": "Jagadeesh M",
      "userId": "09911460282180839202"
     },
     "user_tz": -330
    },
    "id": "2-dJTa5T068Y",
    "jupyter": {
     "outputs_hidden": true
    },
    "outputId": "2da36b30-cd90-49fb-9e51-f5f97163c34c",
    "tags": []
   },
   "outputs": [
    {
     "data": {
      "text/html": [
       "<div>\n",
       "<style scoped>\n",
       "    .dataframe tbody tr th:only-of-type {\n",
       "        vertical-align: middle;\n",
       "    }\n",
       "\n",
       "    .dataframe tbody tr th {\n",
       "        vertical-align: top;\n",
       "    }\n",
       "\n",
       "    .dataframe thead th {\n",
       "        text-align: right;\n",
       "    }\n",
       "</style>\n",
       "<table border=\"1\" class=\"dataframe\">\n",
       "  <thead>\n",
       "    <tr style=\"text-align: right;\">\n",
       "      <th></th>\n",
       "      <th>path</th>\n",
       "      <th>class_name</th>\n",
       "      <th>class_label</th>\n",
       "      <th>audio</th>\n",
       "    </tr>\n",
       "  </thead>\n",
       "  <tbody>\n",
       "    <tr>\n",
       "      <th>812</th>\n",
       "      <td>archive/train//American Robin/483628-4.wav</td>\n",
       "      <td>American Robin</td>\n",
       "      <td>3</td>\n",
       "      <td>[-0.1370646, 0.059028927, 0.20938694, 0.241048...</td>\n",
       "    </tr>\n",
       "    <tr>\n",
       "      <th>719</th>\n",
       "      <td>archive/train//American Robin/446458-12.wav</td>\n",
       "      <td>American Robin</td>\n",
       "      <td>3</td>\n",
       "      <td>[-0.009892532, -0.0012604308, 0.016053934, 0.0...</td>\n",
       "    </tr>\n",
       "  </tbody>\n",
       "</table>\n",
       "</div>"
      ],
      "text/plain": [
       "                                            path      class_name  class_label  \\\n",
       "812   archive/train//American Robin/483628-4.wav  American Robin            3   \n",
       "719  archive/train//American Robin/446458-12.wav  American Robin            3   \n",
       "\n",
       "                                                 audio  \n",
       "812  [-0.1370646, 0.059028927, 0.20938694, 0.241048...  \n",
       "719  [-0.009892532, -0.0012604308, 0.016053934, 0.0...  "
      ]
     },
     "execution_count": 9,
     "metadata": {},
     "output_type": "execute_result"
    }
   ],
   "source": []
  },
  {
   "cell_type": "code",
   "execution_count": 10,
   "metadata": {
    "colab": {
     "base_uri": "https://localhost:8080/"
    },
    "collapsed": true,
    "executionInfo": {
     "elapsed": 7,
     "status": "ok",
     "timestamp": 1683122909095,
     "user": {
      "displayName": "Jagadeesh M",
      "userId": "09911460282180839202"
     },
     "user_tz": -330
    },
    "id": "fL6Zajdpek7y",
    "jupyter": {
     "outputs_hidden": true
    },
    "outputId": "357d8185-6e9a-4cd9-80b0-594ba5d51165"
   },
   "outputs": [
    {
     "name": "stdout",
     "output_type": "stream",
     "text": [
      "<class 'pandas.core.frame.DataFrame'>\n",
      "RangeIndex: 500 entries, 501 to 1000\n",
      "Data columns (total 4 columns):\n",
      " #   Column       Non-Null Count  Dtype \n",
      "---  ------       --------------  ----- \n",
      " 0   path         500 non-null    object\n",
      " 1   class_name   500 non-null    object\n",
      " 2   class_label  500 non-null    int64 \n",
      " 3   audio        500 non-null    object\n",
      "dtypes: int64(1), object(3)\n",
      "memory usage: 15.8+ KB\n"
     ]
    }
   ],
   "source": []
  },
  {
   "cell_type": "markdown",
   "metadata": {
    "id": "p_0dqXYO3OyH"
   },
   "source": [
    "Creating dataset from train and test dataframes"
   ]
  },
  {
   "cell_type": "code",
   "execution_count": 18,
   "metadata": {
    "colab": {
     "base_uri": "https://localhost:8080/"
    },
    "executionInfo": {
     "elapsed": 1884,
     "status": "ok",
     "timestamp": 1683122910975,
     "user": {
      "displayName": "Jagadeesh M",
      "userId": "09911460282180839202"
     },
     "user_tz": -330
    },
    "id": "uVFbMKFHiZSr",
    "outputId": "e68fc680-4980-4f9a-cafe-6b817df2981c"
   },
   "outputs": [
    {
     "name": "stdout",
     "output_type": "stream",
     "text": [
      "DatasetDict({\n",
      "    train: Dataset({\n",
      "        features: ['path', 'class_name', 'class_label', 'audio'],\n",
      "        num_rows: 3795\n",
      "    })\n",
      "    test: Dataset({\n",
      "        features: ['path', 'class_name', 'class_label', 'audio'],\n",
      "        num_rows: 813\n",
      "    })\n",
      "    validation: Dataset({\n",
      "        features: ['path', 'class_name', 'class_label', 'audio'],\n",
      "        num_rows: 814\n",
      "    })\n",
      "})\n"
     ]
    }
   ],
   "source": [
    "from datasets import Dataset, DatasetDict\n",
    "\n",
    "\n",
    "# df_test = df_test.iloc[:96]\n",
    "# df_train = df_train.iloc[:960]\n",
    "\n",
    "train_ds = Dataset.from_pandas(train)\n",
    "test_ds = Dataset.from_pandas(tests)\n",
    "validation_ds = Dataset.from_pandas(validation)\n",
    "dataset = DatasetDict()\n",
    "\n",
    "dataset['train'] = train_ds\n",
    "dataset['test'] = test_ds\n",
    "dataset['validation']=validation_ds\n",
    "print(dataset)"
   ]
  },
  {
   "cell_type": "markdown",
   "metadata": {
    "id": "ti7sirahWCXx"
   },
   "source": [
    "Modelling"
   ]
  },
  {
   "cell_type": "code",
   "execution_count": 19,
   "metadata": {
    "id": "46ptbAMM062G"
   },
   "outputs": [],
   "source": [
    "tf.keras.backend.clear_session()\n",
    "\n",
    "# Maximum duration of the input audio file we feed to our Wav2Vec 2.0 model.\n",
    "MAX_DURATION = 1\n",
    "# Sampling rate is the number of samples of audio recorded every second\n",
    "SAMPLING_RATE = 16000\n",
    "BATCH_SIZE = 1  # Batch-size for training and evaluating our model.\n",
    "NUM_CLASSES = 5  # Number of classes our dataset will have (11 in our case).\n",
    "HIDDEN_DIM = 768  # Dimension of our model output (768 in case of Wav2Vec 2.0 - Base).\n",
    "MAX_SEQ_LENGTH = MAX_DURATION * SAMPLING_RATE  # Maximum length of the input audio file.\n",
    "# Wav2Vec 2.0 results in an output frequency with a stride of about 20ms.\n",
    "MAX_FRAMES = 49\n",
    "MAX_EPOCHS = 2  # Maximum number of training epochs.\n",
    "\n",
    "MODEL_CHECKPOINT = \"facebook/wav2vec2-base\"  # Name of pretrained model from Hugging Face"
   ]
  },
  {
   "cell_type": "code",
   "execution_count": 20,
   "metadata": {
    "colab": {
     "base_uri": "https://localhost:8080/",
     "height": 17,
     "referenced_widgets": [
      "e96df79b4c4046cba35d84ac56d54295",
      "5132ae33e2a9420b855b48a1b3320d54",
      "9a85f9a5d728459a929696169d3dcad5",
      "453888b3c6e9432dac50ba5c26d19842",
      "33b69a8b67d54f20bbdb663d41a53c60",
      "dce3d31d53c441d4bf5cc6c2ae39dac7",
      "966d4e0db390439ea4f7e9243c07d4f4",
      "bbfc602d75334b8886a4ca88e5cf3cb8",
      "b0d1bda1a0c74f1293eca52412632ec4",
      "111140a7c8834455aed97be4a5b2253e",
      "5059041a1938466c8f11ae43c6e20c90",
      "9fd242834e4841f6b50c54048be9e694",
      "e38dd76466024573b3868d2e2af0b730",
      "780cedaa760a43b2ae99fe694e417126",
      "0aa280c088d9450abcf24174d16b3c60",
      "b63d2279bf974dc0bea8d889e98abc6a",
      "a8b703bbcdd440ee92c67f7abcb80eca",
      "81efd04ce230429d9c0cae00813d62a0",
      "f1a94e8ac6634a5ab6f1782c42e1eac8",
      "3fbca77d0b4945b480bde77597109dd2",
      "ae09b7163b6242249038eff8c54f1270",
      "a2e0189ae3574945b2336e7415fa7cc2"
     ]
    },
    "executionInfo": {
     "elapsed": 46002,
     "status": "ok",
     "timestamp": 1683130855693,
     "user": {
      "displayName": "Jagadeesh M",
      "userId": "09911460282180839202"
     },
     "user_tz": -330
    },
    "id": "8cmuK4akWF21",
    "outputId": "00a708f8-8701-4c1b-f1b9-6ca8cabe4d7b"
   },
   "outputs": [
    {
     "name": "stderr",
     "output_type": "stream",
     "text": [
      "C:\\Users\\Sai Krishna\\AppData\\Local\\Programs\\Python\\Python39\\lib\\site-packages\\transformers\\configuration_utils.py:375: UserWarning: Passing `gradient_checkpointing` to a config initialization is deprecated and will be removed in v5 Transformers. Using `model.gradient_checkpointing_enable()` instead, or if you are using the `Trainer` API, pass `gradient_checkpointing=True` in your `TrainingArguments`.\n",
      "  warnings.warn(\n"
     ]
    },
    {
     "data": {
      "application/vnd.jupyter.widget-view+json": {
       "model_id": "8e23f0537f2b4620b0d5da14cf11b6ad",
       "version_major": 2,
       "version_minor": 0
      },
      "text/plain": [
       "Map:   0%|          | 0/3795 [00:00<?, ? examples/s]"
      ]
     },
     "metadata": {},
     "output_type": "display_data"
    },
    {
     "data": {
      "application/vnd.jupyter.widget-view+json": {
       "model_id": "3616cb21312b4cbb908ee97d6cbc33d9",
       "version_major": 2,
       "version_minor": 0
      },
      "text/plain": [
       "Map:   0%|          | 0/813 [00:00<?, ? examples/s]"
      ]
     },
     "metadata": {},
     "output_type": "display_data"
    },
    {
     "data": {
      "application/vnd.jupyter.widget-view+json": {
       "model_id": "45fbed714ec64507a0aea09c5955d698",
       "version_major": 2,
       "version_minor": 0
      },
      "text/plain": [
       "Map:   0%|          | 0/814 [00:00<?, ? examples/s]"
      ]
     },
     "metadata": {},
     "output_type": "display_data"
    }
   ],
   "source": [
    "from transformers import AutoFeatureExtractor\n",
    "\n",
    "feature_extractor = AutoFeatureExtractor.from_pretrained(\n",
    "    MODEL_CHECKPOINT, return_attention_mask=True\n",
    ")\n",
    "\n",
    "\n",
    "def preprocess_function(examples):\n",
    "    audio_arrays = examples[\"audio\"]\n",
    "    inputs = feature_extractor(\n",
    "        audio_arrays,\n",
    "        sampling_rate=feature_extractor.sampling_rate,\n",
    "        max_length=MAX_SEQ_LENGTH,\n",
    "        truncation=True,\n",
    "        padding=True,\n",
    "    )\n",
    "    return inputs\n",
    "\n",
    "\n",
    "# This line with pre-process our speech_commands_v1 dataset. We also remove the \"audio\"\n",
    "# and \"file\" columns as they will be of no use to us while training.\n",
    "processed_dataset = dataset.map(\n",
    "    preprocess_function, remove_columns=[\"audio\", \"path\", \"class_name\"], batched=True\n",
    ")\n",
    "\n",
    "# Load the whole dataset splits as a dict of numpy arrays\n",
    "train = processed_dataset[\"train\"].shuffle(seed=42).with_format(\"numpy\")[:]\n",
    "test = processed_dataset[\"test\"].shuffle(seed=42).with_format(\"numpy\")[:]\n",
    "validation=processed_dataset[\"validation\"].shuffle(seed=42).with_format(\"numpy\")[:]"
   ]
  },
  {
   "cell_type": "code",
   "execution_count": 21,
   "metadata": {},
   "outputs": [
    {
     "data": {
      "text/plain": [
       "{'class_label': array([3, 0, 1, ..., 2, 4, 0], dtype=int64),\n",
       " 'input_values': array([[-1.5973353 , -0.7665068 ,  0.9467706 , ..., -0.06994002,\n",
       "         -0.03816086,  0.05189868],\n",
       "        [ 0.65906304,  0.16095528, -0.7603141 , ...,  0.26860026,\n",
       "          0.0083482 , -0.23001504],\n",
       "        [-2.1433823 , -1.7490618 , -1.4956281 , ...,  1.2658237 ,\n",
       "          0.7617097 ,  0.8594331 ],\n",
       "        ...,\n",
       "        [-1.6898023 , -2.234818  , -0.50617015, ...,  0.07827846,\n",
       "         -0.02497015,  0.029942  ],\n",
       "        [-2.0563414 ,  1.2947459 ,  2.227156  , ...,  0.36604637,\n",
       "          0.60869354,  0.47045395],\n",
       "        [-0.18873826,  1.1045368 ,  0.8281765 , ..., -0.64610744,\n",
       "         -0.590137  , -0.12907104]], dtype=float32),\n",
       " 'attention_mask': array([[1, 1, 1, ..., 1, 1, 1],\n",
       "        [1, 1, 1, ..., 1, 1, 1],\n",
       "        [1, 1, 1, ..., 1, 1, 1],\n",
       "        ...,\n",
       "        [1, 1, 1, ..., 1, 1, 1],\n",
       "        [1, 1, 1, ..., 1, 1, 1],\n",
       "        [1, 1, 1, ..., 1, 1, 1]], dtype=int64)}"
      ]
     },
     "execution_count": 21,
     "metadata": {},
     "output_type": "execute_result"
    }
   ],
   "source": [
    "train"
   ]
  },
  {
   "cell_type": "code",
   "execution_count": 22,
   "metadata": {
    "id": "_IX1bDb006wB"
   },
   "outputs": [],
   "source": [
    "from transformers import TFWav2Vec2Model\n",
    "\n",
    "\n",
    "def mean_pool(hidden_states, feature_lengths):\n",
    "    attenion_mask = tf.sequence_mask(\n",
    "        feature_lengths, maxlen=MAX_FRAMES, dtype=tf.dtypes.int64\n",
    "    )\n",
    "    padding_mask = tf.cast(\n",
    "        tf.reverse(tf.cumsum(tf.reverse(attenion_mask, [-1]), -1), [-1]),\n",
    "        dtype=tf.dtypes.bool,\n",
    "    )\n",
    "    hidden_states = tf.where(\n",
    "        tf.broadcast_to(\n",
    "            tf.expand_dims(~padding_mask, -1), (BATCH_SIZE, MAX_FRAMES, HIDDEN_DIM)\n",
    "        ),\n",
    "        0.0,\n",
    "        hidden_states,\n",
    "    )\n",
    "    pooled_state = tf.math.reduce_sum(hidden_states, axis=1) / tf.reshape(\n",
    "        tf.math.reduce_sum(tf.cast(padding_mask, dtype=tf.dtypes.float32), axis=1),\n",
    "        [-1, 1],\n",
    "    )\n",
    "    return pooled_state\n",
    "\n",
    "\n",
    "class TFWav2Vec2ForAudioClassification(tf.keras.Model):\n",
    "    \"\"\"Combines the encoder and decoder into an end-to-end model for training.\"\"\"\n",
    "\n",
    "    def __init__(self, model_checkpoint, num_classes):\n",
    "        super(TFWav2Vec2ForAudioClassification, self).__init__()\n",
    "        # Instantiate the Wav2Vec 2.0 model without the Classification-Head\n",
    "        self.wav2vec2 = TFWav2Vec2Model.from_pretrained(\n",
    "            model_checkpoint, apply_spec_augment=False, from_pt=True\n",
    "        )\n",
    "        self.pooling = tf.keras.layers.GlobalAveragePooling1D()\n",
    "        # Classification-Head\n",
    "        self.dense1 = tf.keras.layers.Dense(1024, activation=\"relu\")\n",
    "        self.dense2 = tf.keras.layers.Dense(512, activation=\"relu\")\n",
    "        self.dense3 = tf.keras.layers.Dense(256, activation=\"relu\")\n",
    "        self.final_layer = tf.keras.layers.Dense(num_classes, activation=\"softmax\")\n",
    "\n",
    "    def call(self, inputs):\n",
    "        # We take only the first output in the returned dictionary corresponding to the\n",
    "        # output of the last layer of Wav2vec 2.0\n",
    "        hidden_states = self.wav2vec2(inputs[\"input_values\"])[0]\n",
    "\n",
    "        # If attention mask does exist then mean-pool only un-masked output frames\n",
    "        if tf.is_tensor(inputs[\"attention_mask\"]):\n",
    "            # Get the length of each audio input by summing up the attention_mask\n",
    "            # (attention_mask = (BATCH_SIZE x MAX_SEQ_LENGTH) ∈ {1,0})\n",
    "            audio_lengths = tf.reduce_sum(inputs[\"attention_mask\"], -1)\n",
    "            # Get the number of Wav2Vec 2.0 output frames for each corresponding audio input\n",
    "            # length\n",
    "            feature_lengths = self.wav2vec2.wav2vec2._get_feat_extract_output_lengths(\n",
    "                audio_lengths\n",
    "            )\n",
    "            pooled_state = mean_pool(hidden_states, feature_lengths)\n",
    "        # If attention mask does not exist then mean-pool only all output frames\n",
    "        else:\n",
    "            pooled_state = self.pooling(hidden_states)\n",
    "\n",
    "        d1 = self.dense1(pooled_state)\n",
    "        d2 = self.dense2(d1)\n",
    "        d3 = self.dense3(d2)\n",
    "        final_state = self.final_layer(d3)\n",
    "        return final_state\n"
   ]
  },
  {
   "cell_type": "code",
   "execution_count": 23,
   "metadata": {
    "colab": {
     "base_uri": "https://localhost:8080/"
    },
    "executionInfo": {
     "elapsed": 5540,
     "status": "ok",
     "timestamp": 1683130861215,
     "user": {
      "displayName": "Jagadeesh M",
      "userId": "09911460282180839202"
     },
     "user_tz": -330
    },
    "id": "uehKlyP2jynB",
    "outputId": "79eca256-6567-44cb-f65c-1b93c9fb815d"
   },
   "outputs": [
    {
     "name": "stderr",
     "output_type": "stream",
     "text": [
      "C:\\Users\\Sai Krishna\\AppData\\Local\\Programs\\Python\\Python39\\lib\\site-packages\\transformers\\configuration_utils.py:375: UserWarning: Passing `gradient_checkpointing` to a config initialization is deprecated and will be removed in v5 Transformers. Using `model.gradient_checkpointing_enable()` instead, or if you are using the `Trainer` API, pass `gradient_checkpointing=True` in your `TrainingArguments`.\n",
      "  warnings.warn(\n",
      "\n",
      "TFWav2Vec2Model has backpropagation operations that are NOT supported on CPU. If you wish to train/fine-tine this model, you need a GPU or a TPU\n",
      "Some weights of the PyTorch model were not used when initializing the TF 2.0 model TFWav2Vec2Model: ['quantizer.codevectors', 'project_q.weight', 'project_hid.bias', 'project_hid.weight', 'quantizer.weight_proj.weight', 'project_q.bias', 'quantizer.weight_proj.bias']\n",
      "- This IS expected if you are initializing TFWav2Vec2Model from a PyTorch model trained on another task or with another architecture (e.g. initializing a TFBertForSequenceClassification model from a BertForPreTraining model).\n",
      "- This IS NOT expected if you are initializing TFWav2Vec2Model from a PyTorch model that you expect to be exactly identical (e.g. initializing a TFBertForSequenceClassification model from a BertForSequenceClassification model).\n",
      "All the weights of TFWav2Vec2Model were initialized from the PyTorch model.\n",
      "If your task is similar to the task the model of the checkpoint was trained on, you can already use TFWav2Vec2Model for predictions without further training.\n"
     ]
    }
   ],
   "source": [
    "def build_model():\n",
    "    # Model's input\n",
    "    inputs = {\n",
    "        \"input_values\": tf.keras.Input(shape=(MAX_SEQ_LENGTH,), dtype=\"float32\"),\n",
    "        \"attention_mask\": tf.keras.Input(shape=(MAX_SEQ_LENGTH,), dtype=\"int32\"),\n",
    "    }\n",
    "    # Instantiate the Wav2Vec 2.0 model with Classification-Head using the desired\n",
    "    # pre-trained checkpoint\n",
    "    wav2vec2_model = TFWav2Vec2ForAudioClassification(MODEL_CHECKPOINT, NUM_CLASSES)(inputs)\n",
    "    # Model\n",
    "    model = tf.keras.Model(inputs, wav2vec2_model)\n",
    "    # Loss\n",
    "    loss = tf.keras.losses.SparseCategoricalCrossentropy(from_logits= True)\n",
    "    # Optimizer\n",
    "    optimizer = keras.optimizers.Adam(learning_rate=1e-5)\n",
    "    # Compile and return\n",
    "    model.compile(loss=loss, optimizer=optimizer, metrics=[\"accuracy\"])\n",
    "    return model\n",
    "\n",
    "\n",
    "model = build_model()"
   ]
  },
  {
   "cell_type": "code",
   "execution_count": 24,
   "metadata": {
    "colab": {
     "base_uri": "https://localhost:8080/"
    },
    "executionInfo": {
     "elapsed": 18,
     "status": "ok",
     "timestamp": 1683130861216,
     "user": {
      "displayName": "Jagadeesh M",
      "userId": "09911460282180839202"
     },
     "user_tz": -330
    },
    "id": "A_6pOsrnyb7t",
    "outputId": "45f65c60-2c3b-4b5e-8230-be485b558532"
   },
   "outputs": [
    {
     "name": "stdout",
     "output_type": "stream",
     "text": [
      "Model: \"model\"\n",
      "__________________________________________________________________________________________________\n",
      " Layer (type)                   Output Shape         Param #     Connected to                     \n",
      "==================================================================================================\n",
      " input_2 (InputLayer)           [(None, 16000)]      0           []                               \n",
      "                                                                                                  \n",
      " input_1 (InputLayer)           [(None, 16000)]      0           []                               \n",
      "                                                                                                  \n",
      " tf_wav2_vec2_for_audio_classif  (None, 5)           95816581    ['input_2[0][0]',                \n",
      " ication (TFWav2Vec2ForAudioCla                                   'input_1[0][0]']                \n",
      " ssification)                                                                                     \n",
      "                                                                                                  \n",
      "==================================================================================================\n",
      "Total params: 95,816,581\n",
      "Trainable params: 95,816,581\n",
      "Non-trainable params: 0\n",
      "__________________________________________________________________________________________________\n"
     ]
    }
   ],
   "source": [
    "\n",
    "model.summary()"
   ]
  },
  {
   "cell_type": "code",
   "execution_count": 25,
   "metadata": {
    "id": "xHKdGSNPjx8r"
   },
   "outputs": [],
   "source": [
    "# Remove targets from training dictionaries\n",
    "train_x = {x: y for x, y in train.items() if x != \"class_label\"}\n",
    "test_x = {x: y for x, y in test.items() if x != \"class_label\"}\n",
    "validation_x={x: y for x, y in validation.items() if x != \"class_label\"}"
   ]
  },
  {
   "cell_type": "code",
   "execution_count": 26,
   "metadata": {},
   "outputs": [
    {
     "data": {
      "text/plain": [
       "{'input_values': array([[ 0.12970126,  0.04012135, -0.15954614, ...,  1.3590847 ,\n",
       "          0.07266966, -1.4191997 ],\n",
       "        [ 2.4357789 , -2.3449297 , -1.3682257 , ..., -0.74766415,\n",
       "         -0.5587754 , -0.82534254],\n",
       "        [-0.85766256,  0.12198151,  0.607687  , ...,  1.1239439 ,\n",
       "          0.2694168 , -0.13518548],\n",
       "        ...,\n",
       "        [-1.6145965 , -2.2309396 ,  0.31837755, ..., -0.03010144,\n",
       "         -0.03734859, -0.03060036],\n",
       "        [-0.64855826,  3.828963  ,  1.1480932 , ..., -0.17588048,\n",
       "         -0.4268505 , -0.6562193 ],\n",
       "        [ 0.44491315,  0.3802011 ,  0.12343846, ...,  0.07157667,\n",
       "          0.00750459,  0.01291175]], dtype=float32),\n",
       " 'attention_mask': array([[1, 1, 1, ..., 1, 1, 1],\n",
       "        [1, 1, 1, ..., 1, 1, 1],\n",
       "        [1, 1, 1, ..., 1, 1, 1],\n",
       "        ...,\n",
       "        [1, 1, 1, ..., 1, 1, 1],\n",
       "        [1, 1, 1, ..., 1, 1, 1],\n",
       "        [1, 1, 1, ..., 1, 1, 1]], dtype=int64)}"
      ]
     },
     "execution_count": 26,
     "metadata": {},
     "output_type": "execute_result"
    }
   ],
   "source": [
    "validation_x"
   ]
  },
  {
   "cell_type": "code",
   "execution_count": 27,
   "metadata": {
    "colab": {
     "base_uri": "https://localhost:8080/"
    },
    "executionInfo": {
     "elapsed": 3421656,
     "status": "ok",
     "timestamp": 1683134282865,
     "user": {
      "displayName": "Jagadeesh M",
      "userId": "09911460282180839202"
     },
     "user_tz": -330
    },
    "id": "VYLOVPgsjx6K",
    "outputId": "0e2a5e25-2d78-4645-9e46-05fa018a558c"
   },
   "outputs": [
    {
     "name": "stdout",
     "output_type": "stream",
     "text": [
      "Epoch 1/6\n"
     ]
    },
    {
     "name": "stderr",
     "output_type": "stream",
     "text": [
      "C:\\Users\\Sai Krishna\\AppData\\Local\\Programs\\Python\\Python39\\lib\\site-packages\\tensorflow\\python\\util\\dispatch.py:1096: UserWarning: \"`sparse_categorical_crossentropy` received `from_logits=True`, but the `output` argument was produced by a sigmoid or softmax activation and thus does not represent logits. Was this intended?\"\n",
      "  return dispatch_target(*args, **kwargs)\n"
     ]
    },
    {
     "name": "stdout",
     "output_type": "stream",
     "text": [
      "WARNING:tensorflow:Gradients do not exist for variables ['tf_wav2_vec2_model/wav2vec2/masked_spec_embed:0'] when minimizing the loss. If you're using `model.compile()`, did you forget to provide a `loss`argument?\n",
      "WARNING:tensorflow:Gradients do not exist for variables ['tf_wav2_vec2_model/wav2vec2/masked_spec_embed:0'] when minimizing the loss. If you're using `model.compile()`, did you forget to provide a `loss`argument?\n",
      "3795/3795 [==============================] - 272s 69ms/step - loss: 1.0697 - accuracy: 0.5336 - val_loss: 0.7564 - val_accuracy: 0.6716\n",
      "Epoch 2/6\n",
      "3795/3795 [==============================] - 263s 69ms/step - loss: 0.6987 - accuracy: 0.7278 - val_loss: 0.6088 - val_accuracy: 0.7811\n",
      "Epoch 3/6\n",
      "3795/3795 [==============================] - 255s 67ms/step - loss: 0.5183 - accuracy: 0.8105 - val_loss: 0.5598 - val_accuracy: 0.8007\n",
      "Epoch 4/6\n",
      "3795/3795 [==============================] - 259s 68ms/step - loss: 0.3981 - accuracy: 0.8593 - val_loss: 0.4722 - val_accuracy: 0.8438\n",
      "Epoch 5/6\n",
      "3795/3795 [==============================] - 256s 68ms/step - loss: 0.2938 - accuracy: 0.9009 - val_loss: 0.5155 - val_accuracy: 0.8339\n",
      "Epoch 6/6\n",
      "3795/3795 [==============================] - 261s 69ms/step - loss: 0.2342 - accuracy: 0.9183 - val_loss: 0.4412 - val_accuracy: 0.8659\n"
     ]
    }
   ],
   "source": [
    "history = model.fit(\n",
    "    train_x,\n",
    "    train[\"class_label\"],\n",
    "    validation_data=(test_x, test[\"class_label\"]),\n",
    "    batch_size=1,\n",
    "    epochs=6,\n",
    ")"
   ]
  },
  {
   "cell_type": "code",
   "execution_count": 28,
   "metadata": {
    "id": "WhJrYunK2-3g"
   },
   "outputs": [],
   "source": [
    "import matplotlib.pyplot as plt"
   ]
  },
  {
   "cell_type": "code",
   "execution_count": 29,
   "metadata": {
    "colab": {
     "base_uri": "https://localhost:8080/",
     "height": 468
    },
    "executionInfo": {
     "elapsed": 26,
     "status": "ok",
     "timestamp": 1683134282868,
     "user": {
      "displayName": "Jagadeesh M",
      "userId": "09911460282180839202"
     },
     "user_tz": -330
    },
    "id": "PK3lsGLf6fM2",
    "outputId": "700056b0-c524-4bed-e291-2cff99204c48"
   },
   "outputs": [
    {
     "data": {
      "image/png": "[encoded data removed]",
      "text/plain": [
       "<Figure size 600x500 with 1 Axes>"
      ]
     },
     "metadata": {},
     "output_type": "display_data"
    }
   ],
   "source": [
    "plt.figure(figsize=(6, 5)) # width, height (inches)\n",
    "plt.plot(history.history['accuracy'][:21])\n",
    "plt.plot(history.history['val_accuracy'][:21])\n",
    "plt.ylabel('accuracy')\n",
    "plt.xlabel('epoch')\n",
    "plt.legend(['train', 'val'], loc='upper left')\n",
    "plt.show()"
   ]
  },
  {
   "cell_type": "code",
   "execution_count": 30,
   "metadata": {
    "colab": {
     "base_uri": "https://localhost:8080/",
     "height": 465
    },
    "executionInfo": {
     "elapsed": 1901,
     "status": "ok",
     "timestamp": 1683134284749,
     "user": {
      "displayName": "Jagadeesh M",
      "userId": "09911460282180839202"
     },
     "user_tz": -330
    },
    "id": "H_9mPsnB24Gm",
    "outputId": "bc785913-d29d-4a52-9400-5d3cccd950c7"
   },
   "outputs": [
    {
     "data": {
      "image/png": "[encoded data removed]",
      "text/plain": [
       "<Figure size 600x500 with 1 Axes>"
      ]
     },
     "metadata": {},
     "output_type": "display_data"
    }
   ],
   "source": [
    "plt.figure(figsize=(6, 5)) # width, height (inches)\n",
    "plt.plot(history.history['loss'][:21])\n",
    "plt.plot(history.history['val_loss'][:21])\n",
    "plt.ylabel('loss')\n",
    "plt.xlabel('epoch')\n",
    "plt.legend(['train', 'val'], loc='upper left')\n",
    "plt.show()"
   ]
  },
  {
   "cell_type": "markdown",
   "metadata": {
    "id": "brzSqWH25Ugy"
   },
   "source": [
    "#### Prediction"
   ]
  },
  {
   "cell_type": "code",
   "execution_count": 42,
   "metadata": {
    "colab": {
     "base_uri": "https://localhost:8080/"
    },
    "executionInfo": {
     "elapsed": 3067,
     "status": "ok",
     "timestamp": 1674921357210,
     "user": {
      "displayName": "Jagadeesh M",
      "userId": "09911460282180839202"
     },
     "user_tz": -330
    },
    "id": "yPf_uoESfGjb",
    "outputId": "637667bc-f3d7-472f-8964-81bbe9a37591"
   },
   "outputs": [],
   "source": [
    "\n",
    "\n",
    "import os\n",
    "from multiprocessing import Pool\n",
    "\n",
    "import pandas as pd\n",
    "import numpy as np\n",
    "\n",
    "from sklearn.metrics import f1_score\n",
    "from scipy.sparse import lil_matrix\n",
    "\n",
    "import tensorflow as tf\n",
    "from tqdm import tqdm\n",
    "\n",
    "import librosa\n",
    "from pydub import AudioSegment\n",
    "from pydub.utils import make_chunks\n",
    "from IPython.display import Audio"
   ]
  },
  {
   "cell_type": "code",
   "execution_count": null,
   "metadata": {
    "id": "xnjR6a95jBUT"
   },
   "outputs": [],
   "source": []
  },
  {
   "cell_type": "code",
   "execution_count": null,
   "metadata": {},
   "outputs": [],
   "source": []
  },
  {
   "cell_type": "code",
   "execution_count": null,
   "metadata": {
    "colab": {
     "base_uri": "https://localhost:8080/",
     "height": 225
    },
    "executionInfo": {
     "elapsed": 5400,
     "status": "ok",
     "timestamp": 1674921362594,
     "user": {
      "displayName": "Jagadeesh M",
      "userId": "09911460282180839202"
     },
     "user_tz": -330
    },
    "id": "Jv_PYG0vfBDC",
    "outputId": "d399a14f-683c-42d4-f503-fc1a12b7796b"
   },
   "outputs": [],
   "source": []
  },
  {
   "cell_type": "code",
   "execution_count": null,
   "metadata": {},
   "outputs": [],
   "source": []
  },
  {
   "cell_type": "code",
   "execution_count": null,
   "metadata": {
    "colab": {
     "base_uri": "https://localhost:8080/",
     "height": 225
    },
    "executionInfo": {
     "elapsed": 3170,
     "status": "ok",
     "timestamp": 1674921365747,
     "user": {
      "displayName": "Jagadeesh M",
      "userId": "09911460282180839202"
     },
     "user_tz": -330
    },
    "id": "dJgYnrs3gETZ",
    "outputId": "c05c3f1b-082f-45e7-b32e-5a2bbb8b1658"
   },
   "outputs": [],
   "source": []
  },
  {
   "cell_type": "code",
   "execution_count": 63,
   "metadata": {
    "colab": {
     "base_uri": "https://localhost:8080/",
     "height": 206
    },
    "executionInfo": {
     "elapsed": 38,
     "status": "ok",
     "timestamp": 1674921365750,
     "user": {
      "displayName": "Jagadeesh M",
      "userId": "09911460282180839202"
     },
     "user_tz": -330
    },
    "id": "7GTCMmGMgU3c",
    "outputId": "3cb983ec-58e8-4466-e851-4626bf3115e2"
   },
   "outputs": [
    {
     "data": {
      "text/html": [
       "<div>\n",
       "<style scoped>\n",
       "    .dataframe tbody tr th:only-of-type {\n",
       "        vertical-align: middle;\n",
       "    }\n",
       "\n",
       "    .dataframe tbody tr th {\n",
       "        vertical-align: top;\n",
       "    }\n",
       "\n",
       "    .dataframe thead th {\n",
       "        text-align: right;\n",
       "    }\n",
       "</style>\n",
       "<table border=\"1\" class=\"dataframe\">\n",
       "  <thead>\n",
       "    <tr style=\"text-align: right;\">\n",
       "      <th></th>\n",
       "      <th>path</th>\n",
       "      <th>class_name</th>\n",
       "      <th>class_label</th>\n",
       "    </tr>\n",
       "  </thead>\n",
       "  <tbody>\n",
       "    <tr>\n",
       "      <th>10179</th>\n",
       "      <td>archive/train//Song Sparrow/246812-4.wav</td>\n",
       "      <td>Song Sparrow</td>\n",
       "      <td>[0]</td>\n",
       "    </tr>\n",
       "    <tr>\n",
       "      <th>6209</th>\n",
       "      <td>archive/train//American Robin/483578-0.wav</td>\n",
       "      <td>American Robin</td>\n",
       "      <td>[3]</td>\n",
       "    </tr>\n",
       "    <tr>\n",
       "      <th>2425</th>\n",
       "      <td>archive/train//Northern Cardinal/362613-5.wav</td>\n",
       "      <td>Northern Cardinal</td>\n",
       "      <td>[2]</td>\n",
       "    </tr>\n",
       "    <tr>\n",
       "      <th>8498</th>\n",
       "      <td>archive/train//Northern Mockingbird/14213-3.wav</td>\n",
       "      <td>Northern Mockingbird</td>\n",
       "      <td>[1]</td>\n",
       "    </tr>\n",
       "    <tr>\n",
       "      <th>8837</th>\n",
       "      <td>archive/train//Northern Mockingbird/321899-6.wav</td>\n",
       "      <td>Northern Mockingbird</td>\n",
       "      <td>[1]</td>\n",
       "    </tr>\n",
       "  </tbody>\n",
       "</table>\n",
       "</div>"
      ],
      "text/plain": [
       "                                                   path            class_name  \\\n",
       "10179          archive/train//Song Sparrow/246812-4.wav          Song Sparrow   \n",
       "6209         archive/train//American Robin/483578-0.wav        American Robin   \n",
       "2425      archive/train//Northern Cardinal/362613-5.wav     Northern Cardinal   \n",
       "8498    archive/train//Northern Mockingbird/14213-3.wav  Northern Mockingbird   \n",
       "8837   archive/train//Northern Mockingbird/321899-6.wav  Northern Mockingbird   \n",
       "\n",
       "      class_label  \n",
       "10179         [0]  \n",
       "6209          [3]  \n",
       "2425          [2]  \n",
       "8498          [1]  \n",
       "8837          [1]  "
      ]
     },
     "execution_count": 63,
     "metadata": {},
     "output_type": "execute_result"
    }
   ],
   "source": []
  },
  {
   "cell_type": "code",
   "execution_count": 48,
   "metadata": {
    "id": "Ij2ZbKOTfA4u"
   },
   "outputs": [],
   "source": [
    "\n",
    "\n",
    "def label_to_sm(labels, n_classes):\n",
    "    sm = lil_matrix((len(labels), n_classes))\n",
    "    for i, label in enumerate(labels):\n",
    "        sm[i, label] = 1  #eg: sm[0, [2,3]] = 1\n",
    "    return sm\n",
    "\n",
    "def get_f1_score(y_true, y_pred):\n",
    "  y_true_sm = label_to_sm(labels=y_true, n_classes=5)\n",
    "  y_pred_sm = label_to_sm(labels=y_pred, n_classes=5)\n",
    "  metric = f1_score(y_true=y_true_sm, y_pred=y_pred_sm, average='weighted')\n",
    "  return metric\n",
    "\n",
    "def get_sm(y_true, y_pred):\n",
    "  y_true_sm = label_to_sm(labels=y_true, n_classes=5)\n",
    "  y_pred_sm = label_to_sm(labels=y_pred, n_classes=5)\n",
    "  return y_true_sm, y_pred_sm"
   ]
  },
  {
   "cell_type": "code",
   "execution_count": null,
   "metadata": {},
   "outputs": [],
   "source": []
  },
  {
   "cell_type": "code",
   "execution_count": 47,
   "metadata": {
    "id": "B34B7kvzVMRf"
   },
   "outputs": [],
   "source": [
    "def get_split(path):\n",
    "\n",
    "  print(path)\n",
    "  myaudio = AudioSegment.from_file(path , \"wav\")\n",
    "\n",
    "  chunk_length_ms = 1000 # pydub calculates in millisec\n",
    "  chunks = make_chunks(myaudio, chunk_length_ms) \n",
    "  paths =[]\n",
    "\n",
    "  for i, chunk in enumerate(chunks):\n",
    "      chunk_name = \"chunk{0}.wav\".format(i)\n",
    "      paths.append(chunk_name)\n",
    "      chunk.export(chunk_name, format=\"wav\")\n",
    "\n",
    "  return paths\n",
    "\n",
    "\n",
    "\n",
    "def get_feature(path):\n",
    "    y, sr = librosa.load(path)\n",
    "\n",
    "    audio_arrays = [y]\n",
    "    inputs = feature_extractor(\n",
    "        audio_arrays,\n",
    "        sampling_rate=feature_extractor.sampling_rate,\n",
    "        max_length=MAX_SEQ_LENGTH,\n",
    "        truncation=True,\n",
    "        padding=True,\n",
    "    )\n",
    "    a = inputs['input_values'][0]\n",
    "    a = a.reshape((1,16000))\n",
    "    b = inputs['attention_mask'][0]\n",
    "    b = b.reshape((1,16000))\n",
    "\n",
    "    xq = {'input_values': a, 'attention_mask': b}\n",
    "\n",
    "    return xq\n",
    "\n",
    "\n",
    "def get_xqs(paths):\n",
    "  xqs = []\n",
    "  for i in range(3): #only using first 6 chunks\n",
    "    t = get_feature(paths[i])\n",
    "    xqs.append(t)\n",
    "  return xqs\n"
   ]
  },
  {
   "cell_type": "code",
   "execution_count": 37,
   "metadata": {
    "id": "GXftdpwPNRbo"
   },
   "outputs": [],
   "source": [
    "def get_probs(model, xqs):\n",
    "  probs = []\n",
    "  for xq in xqs:\n",
    "    p = model.predict(xq, verbose = 0)\n",
    "    probs.append(p)\n",
    "  return np.array(probs)\n",
    "\n",
    "def predict(model, xqs, num_species):\n",
    "  probs = get_probs(model, xqs)\n",
    "  # aggregrate\n",
    "  s = np.max(probs, axis = 0)\n",
    "  if num_species == 2:\n",
    "    n = 2\n",
    "  else:\n",
    "    n = 1\n",
    "  labels = np.argsort(s[0])[::-1][:n]\n",
    "  print(\"lables\",labels)\n",
    "  return list(labels)"
   ]
  },
  {
   "cell_type": "code",
   "execution_count": 46,
   "metadata": {
    "id": "I6XWL_2eevmU"
   },
   "outputs": [],
   "source": [
    "from tqdm import tqdm\n",
    "from pydub import AudioSegment\n",
    "\n",
    "def test(model, df, num_species):\n",
    "  # print(\"succ\")\n",
    "  # print(test['class_label'])\n",
    "  y_true = list(validation['class_label'])\n",
    "  y_pred = []\n",
    "\n",
    "  for i in tqdm(range(len(validation))):\n",
    "    \n",
    "    path = validation['path'][i]\n",
    "    print(path)\n",
    "    chunk_paths = get_split(path)\n",
    "    \n",
    "    xqs = get_xqs(chunk_paths)\n",
    "    label = predict(model, xqs, num_species)\n",
    "    y_pred.append(label)\n",
    "  return y_true, y_pred\n",
    "\n",
    "\n",
    "\n",
    "def evaluate(model, df_mix_2):\n",
    "  y_true_2, y_pred_2 = test(model, tests, 5)\n",
    "\n",
    "  score = get_f1_score(y_true_2, y_pred_2)\n",
    "\n",
    "  return y_true_2, y_pred_2, score"
   ]
  },
  {
   "cell_type": "code",
   "execution_count": 43,
   "metadata": {
    "colab": {
     "base_uri": "https://localhost:8080/"
    },
    "collapsed": true,
    "executionInfo": {
     "elapsed": 522730,
     "status": "ok",
     "timestamp": 1674921888448,
     "user": {
      "displayName": "Jagadeesh M",
      "userId": "09911460282180839202"
     },
     "user_tz": -330
    },
    "id": "EBxSNv9HgTMx",
    "jupyter": {
     "outputs_hidden": true
    },
    "outputId": "97c4b6da-9914-4a3a-a0c1-7872979fcbc2",
    "tags": []
   },
   "outputs": [
    {
     "name": "stderr",
     "output_type": "stream",
     "text": [
      "  0%|                                                                                          | 0/814 [00:00<?, ?it/s]"
     ]
    },
    {
     "name": "stdout",
     "output_type": "stream",
     "text": [
      "C:\\Users\\Sai Krishna\\Desktop\\Bird-Species-Classification-main 2\\Bird-Species-Classification-main\\archive\\train\\Northern Mockingbird\\364588-17.wav\n",
      "C:\\Users\\Sai Krishna\\Desktop\\Bird-Species-Classification-main 2\\Bird-Species-Classification-main\\archive\\train\\Northern Mockingbird\\364588-17.wav\n"
     ]
    },
    {
     "name": "stderr",
     "output_type": "stream",
     "text": [
      "  0%|                                                                                  | 1/814 [00:04<58:58,  4.35s/it]"
     ]
    },
    {
     "name": "stdout",
     "output_type": "stream",
     "text": [
      "lables [3]\n",
      "C:\\Users\\Sai Krishna\\Desktop\\Bird-Species-Classification-main 2\\Bird-Species-Classification-main\\archive\\train\\Northern Mockingbird\\18484-0.wav\n",
      "C:\\Users\\Sai Krishna\\Desktop\\Bird-Species-Classification-main 2\\Bird-Species-Classification-main\\archive\\train\\Northern Mockingbird\\18484-0.wav\n"
     ]
    },
    {
     "name": "stderr",
     "output_type": "stream",
     "text": [
      "  0%|▏                                                                                 | 2/814 [00:04<28:29,  2.11s/it]"
     ]
    },
    {
     "name": "stdout",
     "output_type": "stream",
     "text": [
      "lables [1]\n",
      "C:\\Users\\Sai Krishna\\Desktop\\Bird-Species-Classification-main 2\\Bird-Species-Classification-main\\archive\\train\\Northern Cardinal\\559516-6.wav\n",
      "C:\\Users\\Sai Krishna\\Desktop\\Bird-Species-Classification-main 2\\Bird-Species-Classification-main\\archive\\train\\Northern Cardinal\\559516-6.wav\n"
     ]
    },
    {
     "name": "stderr",
     "output_type": "stream",
     "text": [
      "  0%|▎                                                                                 | 3/814 [00:05<18:07,  1.34s/it]"
     ]
    },
    {
     "name": "stdout",
     "output_type": "stream",
     "text": [
      "lables [2]\n",
      "C:\\Users\\Sai Krishna\\Desktop\\Bird-Species-Classification-main 2\\Bird-Species-Classification-main\\archive\\train\\Northern Cardinal\\466178-9.wav\n",
      "C:\\Users\\Sai Krishna\\Desktop\\Bird-Species-Classification-main 2\\Bird-Species-Classification-main\\archive\\train\\Northern Cardinal\\466178-9.wav\n"
     ]
    },
    {
     "name": "stderr",
     "output_type": "stream",
     "text": [
      "  0%|▍                                                                                 | 4/814 [00:05<13:15,  1.02it/s]"
     ]
    },
    {
     "name": "stdout",
     "output_type": "stream",
     "text": [
      "lables [2]\n",
      "C:\\Users\\Sai Krishna\\Desktop\\Bird-Species-Classification-main 2\\Bird-Species-Classification-main\\archive\\train\\American Robin\\564319-10.wav\n",
      "C:\\Users\\Sai Krishna\\Desktop\\Bird-Species-Classification-main 2\\Bird-Species-Classification-main\\archive\\train\\American Robin\\564319-10.wav\n"
     ]
    },
    {
     "name": "stderr",
     "output_type": "stream",
     "text": [
      "  1%|▌                                                                                 | 5/814 [00:06<10:27,  1.29it/s]"
     ]
    },
    {
     "name": "stdout",
     "output_type": "stream",
     "text": [
      "lables [3]\n",
      "C:\\Users\\Sai Krishna\\Desktop\\Bird-Species-Classification-main 2\\Bird-Species-Classification-main\\archive\\train\\Northern Cardinal\\205836-2.wav\n",
      "C:\\Users\\Sai Krishna\\Desktop\\Bird-Species-Classification-main 2\\Bird-Species-Classification-main\\archive\\train\\Northern Cardinal\\205836-2.wav\n"
     ]
    },
    {
     "name": "stderr",
     "output_type": "stream",
     "text": [
      "  1%|▌                                                                                 | 6/814 [00:06<08:42,  1.55it/s]"
     ]
    },
    {
     "name": "stdout",
     "output_type": "stream",
     "text": [
      "lables [2]\n",
      "C:\\Users\\Sai Krishna\\Desktop\\Bird-Species-Classification-main 2\\Bird-Species-Classification-main\\archive\\train\\Bewick's Wren\\408543-4.wav\n",
      "C:\\Users\\Sai Krishna\\Desktop\\Bird-Species-Classification-main 2\\Bird-Species-Classification-main\\archive\\train\\Bewick's Wren\\408543-4.wav\n"
     ]
    },
    {
     "name": "stderr",
     "output_type": "stream",
     "text": [
      "  1%|▋                                                                                 | 7/814 [00:06<07:21,  1.83it/s]"
     ]
    },
    {
     "name": "stdout",
     "output_type": "stream",
     "text": [
      "lables [4]\n",
      "C:\\Users\\Sai Krishna\\Desktop\\Bird-Species-Classification-main 2\\Bird-Species-Classification-main\\archive\\train\\Northern Cardinal\\165346-13.wav\n",
      "C:\\Users\\Sai Krishna\\Desktop\\Bird-Species-Classification-main 2\\Bird-Species-Classification-main\\archive\\train\\Northern Cardinal\\165346-13.wav\n"
     ]
    },
    {
     "name": "stderr",
     "output_type": "stream",
     "text": [
      "  1%|▊                                                                                 | 8/814 [00:07<06:30,  2.06it/s]"
     ]
    },
    {
     "name": "stdout",
     "output_type": "stream",
     "text": [
      "lables [2]\n",
      "C:\\Users\\Sai Krishna\\Desktop\\Bird-Species-Classification-main 2\\Bird-Species-Classification-main\\archive\\train\\Bewick's Wren\\269166-10.wav\n",
      "C:\\Users\\Sai Krishna\\Desktop\\Bird-Species-Classification-main 2\\Bird-Species-Classification-main\\archive\\train\\Bewick's Wren\\269166-10.wav\n"
     ]
    },
    {
     "name": "stderr",
     "output_type": "stream",
     "text": [
      "  1%|▉                                                                                 | 9/814 [00:07<05:57,  2.25it/s]"
     ]
    },
    {
     "name": "stdout",
     "output_type": "stream",
     "text": [
      "lables [4]\n",
      "C:\\Users\\Sai Krishna\\Desktop\\Bird-Species-Classification-main 2\\Bird-Species-Classification-main\\archive\\train\\American Robin\\103059-2.wav\n",
      "C:\\Users\\Sai Krishna\\Desktop\\Bird-Species-Classification-main 2\\Bird-Species-Classification-main\\archive\\train\\American Robin\\103059-2.wav\n"
     ]
    },
    {
     "name": "stderr",
     "output_type": "stream",
     "text": [
      "  1%|▉                                                                                | 10/814 [00:08<05:47,  2.31it/s]"
     ]
    },
    {
     "name": "stdout",
     "output_type": "stream",
     "text": [
      "lables [3]\n",
      "C:\\Users\\Sai Krishna\\Desktop\\Bird-Species-Classification-main 2\\Bird-Species-Classification-main\\archive\\train\\Northern Cardinal\\460604-4.wav\n",
      "C:\\Users\\Sai Krishna\\Desktop\\Bird-Species-Classification-main 2\\Bird-Species-Classification-main\\archive\\train\\Northern Cardinal\\460604-4.wav\n"
     ]
    },
    {
     "name": "stderr",
     "output_type": "stream",
     "text": [
      "  1%|█                                                                                | 11/814 [00:08<05:47,  2.31it/s]"
     ]
    },
    {
     "name": "stdout",
     "output_type": "stream",
     "text": [
      "lables [2]\n",
      "C:\\Users\\Sai Krishna\\Desktop\\Bird-Species-Classification-main 2\\Bird-Species-Classification-main\\archive\\train\\Northern Cardinal\\463767-2.wav\n",
      "C:\\Users\\Sai Krishna\\Desktop\\Bird-Species-Classification-main 2\\Bird-Species-Classification-main\\archive\\train\\Northern Cardinal\\463767-2.wav\n"
     ]
    },
    {
     "name": "stderr",
     "output_type": "stream",
     "text": [
      "  1%|█▏                                                                               | 12/814 [00:08<05:47,  2.30it/s]"
     ]
    },
    {
     "name": "stdout",
     "output_type": "stream",
     "text": [
      "lables [2]\n",
      "C:\\Users\\Sai Krishna\\Desktop\\Bird-Species-Classification-main 2\\Bird-Species-Classification-main\\archive\\train\\Bewick's Wren\\325137-0.wav\n",
      "C:\\Users\\Sai Krishna\\Desktop\\Bird-Species-Classification-main 2\\Bird-Species-Classification-main\\archive\\train\\Bewick's Wren\\325137-0.wav\n"
     ]
    },
    {
     "name": "stderr",
     "output_type": "stream",
     "text": [
      "  2%|█▎                                                                               | 13/814 [00:09<05:47,  2.31it/s]"
     ]
    },
    {
     "name": "stdout",
     "output_type": "stream",
     "text": [
      "lables [4]\n",
      "C:\\Users\\Sai Krishna\\Desktop\\Bird-Species-Classification-main 2\\Bird-Species-Classification-main\\archive\\train\\Northern Cardinal\\408321-7.wav\n",
      "C:\\Users\\Sai Krishna\\Desktop\\Bird-Species-Classification-main 2\\Bird-Species-Classification-main\\archive\\train\\Northern Cardinal\\408321-7.wav\n"
     ]
    },
    {
     "name": "stderr",
     "output_type": "stream",
     "text": [
      "  2%|█▍                                                                               | 14/814 [00:09<05:52,  2.27it/s]"
     ]
    },
    {
     "name": "stdout",
     "output_type": "stream",
     "text": [
      "lables [2]\n",
      "C:\\Users\\Sai Krishna\\Desktop\\Bird-Species-Classification-main 2\\Bird-Species-Classification-main\\archive\\train\\Northern Cardinal\\382878-5.wav\n",
      "C:\\Users\\Sai Krishna\\Desktop\\Bird-Species-Classification-main 2\\Bird-Species-Classification-main\\archive\\train\\Northern Cardinal\\382878-5.wav\n"
     ]
    },
    {
     "name": "stderr",
     "output_type": "stream",
     "text": [
      "  2%|█▍                                                                               | 15/814 [00:10<05:37,  2.37it/s]"
     ]
    },
    {
     "name": "stdout",
     "output_type": "stream",
     "text": [
      "lables [2]\n",
      "C:\\Users\\Sai Krishna\\Desktop\\Bird-Species-Classification-main 2\\Bird-Species-Classification-main\\archive\\train\\Song Sparrow\\142619-4.wav\n",
      "C:\\Users\\Sai Krishna\\Desktop\\Bird-Species-Classification-main 2\\Bird-Species-Classification-main\\archive\\train\\Song Sparrow\\142619-4.wav\n"
     ]
    },
    {
     "name": "stderr",
     "output_type": "stream",
     "text": [
      "  2%|█▌                                                                               | 16/814 [00:10<05:20,  2.49it/s]"
     ]
    },
    {
     "name": "stdout",
     "output_type": "stream",
     "text": [
      "lables [0]\n",
      "C:\\Users\\Sai Krishna\\Desktop\\Bird-Species-Classification-main 2\\Bird-Species-Classification-main\\archive\\train\\Northern Cardinal\\363861-6.wav\n",
      "C:\\Users\\Sai Krishna\\Desktop\\Bird-Species-Classification-main 2\\Bird-Species-Classification-main\\archive\\train\\Northern Cardinal\\363861-6.wav\n"
     ]
    },
    {
     "name": "stderr",
     "output_type": "stream",
     "text": [
      "  2%|█▋                                                                               | 17/814 [00:10<05:06,  2.60it/s]"
     ]
    },
    {
     "name": "stdout",
     "output_type": "stream",
     "text": [
      "lables [2]\n",
      "C:\\Users\\Sai Krishna\\Desktop\\Bird-Species-Classification-main 2\\Bird-Species-Classification-main\\archive\\train\\Bewick's Wren\\178322-1.wav\n",
      "C:\\Users\\Sai Krishna\\Desktop\\Bird-Species-Classification-main 2\\Bird-Species-Classification-main\\archive\\train\\Bewick's Wren\\178322-1.wav\n"
     ]
    },
    {
     "name": "stderr",
     "output_type": "stream",
     "text": [
      "  2%|█▊                                                                               | 18/814 [00:11<05:01,  2.64it/s]"
     ]
    },
    {
     "name": "stdout",
     "output_type": "stream",
     "text": [
      "lables [4]\n",
      "C:\\Users\\Sai Krishna\\Desktop\\Bird-Species-Classification-main 2\\Bird-Species-Classification-main\\archive\\train\\Bewick's Wren\\323979-11.wav\n",
      "C:\\Users\\Sai Krishna\\Desktop\\Bird-Species-Classification-main 2\\Bird-Species-Classification-main\\archive\\train\\Bewick's Wren\\323979-11.wav\n"
     ]
    },
    {
     "name": "stderr",
     "output_type": "stream",
     "text": [
      "  2%|█▉                                                                               | 19/814 [00:11<04:54,  2.70it/s]"
     ]
    },
    {
     "name": "stdout",
     "output_type": "stream",
     "text": [
      "lables [4]\n",
      "C:\\Users\\Sai Krishna\\Desktop\\Bird-Species-Classification-main 2\\Bird-Species-Classification-main\\archive\\train\\Song Sparrow\\235955-5.wav\n",
      "C:\\Users\\Sai Krishna\\Desktop\\Bird-Species-Classification-main 2\\Bird-Species-Classification-main\\archive\\train\\Song Sparrow\\235955-5.wav\n"
     ]
    },
    {
     "name": "stderr",
     "output_type": "stream",
     "text": [
      "  2%|█▉                                                                               | 20/814 [00:11<04:53,  2.70it/s]"
     ]
    },
    {
     "name": "stdout",
     "output_type": "stream",
     "text": [
      "lables [0]\n",
      "C:\\Users\\Sai Krishna\\Desktop\\Bird-Species-Classification-main 2\\Bird-Species-Classification-main\\archive\\train\\American Robin\\205803-0.wav\n",
      "C:\\Users\\Sai Krishna\\Desktop\\Bird-Species-Classification-main 2\\Bird-Species-Classification-main\\archive\\train\\American Robin\\205803-0.wav\n"
     ]
    },
    {
     "name": "stderr",
     "output_type": "stream",
     "text": [
      "  3%|██                                                                               | 21/814 [00:12<04:55,  2.69it/s]"
     ]
    },
    {
     "name": "stdout",
     "output_type": "stream",
     "text": [
      "lables [3]\n",
      "C:\\Users\\Sai Krishna\\Desktop\\Bird-Species-Classification-main 2\\Bird-Species-Classification-main\\archive\\train\\Bewick's Wren\\173150-5.wav\n",
      "C:\\Users\\Sai Krishna\\Desktop\\Bird-Species-Classification-main 2\\Bird-Species-Classification-main\\archive\\train\\Bewick's Wren\\173150-5.wav\n"
     ]
    },
    {
     "name": "stderr",
     "output_type": "stream",
     "text": [
      "  3%|██▏                                                                              | 22/814 [00:12<04:56,  2.67it/s]"
     ]
    },
    {
     "name": "stdout",
     "output_type": "stream",
     "text": [
      "lables [4]\n",
      "C:\\Users\\Sai Krishna\\Desktop\\Bird-Species-Classification-main 2\\Bird-Species-Classification-main\\archive\\train\\Northern Cardinal\\415386-15.wav\n",
      "C:\\Users\\Sai Krishna\\Desktop\\Bird-Species-Classification-main 2\\Bird-Species-Classification-main\\archive\\train\\Northern Cardinal\\415386-15.wav\n"
     ]
    },
    {
     "name": "stderr",
     "output_type": "stream",
     "text": [
      "  3%|██▎                                                                              | 23/814 [00:13<04:57,  2.66it/s]"
     ]
    },
    {
     "name": "stdout",
     "output_type": "stream",
     "text": [
      "lables [2]\n",
      "C:\\Users\\Sai Krishna\\Desktop\\Bird-Species-Classification-main 2\\Bird-Species-Classification-main\\archive\\train\\Song Sparrow\\480224-7.wav\n",
      "C:\\Users\\Sai Krishna\\Desktop\\Bird-Species-Classification-main 2\\Bird-Species-Classification-main\\archive\\train\\Song Sparrow\\480224-7.wav\n"
     ]
    },
    {
     "name": "stderr",
     "output_type": "stream",
     "text": [
      "  3%|██▍                                                                              | 24/814 [00:13<05:07,  2.57it/s]"
     ]
    },
    {
     "name": "stdout",
     "output_type": "stream",
     "text": [
      "lables [0]\n",
      "C:\\Users\\Sai Krishna\\Desktop\\Bird-Species-Classification-main 2\\Bird-Species-Classification-main\\archive\\train\\Song Sparrow\\375662-6.wav\n",
      "C:\\Users\\Sai Krishna\\Desktop\\Bird-Species-Classification-main 2\\Bird-Species-Classification-main\\archive\\train\\Song Sparrow\\375662-6.wav\n"
     ]
    },
    {
     "name": "stderr",
     "output_type": "stream",
     "text": [
      "  3%|██▍                                                                              | 25/814 [00:13<05:16,  2.49it/s]"
     ]
    },
    {
     "name": "stdout",
     "output_type": "stream",
     "text": [
      "lables [0]\n",
      "C:\\Users\\Sai Krishna\\Desktop\\Bird-Species-Classification-main 2\\Bird-Species-Classification-main\\archive\\train\\Bewick's Wren\\61471-12.wav\n",
      "C:\\Users\\Sai Krishna\\Desktop\\Bird-Species-Classification-main 2\\Bird-Species-Classification-main\\archive\\train\\Bewick's Wren\\61471-12.wav\n"
     ]
    },
    {
     "name": "stderr",
     "output_type": "stream",
     "text": [
      "  3%|██▌                                                                              | 26/814 [00:14<05:24,  2.43it/s]"
     ]
    },
    {
     "name": "stdout",
     "output_type": "stream",
     "text": [
      "lables [4]\n",
      "C:\\Users\\Sai Krishna\\Desktop\\Bird-Species-Classification-main 2\\Bird-Species-Classification-main\\archive\\train\\Bewick's Wren\\173148-0.wav\n",
      "C:\\Users\\Sai Krishna\\Desktop\\Bird-Species-Classification-main 2\\Bird-Species-Classification-main\\archive\\train\\Bewick's Wren\\173148-0.wav\n"
     ]
    },
    {
     "name": "stderr",
     "output_type": "stream",
     "text": [
      "  3%|██▋                                                                              | 27/814 [00:14<05:28,  2.40it/s]"
     ]
    },
    {
     "name": "stdout",
     "output_type": "stream",
     "text": [
      "lables [4]\n",
      "C:\\Users\\Sai Krishna\\Desktop\\Bird-Species-Classification-main 2\\Bird-Species-Classification-main\\archive\\train\\Northern Mockingbird\\394057-2.wav\n",
      "C:\\Users\\Sai Krishna\\Desktop\\Bird-Species-Classification-main 2\\Bird-Species-Classification-main\\archive\\train\\Northern Mockingbird\\394057-2.wav\n"
     ]
    },
    {
     "name": "stderr",
     "output_type": "stream",
     "text": [
      "  3%|██▊                                                                              | 28/814 [00:15<05:30,  2.38it/s]"
     ]
    },
    {
     "name": "stdout",
     "output_type": "stream",
     "text": [
      "lables [1]\n",
      "C:\\Users\\Sai Krishna\\Desktop\\Bird-Species-Classification-main 2\\Bird-Species-Classification-main\\archive\\train\\Northern Cardinal\\205836-4.wav\n",
      "C:\\Users\\Sai Krishna\\Desktop\\Bird-Species-Classification-main 2\\Bird-Species-Classification-main\\archive\\train\\Northern Cardinal\\205836-4.wav\n"
     ]
    },
    {
     "name": "stderr",
     "output_type": "stream",
     "text": [
      "  4%|██▉                                                                              | 29/814 [00:15<05:29,  2.38it/s]"
     ]
    },
    {
     "name": "stdout",
     "output_type": "stream",
     "text": [
      "lables [2]\n",
      "C:\\Users\\Sai Krishna\\Desktop\\Bird-Species-Classification-main 2\\Bird-Species-Classification-main\\archive\\train\\Bewick's Wren\\237263-11.wav\n",
      "C:\\Users\\Sai Krishna\\Desktop\\Bird-Species-Classification-main 2\\Bird-Species-Classification-main\\archive\\train\\Bewick's Wren\\237263-11.wav\n"
     ]
    },
    {
     "name": "stderr",
     "output_type": "stream",
     "text": [
      "  4%|██▉                                                                              | 30/814 [00:16<05:53,  2.22it/s]"
     ]
    },
    {
     "name": "stdout",
     "output_type": "stream",
     "text": [
      "lables [4]\n",
      "C:\\Users\\Sai Krishna\\Desktop\\Bird-Species-Classification-main 2\\Bird-Species-Classification-main\\archive\\train\\Bewick's Wren\\15269-6.wav\n",
      "C:\\Users\\Sai Krishna\\Desktop\\Bird-Species-Classification-main 2\\Bird-Species-Classification-main\\archive\\train\\Bewick's Wren\\15269-6.wav\n"
     ]
    },
    {
     "name": "stderr",
     "output_type": "stream",
     "text": [
      "  4%|███                                                                              | 31/814 [00:16<05:41,  2.30it/s]"
     ]
    },
    {
     "name": "stdout",
     "output_type": "stream",
     "text": [
      "lables [4]\n",
      "C:\\Users\\Sai Krishna\\Desktop\\Bird-Species-Classification-main 2\\Bird-Species-Classification-main\\archive\\train\\Song Sparrow\\128238-9.wav\n",
      "C:\\Users\\Sai Krishna\\Desktop\\Bird-Species-Classification-main 2\\Bird-Species-Classification-main\\archive\\train\\Song Sparrow\\128238-9.wav\n"
     ]
    },
    {
     "name": "stderr",
     "output_type": "stream",
     "text": [
      "  4%|███▏                                                                             | 32/814 [00:16<05:19,  2.45it/s]"
     ]
    },
    {
     "name": "stdout",
     "output_type": "stream",
     "text": [
      "lables [0]\n",
      "C:\\Users\\Sai Krishna\\Desktop\\Bird-Species-Classification-main 2\\Bird-Species-Classification-main\\archive\\train\\Bewick's Wren\\469007-10.wav\n",
      "C:\\Users\\Sai Krishna\\Desktop\\Bird-Species-Classification-main 2\\Bird-Species-Classification-main\\archive\\train\\Bewick's Wren\\469007-10.wav\n"
     ]
    },
    {
     "name": "stderr",
     "output_type": "stream",
     "text": [
      "  4%|███▎                                                                             | 33/814 [00:17<05:04,  2.57it/s]"
     ]
    },
    {
     "name": "stdout",
     "output_type": "stream",
     "text": [
      "lables [4]\n",
      "C:\\Users\\Sai Krishna\\Desktop\\Bird-Species-Classification-main 2\\Bird-Species-Classification-main\\archive\\train\\Northern Mockingbird\\537579-0.wav\n",
      "C:\\Users\\Sai Krishna\\Desktop\\Bird-Species-Classification-main 2\\Bird-Species-Classification-main\\archive\\train\\Northern Mockingbird\\537579-0.wav\n"
     ]
    },
    {
     "name": "stderr",
     "output_type": "stream",
     "text": [
      "  4%|███▍                                                                             | 34/814 [00:17<04:52,  2.66it/s]"
     ]
    },
    {
     "name": "stdout",
     "output_type": "stream",
     "text": [
      "lables [1]\n",
      "C:\\Users\\Sai Krishna\\Desktop\\Bird-Species-Classification-main 2\\Bird-Species-Classification-main\\archive\\train\\Song Sparrow\\205806-10.wav\n",
      "C:\\Users\\Sai Krishna\\Desktop\\Bird-Species-Classification-main 2\\Bird-Species-Classification-main\\archive\\train\\Song Sparrow\\205806-10.wav\n"
     ]
    },
    {
     "name": "stderr",
     "output_type": "stream",
     "text": [
      "  4%|███▍                                                                             | 35/814 [00:17<04:44,  2.73it/s]"
     ]
    },
    {
     "name": "stdout",
     "output_type": "stream",
     "text": [
      "lables [0]\n",
      "C:\\Users\\Sai Krishna\\Desktop\\Bird-Species-Classification-main 2\\Bird-Species-Classification-main\\archive\\train\\Bewick's Wren\\217853-3.wav\n",
      "C:\\Users\\Sai Krishna\\Desktop\\Bird-Species-Classification-main 2\\Bird-Species-Classification-main\\archive\\train\\Bewick's Wren\\217853-3.wav\n"
     ]
    },
    {
     "name": "stderr",
     "output_type": "stream",
     "text": [
      "  4%|███▌                                                                             | 36/814 [00:18<04:39,  2.78it/s]"
     ]
    },
    {
     "name": "stdout",
     "output_type": "stream",
     "text": [
      "lables [4]\n",
      "C:\\Users\\Sai Krishna\\Desktop\\Bird-Species-Classification-main 2\\Bird-Species-Classification-main\\archive\\train\\Bewick's Wren\\22069-1.wav\n",
      "C:\\Users\\Sai Krishna\\Desktop\\Bird-Species-Classification-main 2\\Bird-Species-Classification-main\\archive\\train\\Bewick's Wren\\22069-1.wav\n"
     ]
    },
    {
     "name": "stderr",
     "output_type": "stream",
     "text": [
      "  5%|███▋                                                                             | 37/814 [00:18<04:38,  2.79it/s]"
     ]
    },
    {
     "name": "stdout",
     "output_type": "stream",
     "text": [
      "lables [4]\n",
      "C:\\Users\\Sai Krishna\\Desktop\\Bird-Species-Classification-main 2\\Bird-Species-Classification-main\\archive\\train\\Bewick's Wren\\12578-1.wav\n",
      "C:\\Users\\Sai Krishna\\Desktop\\Bird-Species-Classification-main 2\\Bird-Species-Classification-main\\archive\\train\\Bewick's Wren\\12578-1.wav\n"
     ]
    },
    {
     "name": "stderr",
     "output_type": "stream",
     "text": [
      "  5%|███▊                                                                             | 38/814 [00:18<04:39,  2.78it/s]"
     ]
    },
    {
     "name": "stdout",
     "output_type": "stream",
     "text": [
      "lables [4]\n",
      "C:\\Users\\Sai Krishna\\Desktop\\Bird-Species-Classification-main 2\\Bird-Species-Classification-main\\archive\\train\\Northern Mockingbird\\321945-8.wav\n",
      "C:\\Users\\Sai Krishna\\Desktop\\Bird-Species-Classification-main 2\\Bird-Species-Classification-main\\archive\\train\\Northern Mockingbird\\321945-8.wav\n"
     ]
    },
    {
     "name": "stderr",
     "output_type": "stream",
     "text": [
      "  5%|███▉                                                                             | 39/814 [00:19<04:38,  2.78it/s]"
     ]
    },
    {
     "name": "stdout",
     "output_type": "stream",
     "text": [
      "lables [1]\n",
      "C:\\Users\\Sai Krishna\\Desktop\\Bird-Species-Classification-main 2\\Bird-Species-Classification-main\\archive\\train\\Song Sparrow\\129646-4.wav\n",
      "C:\\Users\\Sai Krishna\\Desktop\\Bird-Species-Classification-main 2\\Bird-Species-Classification-main\\archive\\train\\Song Sparrow\\129646-4.wav\n"
     ]
    },
    {
     "name": "stderr",
     "output_type": "stream",
     "text": [
      "  5%|███▉                                                                             | 40/814 [00:19<04:42,  2.74it/s]"
     ]
    },
    {
     "name": "stdout",
     "output_type": "stream",
     "text": [
      "lables [0]\n",
      "C:\\Users\\Sai Krishna\\Desktop\\Bird-Species-Classification-main 2\\Bird-Species-Classification-main\\archive\\train\\Northern Mockingbird\\170052-4.wav\n",
      "C:\\Users\\Sai Krishna\\Desktop\\Bird-Species-Classification-main 2\\Bird-Species-Classification-main\\archive\\train\\Northern Mockingbird\\170052-4.wav\n"
     ]
    },
    {
     "name": "stderr",
     "output_type": "stream",
     "text": [
      "  5%|████                                                                             | 41/814 [00:20<04:45,  2.71it/s]"
     ]
    },
    {
     "name": "stdout",
     "output_type": "stream",
     "text": [
      "lables [1]\n",
      "C:\\Users\\Sai Krishna\\Desktop\\Bird-Species-Classification-main 2\\Bird-Species-Classification-main\\archive\\train\\Bewick's Wren\\351093-10.wav\n",
      "C:\\Users\\Sai Krishna\\Desktop\\Bird-Species-Classification-main 2\\Bird-Species-Classification-main\\archive\\train\\Bewick's Wren\\351093-10.wav\n"
     ]
    },
    {
     "name": "stderr",
     "output_type": "stream",
     "text": [
      "  5%|████▏                                                                            | 42/814 [00:20<04:43,  2.73it/s]"
     ]
    },
    {
     "name": "stdout",
     "output_type": "stream",
     "text": [
      "lables [4]\n",
      "C:\\Users\\Sai Krishna\\Desktop\\Bird-Species-Classification-main 2\\Bird-Species-Classification-main\\archive\\train\\Song Sparrow\\434169-5.wav\n",
      "C:\\Users\\Sai Krishna\\Desktop\\Bird-Species-Classification-main 2\\Bird-Species-Classification-main\\archive\\train\\Song Sparrow\\434169-5.wav\n"
     ]
    },
    {
     "name": "stderr",
     "output_type": "stream",
     "text": [
      "  5%|████▎                                                                            | 43/814 [00:20<05:01,  2.56it/s]"
     ]
    },
    {
     "name": "stdout",
     "output_type": "stream",
     "text": [
      "lables [0]\n",
      "C:\\Users\\Sai Krishna\\Desktop\\Bird-Species-Classification-main 2\\Bird-Species-Classification-main\\archive\\train\\American Robin\\563612-12.wav\n",
      "C:\\Users\\Sai Krishna\\Desktop\\Bird-Species-Classification-main 2\\Bird-Species-Classification-main\\archive\\train\\American Robin\\563612-12.wav\n"
     ]
    },
    {
     "name": "stderr",
     "output_type": "stream",
     "text": [
      "  5%|████▍                                                                            | 44/814 [00:21<05:12,  2.46it/s]"
     ]
    },
    {
     "name": "stdout",
     "output_type": "stream",
     "text": [
      "lables [3]\n",
      "C:\\Users\\Sai Krishna\\Desktop\\Bird-Species-Classification-main 2\\Bird-Species-Classification-main\\archive\\train\\Northern Mockingbird\\351831-3.wav\n",
      "C:\\Users\\Sai Krishna\\Desktop\\Bird-Species-Classification-main 2\\Bird-Species-Classification-main\\archive\\train\\Northern Mockingbird\\351831-3.wav\n"
     ]
    },
    {
     "name": "stderr",
     "output_type": "stream",
     "text": [
      "  6%|████▍                                                                            | 45/814 [00:21<05:20,  2.40it/s]"
     ]
    },
    {
     "name": "stdout",
     "output_type": "stream",
     "text": [
      "lables [1]\n",
      "C:\\Users\\Sai Krishna\\Desktop\\Bird-Species-Classification-main 2\\Bird-Species-Classification-main\\archive\\train\\Northern Mockingbird\\184933-11.wav\n",
      "C:\\Users\\Sai Krishna\\Desktop\\Bird-Species-Classification-main 2\\Bird-Species-Classification-main\\archive\\train\\Northern Mockingbird\\184933-11.wav\n"
     ]
    },
    {
     "name": "stderr",
     "output_type": "stream",
     "text": [
      "  6%|████▌                                                                            | 46/814 [00:22<05:24,  2.37it/s]"
     ]
    },
    {
     "name": "stdout",
     "output_type": "stream",
     "text": [
      "lables [1]\n",
      "C:\\Users\\Sai Krishna\\Desktop\\Bird-Species-Classification-main 2\\Bird-Species-Classification-main\\archive\\train\\Northern Mockingbird\\321913-12.wav\n",
      "C:\\Users\\Sai Krishna\\Desktop\\Bird-Species-Classification-main 2\\Bird-Species-Classification-main\\archive\\train\\Northern Mockingbird\\321913-12.wav\n"
     ]
    },
    {
     "name": "stderr",
     "output_type": "stream",
     "text": [
      "  6%|████▋                                                                            | 47/814 [00:22<05:23,  2.37it/s]"
     ]
    },
    {
     "name": "stdout",
     "output_type": "stream",
     "text": [
      "lables [1]\n",
      "C:\\Users\\Sai Krishna\\Desktop\\Bird-Species-Classification-main 2\\Bird-Species-Classification-main\\archive\\train\\Song Sparrow\\366597-1.wav\n",
      "C:\\Users\\Sai Krishna\\Desktop\\Bird-Species-Classification-main 2\\Bird-Species-Classification-main\\archive\\train\\Song Sparrow\\366597-1.wav\n"
     ]
    },
    {
     "name": "stderr",
     "output_type": "stream",
     "text": [
      "  6%|████▊                                                                            | 48/814 [00:23<05:25,  2.35it/s]"
     ]
    },
    {
     "name": "stdout",
     "output_type": "stream",
     "text": [
      "lables [0]\n",
      "C:\\Users\\Sai Krishna\\Desktop\\Bird-Species-Classification-main 2\\Bird-Species-Classification-main\\archive\\train\\Song Sparrow\\111671-13.wav\n",
      "C:\\Users\\Sai Krishna\\Desktop\\Bird-Species-Classification-main 2\\Bird-Species-Classification-main\\archive\\train\\Song Sparrow\\111671-13.wav\n"
     ]
    },
    {
     "name": "stderr",
     "output_type": "stream",
     "text": [
      "  6%|████▉                                                                            | 49/814 [00:23<05:27,  2.34it/s]"
     ]
    },
    {
     "name": "stdout",
     "output_type": "stream",
     "text": [
      "lables [0]\n",
      "C:\\Users\\Sai Krishna\\Desktop\\Bird-Species-Classification-main 2\\Bird-Species-Classification-main\\archive\\train\\Song Sparrow\\111644-4.wav\n",
      "C:\\Users\\Sai Krishna\\Desktop\\Bird-Species-Classification-main 2\\Bird-Species-Classification-main\\archive\\train\\Song Sparrow\\111644-4.wav\n"
     ]
    },
    {
     "name": "stderr",
     "output_type": "stream",
     "text": [
      "  6%|████▉                                                                            | 50/814 [00:23<05:27,  2.34it/s]"
     ]
    },
    {
     "name": "stdout",
     "output_type": "stream",
     "text": [
      "lables [0]\n",
      "C:\\Users\\Sai Krishna\\Desktop\\Bird-Species-Classification-main 2\\Bird-Species-Classification-main\\archive\\train\\American Robin\\310256-1.wav\n",
      "C:\\Users\\Sai Krishna\\Desktop\\Bird-Species-Classification-main 2\\Bird-Species-Classification-main\\archive\\train\\American Robin\\310256-1.wav\n"
     ]
    },
    {
     "name": "stderr",
     "output_type": "stream",
     "text": [
      "  6%|█████                                                                            | 51/814 [00:24<05:28,  2.32it/s]"
     ]
    },
    {
     "name": "stdout",
     "output_type": "stream",
     "text": [
      "lables [3]\n",
      "C:\\Users\\Sai Krishna\\Desktop\\Bird-Species-Classification-main 2\\Bird-Species-Classification-main\\archive\\train\\American Robin\\132864-6.wav\n",
      "C:\\Users\\Sai Krishna\\Desktop\\Bird-Species-Classification-main 2\\Bird-Species-Classification-main\\archive\\train\\American Robin\\132864-6.wav\n"
     ]
    },
    {
     "name": "stderr",
     "output_type": "stream",
     "text": [
      "  6%|█████▏                                                                           | 52/814 [00:24<05:24,  2.35it/s]"
     ]
    },
    {
     "name": "stdout",
     "output_type": "stream",
     "text": [
      "lables [3]\n",
      "C:\\Users\\Sai Krishna\\Desktop\\Bird-Species-Classification-main 2\\Bird-Species-Classification-main\\archive\\train\\Northern Mockingbird\\563125-1.wav\n",
      "C:\\Users\\Sai Krishna\\Desktop\\Bird-Species-Classification-main 2\\Bird-Species-Classification-main\\archive\\train\\Northern Mockingbird\\563125-1.wav\n"
     ]
    },
    {
     "name": "stderr",
     "output_type": "stream",
     "text": [
      "  7%|█████▎                                                                           | 53/814 [00:25<05:26,  2.33it/s]"
     ]
    },
    {
     "name": "stdout",
     "output_type": "stream",
     "text": [
      "lables [1]\n",
      "C:\\Users\\Sai Krishna\\Desktop\\Bird-Species-Classification-main 2\\Bird-Species-Classification-main\\archive\\train\\Song Sparrow\\434169-8.wav\n",
      "C:\\Users\\Sai Krishna\\Desktop\\Bird-Species-Classification-main 2\\Bird-Species-Classification-main\\archive\\train\\Song Sparrow\\434169-8.wav\n"
     ]
    },
    {
     "name": "stderr",
     "output_type": "stream",
     "text": [
      "  7%|█████▎                                                                           | 54/814 [00:25<05:25,  2.33it/s]"
     ]
    },
    {
     "name": "stdout",
     "output_type": "stream",
     "text": [
      "lables [0]\n",
      "C:\\Users\\Sai Krishna\\Desktop\\Bird-Species-Classification-main 2\\Bird-Species-Classification-main\\archive\\train\\Song Sparrow\\111668-6.wav\n",
      "C:\\Users\\Sai Krishna\\Desktop\\Bird-Species-Classification-main 2\\Bird-Species-Classification-main\\archive\\train\\Song Sparrow\\111668-6.wav\n"
     ]
    },
    {
     "name": "stderr",
     "output_type": "stream",
     "text": [
      "  7%|█████▍                                                                           | 55/814 [00:26<05:05,  2.48it/s]"
     ]
    },
    {
     "name": "stdout",
     "output_type": "stream",
     "text": [
      "lables [0]\n",
      "C:\\Users\\Sai Krishna\\Desktop\\Bird-Species-Classification-main 2\\Bird-Species-Classification-main\\archive\\train\\Song Sparrow\\358837-2.wav\n",
      "C:\\Users\\Sai Krishna\\Desktop\\Bird-Species-Classification-main 2\\Bird-Species-Classification-main\\archive\\train\\Song Sparrow\\358837-2.wav\n"
     ]
    },
    {
     "name": "stderr",
     "output_type": "stream",
     "text": [
      "  7%|█████▌                                                                           | 56/814 [00:26<04:57,  2.55it/s]"
     ]
    },
    {
     "name": "stdout",
     "output_type": "stream",
     "text": [
      "lables [0]\n",
      "C:\\Users\\Sai Krishna\\Desktop\\Bird-Species-Classification-main 2\\Bird-Species-Classification-main\\archive\\train\\American Robin\\394835-11.wav\n",
      "C:\\Users\\Sai Krishna\\Desktop\\Bird-Species-Classification-main 2\\Bird-Species-Classification-main\\archive\\train\\American Robin\\394835-11.wav\n"
     ]
    },
    {
     "name": "stderr",
     "output_type": "stream",
     "text": [
      "  7%|█████▋                                                                           | 57/814 [00:26<04:49,  2.62it/s]"
     ]
    },
    {
     "name": "stdout",
     "output_type": "stream",
     "text": [
      "lables [3]\n",
      "C:\\Users\\Sai Krishna\\Desktop\\Bird-Species-Classification-main 2\\Bird-Species-Classification-main\\archive\\train\\Song Sparrow\\500924-5.wav\n",
      "C:\\Users\\Sai Krishna\\Desktop\\Bird-Species-Classification-main 2\\Bird-Species-Classification-main\\archive\\train\\Song Sparrow\\500924-5.wav\n"
     ]
    },
    {
     "name": "stderr",
     "output_type": "stream",
     "text": [
      "  7%|█████▊                                                                           | 58/814 [00:27<04:43,  2.67it/s]"
     ]
    },
    {
     "name": "stdout",
     "output_type": "stream",
     "text": [
      "lables [0]\n",
      "C:\\Users\\Sai Krishna\\Desktop\\Bird-Species-Classification-main 2\\Bird-Species-Classification-main\\archive\\train\\Northern Mockingbird\\563125-5.wav\n",
      "C:\\Users\\Sai Krishna\\Desktop\\Bird-Species-Classification-main 2\\Bird-Species-Classification-main\\archive\\train\\Northern Mockingbird\\563125-5.wav\n"
     ]
    },
    {
     "name": "stderr",
     "output_type": "stream",
     "text": [
      "  7%|█████▊                                                                           | 59/814 [00:27<04:34,  2.75it/s]"
     ]
    },
    {
     "name": "stdout",
     "output_type": "stream",
     "text": [
      "lables [1]\n",
      "C:\\Users\\Sai Krishna\\Desktop\\Bird-Species-Classification-main 2\\Bird-Species-Classification-main\\archive\\train\\Bewick's Wren\\109668-3.wav\n",
      "C:\\Users\\Sai Krishna\\Desktop\\Bird-Species-Classification-main 2\\Bird-Species-Classification-main\\archive\\train\\Bewick's Wren\\109668-3.wav\n"
     ]
    },
    {
     "name": "stderr",
     "output_type": "stream",
     "text": [
      "  7%|█████▉                                                                           | 60/814 [00:27<04:33,  2.75it/s]"
     ]
    },
    {
     "name": "stdout",
     "output_type": "stream",
     "text": [
      "lables [4]\n",
      "C:\\Users\\Sai Krishna\\Desktop\\Bird-Species-Classification-main 2\\Bird-Species-Classification-main\\archive\\train\\American Robin\\172423-4.wav\n",
      "C:\\Users\\Sai Krishna\\Desktop\\Bird-Species-Classification-main 2\\Bird-Species-Classification-main\\archive\\train\\American Robin\\172423-4.wav\n"
     ]
    },
    {
     "name": "stderr",
     "output_type": "stream",
     "text": [
      "  7%|██████                                                                           | 61/814 [00:28<04:35,  2.73it/s]"
     ]
    },
    {
     "name": "stdout",
     "output_type": "stream",
     "text": [
      "lables [3]\n",
      "C:\\Users\\Sai Krishna\\Desktop\\Bird-Species-Classification-main 2\\Bird-Species-Classification-main\\archive\\train\\Northern Cardinal\\18125-7.wav\n",
      "C:\\Users\\Sai Krishna\\Desktop\\Bird-Species-Classification-main 2\\Bird-Species-Classification-main\\archive\\train\\Northern Cardinal\\18125-7.wav\n"
     ]
    },
    {
     "name": "stderr",
     "output_type": "stream",
     "text": [
      "  8%|██████▏                                                                          | 62/814 [00:28<04:52,  2.57it/s]"
     ]
    },
    {
     "name": "stdout",
     "output_type": "stream",
     "text": [
      "lables [2]\n",
      "C:\\Users\\Sai Krishna\\Desktop\\Bird-Species-Classification-main 2\\Bird-Species-Classification-main\\archive\\train\\Northern Cardinal\\415386-10.wav\n",
      "C:\\Users\\Sai Krishna\\Desktop\\Bird-Species-Classification-main 2\\Bird-Species-Classification-main\\archive\\train\\Northern Cardinal\\415386-10.wav\n"
     ]
    },
    {
     "name": "stderr",
     "output_type": "stream",
     "text": [
      "  8%|██████▎                                                                          | 63/814 [00:29<05:04,  2.47it/s]"
     ]
    },
    {
     "name": "stdout",
     "output_type": "stream",
     "text": [
      "lables [2]\n",
      "C:\\Users\\Sai Krishna\\Desktop\\Bird-Species-Classification-main 2\\Bird-Species-Classification-main\\archive\\train\\Song Sparrow\\477785-3.wav\n",
      "C:\\Users\\Sai Krishna\\Desktop\\Bird-Species-Classification-main 2\\Bird-Species-Classification-main\\archive\\train\\Song Sparrow\\477785-3.wav\n"
     ]
    },
    {
     "name": "stderr",
     "output_type": "stream",
     "text": [
      "  8%|██████▎                                                                          | 64/814 [00:29<05:08,  2.43it/s]"
     ]
    },
    {
     "name": "stdout",
     "output_type": "stream",
     "text": [
      "lables [0]\n",
      "C:\\Users\\Sai Krishna\\Desktop\\Bird-Species-Classification-main 2\\Bird-Species-Classification-main\\archive\\train\\Song Sparrow\\480068-6.wav\n",
      "C:\\Users\\Sai Krishna\\Desktop\\Bird-Species-Classification-main 2\\Bird-Species-Classification-main\\archive\\train\\Song Sparrow\\480068-6.wav\n"
     ]
    },
    {
     "name": "stderr",
     "output_type": "stream",
     "text": [
      "  8%|██████▍                                                                          | 65/814 [00:29<05:12,  2.40it/s]"
     ]
    },
    {
     "name": "stdout",
     "output_type": "stream",
     "text": [
      "lables [0]\n",
      "C:\\Users\\Sai Krishna\\Desktop\\Bird-Species-Classification-main 2\\Bird-Species-Classification-main\\archive\\train\\American Robin\\320724-5.wav\n",
      "C:\\Users\\Sai Krishna\\Desktop\\Bird-Species-Classification-main 2\\Bird-Species-Classification-main\\archive\\train\\American Robin\\320724-5.wav\n"
     ]
    },
    {
     "name": "stderr",
     "output_type": "stream",
     "text": [
      "  8%|██████▌                                                                          | 66/814 [00:30<05:17,  2.36it/s]"
     ]
    },
    {
     "name": "stdout",
     "output_type": "stream",
     "text": [
      "lables [3]\n",
      "C:\\Users\\Sai Krishna\\Desktop\\Bird-Species-Classification-main 2\\Bird-Species-Classification-main\\archive\\train\\Northern Cardinal\\140466-1.wav\n",
      "C:\\Users\\Sai Krishna\\Desktop\\Bird-Species-Classification-main 2\\Bird-Species-Classification-main\\archive\\train\\Northern Cardinal\\140466-1.wav\n"
     ]
    },
    {
     "name": "stderr",
     "output_type": "stream",
     "text": [
      "  8%|██████▋                                                                          | 67/814 [00:30<05:18,  2.35it/s]"
     ]
    },
    {
     "name": "stdout",
     "output_type": "stream",
     "text": [
      "lables [2]\n",
      "C:\\Users\\Sai Krishna\\Desktop\\Bird-Species-Classification-main 2\\Bird-Species-Classification-main\\archive\\train\\Northern Cardinal\\190456-9.wav\n",
      "C:\\Users\\Sai Krishna\\Desktop\\Bird-Species-Classification-main 2\\Bird-Species-Classification-main\\archive\\train\\Northern Cardinal\\190456-9.wav\n"
     ]
    },
    {
     "name": "stderr",
     "output_type": "stream",
     "text": [
      "  8%|██████▊                                                                          | 68/814 [00:31<05:19,  2.33it/s]"
     ]
    },
    {
     "name": "stdout",
     "output_type": "stream",
     "text": [
      "lables [2]\n",
      "C:\\Users\\Sai Krishna\\Desktop\\Bird-Species-Classification-main 2\\Bird-Species-Classification-main\\archive\\train\\American Robin\\382342-6.wav\n",
      "C:\\Users\\Sai Krishna\\Desktop\\Bird-Species-Classification-main 2\\Bird-Species-Classification-main\\archive\\train\\American Robin\\382342-6.wav\n"
     ]
    },
    {
     "name": "stderr",
     "output_type": "stream",
     "text": [
      "  8%|██████▊                                                                          | 69/814 [00:31<05:19,  2.33it/s]"
     ]
    },
    {
     "name": "stdout",
     "output_type": "stream",
     "text": [
      "lables [3]\n",
      "C:\\Users\\Sai Krishna\\Desktop\\Bird-Species-Classification-main 2\\Bird-Species-Classification-main\\archive\\train\\American Robin\\446457-0.wav\n",
      "C:\\Users\\Sai Krishna\\Desktop\\Bird-Species-Classification-main 2\\Bird-Species-Classification-main\\archive\\train\\American Robin\\446457-0.wav\n"
     ]
    },
    {
     "name": "stderr",
     "output_type": "stream",
     "text": [
      "  9%|██████▉                                                                          | 70/814 [00:32<05:19,  2.33it/s]"
     ]
    },
    {
     "name": "stdout",
     "output_type": "stream",
     "text": [
      "lables [3]\n",
      "C:\\Users\\Sai Krishna\\Desktop\\Bird-Species-Classification-main 2\\Bird-Species-Classification-main\\archive\\train\\Northern Cardinal\\560427-0.wav\n",
      "C:\\Users\\Sai Krishna\\Desktop\\Bird-Species-Classification-main 2\\Bird-Species-Classification-main\\archive\\train\\Northern Cardinal\\560427-0.wav\n"
     ]
    },
    {
     "name": "stderr",
     "output_type": "stream",
     "text": [
      "  9%|███████                                                                          | 71/814 [00:32<05:23,  2.30it/s]"
     ]
    },
    {
     "name": "stdout",
     "output_type": "stream",
     "text": [
      "lables [2]\n",
      "C:\\Users\\Sai Krishna\\Desktop\\Bird-Species-Classification-main 2\\Bird-Species-Classification-main\\archive\\train\\Song Sparrow\\189286-8.wav\n",
      "C:\\Users\\Sai Krishna\\Desktop\\Bird-Species-Classification-main 2\\Bird-Species-Classification-main\\archive\\train\\Song Sparrow\\189286-8.wav\n"
     ]
    },
    {
     "name": "stderr",
     "output_type": "stream",
     "text": [
      "  9%|███████▏                                                                         | 72/814 [00:32<05:20,  2.31it/s]"
     ]
    },
    {
     "name": "stdout",
     "output_type": "stream",
     "text": [
      "lables [0]\n",
      "C:\\Users\\Sai Krishna\\Desktop\\Bird-Species-Classification-main 2\\Bird-Species-Classification-main\\archive\\train\\Northern Cardinal\\362613-0.wav\n",
      "C:\\Users\\Sai Krishna\\Desktop\\Bird-Species-Classification-main 2\\Bird-Species-Classification-main\\archive\\train\\Northern Cardinal\\362613-0.wav\n"
     ]
    },
    {
     "name": "stderr",
     "output_type": "stream",
     "text": [
      "  9%|███████▎                                                                         | 73/814 [00:33<05:21,  2.31it/s]"
     ]
    },
    {
     "name": "stdout",
     "output_type": "stream",
     "text": [
      "lables [2]\n",
      "C:\\Users\\Sai Krishna\\Desktop\\Bird-Species-Classification-main 2\\Bird-Species-Classification-main\\archive\\train\\American Robin\\309928-1.wav\n",
      "C:\\Users\\Sai Krishna\\Desktop\\Bird-Species-Classification-main 2\\Bird-Species-Classification-main\\archive\\train\\American Robin\\309928-1.wav\n"
     ]
    },
    {
     "name": "stderr",
     "output_type": "stream",
     "text": [
      "  9%|███████▎                                                                         | 74/814 [00:33<05:21,  2.31it/s]"
     ]
    },
    {
     "name": "stdout",
     "output_type": "stream",
     "text": [
      "lables [3]\n",
      "C:\\Users\\Sai Krishna\\Desktop\\Bird-Species-Classification-main 2\\Bird-Species-Classification-main\\archive\\train\\Bewick's Wren\\61471-11.wav\n",
      "C:\\Users\\Sai Krishna\\Desktop\\Bird-Species-Classification-main 2\\Bird-Species-Classification-main\\archive\\train\\Bewick's Wren\\61471-11.wav\n"
     ]
    },
    {
     "name": "stderr",
     "output_type": "stream",
     "text": [
      "  9%|███████▍                                                                         | 75/814 [00:34<05:18,  2.32it/s]"
     ]
    },
    {
     "name": "stdout",
     "output_type": "stream",
     "text": [
      "lables [4]\n",
      "C:\\Users\\Sai Krishna\\Desktop\\Bird-Species-Classification-main 2\\Bird-Species-Classification-main\\archive\\train\\American Robin\\320027-0.wav\n",
      "C:\\Users\\Sai Krishna\\Desktop\\Bird-Species-Classification-main 2\\Bird-Species-Classification-main\\archive\\train\\American Robin\\320027-0.wav\n"
     ]
    },
    {
     "name": "stderr",
     "output_type": "stream",
     "text": [
      "  9%|███████▌                                                                         | 76/814 [00:34<05:01,  2.45it/s]"
     ]
    },
    {
     "name": "stdout",
     "output_type": "stream",
     "text": [
      "lables [3]\n",
      "C:\\Users\\Sai Krishna\\Desktop\\Bird-Species-Classification-main 2\\Bird-Species-Classification-main\\archive\\train\\Northern Cardinal\\11846-7.wav\n",
      "C:\\Users\\Sai Krishna\\Desktop\\Bird-Species-Classification-main 2\\Bird-Species-Classification-main\\archive\\train\\Northern Cardinal\\11846-7.wav\n"
     ]
    },
    {
     "name": "stderr",
     "output_type": "stream",
     "text": [
      "  9%|███████▋                                                                         | 77/814 [00:34<04:48,  2.56it/s]"
     ]
    },
    {
     "name": "stdout",
     "output_type": "stream",
     "text": [
      "lables [2]\n",
      "C:\\Users\\Sai Krishna\\Desktop\\Bird-Species-Classification-main 2\\Bird-Species-Classification-main\\archive\\train\\Northern Cardinal\\367706-14.wav\n",
      "C:\\Users\\Sai Krishna\\Desktop\\Bird-Species-Classification-main 2\\Bird-Species-Classification-main\\archive\\train\\Northern Cardinal\\367706-14.wav\n"
     ]
    },
    {
     "name": "stderr",
     "output_type": "stream",
     "text": [
      " 10%|███████▊                                                                         | 78/814 [00:35<04:36,  2.66it/s]"
     ]
    },
    {
     "name": "stdout",
     "output_type": "stream",
     "text": [
      "lables [2]\n",
      "C:\\Users\\Sai Krishna\\Desktop\\Bird-Species-Classification-main 2\\Bird-Species-Classification-main\\archive\\train\\American Robin\\313351-2.wav\n",
      "C:\\Users\\Sai Krishna\\Desktop\\Bird-Species-Classification-main 2\\Bird-Species-Classification-main\\archive\\train\\American Robin\\313351-2.wav\n"
     ]
    },
    {
     "name": "stderr",
     "output_type": "stream",
     "text": [
      " 10%|███████▊                                                                         | 79/814 [00:35<04:28,  2.74it/s]"
     ]
    },
    {
     "name": "stdout",
     "output_type": "stream",
     "text": [
      "lables [3]\n",
      "C:\\Users\\Sai Krishna\\Desktop\\Bird-Species-Classification-main 2\\Bird-Species-Classification-main\\archive\\train\\Song Sparrow\\121280-11.wav\n",
      "C:\\Users\\Sai Krishna\\Desktop\\Bird-Species-Classification-main 2\\Bird-Species-Classification-main\\archive\\train\\Song Sparrow\\121280-11.wav\n"
     ]
    },
    {
     "name": "stderr",
     "output_type": "stream",
     "text": [
      " 10%|███████▉                                                                         | 80/814 [00:35<04:23,  2.78it/s]"
     ]
    },
    {
     "name": "stdout",
     "output_type": "stream",
     "text": [
      "lables [0]\n",
      "C:\\Users\\Sai Krishna\\Desktop\\Bird-Species-Classification-main 2\\Bird-Species-Classification-main\\archive\\train\\Northern Mockingbird\\192423-11.wav\n",
      "C:\\Users\\Sai Krishna\\Desktop\\Bird-Species-Classification-main 2\\Bird-Species-Classification-main\\archive\\train\\Northern Mockingbird\\192423-11.wav\n"
     ]
    },
    {
     "name": "stderr",
     "output_type": "stream",
     "text": [
      " 10%|████████                                                                         | 81/814 [00:36<04:42,  2.60it/s]"
     ]
    },
    {
     "name": "stdout",
     "output_type": "stream",
     "text": [
      "lables [1]\n",
      "C:\\Users\\Sai Krishna\\Desktop\\Bird-Species-Classification-main 2\\Bird-Species-Classification-main\\archive\\train\\American Robin\\416294-16.wav\n",
      "C:\\Users\\Sai Krishna\\Desktop\\Bird-Species-Classification-main 2\\Bird-Species-Classification-main\\archive\\train\\American Robin\\416294-16.wav\n"
     ]
    },
    {
     "name": "stderr",
     "output_type": "stream",
     "text": [
      " 10%|████████▏                                                                        | 82/814 [00:36<04:53,  2.49it/s]"
     ]
    },
    {
     "name": "stdout",
     "output_type": "stream",
     "text": [
      "lables [3]\n",
      "C:\\Users\\Sai Krishna\\Desktop\\Bird-Species-Classification-main 2\\Bird-Species-Classification-main\\archive\\train\\Northern Mockingbird\\538537-10.wav\n",
      "C:\\Users\\Sai Krishna\\Desktop\\Bird-Species-Classification-main 2\\Bird-Species-Classification-main\\archive\\train\\Northern Mockingbird\\538537-10.wav\n"
     ]
    },
    {
     "name": "stderr",
     "output_type": "stream",
     "text": [
      " 10%|████████▎                                                                        | 83/814 [00:37<04:58,  2.45it/s]"
     ]
    },
    {
     "name": "stdout",
     "output_type": "stream",
     "text": [
      "lables [1]\n",
      "C:\\Users\\Sai Krishna\\Desktop\\Bird-Species-Classification-main 2\\Bird-Species-Classification-main\\archive\\train\\Song Sparrow\\320469-1.wav\n",
      "C:\\Users\\Sai Krishna\\Desktop\\Bird-Species-Classification-main 2\\Bird-Species-Classification-main\\archive\\train\\Song Sparrow\\320469-1.wav\n"
     ]
    },
    {
     "name": "stderr",
     "output_type": "stream",
     "text": [
      " 10%|████████▎                                                                        | 84/814 [00:37<05:03,  2.41it/s]"
     ]
    },
    {
     "name": "stdout",
     "output_type": "stream",
     "text": [
      "lables [0]\n",
      "C:\\Users\\Sai Krishna\\Desktop\\Bird-Species-Classification-main 2\\Bird-Species-Classification-main\\archive\\train\\American Robin\\446458-3.wav\n",
      "C:\\Users\\Sai Krishna\\Desktop\\Bird-Species-Classification-main 2\\Bird-Species-Classification-main\\archive\\train\\American Robin\\446458-3.wav\n"
     ]
    },
    {
     "name": "stderr",
     "output_type": "stream",
     "text": [
      " 10%|████████▍                                                                        | 85/814 [00:38<05:04,  2.39it/s]"
     ]
    },
    {
     "name": "stdout",
     "output_type": "stream",
     "text": [
      "lables [3]\n",
      "C:\\Users\\Sai Krishna\\Desktop\\Bird-Species-Classification-main 2\\Bird-Species-Classification-main\\archive\\train\\Northern Cardinal\\544966-10.wav\n",
      "C:\\Users\\Sai Krishna\\Desktop\\Bird-Species-Classification-main 2\\Bird-Species-Classification-main\\archive\\train\\Northern Cardinal\\544966-10.wav\n"
     ]
    },
    {
     "name": "stderr",
     "output_type": "stream",
     "text": [
      " 11%|████████▌                                                                        | 86/814 [00:38<05:06,  2.37it/s]"
     ]
    },
    {
     "name": "stdout",
     "output_type": "stream",
     "text": [
      "lables [2]\n",
      "C:\\Users\\Sai Krishna\\Desktop\\Bird-Species-Classification-main 2\\Bird-Species-Classification-main\\archive\\train\\Northern Cardinal\\82113-5.wav\n",
      "C:\\Users\\Sai Krishna\\Desktop\\Bird-Species-Classification-main 2\\Bird-Species-Classification-main\\archive\\train\\Northern Cardinal\\82113-5.wav\n"
     ]
    },
    {
     "name": "stderr",
     "output_type": "stream",
     "text": [
      " 11%|████████▋                                                                        | 87/814 [00:39<05:08,  2.35it/s]"
     ]
    },
    {
     "name": "stdout",
     "output_type": "stream",
     "text": [
      "lables [2]\n",
      "C:\\Users\\Sai Krishna\\Desktop\\Bird-Species-Classification-main 2\\Bird-Species-Classification-main\\archive\\train\\Northern Cardinal\\564311-7.wav\n",
      "C:\\Users\\Sai Krishna\\Desktop\\Bird-Species-Classification-main 2\\Bird-Species-Classification-main\\archive\\train\\Northern Cardinal\\564311-7.wav\n"
     ]
    },
    {
     "name": "stderr",
     "output_type": "stream",
     "text": [
      " 11%|████████▊                                                                        | 88/814 [00:39<05:08,  2.35it/s]"
     ]
    },
    {
     "name": "stdout",
     "output_type": "stream",
     "text": [
      "lables [2]\n",
      "C:\\Users\\Sai Krishna\\Desktop\\Bird-Species-Classification-main 2\\Bird-Species-Classification-main\\archive\\train\\American Robin\\383961-12.wav\n",
      "C:\\Users\\Sai Krishna\\Desktop\\Bird-Species-Classification-main 2\\Bird-Species-Classification-main\\archive\\train\\American Robin\\383961-12.wav\n"
     ]
    },
    {
     "name": "stderr",
     "output_type": "stream",
     "text": [
      " 11%|████████▊                                                                        | 89/814 [00:39<05:06,  2.37it/s]"
     ]
    },
    {
     "name": "stdout",
     "output_type": "stream",
     "text": [
      "lables [3]\n",
      "C:\\Users\\Sai Krishna\\Desktop\\Bird-Species-Classification-main 2\\Bird-Species-Classification-main\\archive\\train\\Song Sparrow\\425799-13.wav\n",
      "C:\\Users\\Sai Krishna\\Desktop\\Bird-Species-Classification-main 2\\Bird-Species-Classification-main\\archive\\train\\Song Sparrow\\425799-13.wav\n"
     ]
    },
    {
     "name": "stderr",
     "output_type": "stream",
     "text": [
      " 11%|████████▉                                                                        | 90/814 [00:40<05:07,  2.36it/s]"
     ]
    },
    {
     "name": "stdout",
     "output_type": "stream",
     "text": [
      "lables [0]\n",
      "C:\\Users\\Sai Krishna\\Desktop\\Bird-Species-Classification-main 2\\Bird-Species-Classification-main\\archive\\train\\Song Sparrow\\393996-8.wav\n",
      "C:\\Users\\Sai Krishna\\Desktop\\Bird-Species-Classification-main 2\\Bird-Species-Classification-main\\archive\\train\\Song Sparrow\\393996-8.wav\n"
     ]
    },
    {
     "name": "stderr",
     "output_type": "stream",
     "text": [
      " 11%|█████████                                                                        | 91/814 [00:40<04:51,  2.48it/s]"
     ]
    },
    {
     "name": "stdout",
     "output_type": "stream",
     "text": [
      "lables [0]\n",
      "C:\\Users\\Sai Krishna\\Desktop\\Bird-Species-Classification-main 2\\Bird-Species-Classification-main\\archive\\train\\American Robin\\375274-3.wav\n",
      "C:\\Users\\Sai Krishna\\Desktop\\Bird-Species-Classification-main 2\\Bird-Species-Classification-main\\archive\\train\\American Robin\\375274-3.wav\n"
     ]
    },
    {
     "name": "stderr",
     "output_type": "stream",
     "text": [
      " 11%|█████████▏                                                                       | 92/814 [00:40<04:37,  2.60it/s]"
     ]
    },
    {
     "name": "stdout",
     "output_type": "stream",
     "text": [
      "lables [3]\n",
      "C:\\Users\\Sai Krishna\\Desktop\\Bird-Species-Classification-main 2\\Bird-Species-Classification-main\\archive\\train\\American Robin\\165272-3.wav\n",
      "C:\\Users\\Sai Krishna\\Desktop\\Bird-Species-Classification-main 2\\Bird-Species-Classification-main\\archive\\train\\American Robin\\165272-3.wav\n"
     ]
    },
    {
     "name": "stderr",
     "output_type": "stream",
     "text": [
      " 11%|█████████▎                                                                       | 93/814 [00:41<04:29,  2.68it/s]"
     ]
    },
    {
     "name": "stdout",
     "output_type": "stream",
     "text": [
      "lables [3]\n",
      "C:\\Users\\Sai Krishna\\Desktop\\Bird-Species-Classification-main 2\\Bird-Species-Classification-main\\archive\\train\\Bewick's Wren\\205433-2.wav\n",
      "C:\\Users\\Sai Krishna\\Desktop\\Bird-Species-Classification-main 2\\Bird-Species-Classification-main\\archive\\train\\Bewick's Wren\\205433-2.wav\n"
     ]
    },
    {
     "name": "stderr",
     "output_type": "stream",
     "text": [
      " 12%|█████████▎                                                                       | 94/814 [00:41<04:23,  2.73it/s]"
     ]
    },
    {
     "name": "stdout",
     "output_type": "stream",
     "text": [
      "lables [4]\n",
      "C:\\Users\\Sai Krishna\\Desktop\\Bird-Species-Classification-main 2\\Bird-Species-Classification-main\\archive\\train\\American Robin\\309928-0.wav\n",
      "C:\\Users\\Sai Krishna\\Desktop\\Bird-Species-Classification-main 2\\Bird-Species-Classification-main\\archive\\train\\American Robin\\309928-0.wav\n"
     ]
    },
    {
     "name": "stderr",
     "output_type": "stream",
     "text": [
      " 12%|█████████▍                                                                       | 95/814 [00:42<04:19,  2.77it/s]"
     ]
    },
    {
     "name": "stdout",
     "output_type": "stream",
     "text": [
      "lables [3]\n",
      "C:\\Users\\Sai Krishna\\Desktop\\Bird-Species-Classification-main 2\\Bird-Species-Classification-main\\archive\\train\\Song Sparrow\\111667-10.wav\n",
      "C:\\Users\\Sai Krishna\\Desktop\\Bird-Species-Classification-main 2\\Bird-Species-Classification-main\\archive\\train\\Song Sparrow\\111667-10.wav\n"
     ]
    },
    {
     "name": "stderr",
     "output_type": "stream",
     "text": [
      " 12%|█████████▌                                                                       | 96/814 [00:42<04:33,  2.62it/s]"
     ]
    },
    {
     "name": "stdout",
     "output_type": "stream",
     "text": [
      "lables [0]\n",
      "C:\\Users\\Sai Krishna\\Desktop\\Bird-Species-Classification-main 2\\Bird-Species-Classification-main\\archive\\train\\Northern Cardinal\\382878-6.wav\n",
      "C:\\Users\\Sai Krishna\\Desktop\\Bird-Species-Classification-main 2\\Bird-Species-Classification-main\\archive\\train\\Northern Cardinal\\382878-6.wav\n"
     ]
    },
    {
     "name": "stderr",
     "output_type": "stream",
     "text": [
      " 12%|█████████▋                                                                       | 97/814 [00:42<04:45,  2.51it/s]"
     ]
    },
    {
     "name": "stdout",
     "output_type": "stream",
     "text": [
      "lables [2]\n",
      "C:\\Users\\Sai Krishna\\Desktop\\Bird-Species-Classification-main 2\\Bird-Species-Classification-main\\archive\\train\\Northern Mockingbird\\321945-1.wav\n",
      "C:\\Users\\Sai Krishna\\Desktop\\Bird-Species-Classification-main 2\\Bird-Species-Classification-main\\archive\\train\\Northern Mockingbird\\321945-1.wav\n"
     ]
    },
    {
     "name": "stderr",
     "output_type": "stream",
     "text": [
      " 12%|█████████▊                                                                       | 98/814 [00:43<04:50,  2.46it/s]"
     ]
    },
    {
     "name": "stdout",
     "output_type": "stream",
     "text": [
      "lables [1]\n",
      "C:\\Users\\Sai Krishna\\Desktop\\Bird-Species-Classification-main 2\\Bird-Species-Classification-main\\archive\\train\\American Robin\\375006-12.wav\n",
      "C:\\Users\\Sai Krishna\\Desktop\\Bird-Species-Classification-main 2\\Bird-Species-Classification-main\\archive\\train\\American Robin\\375006-12.wav\n"
     ]
    },
    {
     "name": "stderr",
     "output_type": "stream",
     "text": [
      " 12%|█████████▊                                                                       | 99/814 [00:43<04:55,  2.42it/s]"
     ]
    },
    {
     "name": "stdout",
     "output_type": "stream",
     "text": [
      "lables [3]\n",
      "C:\\Users\\Sai Krishna\\Desktop\\Bird-Species-Classification-main 2\\Bird-Species-Classification-main\\archive\\train\\Northern Cardinal\\466178-7.wav\n",
      "C:\\Users\\Sai Krishna\\Desktop\\Bird-Species-Classification-main 2\\Bird-Species-Classification-main\\archive\\train\\Northern Cardinal\\466178-7.wav\n"
     ]
    },
    {
     "name": "stderr",
     "output_type": "stream",
     "text": [
      " 12%|█████████▊                                                                      | 100/814 [00:44<04:56,  2.41it/s]"
     ]
    },
    {
     "name": "stdout",
     "output_type": "stream",
     "text": [
      "lables [2]\n",
      "C:\\Users\\Sai Krishna\\Desktop\\Bird-Species-Classification-main 2\\Bird-Species-Classification-main\\archive\\train\\Northern Mockingbird\\21732-0.wav\n",
      "C:\\Users\\Sai Krishna\\Desktop\\Bird-Species-Classification-main 2\\Bird-Species-Classification-main\\archive\\train\\Northern Mockingbird\\21732-0.wav\n"
     ]
    },
    {
     "name": "stderr",
     "output_type": "stream",
     "text": [
      " 12%|█████████▉                                                                      | 101/814 [00:44<04:57,  2.39it/s]"
     ]
    },
    {
     "name": "stdout",
     "output_type": "stream",
     "text": [
      "lables [1]\n",
      "C:\\Users\\Sai Krishna\\Desktop\\Bird-Species-Classification-main 2\\Bird-Species-Classification-main\\archive\\train\\Northern Mockingbird\\321941-3.wav\n",
      "C:\\Users\\Sai Krishna\\Desktop\\Bird-Species-Classification-main 2\\Bird-Species-Classification-main\\archive\\train\\Northern Mockingbird\\321941-3.wav\n"
     ]
    },
    {
     "name": "stderr",
     "output_type": "stream",
     "text": [
      " 13%|██████████                                                                      | 102/814 [00:45<04:59,  2.37it/s]"
     ]
    },
    {
     "name": "stdout",
     "output_type": "stream",
     "text": [
      "lables [1]\n",
      "C:\\Users\\Sai Krishna\\Desktop\\Bird-Species-Classification-main 2\\Bird-Species-Classification-main\\archive\\train\\American Robin\\322572-1.wav\n",
      "C:\\Users\\Sai Krishna\\Desktop\\Bird-Species-Classification-main 2\\Bird-Species-Classification-main\\archive\\train\\American Robin\\322572-1.wav\n"
     ]
    },
    {
     "name": "stderr",
     "output_type": "stream",
     "text": [
      " 13%|██████████                                                                      | 103/814 [00:45<04:59,  2.38it/s]"
     ]
    },
    {
     "name": "stdout",
     "output_type": "stream",
     "text": [
      "lables [3]\n",
      "C:\\Users\\Sai Krishna\\Desktop\\Bird-Species-Classification-main 2\\Bird-Species-Classification-main\\archive\\train\\Bewick's Wren\\217847-0.wav\n",
      "C:\\Users\\Sai Krishna\\Desktop\\Bird-Species-Classification-main 2\\Bird-Species-Classification-main\\archive\\train\\Bewick's Wren\\217847-0.wav\n"
     ]
    },
    {
     "name": "stderr",
     "output_type": "stream",
     "text": [
      " 13%|██████████▏                                                                     | 104/814 [00:45<05:00,  2.37it/s]"
     ]
    },
    {
     "name": "stdout",
     "output_type": "stream",
     "text": [
      "lables [4]\n",
      "C:\\Users\\Sai Krishna\\Desktop\\Bird-Species-Classification-main 2\\Bird-Species-Classification-main\\archive\\train\\American Robin\\177384-12.wav\n",
      "C:\\Users\\Sai Krishna\\Desktop\\Bird-Species-Classification-main 2\\Bird-Species-Classification-main\\archive\\train\\American Robin\\177384-12.wav\n"
     ]
    },
    {
     "name": "stderr",
     "output_type": "stream",
     "text": [
      " 13%|██████████▎                                                                     | 105/814 [00:46<04:44,  2.49it/s]"
     ]
    },
    {
     "name": "stdout",
     "output_type": "stream",
     "text": [
      "lables [3]\n",
      "C:\\Users\\Sai Krishna\\Desktop\\Bird-Species-Classification-main 2\\Bird-Species-Classification-main\\archive\\train\\Northern Cardinal\\412668-6.wav\n",
      "C:\\Users\\Sai Krishna\\Desktop\\Bird-Species-Classification-main 2\\Bird-Species-Classification-main\\archive\\train\\Northern Cardinal\\412668-6.wav\n"
     ]
    },
    {
     "name": "stderr",
     "output_type": "stream",
     "text": [
      " 13%|██████████▍                                                                     | 106/814 [00:46<04:33,  2.59it/s]"
     ]
    },
    {
     "name": "stdout",
     "output_type": "stream",
     "text": [
      "lables [2]\n",
      "C:\\Users\\Sai Krishna\\Desktop\\Bird-Species-Classification-main 2\\Bird-Species-Classification-main\\archive\\train\\Northern Mockingbird\\319143-9.wav\n",
      "C:\\Users\\Sai Krishna\\Desktop\\Bird-Species-Classification-main 2\\Bird-Species-Classification-main\\archive\\train\\Northern Mockingbird\\319143-9.wav\n"
     ]
    },
    {
     "name": "stderr",
     "output_type": "stream",
     "text": [
      " 13%|██████████▌                                                                     | 107/814 [00:46<04:23,  2.69it/s]"
     ]
    },
    {
     "name": "stdout",
     "output_type": "stream",
     "text": [
      "lables [1]\n",
      "C:\\Users\\Sai Krishna\\Desktop\\Bird-Species-Classification-main 2\\Bird-Species-Classification-main\\archive\\train\\Song Sparrow\\111650-3.wav\n",
      "C:\\Users\\Sai Krishna\\Desktop\\Bird-Species-Classification-main 2\\Bird-Species-Classification-main\\archive\\train\\Song Sparrow\\111650-3.wav\n"
     ]
    },
    {
     "name": "stderr",
     "output_type": "stream",
     "text": [
      " 13%|██████████▌                                                                     | 108/814 [00:47<04:16,  2.75it/s]"
     ]
    },
    {
     "name": "stdout",
     "output_type": "stream",
     "text": [
      "lables [0]\n",
      "C:\\Users\\Sai Krishna\\Desktop\\Bird-Species-Classification-main 2\\Bird-Species-Classification-main\\archive\\train\\Northern Mockingbird\\321927-4.wav\n",
      "C:\\Users\\Sai Krishna\\Desktop\\Bird-Species-Classification-main 2\\Bird-Species-Classification-main\\archive\\train\\Northern Mockingbird\\321927-4.wav\n"
     ]
    },
    {
     "name": "stderr",
     "output_type": "stream",
     "text": [
      " 13%|██████████▋                                                                     | 109/814 [00:47<04:14,  2.77it/s]"
     ]
    },
    {
     "name": "stdout",
     "output_type": "stream",
     "text": [
      "lables [1]\n",
      "C:\\Users\\Sai Krishna\\Desktop\\Bird-Species-Classification-main 2\\Bird-Species-Classification-main\\archive\\train\\Northern Cardinal\\317266-5.wav\n",
      "C:\\Users\\Sai Krishna\\Desktop\\Bird-Species-Classification-main 2\\Bird-Species-Classification-main\\archive\\train\\Northern Cardinal\\317266-5.wav\n"
     ]
    },
    {
     "name": "stderr",
     "output_type": "stream",
     "text": [
      " 14%|██████████▊                                                                     | 110/814 [00:47<04:13,  2.78it/s]"
     ]
    },
    {
     "name": "stdout",
     "output_type": "stream",
     "text": [
      "lables [2]\n",
      "C:\\Users\\Sai Krishna\\Desktop\\Bird-Species-Classification-main 2\\Bird-Species-Classification-main\\archive\\train\\Northern Mockingbird\\469896-10.wav\n",
      "C:\\Users\\Sai Krishna\\Desktop\\Bird-Species-Classification-main 2\\Bird-Species-Classification-main\\archive\\train\\Northern Mockingbird\\469896-10.wav\n"
     ]
    },
    {
     "name": "stderr",
     "output_type": "stream",
     "text": [
      " 14%|██████████▉                                                                     | 111/814 [00:48<04:15,  2.75it/s]"
     ]
    },
    {
     "name": "stdout",
     "output_type": "stream",
     "text": [
      "lables [1]\n",
      "C:\\Users\\Sai Krishna\\Desktop\\Bird-Species-Classification-main 2\\Bird-Species-Classification-main\\archive\\train\\Northern Cardinal\\313423-5.wav\n",
      "C:\\Users\\Sai Krishna\\Desktop\\Bird-Species-Classification-main 2\\Bird-Species-Classification-main\\archive\\train\\Northern Cardinal\\313423-5.wav\n"
     ]
    },
    {
     "name": "stderr",
     "output_type": "stream",
     "text": [
      " 14%|███████████                                                                     | 112/814 [00:48<04:17,  2.73it/s]"
     ]
    },
    {
     "name": "stdout",
     "output_type": "stream",
     "text": [
      "lables [2]\n",
      "C:\\Users\\Sai Krishna\\Desktop\\Bird-Species-Classification-main 2\\Bird-Species-Classification-main\\archive\\train\\Bewick's Wren\\451370-8.wav\n",
      "C:\\Users\\Sai Krishna\\Desktop\\Bird-Species-Classification-main 2\\Bird-Species-Classification-main\\archive\\train\\Bewick's Wren\\451370-8.wav\n"
     ]
    },
    {
     "name": "stderr",
     "output_type": "stream",
     "text": [
      " 14%|███████████                                                                     | 113/814 [00:49<04:18,  2.72it/s]"
     ]
    },
    {
     "name": "stdout",
     "output_type": "stream",
     "text": [
      "lables [4]\n",
      "C:\\Users\\Sai Krishna\\Desktop\\Bird-Species-Classification-main 2\\Bird-Species-Classification-main\\archive\\train\\American Robin\\14442-2.wav\n",
      "C:\\Users\\Sai Krishna\\Desktop\\Bird-Species-Classification-main 2\\Bird-Species-Classification-main\\archive\\train\\American Robin\\14442-2.wav\n"
     ]
    },
    {
     "name": "stderr",
     "output_type": "stream",
     "text": [
      " 14%|███████████▏                                                                    | 114/814 [00:49<04:20,  2.69it/s]"
     ]
    },
    {
     "name": "stdout",
     "output_type": "stream",
     "text": [
      "lables [3]\n",
      "C:\\Users\\Sai Krishna\\Desktop\\Bird-Species-Classification-main 2\\Bird-Species-Classification-main\\archive\\train\\Northern Mockingbird\\416049-4.wav\n",
      "C:\\Users\\Sai Krishna\\Desktop\\Bird-Species-Classification-main 2\\Bird-Species-Classification-main\\archive\\train\\Northern Mockingbird\\416049-4.wav\n"
     ]
    },
    {
     "name": "stderr",
     "output_type": "stream",
     "text": [
      " 14%|███████████▎                                                                    | 115/814 [00:49<04:20,  2.68it/s]"
     ]
    },
    {
     "name": "stdout",
     "output_type": "stream",
     "text": [
      "lables [1]\n",
      "C:\\Users\\Sai Krishna\\Desktop\\Bird-Species-Classification-main 2\\Bird-Species-Classification-main\\archive\\train\\Northern Mockingbird\\545900-8.wav\n",
      "C:\\Users\\Sai Krishna\\Desktop\\Bird-Species-Classification-main 2\\Bird-Species-Classification-main\\archive\\train\\Northern Mockingbird\\545900-8.wav\n"
     ]
    },
    {
     "name": "stderr",
     "output_type": "stream",
     "text": [
      " 14%|███████████▍                                                                    | 116/814 [00:50<04:37,  2.51it/s]"
     ]
    },
    {
     "name": "stdout",
     "output_type": "stream",
     "text": [
      "lables [1]\n",
      "C:\\Users\\Sai Krishna\\Desktop\\Bird-Species-Classification-main 2\\Bird-Species-Classification-main\\archive\\train\\American Robin\\322887-3.wav\n",
      "C:\\Users\\Sai Krishna\\Desktop\\Bird-Species-Classification-main 2\\Bird-Species-Classification-main\\archive\\train\\American Robin\\322887-3.wav\n"
     ]
    },
    {
     "name": "stderr",
     "output_type": "stream",
     "text": [
      " 14%|███████████▍                                                                    | 117/814 [00:50<04:48,  2.42it/s]"
     ]
    },
    {
     "name": "stdout",
     "output_type": "stream",
     "text": [
      "lables [3]\n",
      "C:\\Users\\Sai Krishna\\Desktop\\Bird-Species-Classification-main 2\\Bird-Species-Classification-main\\archive\\train\\Bewick's Wren\\269166-4.wav\n",
      "C:\\Users\\Sai Krishna\\Desktop\\Bird-Species-Classification-main 2\\Bird-Species-Classification-main\\archive\\train\\Bewick's Wren\\269166-4.wav\n"
     ]
    },
    {
     "name": "stderr",
     "output_type": "stream",
     "text": [
      " 14%|███████████▌                                                                    | 118/814 [00:51<04:51,  2.38it/s]"
     ]
    },
    {
     "name": "stdout",
     "output_type": "stream",
     "text": [
      "lables [3]\n",
      "C:\\Users\\Sai Krishna\\Desktop\\Bird-Species-Classification-main 2\\Bird-Species-Classification-main\\archive\\train\\American Robin\\469605-1.wav\n",
      "C:\\Users\\Sai Krishna\\Desktop\\Bird-Species-Classification-main 2\\Bird-Species-Classification-main\\archive\\train\\American Robin\\469605-1.wav\n"
     ]
    },
    {
     "name": "stderr",
     "output_type": "stream",
     "text": [
      " 15%|███████████▋                                                                    | 119/814 [00:51<04:54,  2.36it/s]"
     ]
    },
    {
     "name": "stdout",
     "output_type": "stream",
     "text": [
      "lables [3]\n",
      "C:\\Users\\Sai Krishna\\Desktop\\Bird-Species-Classification-main 2\\Bird-Species-Classification-main\\archive\\train\\Northern Cardinal\\82113-10.wav\n",
      "C:\\Users\\Sai Krishna\\Desktop\\Bird-Species-Classification-main 2\\Bird-Species-Classification-main\\archive\\train\\Northern Cardinal\\82113-10.wav\n"
     ]
    },
    {
     "name": "stderr",
     "output_type": "stream",
     "text": [
      " 15%|███████████▊                                                                    | 120/814 [00:52<04:56,  2.34it/s]"
     ]
    },
    {
     "name": "stdout",
     "output_type": "stream",
     "text": [
      "lables [2]\n",
      "C:\\Users\\Sai Krishna\\Desktop\\Bird-Species-Classification-main 2\\Bird-Species-Classification-main\\archive\\train\\American Robin\\205803-3.wav\n",
      "C:\\Users\\Sai Krishna\\Desktop\\Bird-Species-Classification-main 2\\Bird-Species-Classification-main\\archive\\train\\American Robin\\205803-3.wav\n"
     ]
    },
    {
     "name": "stderr",
     "output_type": "stream",
     "text": [
      " 15%|███████████▉                                                                    | 121/814 [00:52<04:57,  2.33it/s]"
     ]
    },
    {
     "name": "stdout",
     "output_type": "stream",
     "text": [
      "lables [3]\n",
      "C:\\Users\\Sai Krishna\\Desktop\\Bird-Species-Classification-main 2\\Bird-Species-Classification-main\\archive\\train\\American Robin\\351861-10.wav\n",
      "C:\\Users\\Sai Krishna\\Desktop\\Bird-Species-Classification-main 2\\Bird-Species-Classification-main\\archive\\train\\American Robin\\351861-10.wav\n"
     ]
    },
    {
     "name": "stderr",
     "output_type": "stream",
     "text": [
      " 15%|███████████▉                                                                    | 122/814 [00:52<04:59,  2.31it/s]"
     ]
    },
    {
     "name": "stdout",
     "output_type": "stream",
     "text": [
      "lables [4]\n",
      "C:\\Users\\Sai Krishna\\Desktop\\Bird-Species-Classification-main 2\\Bird-Species-Classification-main\\archive\\train\\Song Sparrow\\469877-0.wav\n",
      "C:\\Users\\Sai Krishna\\Desktop\\Bird-Species-Classification-main 2\\Bird-Species-Classification-main\\archive\\train\\Song Sparrow\\469877-0.wav\n"
     ]
    },
    {
     "name": "stderr",
     "output_type": "stream",
     "text": [
      " 15%|████████████                                                                    | 123/814 [00:53<04:57,  2.32it/s]"
     ]
    },
    {
     "name": "stdout",
     "output_type": "stream",
     "text": [
      "lables [0]\n",
      "C:\\Users\\Sai Krishna\\Desktop\\Bird-Species-Classification-main 2\\Bird-Species-Classification-main\\archive\\train\\Northern Mockingbird\\406012-9.wav\n",
      "C:\\Users\\Sai Krishna\\Desktop\\Bird-Species-Classification-main 2\\Bird-Species-Classification-main\\archive\\train\\Northern Mockingbird\\406012-9.wav\n"
     ]
    },
    {
     "name": "stderr",
     "output_type": "stream",
     "text": [
      " 15%|████████████▏                                                                   | 124/814 [00:53<04:56,  2.32it/s]"
     ]
    },
    {
     "name": "stdout",
     "output_type": "stream",
     "text": [
      "lables [1]\n",
      "C:\\Users\\Sai Krishna\\Desktop\\Bird-Species-Classification-main 2\\Bird-Species-Classification-main\\archive\\train\\Song Sparrow\\309650-1.wav\n",
      "C:\\Users\\Sai Krishna\\Desktop\\Bird-Species-Classification-main 2\\Bird-Species-Classification-main\\archive\\train\\Song Sparrow\\309650-1.wav\n"
     ]
    },
    {
     "name": "stderr",
     "output_type": "stream",
     "text": [
      " 15%|████████████▎                                                                   | 125/814 [00:54<04:56,  2.32it/s]"
     ]
    },
    {
     "name": "stdout",
     "output_type": "stream",
     "text": [
      "lables [0]\n",
      "C:\\Users\\Sai Krishna\\Desktop\\Bird-Species-Classification-main 2\\Bird-Species-Classification-main\\archive\\train\\American Robin\\563197-5.wav\n",
      "C:\\Users\\Sai Krishna\\Desktop\\Bird-Species-Classification-main 2\\Bird-Species-Classification-main\\archive\\train\\American Robin\\563197-5.wav\n"
     ]
    },
    {
     "name": "stderr",
     "output_type": "stream",
     "text": [
      " 15%|████████████▍                                                                   | 126/814 [00:54<04:55,  2.33it/s]"
     ]
    },
    {
     "name": "stdout",
     "output_type": "stream",
     "text": [
      "lables [2]\n",
      "C:\\Users\\Sai Krishna\\Desktop\\Bird-Species-Classification-main 2\\Bird-Species-Classification-main\\archive\\train\\American Robin\\322821-13.wav\n",
      "C:\\Users\\Sai Krishna\\Desktop\\Bird-Species-Classification-main 2\\Bird-Species-Classification-main\\archive\\train\\American Robin\\322821-13.wav\n"
     ]
    },
    {
     "name": "stderr",
     "output_type": "stream",
     "text": [
      " 16%|████████████▍                                                                   | 127/814 [00:55<04:56,  2.32it/s]"
     ]
    },
    {
     "name": "stdout",
     "output_type": "stream",
     "text": [
      "lables [0]\n",
      "C:\\Users\\Sai Krishna\\Desktop\\Bird-Species-Classification-main 2\\Bird-Species-Classification-main\\archive\\train\\Song Sparrow\\423504-1.wav\n",
      "C:\\Users\\Sai Krishna\\Desktop\\Bird-Species-Classification-main 2\\Bird-Species-Classification-main\\archive\\train\\Song Sparrow\\423504-1.wav\n"
     ]
    },
    {
     "name": "stderr",
     "output_type": "stream",
     "text": [
      " 16%|████████████▌                                                                   | 128/814 [00:55<04:52,  2.35it/s]"
     ]
    },
    {
     "name": "stdout",
     "output_type": "stream",
     "text": [
      "lables [0]\n",
      "C:\\Users\\Sai Krishna\\Desktop\\Bird-Species-Classification-main 2\\Bird-Species-Classification-main\\archive\\train\\Song Sparrow\\483978-4.wav\n",
      "C:\\Users\\Sai Krishna\\Desktop\\Bird-Species-Classification-main 2\\Bird-Species-Classification-main\\archive\\train\\Song Sparrow\\483978-4.wav\n"
     ]
    },
    {
     "name": "stderr",
     "output_type": "stream",
     "text": [
      " 16%|████████████▋                                                                   | 129/814 [00:55<04:33,  2.51it/s]"
     ]
    },
    {
     "name": "stdout",
     "output_type": "stream",
     "text": [
      "lables [0]\n",
      "C:\\Users\\Sai Krishna\\Desktop\\Bird-Species-Classification-main 2\\Bird-Species-Classification-main\\archive\\train\\American Robin\\309928-5.wav\n",
      "C:\\Users\\Sai Krishna\\Desktop\\Bird-Species-Classification-main 2\\Bird-Species-Classification-main\\archive\\train\\American Robin\\309928-5.wav\n"
     ]
    },
    {
     "name": "stderr",
     "output_type": "stream",
     "text": [
      " 16%|████████████▊                                                                   | 130/814 [00:56<04:23,  2.59it/s]"
     ]
    },
    {
     "name": "stdout",
     "output_type": "stream",
     "text": [
      "lables [3]\n",
      "C:\\Users\\Sai Krishna\\Desktop\\Bird-Species-Classification-main 2\\Bird-Species-Classification-main\\archive\\train\\Song Sparrow\\111671-8.wav\n",
      "C:\\Users\\Sai Krishna\\Desktop\\Bird-Species-Classification-main 2\\Bird-Species-Classification-main\\archive\\train\\Song Sparrow\\111671-8.wav\n"
     ]
    },
    {
     "name": "stderr",
     "output_type": "stream",
     "text": [
      " 16%|████████████▊                                                                   | 131/814 [00:56<04:15,  2.68it/s]"
     ]
    },
    {
     "name": "stdout",
     "output_type": "stream",
     "text": [
      "lables [0]\n",
      "C:\\Users\\Sai Krishna\\Desktop\\Bird-Species-Classification-main 2\\Bird-Species-Classification-main\\archive\\train\\American Robin\\309318-10.wav\n",
      "C:\\Users\\Sai Krishna\\Desktop\\Bird-Species-Classification-main 2\\Bird-Species-Classification-main\\archive\\train\\American Robin\\309318-10.wav\n"
     ]
    },
    {
     "name": "stderr",
     "output_type": "stream",
     "text": [
      " 16%|████████████▉                                                                   | 132/814 [00:56<04:11,  2.71it/s]"
     ]
    },
    {
     "name": "stdout",
     "output_type": "stream",
     "text": [
      "lables [3]\n",
      "C:\\Users\\Sai Krishna\\Desktop\\Bird-Species-Classification-main 2\\Bird-Species-Classification-main\\archive\\train\\Bewick's Wren\\351038-4.wav\n",
      "C:\\Users\\Sai Krishna\\Desktop\\Bird-Species-Classification-main 2\\Bird-Species-Classification-main\\archive\\train\\Bewick's Wren\\351038-4.wav\n"
     ]
    },
    {
     "name": "stderr",
     "output_type": "stream",
     "text": [
      " 16%|█████████████                                                                   | 133/814 [00:57<04:05,  2.77it/s]"
     ]
    },
    {
     "name": "stdout",
     "output_type": "stream",
     "text": [
      "lables [4]\n",
      "C:\\Users\\Sai Krishna\\Desktop\\Bird-Species-Classification-main 2\\Bird-Species-Classification-main\\archive\\train\\American Robin\\563197-0.wav\n",
      "C:\\Users\\Sai Krishna\\Desktop\\Bird-Species-Classification-main 2\\Bird-Species-Classification-main\\archive\\train\\American Robin\\563197-0.wav\n"
     ]
    },
    {
     "name": "stderr",
     "output_type": "stream",
     "text": [
      " 16%|█████████████▏                                                                  | 134/814 [00:57<04:05,  2.77it/s]"
     ]
    },
    {
     "name": "stdout",
     "output_type": "stream",
     "text": [
      "lables [3]\n",
      "C:\\Users\\Sai Krishna\\Desktop\\Bird-Species-Classification-main 2\\Bird-Species-Classification-main\\archive\\train\\Northern Mockingbird\\351831-5.wav\n",
      "C:\\Users\\Sai Krishna\\Desktop\\Bird-Species-Classification-main 2\\Bird-Species-Classification-main\\archive\\train\\Northern Mockingbird\\351831-5.wav\n"
     ]
    },
    {
     "name": "stderr",
     "output_type": "stream",
     "text": [
      " 17%|█████████████▎                                                                  | 135/814 [00:57<04:04,  2.77it/s]"
     ]
    },
    {
     "name": "stdout",
     "output_type": "stream",
     "text": [
      "lables [1]\n",
      "C:\\Users\\Sai Krishna\\Desktop\\Bird-Species-Classification-main 2\\Bird-Species-Classification-main\\archive\\train\\Northern Cardinal\\367706-3.wav\n",
      "C:\\Users\\Sai Krishna\\Desktop\\Bird-Species-Classification-main 2\\Bird-Species-Classification-main\\archive\\train\\Northern Cardinal\\367706-3.wav\n"
     ]
    },
    {
     "name": "stderr",
     "output_type": "stream",
     "text": [
      " 17%|█████████████▎                                                                  | 136/814 [00:58<04:04,  2.77it/s]"
     ]
    },
    {
     "name": "stdout",
     "output_type": "stream",
     "text": [
      "lables [2]\n",
      "C:\\Users\\Sai Krishna\\Desktop\\Bird-Species-Classification-main 2\\Bird-Species-Classification-main\\archive\\train\\Northern Mockingbird\\469351-4.wav\n",
      "C:\\Users\\Sai Krishna\\Desktop\\Bird-Species-Classification-main 2\\Bird-Species-Classification-main\\archive\\train\\Northern Mockingbird\\469351-4.wav\n"
     ]
    },
    {
     "name": "stderr",
     "output_type": "stream",
     "text": [
      " 17%|█████████████▍                                                                  | 137/814 [00:58<04:08,  2.72it/s]"
     ]
    },
    {
     "name": "stdout",
     "output_type": "stream",
     "text": [
      "lables [3]\n",
      "C:\\Users\\Sai Krishna\\Desktop\\Bird-Species-Classification-main 2\\Bird-Species-Classification-main\\archive\\train\\Northern Cardinal\\363861-7.wav\n",
      "C:\\Users\\Sai Krishna\\Desktop\\Bird-Species-Classification-main 2\\Bird-Species-Classification-main\\archive\\train\\Northern Cardinal\\363861-7.wav\n"
     ]
    },
    {
     "name": "stderr",
     "output_type": "stream",
     "text": [
      " 17%|█████████████▌                                                                  | 138/814 [00:59<04:08,  2.72it/s]"
     ]
    },
    {
     "name": "stdout",
     "output_type": "stream",
     "text": [
      "lables [2]\n",
      "C:\\Users\\Sai Krishna\\Desktop\\Bird-Species-Classification-main 2\\Bird-Species-Classification-main\\archive\\train\\Song Sparrow\\490351-1.wav\n",
      "C:\\Users\\Sai Krishna\\Desktop\\Bird-Species-Classification-main 2\\Bird-Species-Classification-main\\archive\\train\\Song Sparrow\\490351-1.wav\n"
     ]
    },
    {
     "name": "stderr",
     "output_type": "stream",
     "text": [
      " 17%|█████████████▋                                                                  | 139/814 [00:59<04:10,  2.69it/s]"
     ]
    },
    {
     "name": "stdout",
     "output_type": "stream",
     "text": [
      "lables [0]\n",
      "C:\\Users\\Sai Krishna\\Desktop\\Bird-Species-Classification-main 2\\Bird-Species-Classification-main\\archive\\train\\Northern Cardinal\\564312-5.wav\n",
      "C:\\Users\\Sai Krishna\\Desktop\\Bird-Species-Classification-main 2\\Bird-Species-Classification-main\\archive\\train\\Northern Cardinal\\564312-5.wav\n"
     ]
    },
    {
     "name": "stderr",
     "output_type": "stream",
     "text": [
      " 17%|█████████████▊                                                                  | 140/814 [00:59<04:26,  2.53it/s]"
     ]
    },
    {
     "name": "stdout",
     "output_type": "stream",
     "text": [
      "lables [2]\n",
      "C:\\Users\\Sai Krishna\\Desktop\\Bird-Species-Classification-main 2\\Bird-Species-Classification-main\\archive\\train\\Song Sparrow\\551290-0.wav\n",
      "C:\\Users\\Sai Krishna\\Desktop\\Bird-Species-Classification-main 2\\Bird-Species-Classification-main\\archive\\train\\Song Sparrow\\551290-0.wav\n"
     ]
    },
    {
     "name": "stderr",
     "output_type": "stream",
     "text": [
      " 17%|█████████████▊                                                                  | 141/814 [01:00<04:33,  2.46it/s]"
     ]
    },
    {
     "name": "stdout",
     "output_type": "stream",
     "text": [
      "lables [0]\n",
      "C:\\Users\\Sai Krishna\\Desktop\\Bird-Species-Classification-main 2\\Bird-Species-Classification-main\\archive\\train\\American Robin\\564319-14.wav\n",
      "C:\\Users\\Sai Krishna\\Desktop\\Bird-Species-Classification-main 2\\Bird-Species-Classification-main\\archive\\train\\American Robin\\564319-14.wav\n"
     ]
    },
    {
     "name": "stderr",
     "output_type": "stream",
     "text": [
      " 17%|█████████████▉                                                                  | 142/814 [01:00<04:39,  2.40it/s]"
     ]
    },
    {
     "name": "stdout",
     "output_type": "stream",
     "text": [
      "lables [3]\n",
      "C:\\Users\\Sai Krishna\\Desktop\\Bird-Species-Classification-main 2\\Bird-Species-Classification-main\\archive\\train\\Song Sparrow\\125713-12.wav\n",
      "C:\\Users\\Sai Krishna\\Desktop\\Bird-Species-Classification-main 2\\Bird-Species-Classification-main\\archive\\train\\Song Sparrow\\125713-12.wav\n"
     ]
    },
    {
     "name": "stderr",
     "output_type": "stream",
     "text": [
      " 18%|██████████████                                                                  | 143/814 [01:01<04:43,  2.37it/s]"
     ]
    },
    {
     "name": "stdout",
     "output_type": "stream",
     "text": [
      "lables [0]\n",
      "C:\\Users\\Sai Krishna\\Desktop\\Bird-Species-Classification-main 2\\Bird-Species-Classification-main\\archive\\train\\Song Sparrow\\408571-12.wav\n",
      "C:\\Users\\Sai Krishna\\Desktop\\Bird-Species-Classification-main 2\\Bird-Species-Classification-main\\archive\\train\\Song Sparrow\\408571-12.wav\n"
     ]
    },
    {
     "name": "stderr",
     "output_type": "stream",
     "text": [
      " 18%|██████████████▏                                                                 | 144/814 [01:01<04:45,  2.35it/s]"
     ]
    },
    {
     "name": "stdout",
     "output_type": "stream",
     "text": [
      "lables [0]\n",
      "C:\\Users\\Sai Krishna\\Desktop\\Bird-Species-Classification-main 2\\Bird-Species-Classification-main\\archive\\train\\Song Sparrow\\125721-9.wav\n",
      "C:\\Users\\Sai Krishna\\Desktop\\Bird-Species-Classification-main 2\\Bird-Species-Classification-main\\archive\\train\\Song Sparrow\\125721-9.wav\n"
     ]
    },
    {
     "name": "stderr",
     "output_type": "stream",
     "text": [
      " 18%|██████████████▎                                                                 | 145/814 [01:02<04:46,  2.33it/s]"
     ]
    },
    {
     "name": "stdout",
     "output_type": "stream",
     "text": [
      "lables [0]\n",
      "C:\\Users\\Sai Krishna\\Desktop\\Bird-Species-Classification-main 2\\Bird-Species-Classification-main\\archive\\train\\Bewick's Wren\\306680-1.wav\n",
      "C:\\Users\\Sai Krishna\\Desktop\\Bird-Species-Classification-main 2\\Bird-Species-Classification-main\\archive\\train\\Bewick's Wren\\306680-1.wav\n"
     ]
    },
    {
     "name": "stderr",
     "output_type": "stream",
     "text": [
      " 18%|██████████████▎                                                                 | 146/814 [01:02<04:45,  2.34it/s]"
     ]
    },
    {
     "name": "stdout",
     "output_type": "stream",
     "text": [
      "lables [4]\n",
      "C:\\Users\\Sai Krishna\\Desktop\\Bird-Species-Classification-main 2\\Bird-Species-Classification-main\\archive\\train\\Song Sparrow\\425799-8.wav\n",
      "C:\\Users\\Sai Krishna\\Desktop\\Bird-Species-Classification-main 2\\Bird-Species-Classification-main\\archive\\train\\Song Sparrow\\425799-8.wav\n"
     ]
    },
    {
     "name": "stderr",
     "output_type": "stream",
     "text": [
      " 18%|██████████████▍                                                                 | 147/814 [01:02<04:43,  2.35it/s]"
     ]
    },
    {
     "name": "stdout",
     "output_type": "stream",
     "text": [
      "lables [0]\n",
      "C:\\Users\\Sai Krishna\\Desktop\\Bird-Species-Classification-main 2\\Bird-Species-Classification-main\\archive\\train\\Song Sparrow\\408810-1.wav\n",
      "C:\\Users\\Sai Krishna\\Desktop\\Bird-Species-Classification-main 2\\Bird-Species-Classification-main\\archive\\train\\Song Sparrow\\408810-1.wav\n"
     ]
    },
    {
     "name": "stderr",
     "output_type": "stream",
     "text": [
      " 18%|██████████████▌                                                                 | 148/814 [01:03<04:43,  2.35it/s]"
     ]
    },
    {
     "name": "stdout",
     "output_type": "stream",
     "text": [
      "lables [0]\n",
      "C:\\Users\\Sai Krishna\\Desktop\\Bird-Species-Classification-main 2\\Bird-Species-Classification-main\\archive\\train\\Song Sparrow\\551290-3.wav\n",
      "C:\\Users\\Sai Krishna\\Desktop\\Bird-Species-Classification-main 2\\Bird-Species-Classification-main\\archive\\train\\Song Sparrow\\551290-3.wav\n"
     ]
    },
    {
     "name": "stderr",
     "output_type": "stream",
     "text": [
      " 18%|██████████████▋                                                                 | 149/814 [01:03<04:45,  2.33it/s]"
     ]
    },
    {
     "name": "stdout",
     "output_type": "stream",
     "text": [
      "lables [0]\n",
      "C:\\Users\\Sai Krishna\\Desktop\\Bird-Species-Classification-main 2\\Bird-Species-Classification-main\\archive\\train\\Northern Mockingbird\\269503-4.wav\n",
      "C:\\Users\\Sai Krishna\\Desktop\\Bird-Species-Classification-main 2\\Bird-Species-Classification-main\\archive\\train\\Northern Mockingbird\\269503-4.wav\n"
     ]
    },
    {
     "name": "stderr",
     "output_type": "stream",
     "text": [
      " 18%|██████████████▋                                                                 | 150/814 [01:04<04:44,  2.33it/s]"
     ]
    },
    {
     "name": "stdout",
     "output_type": "stream",
     "text": [
      "lables [1]\n",
      "C:\\Users\\Sai Krishna\\Desktop\\Bird-Species-Classification-main 2\\Bird-Species-Classification-main\\archive\\train\\Northern Cardinal\\18344-7.wav\n",
      "C:\\Users\\Sai Krishna\\Desktop\\Bird-Species-Classification-main 2\\Bird-Species-Classification-main\\archive\\train\\Northern Cardinal\\18344-7.wav\n"
     ]
    },
    {
     "name": "stderr",
     "output_type": "stream",
     "text": [
      " 19%|██████████████▊                                                                 | 151/814 [01:04<04:45,  2.33it/s]"
     ]
    },
    {
     "name": "stdout",
     "output_type": "stream",
     "text": [
      "lables [2]\n",
      "C:\\Users\\Sai Krishna\\Desktop\\Bird-Species-Classification-main 2\\Bird-Species-Classification-main\\archive\\train\\Northern Mockingbird\\477371-5.wav\n",
      "C:\\Users\\Sai Krishna\\Desktop\\Bird-Species-Classification-main 2\\Bird-Species-Classification-main\\archive\\train\\Northern Mockingbird\\477371-5.wav\n"
     ]
    },
    {
     "name": "stderr",
     "output_type": "stream",
     "text": [
      " 19%|██████████████▉                                                                 | 152/814 [01:05<04:43,  2.33it/s]"
     ]
    },
    {
     "name": "stdout",
     "output_type": "stream",
     "text": [
      "lables [1]\n",
      "C:\\Users\\Sai Krishna\\Desktop\\Bird-Species-Classification-main 2\\Bird-Species-Classification-main\\archive\\train\\Song Sparrow\\133568-9.wav\n",
      "C:\\Users\\Sai Krishna\\Desktop\\Bird-Species-Classification-main 2\\Bird-Species-Classification-main\\archive\\train\\Song Sparrow\\133568-9.wav\n"
     ]
    },
    {
     "name": "stderr",
     "output_type": "stream",
     "text": [
      " 19%|███████████████                                                                 | 153/814 [01:05<04:28,  2.46it/s]"
     ]
    },
    {
     "name": "stdout",
     "output_type": "stream",
     "text": [
      "lables [0]\n",
      "C:\\Users\\Sai Krishna\\Desktop\\Bird-Species-Classification-main 2\\Bird-Species-Classification-main\\archive\\train\\American Robin\\14442-12.wav\n",
      "C:\\Users\\Sai Krishna\\Desktop\\Bird-Species-Classification-main 2\\Bird-Species-Classification-main\\archive\\train\\American Robin\\14442-12.wav\n"
     ]
    },
    {
     "name": "stderr",
     "output_type": "stream",
     "text": [
      " 19%|███████████████▏                                                                | 154/814 [01:05<04:17,  2.57it/s]"
     ]
    },
    {
     "name": "stdout",
     "output_type": "stream",
     "text": [
      "lables [3]\n",
      "C:\\Users\\Sai Krishna\\Desktop\\Bird-Species-Classification-main 2\\Bird-Species-Classification-main\\archive\\train\\Bewick's Wren\\451372-2.wav\n",
      "C:\\Users\\Sai Krishna\\Desktop\\Bird-Species-Classification-main 2\\Bird-Species-Classification-main\\archive\\train\\Bewick's Wren\\451372-2.wav\n"
     ]
    },
    {
     "name": "stderr",
     "output_type": "stream",
     "text": [
      " 19%|███████████████▏                                                                | 155/814 [01:06<04:08,  2.65it/s]"
     ]
    },
    {
     "name": "stdout",
     "output_type": "stream",
     "text": [
      "lables [4]\n",
      "C:\\Users\\Sai Krishna\\Desktop\\Bird-Species-Classification-main 2\\Bird-Species-Classification-main\\archive\\train\\American Robin\\319833-0.wav\n",
      "C:\\Users\\Sai Krishna\\Desktop\\Bird-Species-Classification-main 2\\Bird-Species-Classification-main\\archive\\train\\American Robin\\319833-0.wav\n"
     ]
    },
    {
     "name": "stderr",
     "output_type": "stream",
     "text": [
      " 19%|███████████████▎                                                                | 156/814 [01:06<04:03,  2.71it/s]"
     ]
    },
    {
     "name": "stdout",
     "output_type": "stream",
     "text": [
      "lables [3]\n",
      "C:\\Users\\Sai Krishna\\Desktop\\Bird-Species-Classification-main 2\\Bird-Species-Classification-main\\archive\\train\\Bewick's Wren\\351081-1.wav\n",
      "C:\\Users\\Sai Krishna\\Desktop\\Bird-Species-Classification-main 2\\Bird-Species-Classification-main\\archive\\train\\Bewick's Wren\\351081-1.wav\n"
     ]
    },
    {
     "name": "stderr",
     "output_type": "stream",
     "text": [
      " 19%|███████████████▍                                                                | 157/814 [01:06<04:00,  2.73it/s]"
     ]
    },
    {
     "name": "stdout",
     "output_type": "stream",
     "text": [
      "lables [4]\n",
      "C:\\Users\\Sai Krishna\\Desktop\\Bird-Species-Classification-main 2\\Bird-Species-Classification-main\\archive\\train\\Northern Mockingbird\\321786-4.wav\n",
      "C:\\Users\\Sai Krishna\\Desktop\\Bird-Species-Classification-main 2\\Bird-Species-Classification-main\\archive\\train\\Northern Mockingbird\\321786-4.wav\n"
     ]
    },
    {
     "name": "stderr",
     "output_type": "stream",
     "text": [
      " 19%|███████████████▌                                                                | 158/814 [01:07<04:00,  2.73it/s]"
     ]
    },
    {
     "name": "stdout",
     "output_type": "stream",
     "text": [
      "lables [1]\n",
      "C:\\Users\\Sai Krishna\\Desktop\\Bird-Species-Classification-main 2\\Bird-Species-Classification-main\\archive\\train\\American Robin\\562449-0.wav\n",
      "C:\\Users\\Sai Krishna\\Desktop\\Bird-Species-Classification-main 2\\Bird-Species-Classification-main\\archive\\train\\American Robin\\562449-0.wav\n"
     ]
    },
    {
     "name": "stderr",
     "output_type": "stream",
     "text": [
      " 20%|███████████████▋                                                                | 159/814 [01:07<03:59,  2.73it/s]"
     ]
    },
    {
     "name": "stdout",
     "output_type": "stream",
     "text": [
      "lables [3]\n",
      "C:\\Users\\Sai Krishna\\Desktop\\Bird-Species-Classification-main 2\\Bird-Species-Classification-main\\archive\\train\\Song Sparrow\\172442-1.wav\n",
      "C:\\Users\\Sai Krishna\\Desktop\\Bird-Species-Classification-main 2\\Bird-Species-Classification-main\\archive\\train\\Song Sparrow\\172442-1.wav\n"
     ]
    },
    {
     "name": "stderr",
     "output_type": "stream",
     "text": [
      " 20%|███████████████▋                                                                | 160/814 [01:07<04:03,  2.68it/s]"
     ]
    },
    {
     "name": "stdout",
     "output_type": "stream",
     "text": [
      "lables [0]\n",
      "C:\\Users\\Sai Krishna\\Desktop\\Bird-Species-Classification-main 2\\Bird-Species-Classification-main\\archive\\train\\Song Sparrow\\111646-0.wav\n",
      "C:\\Users\\Sai Krishna\\Desktop\\Bird-Species-Classification-main 2\\Bird-Species-Classification-main\\archive\\train\\Song Sparrow\\111646-0.wav\n"
     ]
    },
    {
     "name": "stderr",
     "output_type": "stream",
     "text": [
      " 20%|███████████████▊                                                                | 161/814 [01:08<04:01,  2.70it/s]"
     ]
    },
    {
     "name": "stdout",
     "output_type": "stream",
     "text": [
      "lables [0]\n",
      "C:\\Users\\Sai Krishna\\Desktop\\Bird-Species-Classification-main 2\\Bird-Species-Classification-main\\archive\\train\\American Robin\\562449-10.wav\n",
      "C:\\Users\\Sai Krishna\\Desktop\\Bird-Species-Classification-main 2\\Bird-Species-Classification-main\\archive\\train\\American Robin\\562449-10.wav\n"
     ]
    },
    {
     "name": "stderr",
     "output_type": "stream",
     "text": [
      " 20%|███████████████▉                                                                | 162/814 [01:08<04:03,  2.68it/s]"
     ]
    },
    {
     "name": "stdout",
     "output_type": "stream",
     "text": [
      "lables [3]\n",
      "C:\\Users\\Sai Krishna\\Desktop\\Bird-Species-Classification-main 2\\Bird-Species-Classification-main\\archive\\train\\Northern Mockingbird\\13610-3.wav\n",
      "C:\\Users\\Sai Krishna\\Desktop\\Bird-Species-Classification-main 2\\Bird-Species-Classification-main\\archive\\train\\Northern Mockingbird\\13610-3.wav\n"
     ]
    },
    {
     "name": "stderr",
     "output_type": "stream",
     "text": [
      " 20%|████████████████                                                                | 163/814 [01:09<04:06,  2.64it/s]"
     ]
    },
    {
     "name": "stdout",
     "output_type": "stream",
     "text": [
      "lables [1]\n",
      "C:\\Users\\Sai Krishna\\Desktop\\Bird-Species-Classification-main 2\\Bird-Species-Classification-main\\archive\\train\\Song Sparrow\\549591-4.wav\n",
      "C:\\Users\\Sai Krishna\\Desktop\\Bird-Species-Classification-main 2\\Bird-Species-Classification-main\\archive\\train\\Song Sparrow\\549591-4.wav\n"
     ]
    },
    {
     "name": "stderr",
     "output_type": "stream",
     "text": [
      " 20%|████████████████                                                                | 164/814 [01:09<04:21,  2.49it/s]"
     ]
    },
    {
     "name": "stdout",
     "output_type": "stream",
     "text": [
      "lables [0]\n",
      "C:\\Users\\Sai Krishna\\Desktop\\Bird-Species-Classification-main 2\\Bird-Species-Classification-main\\archive\\train\\Bewick's Wren\\217824-9.wav\n",
      "C:\\Users\\Sai Krishna\\Desktop\\Bird-Species-Classification-main 2\\Bird-Species-Classification-main\\archive\\train\\Bewick's Wren\\217824-9.wav\n"
     ]
    },
    {
     "name": "stderr",
     "output_type": "stream",
     "text": [
      " 20%|████████████████▏                                                               | 165/814 [01:09<04:29,  2.41it/s]"
     ]
    },
    {
     "name": "stdout",
     "output_type": "stream",
     "text": [
      "lables [4]\n",
      "C:\\Users\\Sai Krishna\\Desktop\\Bird-Species-Classification-main 2\\Bird-Species-Classification-main\\archive\\train\\Northern Mockingbird\\321788-3.wav\n",
      "C:\\Users\\Sai Krishna\\Desktop\\Bird-Species-Classification-main 2\\Bird-Species-Classification-main\\archive\\train\\Northern Mockingbird\\321788-3.wav\n"
     ]
    },
    {
     "name": "stderr",
     "output_type": "stream",
     "text": [
      " 20%|████████████████▎                                                               | 166/814 [01:10<04:35,  2.35it/s]"
     ]
    },
    {
     "name": "stdout",
     "output_type": "stream",
     "text": [
      "lables [1]\n",
      "C:\\Users\\Sai Krishna\\Desktop\\Bird-Species-Classification-main 2\\Bird-Species-Classification-main\\archive\\train\\Bewick's Wren\\323977-3.wav\n",
      "C:\\Users\\Sai Krishna\\Desktop\\Bird-Species-Classification-main 2\\Bird-Species-Classification-main\\archive\\train\\Bewick's Wren\\323977-3.wav\n"
     ]
    },
    {
     "name": "stderr",
     "output_type": "stream",
     "text": [
      " 21%|████████████████▍                                                               | 167/814 [01:10<04:37,  2.33it/s]"
     ]
    },
    {
     "name": "stdout",
     "output_type": "stream",
     "text": [
      "lables [4]\n",
      "C:\\Users\\Sai Krishna\\Desktop\\Bird-Species-Classification-main 2\\Bird-Species-Classification-main\\archive\\train\\Northern Cardinal\\460742-6.wav\n",
      "C:\\Users\\Sai Krishna\\Desktop\\Bird-Species-Classification-main 2\\Bird-Species-Classification-main\\archive\\train\\Northern Cardinal\\460742-6.wav\n"
     ]
    },
    {
     "name": "stderr",
     "output_type": "stream",
     "text": [
      " 21%|████████████████▌                                                               | 168/814 [01:11<04:39,  2.31it/s]"
     ]
    },
    {
     "name": "stdout",
     "output_type": "stream",
     "text": [
      "lables [2]\n",
      "C:\\Users\\Sai Krishna\\Desktop\\Bird-Species-Classification-main 2\\Bird-Species-Classification-main\\archive\\train\\Northern Mockingbird\\321945-14.wav\n",
      "C:\\Users\\Sai Krishna\\Desktop\\Bird-Species-Classification-main 2\\Bird-Species-Classification-main\\archive\\train\\Northern Mockingbird\\321945-14.wav\n"
     ]
    },
    {
     "name": "stderr",
     "output_type": "stream",
     "text": [
      " 21%|████████████████▌                                                               | 169/814 [01:11<04:39,  2.30it/s]"
     ]
    },
    {
     "name": "stdout",
     "output_type": "stream",
     "text": [
      "lables [1]\n",
      "C:\\Users\\Sai Krishna\\Desktop\\Bird-Species-Classification-main 2\\Bird-Species-Classification-main\\archive\\train\\Northern Mockingbird\\321942-8.wav\n",
      "C:\\Users\\Sai Krishna\\Desktop\\Bird-Species-Classification-main 2\\Bird-Species-Classification-main\\archive\\train\\Northern Mockingbird\\321942-8.wav\n"
     ]
    },
    {
     "name": "stderr",
     "output_type": "stream",
     "text": [
      " 21%|████████████████▋                                                               | 170/814 [01:12<04:40,  2.30it/s]"
     ]
    },
    {
     "name": "stdout",
     "output_type": "stream",
     "text": [
      "lables [1]\n",
      "C:\\Users\\Sai Krishna\\Desktop\\Bird-Species-Classification-main 2\\Bird-Species-Classification-main\\archive\\train\\Song Sparrow\\102948-1.wav\n",
      "C:\\Users\\Sai Krishna\\Desktop\\Bird-Species-Classification-main 2\\Bird-Species-Classification-main\\archive\\train\\Song Sparrow\\102948-1.wav\n"
     ]
    },
    {
     "name": "stderr",
     "output_type": "stream",
     "text": [
      " 21%|████████████████▊                                                               | 171/814 [01:12<04:40,  2.29it/s]"
     ]
    },
    {
     "name": "stdout",
     "output_type": "stream",
     "text": [
      "lables [0]\n",
      "C:\\Users\\Sai Krishna\\Desktop\\Bird-Species-Classification-main 2\\Bird-Species-Classification-main\\archive\\train\\Northern Cardinal\\470299-5.wav\n",
      "C:\\Users\\Sai Krishna\\Desktop\\Bird-Species-Classification-main 2\\Bird-Species-Classification-main\\archive\\train\\Northern Cardinal\\470299-5.wav\n"
     ]
    },
    {
     "name": "stderr",
     "output_type": "stream",
     "text": [
      " 21%|████████████████▉                                                               | 172/814 [01:13<04:39,  2.30it/s]"
     ]
    },
    {
     "name": "stdout",
     "output_type": "stream",
     "text": [
      "lables [2]\n",
      "C:\\Users\\Sai Krishna\\Desktop\\Bird-Species-Classification-main 2\\Bird-Species-Classification-main\\archive\\train\\Northern Cardinal\\367706-9.wav\n",
      "C:\\Users\\Sai Krishna\\Desktop\\Bird-Species-Classification-main 2\\Bird-Species-Classification-main\\archive\\train\\Northern Cardinal\\367706-9.wav\n"
     ]
    },
    {
     "name": "stderr",
     "output_type": "stream",
     "text": [
      " 21%|█████████████████                                                               | 173/814 [01:13<04:38,  2.30it/s]"
     ]
    },
    {
     "name": "stdout",
     "output_type": "stream",
     "text": [
      "lables [0]\n",
      "C:\\Users\\Sai Krishna\\Desktop\\Bird-Species-Classification-main 2\\Bird-Species-Classification-main\\archive\\train\\American Robin\\564324-6.wav\n",
      "C:\\Users\\Sai Krishna\\Desktop\\Bird-Species-Classification-main 2\\Bird-Species-Classification-main\\archive\\train\\American Robin\\564324-6.wav\n"
     ]
    },
    {
     "name": "stderr",
     "output_type": "stream",
     "text": [
      " 21%|█████████████████                                                               | 174/814 [01:13<04:36,  2.31it/s]"
     ]
    },
    {
     "name": "stdout",
     "output_type": "stream",
     "text": [
      "lables [3]\n",
      "C:\\Users\\Sai Krishna\\Desktop\\Bird-Species-Classification-main 2\\Bird-Species-Classification-main\\archive\\train\\Northern Cardinal\\370494-7.wav\n",
      "C:\\Users\\Sai Krishna\\Desktop\\Bird-Species-Classification-main 2\\Bird-Species-Classification-main\\archive\\train\\Northern Cardinal\\370494-7.wav\n"
     ]
    },
    {
     "name": "stderr",
     "output_type": "stream",
     "text": [
      " 21%|█████████████████▏                                                              | 175/814 [01:14<04:35,  2.32it/s]"
     ]
    },
    {
     "name": "stdout",
     "output_type": "stream",
     "text": [
      "lables [2]\n",
      "C:\\Users\\Sai Krishna\\Desktop\\Bird-Species-Classification-main 2\\Bird-Species-Classification-main\\archive\\train\\Song Sparrow\\133568-0.wav\n",
      "C:\\Users\\Sai Krishna\\Desktop\\Bird-Species-Classification-main 2\\Bird-Species-Classification-main\\archive\\train\\Song Sparrow\\133568-0.wav\n"
     ]
    },
    {
     "name": "stderr",
     "output_type": "stream",
     "text": [
      " 22%|█████████████████▎                                                              | 176/814 [01:14<04:36,  2.31it/s]"
     ]
    },
    {
     "name": "stdout",
     "output_type": "stream",
     "text": [
      "lables [0]\n",
      "C:\\Users\\Sai Krishna\\Desktop\\Bird-Species-Classification-main 2\\Bird-Species-Classification-main\\archive\\train\\American Robin\\500148-6.wav\n",
      "C:\\Users\\Sai Krishna\\Desktop\\Bird-Species-Classification-main 2\\Bird-Species-Classification-main\\archive\\train\\American Robin\\500148-6.wav\n"
     ]
    },
    {
     "name": "stderr",
     "output_type": "stream",
     "text": [
      " 22%|█████████████████▍                                                              | 177/814 [01:15<04:34,  2.32it/s]"
     ]
    },
    {
     "name": "stdout",
     "output_type": "stream",
     "text": [
      "lables [3]\n",
      "C:\\Users\\Sai Krishna\\Desktop\\Bird-Species-Classification-main 2\\Bird-Species-Classification-main\\archive\\train\\Song Sparrow\\205810-7.wav\n",
      "C:\\Users\\Sai Krishna\\Desktop\\Bird-Species-Classification-main 2\\Bird-Species-Classification-main\\archive\\train\\Song Sparrow\\205810-7.wav\n"
     ]
    },
    {
     "name": "stderr",
     "output_type": "stream",
     "text": [
      " 22%|█████████████████▍                                                              | 178/814 [01:15<04:34,  2.32it/s]"
     ]
    },
    {
     "name": "stdout",
     "output_type": "stream",
     "text": [
      "lables [0]\n",
      "C:\\Users\\Sai Krishna\\Desktop\\Bird-Species-Classification-main 2\\Bird-Species-Classification-main\\archive\\train\\Song Sparrow\\312736-10.wav\n",
      "C:\\Users\\Sai Krishna\\Desktop\\Bird-Species-Classification-main 2\\Bird-Species-Classification-main\\archive\\train\\Song Sparrow\\312736-10.wav\n"
     ]
    },
    {
     "name": "stderr",
     "output_type": "stream",
     "text": [
      " 22%|█████████████████▌                                                              | 179/814 [01:15<04:16,  2.48it/s]"
     ]
    },
    {
     "name": "stdout",
     "output_type": "stream",
     "text": [
      "lables [0]\n",
      "C:\\Users\\Sai Krishna\\Desktop\\Bird-Species-Classification-main 2\\Bird-Species-Classification-main\\archive\\train\\Northern Mockingbird\\58179-8.wav\n",
      "C:\\Users\\Sai Krishna\\Desktop\\Bird-Species-Classification-main 2\\Bird-Species-Classification-main\\archive\\train\\Northern Mockingbird\\58179-8.wav\n"
     ]
    },
    {
     "name": "stderr",
     "output_type": "stream",
     "text": [
      " 22%|█████████████████▋                                                              | 180/814 [01:16<04:05,  2.58it/s]"
     ]
    },
    {
     "name": "stdout",
     "output_type": "stream",
     "text": [
      "lables [1]\n",
      "C:\\Users\\Sai Krishna\\Desktop\\Bird-Species-Classification-main 2\\Bird-Species-Classification-main\\archive\\train\\Northern Mockingbird\\469896-4.wav\n",
      "C:\\Users\\Sai Krishna\\Desktop\\Bird-Species-Classification-main 2\\Bird-Species-Classification-main\\archive\\train\\Northern Mockingbird\\469896-4.wav\n"
     ]
    },
    {
     "name": "stderr",
     "output_type": "stream",
     "text": [
      " 22%|█████████████████▊                                                              | 181/814 [01:16<03:59,  2.65it/s]"
     ]
    },
    {
     "name": "stdout",
     "output_type": "stream",
     "text": [
      "lables [1]\n",
      "C:\\Users\\Sai Krishna\\Desktop\\Bird-Species-Classification-main 2\\Bird-Species-Classification-main\\archive\\train\\Song Sparrow\\181738-1.wav\n",
      "C:\\Users\\Sai Krishna\\Desktop\\Bird-Species-Classification-main 2\\Bird-Species-Classification-main\\archive\\train\\Song Sparrow\\181738-1.wav\n"
     ]
    },
    {
     "name": "stderr",
     "output_type": "stream",
     "text": [
      " 22%|█████████████████▉                                                              | 182/814 [01:17<03:51,  2.73it/s]"
     ]
    },
    {
     "name": "stdout",
     "output_type": "stream",
     "text": [
      "lables [0]\n",
      "C:\\Users\\Sai Krishna\\Desktop\\Bird-Species-Classification-main 2\\Bird-Species-Classification-main\\archive\\train\\Northern Cardinal\\560427-3.wav\n",
      "C:\\Users\\Sai Krishna\\Desktop\\Bird-Species-Classification-main 2\\Bird-Species-Classification-main\\archive\\train\\Northern Cardinal\\560427-3.wav\n"
     ]
    },
    {
     "name": "stderr",
     "output_type": "stream",
     "text": [
      " 22%|█████████████████▉                                                              | 183/814 [01:17<03:50,  2.73it/s]"
     ]
    },
    {
     "name": "stdout",
     "output_type": "stream",
     "text": [
      "lables [2]\n",
      "C:\\Users\\Sai Krishna\\Desktop\\Bird-Species-Classification-main 2\\Bird-Species-Classification-main\\archive\\train\\Northern Mockingbird\\357943-4.wav\n",
      "C:\\Users\\Sai Krishna\\Desktop\\Bird-Species-Classification-main 2\\Bird-Species-Classification-main\\archive\\train\\Northern Mockingbird\\357943-4.wav\n"
     ]
    },
    {
     "name": "stderr",
     "output_type": "stream",
     "text": [
      " 23%|██████████████████                                                              | 184/814 [01:17<04:04,  2.58it/s]"
     ]
    },
    {
     "name": "stdout",
     "output_type": "stream",
     "text": [
      "lables [1]\n",
      "C:\\Users\\Sai Krishna\\Desktop\\Bird-Species-Classification-main 2\\Bird-Species-Classification-main\\archive\\train\\Bewick's Wren\\351081-11.wav\n",
      "C:\\Users\\Sai Krishna\\Desktop\\Bird-Species-Classification-main 2\\Bird-Species-Classification-main\\archive\\train\\Bewick's Wren\\351081-11.wav\n"
     ]
    },
    {
     "name": "stderr",
     "output_type": "stream",
     "text": [
      " 23%|██████████████████▏                                                             | 185/814 [01:18<04:12,  2.49it/s]"
     ]
    },
    {
     "name": "stdout",
     "output_type": "stream",
     "text": [
      "lables [4]\n",
      "C:\\Users\\Sai Krishna\\Desktop\\Bird-Species-Classification-main 2\\Bird-Species-Classification-main\\archive\\train\\Bewick's Wren\\217851-10.wav\n",
      "C:\\Users\\Sai Krishna\\Desktop\\Bird-Species-Classification-main 2\\Bird-Species-Classification-main\\archive\\train\\Bewick's Wren\\217851-10.wav\n"
     ]
    },
    {
     "name": "stderr",
     "output_type": "stream",
     "text": [
      " 23%|██████████████████▎                                                             | 186/814 [01:18<04:18,  2.43it/s]"
     ]
    },
    {
     "name": "stdout",
     "output_type": "stream",
     "text": [
      "lables [4]\n",
      "C:\\Users\\Sai Krishna\\Desktop\\Bird-Species-Classification-main 2\\Bird-Species-Classification-main\\archive\\train\\Northern Mockingbird\\534181-9.wav\n",
      "C:\\Users\\Sai Krishna\\Desktop\\Bird-Species-Classification-main 2\\Bird-Species-Classification-main\\archive\\train\\Northern Mockingbird\\534181-9.wav\n"
     ]
    },
    {
     "name": "stderr",
     "output_type": "stream",
     "text": [
      " 23%|██████████████████▍                                                             | 187/814 [01:19<04:21,  2.40it/s]"
     ]
    },
    {
     "name": "stdout",
     "output_type": "stream",
     "text": [
      "lables [1]\n",
      "C:\\Users\\Sai Krishna\\Desktop\\Bird-Species-Classification-main 2\\Bird-Species-Classification-main\\archive\\train\\Northern Cardinal\\196163-0.wav\n",
      "C:\\Users\\Sai Krishna\\Desktop\\Bird-Species-Classification-main 2\\Bird-Species-Classification-main\\archive\\train\\Northern Cardinal\\196163-0.wav\n"
     ]
    },
    {
     "name": "stderr",
     "output_type": "stream",
     "text": [
      " 23%|██████████████████▍                                                             | 188/814 [01:19<04:23,  2.37it/s]"
     ]
    },
    {
     "name": "stdout",
     "output_type": "stream",
     "text": [
      "lables [2]\n",
      "C:\\Users\\Sai Krishna\\Desktop\\Bird-Species-Classification-main 2\\Bird-Species-Classification-main\\archive\\train\\Northern Mockingbird\\351830-12.wav\n",
      "C:\\Users\\Sai Krishna\\Desktop\\Bird-Species-Classification-main 2\\Bird-Species-Classification-main\\archive\\train\\Northern Mockingbird\\351830-12.wav\n"
     ]
    },
    {
     "name": "stderr",
     "output_type": "stream",
     "text": [
      " 23%|██████████████████▌                                                             | 189/814 [01:19<04:25,  2.36it/s]"
     ]
    },
    {
     "name": "stdout",
     "output_type": "stream",
     "text": [
      "lables [1]\n",
      "C:\\Users\\Sai Krishna\\Desktop\\Bird-Species-Classification-main 2\\Bird-Species-Classification-main\\archive\\train\\Northern Mockingbird\\321923-10.wav\n",
      "C:\\Users\\Sai Krishna\\Desktop\\Bird-Species-Classification-main 2\\Bird-Species-Classification-main\\archive\\train\\Northern Mockingbird\\321923-10.wav\n"
     ]
    },
    {
     "name": "stderr",
     "output_type": "stream",
     "text": [
      " 23%|██████████████████▋                                                             | 190/814 [01:20<04:24,  2.36it/s]"
     ]
    },
    {
     "name": "stdout",
     "output_type": "stream",
     "text": [
      "lables [1]\n",
      "C:\\Users\\Sai Krishna\\Desktop\\Bird-Species-Classification-main 2\\Bird-Species-Classification-main\\archive\\train\\Song Sparrow\\125721-2.wav\n",
      "C:\\Users\\Sai Krishna\\Desktop\\Bird-Species-Classification-main 2\\Bird-Species-Classification-main\\archive\\train\\Song Sparrow\\125721-2.wav\n"
     ]
    },
    {
     "name": "stderr",
     "output_type": "stream",
     "text": [
      " 23%|██████████████████▊                                                             | 191/814 [01:20<04:24,  2.35it/s]"
     ]
    },
    {
     "name": "stdout",
     "output_type": "stream",
     "text": [
      "lables [0]\n",
      "C:\\Users\\Sai Krishna\\Desktop\\Bird-Species-Classification-main 2\\Bird-Species-Classification-main\\archive\\train\\Northern Mockingbird\\557029-9.wav\n",
      "C:\\Users\\Sai Krishna\\Desktop\\Bird-Species-Classification-main 2\\Bird-Species-Classification-main\\archive\\train\\Northern Mockingbird\\557029-9.wav\n"
     ]
    },
    {
     "name": "stderr",
     "output_type": "stream",
     "text": [
      " 24%|██████████████████▊                                                             | 192/814 [01:21<04:22,  2.37it/s]"
     ]
    },
    {
     "name": "stdout",
     "output_type": "stream",
     "text": [
      "lables [1]\n",
      "C:\\Users\\Sai Krishna\\Desktop\\Bird-Species-Classification-main 2\\Bird-Species-Classification-main\\archive\\train\\Northern Mockingbird\\538122-0.wav\n",
      "C:\\Users\\Sai Krishna\\Desktop\\Bird-Species-Classification-main 2\\Bird-Species-Classification-main\\archive\\train\\Northern Mockingbird\\538122-0.wav\n"
     ]
    },
    {
     "name": "stderr",
     "output_type": "stream",
     "text": [
      " 24%|██████████████████▉                                                             | 193/814 [01:21<04:11,  2.47it/s]"
     ]
    },
    {
     "name": "stdout",
     "output_type": "stream",
     "text": [
      "lables [1]\n",
      "C:\\Users\\Sai Krishna\\Desktop\\Bird-Species-Classification-main 2\\Bird-Species-Classification-main\\archive\\train\\Northern Mockingbird\\423438-6.wav\n",
      "C:\\Users\\Sai Krishna\\Desktop\\Bird-Species-Classification-main 2\\Bird-Species-Classification-main\\archive\\train\\Northern Mockingbird\\423438-6.wav\n"
     ]
    },
    {
     "name": "stderr",
     "output_type": "stream",
     "text": [
      " 24%|███████████████████                                                             | 194/814 [01:21<04:02,  2.56it/s]"
     ]
    },
    {
     "name": "stdout",
     "output_type": "stream",
     "text": [
      "lables [1]\n",
      "C:\\Users\\Sai Krishna\\Desktop\\Bird-Species-Classification-main 2\\Bird-Species-Classification-main\\archive\\train\\Bewick's Wren\\178322-4.wav\n",
      "C:\\Users\\Sai Krishna\\Desktop\\Bird-Species-Classification-main 2\\Bird-Species-Classification-main\\archive\\train\\Bewick's Wren\\178322-4.wav\n"
     ]
    },
    {
     "name": "stderr",
     "output_type": "stream",
     "text": [
      " 24%|███████████████████▏                                                            | 195/814 [01:22<03:53,  2.65it/s]"
     ]
    },
    {
     "name": "stdout",
     "output_type": "stream",
     "text": [
      "lables [4]\n",
      "C:\\Users\\Sai Krishna\\Desktop\\Bird-Species-Classification-main 2\\Bird-Species-Classification-main\\archive\\train\\American Robin\\559314-2.wav\n",
      "C:\\Users\\Sai Krishna\\Desktop\\Bird-Species-Classification-main 2\\Bird-Species-Classification-main\\archive\\train\\American Robin\\559314-2.wav\n"
     ]
    },
    {
     "name": "stderr",
     "output_type": "stream",
     "text": [
      " 24%|███████████████████▎                                                            | 196/814 [01:22<03:49,  2.69it/s]"
     ]
    },
    {
     "name": "stdout",
     "output_type": "stream",
     "text": [
      "lables [0]\n",
      "C:\\Users\\Sai Krishna\\Desktop\\Bird-Species-Classification-main 2\\Bird-Species-Classification-main\\archive\\train\\Song Sparrow\\111667-11.wav\n",
      "C:\\Users\\Sai Krishna\\Desktop\\Bird-Species-Classification-main 2\\Bird-Species-Classification-main\\archive\\train\\Song Sparrow\\111667-11.wav\n"
     ]
    },
    {
     "name": "stderr",
     "output_type": "stream",
     "text": [
      " 24%|███████████████████▎                                                            | 197/814 [01:23<03:43,  2.76it/s]"
     ]
    },
    {
     "name": "stdout",
     "output_type": "stream",
     "text": [
      "lables [0]\n",
      "C:\\Users\\Sai Krishna\\Desktop\\Bird-Species-Classification-main 2\\Bird-Species-Classification-main\\archive\\train\\American Robin\\190441-9.wav\n",
      "C:\\Users\\Sai Krishna\\Desktop\\Bird-Species-Classification-main 2\\Bird-Species-Classification-main\\archive\\train\\American Robin\\190441-9.wav\n"
     ]
    },
    {
     "name": "stderr",
     "output_type": "stream",
     "text": [
      " 24%|███████████████████▍                                                            | 198/814 [01:23<03:42,  2.76it/s]"
     ]
    },
    {
     "name": "stdout",
     "output_type": "stream",
     "text": [
      "lables [3]\n",
      "C:\\Users\\Sai Krishna\\Desktop\\Bird-Species-Classification-main 2\\Bird-Species-Classification-main\\archive\\train\\American Robin\\368615-8.wav\n",
      "C:\\Users\\Sai Krishna\\Desktop\\Bird-Species-Classification-main 2\\Bird-Species-Classification-main\\archive\\train\\American Robin\\368615-8.wav\n"
     ]
    },
    {
     "name": "stderr",
     "output_type": "stream",
     "text": [
      " 24%|███████████████████▌                                                            | 199/814 [01:23<03:44,  2.74it/s]"
     ]
    },
    {
     "name": "stdout",
     "output_type": "stream",
     "text": [
      "lables [3]\n",
      "C:\\Users\\Sai Krishna\\Desktop\\Bird-Species-Classification-main 2\\Bird-Species-Classification-main\\archive\\train\\Bewick's Wren\\451372-4.wav\n",
      "C:\\Users\\Sai Krishna\\Desktop\\Bird-Species-Classification-main 2\\Bird-Species-Classification-main\\archive\\train\\Bewick's Wren\\451372-4.wav\n"
     ]
    },
    {
     "name": "stderr",
     "output_type": "stream",
     "text": [
      " 25%|███████████████████▋                                                            | 200/814 [01:24<03:43,  2.75it/s]"
     ]
    },
    {
     "name": "stdout",
     "output_type": "stream",
     "text": [
      "lables [4]\n",
      "C:\\Users\\Sai Krishna\\Desktop\\Bird-Species-Classification-main 2\\Bird-Species-Classification-main\\archive\\train\\Bewick's Wren\\351049-1.wav\n",
      "C:\\Users\\Sai Krishna\\Desktop\\Bird-Species-Classification-main 2\\Bird-Species-Classification-main\\archive\\train\\Bewick's Wren\\351049-1.wav\n"
     ]
    },
    {
     "name": "stderr",
     "output_type": "stream",
     "text": [
      " 25%|███████████████████▊                                                            | 201/814 [01:24<03:45,  2.72it/s]"
     ]
    },
    {
     "name": "stdout",
     "output_type": "stream",
     "text": [
      "lables [4]\n",
      "C:\\Users\\Sai Krishna\\Desktop\\Bird-Species-Classification-main 2\\Bird-Species-Classification-main\\archive\\train\\Northern Cardinal\\71208-9.wav\n",
      "C:\\Users\\Sai Krishna\\Desktop\\Bird-Species-Classification-main 2\\Bird-Species-Classification-main\\archive\\train\\Northern Cardinal\\71208-9.wav\n"
     ]
    },
    {
     "name": "stderr",
     "output_type": "stream",
     "text": [
      " 25%|███████████████████▊                                                            | 202/814 [01:24<03:48,  2.68it/s]"
     ]
    },
    {
     "name": "stdout",
     "output_type": "stream",
     "text": [
      "lables [2]\n",
      "C:\\Users\\Sai Krishna\\Desktop\\Bird-Species-Classification-main 2\\Bird-Species-Classification-main\\archive\\train\\American Robin\\138063-0.wav\n",
      "C:\\Users\\Sai Krishna\\Desktop\\Bird-Species-Classification-main 2\\Bird-Species-Classification-main\\archive\\train\\American Robin\\138063-0.wav\n"
     ]
    },
    {
     "name": "stderr",
     "output_type": "stream",
     "text": [
      " 25%|███████████████████▉                                                            | 203/814 [01:25<03:49,  2.66it/s]"
     ]
    },
    {
     "name": "stdout",
     "output_type": "stream",
     "text": [
      "lables [3]\n",
      "C:\\Users\\Sai Krishna\\Desktop\\Bird-Species-Classification-main 2\\Bird-Species-Classification-main\\archive\\train\\American Robin\\483578-8.wav\n",
      "C:\\Users\\Sai Krishna\\Desktop\\Bird-Species-Classification-main 2\\Bird-Species-Classification-main\\archive\\train\\American Robin\\483578-8.wav\n"
     ]
    },
    {
     "name": "stderr",
     "output_type": "stream",
     "text": [
      " 25%|████████████████████                                                            | 204/814 [01:25<04:03,  2.50it/s]"
     ]
    },
    {
     "name": "stdout",
     "output_type": "stream",
     "text": [
      "lables [3]\n",
      "C:\\Users\\Sai Krishna\\Desktop\\Bird-Species-Classification-main 2\\Bird-Species-Classification-main\\archive\\train\\Northern Mockingbird\\321788-11.wav\n",
      "C:\\Users\\Sai Krishna\\Desktop\\Bird-Species-Classification-main 2\\Bird-Species-Classification-main\\archive\\train\\Northern Mockingbird\\321788-11.wav\n"
     ]
    },
    {
     "name": "stderr",
     "output_type": "stream",
     "text": [
      " 25%|████████████████████▏                                                           | 205/814 [01:26<04:10,  2.43it/s]"
     ]
    },
    {
     "name": "stdout",
     "output_type": "stream",
     "text": [
      "lables [1]\n",
      "C:\\Users\\Sai Krishna\\Desktop\\Bird-Species-Classification-main 2\\Bird-Species-Classification-main\\archive\\train\\Song Sparrow\\551290-5.wav\n",
      "C:\\Users\\Sai Krishna\\Desktop\\Bird-Species-Classification-main 2\\Bird-Species-Classification-main\\archive\\train\\Song Sparrow\\551290-5.wav\n"
     ]
    },
    {
     "name": "stderr",
     "output_type": "stream",
     "text": [
      " 25%|████████████████████▏                                                           | 206/814 [01:26<04:18,  2.35it/s]"
     ]
    },
    {
     "name": "stdout",
     "output_type": "stream",
     "text": [
      "lables [0]\n",
      "C:\\Users\\Sai Krishna\\Desktop\\Bird-Species-Classification-main 2\\Bird-Species-Classification-main\\archive\\train\\Northern Cardinal\\542090-3.wav\n",
      "C:\\Users\\Sai Krishna\\Desktop\\Bird-Species-Classification-main 2\\Bird-Species-Classification-main\\archive\\train\\Northern Cardinal\\542090-3.wav\n"
     ]
    },
    {
     "name": "stderr",
     "output_type": "stream",
     "text": [
      " 25%|████████████████████▎                                                           | 207/814 [01:27<04:22,  2.31it/s]"
     ]
    },
    {
     "name": "stdout",
     "output_type": "stream",
     "text": [
      "lables [2]\n",
      "C:\\Users\\Sai Krishna\\Desktop\\Bird-Species-Classification-main 2\\Bird-Species-Classification-main\\archive\\train\\Northern Cardinal\\466697-7.wav\n",
      "C:\\Users\\Sai Krishna\\Desktop\\Bird-Species-Classification-main 2\\Bird-Species-Classification-main\\archive\\train\\Northern Cardinal\\466697-7.wav\n"
     ]
    },
    {
     "name": "stderr",
     "output_type": "stream",
     "text": [
      " 26%|████████████████████▍                                                           | 208/814 [01:27<04:20,  2.32it/s]"
     ]
    },
    {
     "name": "stdout",
     "output_type": "stream",
     "text": [
      "lables [2]\n",
      "C:\\Users\\Sai Krishna\\Desktop\\Bird-Species-Classification-main 2\\Bird-Species-Classification-main\\archive\\train\\Song Sparrow\\469877-2.wav\n",
      "C:\\Users\\Sai Krishna\\Desktop\\Bird-Species-Classification-main 2\\Bird-Species-Classification-main\\archive\\train\\Song Sparrow\\469877-2.wav\n"
     ]
    },
    {
     "name": "stderr",
     "output_type": "stream",
     "text": [
      " 26%|████████████████████▌                                                           | 209/814 [01:27<04:21,  2.31it/s]"
     ]
    },
    {
     "name": "stdout",
     "output_type": "stream",
     "text": [
      "lables [0]\n",
      "C:\\Users\\Sai Krishna\\Desktop\\Bird-Species-Classification-main 2\\Bird-Species-Classification-main\\archive\\train\\American Robin\\564324-7.wav\n",
      "C:\\Users\\Sai Krishna\\Desktop\\Bird-Species-Classification-main 2\\Bird-Species-Classification-main\\archive\\train\\American Robin\\564324-7.wav\n"
     ]
    },
    {
     "name": "stderr",
     "output_type": "stream",
     "text": [
      " 26%|████████████████████▋                                                           | 210/814 [01:28<04:20,  2.32it/s]"
     ]
    },
    {
     "name": "stdout",
     "output_type": "stream",
     "text": [
      "lables [3]\n",
      "C:\\Users\\Sai Krishna\\Desktop\\Bird-Species-Classification-main 2\\Bird-Species-Classification-main\\archive\\train\\American Robin\\322884-3.wav\n",
      "C:\\Users\\Sai Krishna\\Desktop\\Bird-Species-Classification-main 2\\Bird-Species-Classification-main\\archive\\train\\American Robin\\322884-3.wav\n"
     ]
    },
    {
     "name": "stderr",
     "output_type": "stream",
     "text": [
      " 26%|████████████████████▋                                                           | 211/814 [01:28<04:20,  2.31it/s]"
     ]
    },
    {
     "name": "stdout",
     "output_type": "stream",
     "text": [
      "lables [3]\n",
      "C:\\Users\\Sai Krishna\\Desktop\\Bird-Species-Classification-main 2\\Bird-Species-Classification-main\\archive\\train\\Bewick's Wren\\61472-7.wav\n",
      "C:\\Users\\Sai Krishna\\Desktop\\Bird-Species-Classification-main 2\\Bird-Species-Classification-main\\archive\\train\\Bewick's Wren\\61472-7.wav\n"
     ]
    },
    {
     "name": "stderr",
     "output_type": "stream",
     "text": [
      " 26%|████████████████████▊                                                           | 212/814 [01:29<04:18,  2.33it/s]"
     ]
    },
    {
     "name": "stdout",
     "output_type": "stream",
     "text": [
      "lables [4]\n",
      "C:\\Users\\Sai Krishna\\Desktop\\Bird-Species-Classification-main 2\\Bird-Species-Classification-main\\archive\\train\\Song Sparrow\\483978-12.wav\n",
      "C:\\Users\\Sai Krishna\\Desktop\\Bird-Species-Classification-main 2\\Bird-Species-Classification-main\\archive\\train\\Song Sparrow\\483978-12.wav\n"
     ]
    },
    {
     "name": "stderr",
     "output_type": "stream",
     "text": [
      " 26%|████████████████████▉                                                           | 213/814 [01:29<04:18,  2.33it/s]"
     ]
    },
    {
     "name": "stdout",
     "output_type": "stream",
     "text": [
      "lables [4]\n",
      "C:\\Users\\Sai Krishna\\Desktop\\Bird-Species-Classification-main 2\\Bird-Species-Classification-main\\archive\\train\\Northern Mockingbird\\179351-10.wav\n",
      "C:\\Users\\Sai Krishna\\Desktop\\Bird-Species-Classification-main 2\\Bird-Species-Classification-main\\archive\\train\\Northern Mockingbird\\179351-10.wav\n"
     ]
    },
    {
     "name": "stderr",
     "output_type": "stream",
     "text": [
      " 26%|█████████████████████                                                           | 214/814 [01:30<04:16,  2.34it/s]"
     ]
    },
    {
     "name": "stdout",
     "output_type": "stream",
     "text": [
      "lables [1]\n",
      "C:\\Users\\Sai Krishna\\Desktop\\Bird-Species-Classification-main 2\\Bird-Species-Classification-main\\archive\\train\\Northern Cardinal\\54652-0.wav\n",
      "C:\\Users\\Sai Krishna\\Desktop\\Bird-Species-Classification-main 2\\Bird-Species-Classification-main\\archive\\train\\Northern Cardinal\\54652-0.wav\n"
     ]
    },
    {
     "name": "stderr",
     "output_type": "stream",
     "text": [
      " 26%|█████████████████████▏                                                          | 215/814 [01:30<04:14,  2.35it/s]"
     ]
    },
    {
     "name": "stdout",
     "output_type": "stream",
     "text": [
      "lables [2]\n",
      "C:\\Users\\Sai Krishna\\Desktop\\Bird-Species-Classification-main 2\\Bird-Species-Classification-main\\archive\\train\\Northern Mockingbird\\351830-3.wav\n",
      "C:\\Users\\Sai Krishna\\Desktop\\Bird-Species-Classification-main 2\\Bird-Species-Classification-main\\archive\\train\\Northern Mockingbird\\351830-3.wav\n"
     ]
    },
    {
     "name": "stderr",
     "output_type": "stream",
     "text": [
      " 27%|█████████████████████▏                                                          | 216/814 [01:30<03:59,  2.49it/s]"
     ]
    },
    {
     "name": "stdout",
     "output_type": "stream",
     "text": [
      "lables [1]\n",
      "C:\\Users\\Sai Krishna\\Desktop\\Bird-Species-Classification-main 2\\Bird-Species-Classification-main\\archive\\train\\American Robin\\319833-13.wav\n",
      "C:\\Users\\Sai Krishna\\Desktop\\Bird-Species-Classification-main 2\\Bird-Species-Classification-main\\archive\\train\\American Robin\\319833-13.wav\n"
     ]
    },
    {
     "name": "stderr",
     "output_type": "stream",
     "text": [
      " 27%|█████████████████████▎                                                          | 217/814 [01:31<03:52,  2.56it/s]"
     ]
    },
    {
     "name": "stdout",
     "output_type": "stream",
     "text": [
      "lables [1]\n",
      "C:\\Users\\Sai Krishna\\Desktop\\Bird-Species-Classification-main 2\\Bird-Species-Classification-main\\archive\\train\\Northern Cardinal\\343926-3.wav\n",
      "C:\\Users\\Sai Krishna\\Desktop\\Bird-Species-Classification-main 2\\Bird-Species-Classification-main\\archive\\train\\Northern Cardinal\\343926-3.wav\n"
     ]
    },
    {
     "name": "stderr",
     "output_type": "stream",
     "text": [
      " 27%|█████████████████████▍                                                          | 218/814 [01:31<03:43,  2.67it/s]"
     ]
    },
    {
     "name": "stdout",
     "output_type": "stream",
     "text": [
      "lables [2]\n",
      "C:\\Users\\Sai Krishna\\Desktop\\Bird-Species-Classification-main 2\\Bird-Species-Classification-main\\archive\\train\\American Robin\\190473-7.wav\n",
      "C:\\Users\\Sai Krishna\\Desktop\\Bird-Species-Classification-main 2\\Bird-Species-Classification-main\\archive\\train\\American Robin\\190473-7.wav\n"
     ]
    },
    {
     "name": "stderr",
     "output_type": "stream",
     "text": [
      " 27%|█████████████████████▌                                                          | 219/814 [01:31<03:42,  2.68it/s]"
     ]
    },
    {
     "name": "stdout",
     "output_type": "stream",
     "text": [
      "lables [3]\n",
      "C:\\Users\\Sai Krishna\\Desktop\\Bird-Species-Classification-main 2\\Bird-Species-Classification-main\\archive\\train\\Northern Mockingbird\\557029-11.wav\n",
      "C:\\Users\\Sai Krishna\\Desktop\\Bird-Species-Classification-main 2\\Bird-Species-Classification-main\\archive\\train\\Northern Mockingbird\\557029-11.wav\n"
     ]
    },
    {
     "name": "stderr",
     "output_type": "stream",
     "text": [
      " 27%|█████████████████████▌                                                          | 220/814 [01:32<03:37,  2.73it/s]"
     ]
    },
    {
     "name": "stdout",
     "output_type": "stream",
     "text": [
      "lables [1]\n",
      "C:\\Users\\Sai Krishna\\Desktop\\Bird-Species-Classification-main 2\\Bird-Species-Classification-main\\archive\\train\\Northern Cardinal\\412668-4.wav\n",
      "C:\\Users\\Sai Krishna\\Desktop\\Bird-Species-Classification-main 2\\Bird-Species-Classification-main\\archive\\train\\Northern Cardinal\\412668-4.wav\n"
     ]
    },
    {
     "name": "stderr",
     "output_type": "stream",
     "text": [
      " 27%|█████████████████████▋                                                          | 221/814 [01:32<03:37,  2.73it/s]"
     ]
    },
    {
     "name": "stdout",
     "output_type": "stream",
     "text": [
      "lables [4]\n",
      "C:\\Users\\Sai Krishna\\Desktop\\Bird-Species-Classification-main 2\\Bird-Species-Classification-main\\archive\\train\\Song Sparrow\\325378-10.wav\n",
      "C:\\Users\\Sai Krishna\\Desktop\\Bird-Species-Classification-main 2\\Bird-Species-Classification-main\\archive\\train\\Song Sparrow\\325378-10.wav\n"
     ]
    },
    {
     "name": "stderr",
     "output_type": "stream",
     "text": [
      " 27%|█████████████████████▊                                                          | 222/814 [01:33<03:41,  2.67it/s]"
     ]
    },
    {
     "name": "stdout",
     "output_type": "stream",
     "text": [
      "lables [0]\n",
      "C:\\Users\\Sai Krishna\\Desktop\\Bird-Species-Classification-main 2\\Bird-Species-Classification-main\\archive\\train\\Bewick's Wren\\178016-4.wav\n",
      "C:\\Users\\Sai Krishna\\Desktop\\Bird-Species-Classification-main 2\\Bird-Species-Classification-main\\archive\\train\\Bewick's Wren\\178016-4.wav\n"
     ]
    },
    {
     "name": "stderr",
     "output_type": "stream",
     "text": [
      " 27%|█████████████████████▉                                                          | 223/814 [01:33<03:50,  2.57it/s]"
     ]
    },
    {
     "name": "stdout",
     "output_type": "stream",
     "text": [
      "lables [4]\n",
      "C:\\Users\\Sai Krishna\\Desktop\\Bird-Species-Classification-main 2\\Bird-Species-Classification-main\\archive\\train\\Northern Cardinal\\233122-4.wav\n",
      "C:\\Users\\Sai Krishna\\Desktop\\Bird-Species-Classification-main 2\\Bird-Species-Classification-main\\archive\\train\\Northern Cardinal\\233122-4.wav\n"
     ]
    },
    {
     "name": "stderr",
     "output_type": "stream",
     "text": [
      " 28%|██████████████████████                                                          | 224/814 [01:33<03:57,  2.49it/s]"
     ]
    },
    {
     "name": "stdout",
     "output_type": "stream",
     "text": [
      "lables [3]\n",
      "C:\\Users\\Sai Krishna\\Desktop\\Bird-Species-Classification-main 2\\Bird-Species-Classification-main\\archive\\train\\Northern Mockingbird\\172648-12.wav\n",
      "C:\\Users\\Sai Krishna\\Desktop\\Bird-Species-Classification-main 2\\Bird-Species-Classification-main\\archive\\train\\Northern Mockingbird\\172648-12.wav\n"
     ]
    },
    {
     "name": "stderr",
     "output_type": "stream",
     "text": [
      " 28%|██████████████████████                                                          | 225/814 [01:34<04:01,  2.44it/s]"
     ]
    },
    {
     "name": "stdout",
     "output_type": "stream",
     "text": [
      "lables [1]\n",
      "C:\\Users\\Sai Krishna\\Desktop\\Bird-Species-Classification-main 2\\Bird-Species-Classification-main\\archive\\train\\American Robin\\313352-0.wav\n",
      "C:\\Users\\Sai Krishna\\Desktop\\Bird-Species-Classification-main 2\\Bird-Species-Classification-main\\archive\\train\\American Robin\\313352-0.wav\n"
     ]
    },
    {
     "name": "stderr",
     "output_type": "stream",
     "text": [
      " 28%|██████████████████████▏                                                         | 226/814 [01:34<04:04,  2.41it/s]"
     ]
    },
    {
     "name": "stdout",
     "output_type": "stream",
     "text": [
      "lables [3]\n",
      "C:\\Users\\Sai Krishna\\Desktop\\Bird-Species-Classification-main 2\\Bird-Species-Classification-main\\archive\\train\\Northern Cardinal\\169226-6.wav\n",
      "C:\\Users\\Sai Krishna\\Desktop\\Bird-Species-Classification-main 2\\Bird-Species-Classification-main\\archive\\train\\Northern Cardinal\\169226-6.wav\n"
     ]
    },
    {
     "name": "stderr",
     "output_type": "stream",
     "text": [
      " 28%|██████████████████████▎                                                         | 227/814 [01:35<04:10,  2.35it/s]"
     ]
    },
    {
     "name": "stdout",
     "output_type": "stream",
     "text": [
      "lables [2]\n",
      "C:\\Users\\Sai Krishna\\Desktop\\Bird-Species-Classification-main 2\\Bird-Species-Classification-main\\archive\\train\\Northern Mockingbird\\34576-8.wav\n",
      "C:\\Users\\Sai Krishna\\Desktop\\Bird-Species-Classification-main 2\\Bird-Species-Classification-main\\archive\\train\\Northern Mockingbird\\34576-8.wav\n"
     ]
    },
    {
     "name": "stderr",
     "output_type": "stream",
     "text": [
      " 28%|██████████████████████▍                                                         | 228/814 [01:35<04:16,  2.29it/s]"
     ]
    },
    {
     "name": "stdout",
     "output_type": "stream",
     "text": [
      "lables [1]\n",
      "C:\\Users\\Sai Krishna\\Desktop\\Bird-Species-Classification-main 2\\Bird-Species-Classification-main\\archive\\train\\Song Sparrow\\288000-7.wav\n",
      "C:\\Users\\Sai Krishna\\Desktop\\Bird-Species-Classification-main 2\\Bird-Species-Classification-main\\archive\\train\\Song Sparrow\\288000-7.wav\n"
     ]
    },
    {
     "name": "stderr",
     "output_type": "stream",
     "text": [
      " 28%|██████████████████████▌                                                         | 229/814 [01:36<04:19,  2.25it/s]"
     ]
    },
    {
     "name": "stdout",
     "output_type": "stream",
     "text": [
      "lables [1]\n",
      "C:\\Users\\Sai Krishna\\Desktop\\Bird-Species-Classification-main 2\\Bird-Species-Classification-main\\archive\\train\\Northern Mockingbird\\499260-0.wav\n",
      "C:\\Users\\Sai Krishna\\Desktop\\Bird-Species-Classification-main 2\\Bird-Species-Classification-main\\archive\\train\\Northern Mockingbird\\499260-0.wav\n"
     ]
    },
    {
     "name": "stderr",
     "output_type": "stream",
     "text": [
      " 28%|██████████████████████▌                                                         | 230/814 [01:36<04:14,  2.29it/s]"
     ]
    },
    {
     "name": "stdout",
     "output_type": "stream",
     "text": [
      "lables [1]\n",
      "C:\\Users\\Sai Krishna\\Desktop\\Bird-Species-Classification-main 2\\Bird-Species-Classification-main\\archive\\train\\Song Sparrow\\288000-2.wav\n",
      "C:\\Users\\Sai Krishna\\Desktop\\Bird-Species-Classification-main 2\\Bird-Species-Classification-main\\archive\\train\\Song Sparrow\\288000-2.wav\n"
     ]
    },
    {
     "name": "stderr",
     "output_type": "stream",
     "text": [
      " 28%|██████████████████████▋                                                         | 231/814 [01:36<04:14,  2.29it/s]"
     ]
    },
    {
     "name": "stdout",
     "output_type": "stream",
     "text": [
      "lables [0]\n",
      "C:\\Users\\Sai Krishna\\Desktop\\Bird-Species-Classification-main 2\\Bird-Species-Classification-main\\archive\\train\\Northern Mockingbird\\343928-1.wav\n",
      "C:\\Users\\Sai Krishna\\Desktop\\Bird-Species-Classification-main 2\\Bird-Species-Classification-main\\archive\\train\\Northern Mockingbird\\343928-1.wav\n"
     ]
    },
    {
     "name": "stderr",
     "output_type": "stream",
     "text": [
      " 29%|██████████████████████▊                                                         | 232/814 [01:37<04:14,  2.29it/s]"
     ]
    },
    {
     "name": "stdout",
     "output_type": "stream",
     "text": [
      "lables [1]\n",
      "C:\\Users\\Sai Krishna\\Desktop\\Bird-Species-Classification-main 2\\Bird-Species-Classification-main\\archive\\train\\American Robin\\165292-2.wav\n",
      "C:\\Users\\Sai Krishna\\Desktop\\Bird-Species-Classification-main 2\\Bird-Species-Classification-main\\archive\\train\\American Robin\\165292-2.wav\n"
     ]
    },
    {
     "name": "stderr",
     "output_type": "stream",
     "text": [
      " 29%|██████████████████████▉                                                         | 233/814 [01:37<04:13,  2.29it/s]"
     ]
    },
    {
     "name": "stdout",
     "output_type": "stream",
     "text": [
      "lables [3]\n",
      "C:\\Users\\Sai Krishna\\Desktop\\Bird-Species-Classification-main 2\\Bird-Species-Classification-main\\archive\\train\\American Robin\\464766-14.wav\n",
      "C:\\Users\\Sai Krishna\\Desktop\\Bird-Species-Classification-main 2\\Bird-Species-Classification-main\\archive\\train\\American Robin\\464766-14.wav\n"
     ]
    },
    {
     "name": "stderr",
     "output_type": "stream",
     "text": [
      " 29%|██████████████████████▉                                                         | 234/814 [01:38<04:10,  2.31it/s]"
     ]
    },
    {
     "name": "stdout",
     "output_type": "stream",
     "text": [
      "lables [3]\n",
      "C:\\Users\\Sai Krishna\\Desktop\\Bird-Species-Classification-main 2\\Bird-Species-Classification-main\\archive\\train\\Northern Cardinal\\489171-7.wav\n",
      "C:\\Users\\Sai Krishna\\Desktop\\Bird-Species-Classification-main 2\\Bird-Species-Classification-main\\archive\\train\\Northern Cardinal\\489171-7.wav\n"
     ]
    },
    {
     "name": "stderr",
     "output_type": "stream",
     "text": [
      " 29%|███████████████████████                                                         | 235/814 [01:38<04:09,  2.32it/s]"
     ]
    },
    {
     "name": "stdout",
     "output_type": "stream",
     "text": [
      "lables [0]\n",
      "C:\\Users\\Sai Krishna\\Desktop\\Bird-Species-Classification-main 2\\Bird-Species-Classification-main\\archive\\train\\Bewick's Wren\\217911-6.wav\n",
      "C:\\Users\\Sai Krishna\\Desktop\\Bird-Species-Classification-main 2\\Bird-Species-Classification-main\\archive\\train\\Bewick's Wren\\217911-6.wav\n"
     ]
    },
    {
     "name": "stderr",
     "output_type": "stream",
     "text": [
      " 29%|███████████████████████▏                                                        | 236/814 [01:39<04:07,  2.33it/s]"
     ]
    },
    {
     "name": "stdout",
     "output_type": "stream",
     "text": [
      "lables [4]\n",
      "C:\\Users\\Sai Krishna\\Desktop\\Bird-Species-Classification-main 2\\Bird-Species-Classification-main\\archive\\train\\American Robin\\351863-6.wav\n",
      "C:\\Users\\Sai Krishna\\Desktop\\Bird-Species-Classification-main 2\\Bird-Species-Classification-main\\archive\\train\\American Robin\\351863-6.wav\n"
     ]
    },
    {
     "name": "stderr",
     "output_type": "stream",
     "text": [
      " 29%|███████████████████████▎                                                        | 237/814 [01:39<04:08,  2.33it/s]"
     ]
    },
    {
     "name": "stdout",
     "output_type": "stream",
     "text": [
      "lables [3]\n",
      "C:\\Users\\Sai Krishna\\Desktop\\Bird-Species-Classification-main 2\\Bird-Species-Classification-main\\archive\\train\\Song Sparrow\\363142-10.wav\n",
      "C:\\Users\\Sai Krishna\\Desktop\\Bird-Species-Classification-main 2\\Bird-Species-Classification-main\\archive\\train\\Song Sparrow\\363142-10.wav\n"
     ]
    },
    {
     "name": "stderr",
     "output_type": "stream",
     "text": [
      " 29%|███████████████████████▍                                                        | 238/814 [01:39<04:03,  2.36it/s]"
     ]
    },
    {
     "name": "stdout",
     "output_type": "stream",
     "text": [
      "lables [0]\n",
      "C:\\Users\\Sai Krishna\\Desktop\\Bird-Species-Classification-main 2\\Bird-Species-Classification-main\\archive\\train\\Northern Cardinal\\317266-4.wav\n",
      "C:\\Users\\Sai Krishna\\Desktop\\Bird-Species-Classification-main 2\\Bird-Species-Classification-main\\archive\\train\\Northern Cardinal\\317266-4.wav\n"
     ]
    },
    {
     "name": "stderr",
     "output_type": "stream",
     "text": [
      " 29%|███████████████████████▍                                                        | 239/814 [01:40<03:49,  2.51it/s]"
     ]
    },
    {
     "name": "stdout",
     "output_type": "stream",
     "text": [
      "lables [2]\n",
      "C:\\Users\\Sai Krishna\\Desktop\\Bird-Species-Classification-main 2\\Bird-Species-Classification-main\\archive\\train\\Northern Cardinal\\82113-0.wav\n",
      "C:\\Users\\Sai Krishna\\Desktop\\Bird-Species-Classification-main 2\\Bird-Species-Classification-main\\archive\\train\\Northern Cardinal\\82113-0.wav\n"
     ]
    },
    {
     "name": "stderr",
     "output_type": "stream",
     "text": [
      " 29%|███████████████████████▌                                                        | 240/814 [01:40<03:42,  2.58it/s]"
     ]
    },
    {
     "name": "stdout",
     "output_type": "stream",
     "text": [
      "lables [2]\n",
      "C:\\Users\\Sai Krishna\\Desktop\\Bird-Species-Classification-main 2\\Bird-Species-Classification-main\\archive\\train\\Bewick's Wren\\109668-0.wav\n",
      "C:\\Users\\Sai Krishna\\Desktop\\Bird-Species-Classification-main 2\\Bird-Species-Classification-main\\archive\\train\\Bewick's Wren\\109668-0.wav\n"
     ]
    },
    {
     "name": "stderr",
     "output_type": "stream",
     "text": [
      " 30%|███████████████████████▋                                                        | 241/814 [01:40<03:35,  2.66it/s]"
     ]
    },
    {
     "name": "stdout",
     "output_type": "stream",
     "text": [
      "lables [4]\n",
      "C:\\Users\\Sai Krishna\\Desktop\\Bird-Species-Classification-main 2\\Bird-Species-Classification-main\\archive\\train\\Song Sparrow\\481115-12.wav\n",
      "C:\\Users\\Sai Krishna\\Desktop\\Bird-Species-Classification-main 2\\Bird-Species-Classification-main\\archive\\train\\Song Sparrow\\481115-12.wav\n"
     ]
    },
    {
     "name": "stderr",
     "output_type": "stream",
     "text": [
      " 30%|███████████████████████▊                                                        | 242/814 [01:41<04:34,  2.08it/s]"
     ]
    },
    {
     "name": "stdout",
     "output_type": "stream",
     "text": [
      "lables [0]\n",
      "C:\\Users\\Sai Krishna\\Desktop\\Bird-Species-Classification-main 2\\Bird-Species-Classification-main\\archive\\train\\Northern Mockingbird\\321789-4.wav\n",
      "C:\\Users\\Sai Krishna\\Desktop\\Bird-Species-Classification-main 2\\Bird-Species-Classification-main\\archive\\train\\Northern Mockingbird\\321789-4.wav\n"
     ]
    },
    {
     "name": "stderr",
     "output_type": "stream",
     "text": [
      " 30%|███████████████████████▉                                                        | 243/814 [01:42<04:14,  2.24it/s]"
     ]
    },
    {
     "name": "stdout",
     "output_type": "stream",
     "text": [
      "lables [1]\n",
      "C:\\Users\\Sai Krishna\\Desktop\\Bird-Species-Classification-main 2\\Bird-Species-Classification-main\\archive\\train\\Northern Cardinal\\175226-9.wav\n",
      "C:\\Users\\Sai Krishna\\Desktop\\Bird-Species-Classification-main 2\\Bird-Species-Classification-main\\archive\\train\\Northern Cardinal\\175226-9.wav\n"
     ]
    },
    {
     "name": "stderr",
     "output_type": "stream",
     "text": [
      " 30%|███████████████████████▉                                                        | 244/814 [01:42<03:59,  2.38it/s]"
     ]
    },
    {
     "name": "stdout",
     "output_type": "stream",
     "text": [
      "lables [2]\n",
      "C:\\Users\\Sai Krishna\\Desktop\\Bird-Species-Classification-main 2\\Bird-Species-Classification-main\\archive\\train\\Song Sparrow\\483978-14.wav\n",
      "C:\\Users\\Sai Krishna\\Desktop\\Bird-Species-Classification-main 2\\Bird-Species-Classification-main\\archive\\train\\Song Sparrow\\483978-14.wav\n"
     ]
    },
    {
     "name": "stderr",
     "output_type": "stream",
     "text": [
      " 30%|████████████████████████                                                        | 245/814 [01:42<03:53,  2.43it/s]"
     ]
    },
    {
     "name": "stdout",
     "output_type": "stream",
     "text": [
      "lables [0]\n",
      "C:\\Users\\Sai Krishna\\Desktop\\Bird-Species-Classification-main 2\\Bird-Species-Classification-main\\archive\\train\\Northern Mockingbird\\552447-0.wav\n",
      "C:\\Users\\Sai Krishna\\Desktop\\Bird-Species-Classification-main 2\\Bird-Species-Classification-main\\archive\\train\\Northern Mockingbird\\552447-0.wav\n"
     ]
    },
    {
     "name": "stderr",
     "output_type": "stream",
     "text": [
      " 30%|████████████████████████▏                                                       | 246/814 [01:43<03:48,  2.49it/s]"
     ]
    },
    {
     "name": "stdout",
     "output_type": "stream",
     "text": [
      "lables [1]\n",
      "C:\\Users\\Sai Krishna\\Desktop\\Bird-Species-Classification-main 2\\Bird-Species-Classification-main\\archive\\train\\American Robin\\34766-2.wav\n",
      "C:\\Users\\Sai Krishna\\Desktop\\Bird-Species-Classification-main 2\\Bird-Species-Classification-main\\archive\\train\\American Robin\\34766-2.wav\n"
     ]
    },
    {
     "name": "stderr",
     "output_type": "stream",
     "text": [
      " 30%|████████████████████████▎                                                       | 247/814 [01:43<03:57,  2.39it/s]"
     ]
    },
    {
     "name": "stdout",
     "output_type": "stream",
     "text": [
      "lables [1]\n",
      "C:\\Users\\Sai Krishna\\Desktop\\Bird-Species-Classification-main 2\\Bird-Species-Classification-main\\archive\\train\\Bewick's Wren\\351041-2.wav\n",
      "C:\\Users\\Sai Krishna\\Desktop\\Bird-Species-Classification-main 2\\Bird-Species-Classification-main\\archive\\train\\Bewick's Wren\\351041-2.wav\n"
     ]
    },
    {
     "name": "stderr",
     "output_type": "stream",
     "text": [
      " 30%|████████████████████████▎                                                       | 248/814 [01:44<04:00,  2.35it/s]"
     ]
    },
    {
     "name": "stdout",
     "output_type": "stream",
     "text": [
      "lables [4]\n",
      "C:\\Users\\Sai Krishna\\Desktop\\Bird-Species-Classification-main 2\\Bird-Species-Classification-main\\archive\\train\\Song Sparrow\\142620-11.wav\n",
      "C:\\Users\\Sai Krishna\\Desktop\\Bird-Species-Classification-main 2\\Bird-Species-Classification-main\\archive\\train\\Song Sparrow\\142620-11.wav\n"
     ]
    },
    {
     "name": "stderr",
     "output_type": "stream",
     "text": [
      " 31%|████████████████████████▍                                                       | 249/814 [01:44<04:04,  2.31it/s]"
     ]
    },
    {
     "name": "stdout",
     "output_type": "stream",
     "text": [
      "lables [0]\n",
      "C:\\Users\\Sai Krishna\\Desktop\\Bird-Species-Classification-main 2\\Bird-Species-Classification-main\\archive\\train\\Bewick's Wren\\469007-1.wav\n",
      "C:\\Users\\Sai Krishna\\Desktop\\Bird-Species-Classification-main 2\\Bird-Species-Classification-main\\archive\\train\\Bewick's Wren\\469007-1.wav\n"
     ]
    },
    {
     "name": "stderr",
     "output_type": "stream",
     "text": [
      " 31%|████████████████████████▌                                                       | 250/814 [01:44<04:05,  2.29it/s]"
     ]
    },
    {
     "name": "stdout",
     "output_type": "stream",
     "text": [
      "lables [4]\n",
      "C:\\Users\\Sai Krishna\\Desktop\\Bird-Species-Classification-main 2\\Bird-Species-Classification-main\\archive\\train\\American Robin\\322565-6.wav\n",
      "C:\\Users\\Sai Krishna\\Desktop\\Bird-Species-Classification-main 2\\Bird-Species-Classification-main\\archive\\train\\American Robin\\322565-6.wav\n"
     ]
    },
    {
     "name": "stderr",
     "output_type": "stream",
     "text": [
      " 31%|████████████████████████▋                                                       | 251/814 [01:45<04:06,  2.28it/s]"
     ]
    },
    {
     "name": "stdout",
     "output_type": "stream",
     "text": [
      "lables [0]\n",
      "C:\\Users\\Sai Krishna\\Desktop\\Bird-Species-Classification-main 2\\Bird-Species-Classification-main\\archive\\train\\American Robin\\320027-4.wav\n",
      "C:\\Users\\Sai Krishna\\Desktop\\Bird-Species-Classification-main 2\\Bird-Species-Classification-main\\archive\\train\\American Robin\\320027-4.wav\n"
     ]
    },
    {
     "name": "stderr",
     "output_type": "stream",
     "text": [
      " 31%|████████████████████████▊                                                       | 252/814 [01:45<04:06,  2.28it/s]"
     ]
    },
    {
     "name": "stdout",
     "output_type": "stream",
     "text": [
      "lables [3]\n",
      "C:\\Users\\Sai Krishna\\Desktop\\Bird-Species-Classification-main 2\\Bird-Species-Classification-main\\archive\\train\\Northern Mockingbird\\469351-1.wav\n",
      "C:\\Users\\Sai Krishna\\Desktop\\Bird-Species-Classification-main 2\\Bird-Species-Classification-main\\archive\\train\\Northern Mockingbird\\469351-1.wav\n"
     ]
    },
    {
     "name": "stderr",
     "output_type": "stream",
     "text": [
      " 31%|████████████████████████▊                                                       | 253/814 [01:46<04:04,  2.30it/s]"
     ]
    },
    {
     "name": "stdout",
     "output_type": "stream",
     "text": [
      "lables [1]\n",
      "C:\\Users\\Sai Krishna\\Desktop\\Bird-Species-Classification-main 2\\Bird-Species-Classification-main\\archive\\train\\American Robin\\165272-5.wav\n",
      "C:\\Users\\Sai Krishna\\Desktop\\Bird-Species-Classification-main 2\\Bird-Species-Classification-main\\archive\\train\\American Robin\\165272-5.wav\n"
     ]
    },
    {
     "name": "stderr",
     "output_type": "stream",
     "text": [
      " 31%|████████████████████████▉                                                       | 254/814 [01:46<04:02,  2.31it/s]"
     ]
    },
    {
     "name": "stdout",
     "output_type": "stream",
     "text": [
      "lables [3]\n",
      "C:\\Users\\Sai Krishna\\Desktop\\Bird-Species-Classification-main 2\\Bird-Species-Classification-main\\archive\\train\\Northern Mockingbird\\321941-2.wav\n",
      "C:\\Users\\Sai Krishna\\Desktop\\Bird-Species-Classification-main 2\\Bird-Species-Classification-main\\archive\\train\\Northern Mockingbird\\321941-2.wav\n"
     ]
    },
    {
     "name": "stderr",
     "output_type": "stream",
     "text": [
      " 31%|█████████████████████████                                                       | 255/814 [01:47<04:02,  2.30it/s]"
     ]
    },
    {
     "name": "stdout",
     "output_type": "stream",
     "text": [
      "lables [1]\n",
      "C:\\Users\\Sai Krishna\\Desktop\\Bird-Species-Classification-main 2\\Bird-Species-Classification-main\\archive\\train\\American Robin\\468991-11.wav\n",
      "C:\\Users\\Sai Krishna\\Desktop\\Bird-Species-Classification-main 2\\Bird-Species-Classification-main\\archive\\train\\American Robin\\468991-11.wav\n"
     ]
    },
    {
     "name": "stderr",
     "output_type": "stream",
     "text": [
      " 31%|█████████████████████████▏                                                      | 256/814 [01:47<04:02,  2.31it/s]"
     ]
    },
    {
     "name": "stdout",
     "output_type": "stream",
     "text": [
      "lables [3]\n",
      "C:\\Users\\Sai Krishna\\Desktop\\Bird-Species-Classification-main 2\\Bird-Species-Classification-main\\archive\\train\\Northern Mockingbird\\470300-1.wav\n",
      "C:\\Users\\Sai Krishna\\Desktop\\Bird-Species-Classification-main 2\\Bird-Species-Classification-main\\archive\\train\\Northern Mockingbird\\470300-1.wav\n"
     ]
    },
    {
     "name": "stderr",
     "output_type": "stream",
     "text": [
      " 32%|█████████████████████████▎                                                      | 257/814 [01:48<03:59,  2.32it/s]"
     ]
    },
    {
     "name": "stdout",
     "output_type": "stream",
     "text": [
      "lables [1]\n",
      "C:\\Users\\Sai Krishna\\Desktop\\Bird-Species-Classification-main 2\\Bird-Species-Classification-main\\archive\\train\\Northern Cardinal\\372866-3.wav\n",
      "C:\\Users\\Sai Krishna\\Desktop\\Bird-Species-Classification-main 2\\Bird-Species-Classification-main\\archive\\train\\Northern Cardinal\\372866-3.wav\n"
     ]
    },
    {
     "name": "stderr",
     "output_type": "stream",
     "text": [
      " 32%|█████████████████████████▎                                                      | 258/814 [01:48<04:00,  2.31it/s]"
     ]
    },
    {
     "name": "stdout",
     "output_type": "stream",
     "text": [
      "lables [2]\n",
      "C:\\Users\\Sai Krishna\\Desktop\\Bird-Species-Classification-main 2\\Bird-Species-Classification-main\\archive\\train\\Northern Cardinal\\20420-10.wav\n",
      "C:\\Users\\Sai Krishna\\Desktop\\Bird-Species-Classification-main 2\\Bird-Species-Classification-main\\archive\\train\\Northern Cardinal\\20420-10.wav\n"
     ]
    },
    {
     "name": "stderr",
     "output_type": "stream",
     "text": [
      " 32%|█████████████████████████▍                                                      | 259/814 [01:48<03:58,  2.33it/s]"
     ]
    },
    {
     "name": "stdout",
     "output_type": "stream",
     "text": [
      "lables [2]\n",
      "C:\\Users\\Sai Krishna\\Desktop\\Bird-Species-Classification-main 2\\Bird-Species-Classification-main\\archive\\train\\Song Sparrow\\121281-12.wav\n",
      "C:\\Users\\Sai Krishna\\Desktop\\Bird-Species-Classification-main 2\\Bird-Species-Classification-main\\archive\\train\\Song Sparrow\\121281-12.wav\n"
     ]
    },
    {
     "name": "stderr",
     "output_type": "stream",
     "text": [
      " 32%|█████████████████████████▌                                                      | 260/814 [01:49<03:59,  2.31it/s]"
     ]
    },
    {
     "name": "stdout",
     "output_type": "stream",
     "text": [
      "lables [0]\n",
      "C:\\Users\\Sai Krishna\\Desktop\\Bird-Species-Classification-main 2\\Bird-Species-Classification-main\\archive\\train\\Song Sparrow\\565240-8.wav\n",
      "C:\\Users\\Sai Krishna\\Desktop\\Bird-Species-Classification-main 2\\Bird-Species-Classification-main\\archive\\train\\Song Sparrow\\565240-8.wav\n"
     ]
    },
    {
     "name": "stderr",
     "output_type": "stream",
     "text": [
      " 32%|█████████████████████████▋                                                      | 261/814 [01:49<03:54,  2.36it/s]"
     ]
    },
    {
     "name": "stdout",
     "output_type": "stream",
     "text": [
      "lables [0]\n",
      "C:\\Users\\Sai Krishna\\Desktop\\Bird-Species-Classification-main 2\\Bird-Species-Classification-main\\archive\\train\\Bewick's Wren\\178015-12.wav\n",
      "C:\\Users\\Sai Krishna\\Desktop\\Bird-Species-Classification-main 2\\Bird-Species-Classification-main\\archive\\train\\Bewick's Wren\\178015-12.wav\n"
     ]
    },
    {
     "name": "stderr",
     "output_type": "stream",
     "text": [
      " 32%|█████████████████████████▋                                                      | 262/814 [01:50<03:39,  2.51it/s]"
     ]
    },
    {
     "name": "stdout",
     "output_type": "stream",
     "text": [
      "lables [4]\n",
      "C:\\Users\\Sai Krishna\\Desktop\\Bird-Species-Classification-main 2\\Bird-Species-Classification-main\\archive\\train\\Northern Cardinal\\451804-6.wav\n",
      "C:\\Users\\Sai Krishna\\Desktop\\Bird-Species-Classification-main 2\\Bird-Species-Classification-main\\archive\\train\\Northern Cardinal\\451804-6.wav\n"
     ]
    },
    {
     "name": "stderr",
     "output_type": "stream",
     "text": [
      " 32%|█████████████████████████▊                                                      | 263/814 [01:50<03:31,  2.61it/s]"
     ]
    },
    {
     "name": "stdout",
     "output_type": "stream",
     "text": [
      "lables [2]\n",
      "C:\\Users\\Sai Krishna\\Desktop\\Bird-Species-Classification-main 2\\Bird-Species-Classification-main\\archive\\train\\Song Sparrow\\381570-0.wav\n",
      "C:\\Users\\Sai Krishna\\Desktop\\Bird-Species-Classification-main 2\\Bird-Species-Classification-main\\archive\\train\\Song Sparrow\\381570-0.wav\n"
     ]
    },
    {
     "name": "stderr",
     "output_type": "stream",
     "text": [
      " 32%|█████████████████████████▉                                                      | 264/814 [01:50<03:25,  2.68it/s]"
     ]
    },
    {
     "name": "stdout",
     "output_type": "stream",
     "text": [
      "lables [0]\n",
      "C:\\Users\\Sai Krishna\\Desktop\\Bird-Species-Classification-main 2\\Bird-Species-Classification-main\\archive\\train\\American Robin\\562221-5.wav\n",
      "C:\\Users\\Sai Krishna\\Desktop\\Bird-Species-Classification-main 2\\Bird-Species-Classification-main\\archive\\train\\American Robin\\562221-5.wav\n"
     ]
    },
    {
     "name": "stderr",
     "output_type": "stream",
     "text": [
      " 33%|██████████████████████████                                                      | 265/814 [01:51<03:18,  2.77it/s]"
     ]
    },
    {
     "name": "stdout",
     "output_type": "stream",
     "text": [
      "lables [3]\n",
      "C:\\Users\\Sai Krishna\\Desktop\\Bird-Species-Classification-main 2\\Bird-Species-Classification-main\\archive\\train\\American Robin\\70119-11.wav\n",
      "C:\\Users\\Sai Krishna\\Desktop\\Bird-Species-Classification-main 2\\Bird-Species-Classification-main\\archive\\train\\American Robin\\70119-11.wav\n"
     ]
    },
    {
     "name": "stderr",
     "output_type": "stream",
     "text": [
      " 33%|██████████████████████████▏                                                     | 266/814 [01:51<03:15,  2.80it/s]"
     ]
    },
    {
     "name": "stdout",
     "output_type": "stream",
     "text": [
      "lables [3]\n",
      "C:\\Users\\Sai Krishna\\Desktop\\Bird-Species-Classification-main 2\\Bird-Species-Classification-main\\archive\\train\\Bewick's Wren\\89833-2.wav\n",
      "C:\\Users\\Sai Krishna\\Desktop\\Bird-Species-Classification-main 2\\Bird-Species-Classification-main\\archive\\train\\Bewick's Wren\\89833-2.wav\n"
     ]
    },
    {
     "name": "stderr",
     "output_type": "stream",
     "text": [
      " 33%|██████████████████████████▏                                                     | 267/814 [01:51<03:17,  2.76it/s]"
     ]
    },
    {
     "name": "stdout",
     "output_type": "stream",
     "text": [
      "lables [4]\n",
      "C:\\Users\\Sai Krishna\\Desktop\\Bird-Species-Classification-main 2\\Bird-Species-Classification-main\\archive\\train\\Song Sparrow\\111655-4.wav\n",
      "C:\\Users\\Sai Krishna\\Desktop\\Bird-Species-Classification-main 2\\Bird-Species-Classification-main\\archive\\train\\Song Sparrow\\111655-4.wav\n"
     ]
    },
    {
     "name": "stderr",
     "output_type": "stream",
     "text": [
      " 33%|██████████████████████████▎                                                     | 268/814 [01:52<03:15,  2.79it/s]"
     ]
    },
    {
     "name": "stdout",
     "output_type": "stream",
     "text": [
      "lables [0]\n",
      "C:\\Users\\Sai Krishna\\Desktop\\Bird-Species-Classification-main 2\\Bird-Species-Classification-main\\archive\\train\\Northern Mockingbird\\423438-11.wav\n",
      "C:\\Users\\Sai Krishna\\Desktop\\Bird-Species-Classification-main 2\\Bird-Species-Classification-main\\archive\\train\\Northern Mockingbird\\423438-11.wav\n"
     ]
    },
    {
     "name": "stderr",
     "output_type": "stream",
     "text": [
      " 33%|██████████████████████████▍                                                     | 269/814 [01:52<03:27,  2.63it/s]"
     ]
    },
    {
     "name": "stdout",
     "output_type": "stream",
     "text": [
      "lables [3]\n",
      "C:\\Users\\Sai Krishna\\Desktop\\Bird-Species-Classification-main 2\\Bird-Species-Classification-main\\archive\\train\\Bewick's Wren\\351082-10.wav\n",
      "C:\\Users\\Sai Krishna\\Desktop\\Bird-Species-Classification-main 2\\Bird-Species-Classification-main\\archive\\train\\Bewick's Wren\\351082-10.wav\n"
     ]
    },
    {
     "name": "stderr",
     "output_type": "stream",
     "text": [
      " 33%|██████████████████████████▌                                                     | 270/814 [01:53<03:37,  2.50it/s]"
     ]
    },
    {
     "name": "stdout",
     "output_type": "stream",
     "text": [
      "lables [4]\n",
      "C:\\Users\\Sai Krishna\\Desktop\\Bird-Species-Classification-main 2\\Bird-Species-Classification-main\\archive\\train\\Song Sparrow\\205810-6.wav\n",
      "C:\\Users\\Sai Krishna\\Desktop\\Bird-Species-Classification-main 2\\Bird-Species-Classification-main\\archive\\train\\Song Sparrow\\205810-6.wav\n"
     ]
    },
    {
     "name": "stderr",
     "output_type": "stream",
     "text": [
      " 33%|██████████████████████████▋                                                     | 271/814 [01:53<03:42,  2.44it/s]"
     ]
    },
    {
     "name": "stdout",
     "output_type": "stream",
     "text": [
      "lables [0]\n",
      "C:\\Users\\Sai Krishna\\Desktop\\Bird-Species-Classification-main 2\\Bird-Species-Classification-main\\archive\\train\\Bewick's Wren\\451372-8.wav\n",
      "C:\\Users\\Sai Krishna\\Desktop\\Bird-Species-Classification-main 2\\Bird-Species-Classification-main\\archive\\train\\Bewick's Wren\\451372-8.wav\n"
     ]
    },
    {
     "name": "stderr",
     "output_type": "stream",
     "text": [
      " 33%|██████████████████████████▋                                                     | 272/814 [01:53<03:45,  2.40it/s]"
     ]
    },
    {
     "name": "stdout",
     "output_type": "stream",
     "text": [
      "lables [0]\n",
      "C:\\Users\\Sai Krishna\\Desktop\\Bird-Species-Classification-main 2\\Bird-Species-Classification-main\\archive\\train\\Song Sparrow\\480032-8.wav\n",
      "C:\\Users\\Sai Krishna\\Desktop\\Bird-Species-Classification-main 2\\Bird-Species-Classification-main\\archive\\train\\Song Sparrow\\480032-8.wav\n"
     ]
    },
    {
     "name": "stderr",
     "output_type": "stream",
     "text": [
      " 34%|██████████████████████████▊                                                     | 273/814 [01:54<03:49,  2.36it/s]"
     ]
    },
    {
     "name": "stdout",
     "output_type": "stream",
     "text": [
      "lables [0]\n",
      "C:\\Users\\Sai Krishna\\Desktop\\Bird-Species-Classification-main 2\\Bird-Species-Classification-main\\archive\\train\\Bewick's Wren\\217847-1.wav\n",
      "C:\\Users\\Sai Krishna\\Desktop\\Bird-Species-Classification-main 2\\Bird-Species-Classification-main\\archive\\train\\Bewick's Wren\\217847-1.wav\n"
     ]
    },
    {
     "name": "stderr",
     "output_type": "stream",
     "text": [
      " 34%|██████████████████████████▉                                                     | 274/814 [01:54<03:49,  2.36it/s]"
     ]
    },
    {
     "name": "stdout",
     "output_type": "stream",
     "text": [
      "lables [4]\n",
      "C:\\Users\\Sai Krishna\\Desktop\\Bird-Species-Classification-main 2\\Bird-Species-Classification-main\\archive\\train\\Bewick's Wren\\173148-10.wav\n",
      "C:\\Users\\Sai Krishna\\Desktop\\Bird-Species-Classification-main 2\\Bird-Species-Classification-main\\archive\\train\\Bewick's Wren\\173148-10.wav\n"
     ]
    },
    {
     "name": "stderr",
     "output_type": "stream",
     "text": [
      " 34%|███████████████████████████                                                     | 275/814 [01:55<03:49,  2.35it/s]"
     ]
    },
    {
     "name": "stdout",
     "output_type": "stream",
     "text": [
      "lables [4]\n",
      "C:\\Users\\Sai Krishna\\Desktop\\Bird-Species-Classification-main 2\\Bird-Species-Classification-main\\archive\\train\\Bewick's Wren\\205433-13.wav\n",
      "C:\\Users\\Sai Krishna\\Desktop\\Bird-Species-Classification-main 2\\Bird-Species-Classification-main\\archive\\train\\Bewick's Wren\\205433-13.wav\n"
     ]
    },
    {
     "name": "stderr",
     "output_type": "stream",
     "text": [
      " 34%|███████████████████████████▏                                                    | 276/814 [01:55<03:49,  2.34it/s]"
     ]
    },
    {
     "name": "stdout",
     "output_type": "stream",
     "text": [
      "lables [0]\n",
      "C:\\Users\\Sai Krishna\\Desktop\\Bird-Species-Classification-main 2\\Bird-Species-Classification-main\\archive\\train\\Bewick's Wren\\173154-12.wav\n",
      "C:\\Users\\Sai Krishna\\Desktop\\Bird-Species-Classification-main 2\\Bird-Species-Classification-main\\archive\\train\\Bewick's Wren\\173154-12.wav\n"
     ]
    },
    {
     "name": "stderr",
     "output_type": "stream",
     "text": [
      " 34%|███████████████████████████▏                                                    | 277/814 [01:56<03:49,  2.34it/s]"
     ]
    },
    {
     "name": "stdout",
     "output_type": "stream",
     "text": [
      "lables [4]\n",
      "C:\\Users\\Sai Krishna\\Desktop\\Bird-Species-Classification-main 2\\Bird-Species-Classification-main\\archive\\train\\American Robin\\322734-0.wav\n",
      "C:\\Users\\Sai Krishna\\Desktop\\Bird-Species-Classification-main 2\\Bird-Species-Classification-main\\archive\\train\\American Robin\\322734-0.wav\n"
     ]
    },
    {
     "name": "stderr",
     "output_type": "stream",
     "text": [
      " 34%|███████████████████████████▎                                                    | 278/814 [01:56<03:49,  2.33it/s]"
     ]
    },
    {
     "name": "stdout",
     "output_type": "stream",
     "text": [
      "lables [3]\n",
      "C:\\Users\\Sai Krishna\\Desktop\\Bird-Species-Classification-main 2\\Bird-Species-Classification-main\\archive\\train\\Northern Cardinal\\415386-17.wav\n",
      "C:\\Users\\Sai Krishna\\Desktop\\Bird-Species-Classification-main 2\\Bird-Species-Classification-main\\archive\\train\\Northern Cardinal\\415386-17.wav\n"
     ]
    },
    {
     "name": "stderr",
     "output_type": "stream",
     "text": [
      " 34%|███████████████████████████▍                                                    | 279/814 [01:56<03:49,  2.33it/s]"
     ]
    },
    {
     "name": "stdout",
     "output_type": "stream",
     "text": [
      "lables [0]\n",
      "C:\\Users\\Sai Krishna\\Desktop\\Bird-Species-Classification-main 2\\Bird-Species-Classification-main\\archive\\train\\Northern Mockingbird\\321899-1.wav\n",
      "C:\\Users\\Sai Krishna\\Desktop\\Bird-Species-Classification-main 2\\Bird-Species-Classification-main\\archive\\train\\Northern Mockingbird\\321899-1.wav\n"
     ]
    },
    {
     "name": "stderr",
     "output_type": "stream",
     "text": [
      " 34%|███████████████████████████▌                                                    | 280/814 [01:57<03:45,  2.37it/s]"
     ]
    },
    {
     "name": "stdout",
     "output_type": "stream",
     "text": [
      "lables [1]\n",
      "C:\\Users\\Sai Krishna\\Desktop\\Bird-Species-Classification-main 2\\Bird-Species-Classification-main\\archive\\train\\American Robin\\367008-10.wav\n",
      "C:\\Users\\Sai Krishna\\Desktop\\Bird-Species-Classification-main 2\\Bird-Species-Classification-main\\archive\\train\\American Robin\\367008-10.wav\n"
     ]
    },
    {
     "name": "stderr",
     "output_type": "stream",
     "text": [
      " 35%|███████████████████████████▌                                                    | 281/814 [01:57<03:34,  2.49it/s]"
     ]
    },
    {
     "name": "stdout",
     "output_type": "stream",
     "text": [
      "lables [3]\n",
      "C:\\Users\\Sai Krishna\\Desktop\\Bird-Species-Classification-main 2\\Bird-Species-Classification-main\\archive\\train\\Northern Mockingbird\\317019-3.wav\n",
      "C:\\Users\\Sai Krishna\\Desktop\\Bird-Species-Classification-main 2\\Bird-Species-Classification-main\\archive\\train\\Northern Mockingbird\\317019-3.wav\n"
     ]
    },
    {
     "name": "stderr",
     "output_type": "stream",
     "text": [
      " 35%|███████████████████████████▋                                                    | 282/814 [01:58<03:23,  2.62it/s]"
     ]
    },
    {
     "name": "stdout",
     "output_type": "stream",
     "text": [
      "lables [1]\n",
      "C:\\Users\\Sai Krishna\\Desktop\\Bird-Species-Classification-main 2\\Bird-Species-Classification-main\\archive\\train\\Northern Cardinal\\137583-5.wav\n",
      "C:\\Users\\Sai Krishna\\Desktop\\Bird-Species-Classification-main 2\\Bird-Species-Classification-main\\archive\\train\\Northern Cardinal\\137583-5.wav\n"
     ]
    },
    {
     "name": "stderr",
     "output_type": "stream",
     "text": [
      " 35%|███████████████████████████▊                                                    | 283/814 [01:58<03:17,  2.69it/s]"
     ]
    },
    {
     "name": "stdout",
     "output_type": "stream",
     "text": [
      "lables [2]\n",
      "C:\\Users\\Sai Krishna\\Desktop\\Bird-Species-Classification-main 2\\Bird-Species-Classification-main\\archive\\train\\Northern Cardinal\\220402-2.wav\n",
      "C:\\Users\\Sai Krishna\\Desktop\\Bird-Species-Classification-main 2\\Bird-Species-Classification-main\\archive\\train\\Northern Cardinal\\220402-2.wav\n"
     ]
    },
    {
     "name": "stderr",
     "output_type": "stream",
     "text": [
      " 35%|███████████████████████████▉                                                    | 284/814 [01:58<03:12,  2.75it/s]"
     ]
    },
    {
     "name": "stdout",
     "output_type": "stream",
     "text": [
      "lables [2]\n",
      "C:\\Users\\Sai Krishna\\Desktop\\Bird-Species-Classification-main 2\\Bird-Species-Classification-main\\archive\\train\\American Robin\\479482-13.wav\n",
      "C:\\Users\\Sai Krishna\\Desktop\\Bird-Species-Classification-main 2\\Bird-Species-Classification-main\\archive\\train\\American Robin\\479482-13.wav\n"
     ]
    },
    {
     "name": "stderr",
     "output_type": "stream",
     "text": [
      " 35%|████████████████████████████                                                    | 285/814 [01:59<03:07,  2.82it/s]"
     ]
    },
    {
     "name": "stdout",
     "output_type": "stream",
     "text": [
      "lables [3]\n",
      "C:\\Users\\Sai Krishna\\Desktop\\Bird-Species-Classification-main 2\\Bird-Species-Classification-main\\archive\\train\\American Robin\\483578-15.wav\n",
      "C:\\Users\\Sai Krishna\\Desktop\\Bird-Species-Classification-main 2\\Bird-Species-Classification-main\\archive\\train\\American Robin\\483578-15.wav\n"
     ]
    },
    {
     "name": "stderr",
     "output_type": "stream",
     "text": [
      " 35%|████████████████████████████                                                    | 286/814 [01:59<03:07,  2.81it/s]"
     ]
    },
    {
     "name": "stdout",
     "output_type": "stream",
     "text": [
      "lables [3]\n",
      "C:\\Users\\Sai Krishna\\Desktop\\Bird-Species-Classification-main 2\\Bird-Species-Classification-main\\archive\\train\\Bewick's Wren\\15270-1.wav\n",
      "C:\\Users\\Sai Krishna\\Desktop\\Bird-Species-Classification-main 2\\Bird-Species-Classification-main\\archive\\train\\Bewick's Wren\\15270-1.wav\n"
     ]
    },
    {
     "name": "stderr",
     "output_type": "stream",
     "text": [
      " 35%|████████████████████████████▏                                                   | 287/814 [01:59<03:07,  2.81it/s]"
     ]
    },
    {
     "name": "stdout",
     "output_type": "stream",
     "text": [
      "lables [4]\n",
      "C:\\Users\\Sai Krishna\\Desktop\\Bird-Species-Classification-main 2\\Bird-Species-Classification-main\\archive\\train\\Northern Cardinal\\372866-7.wav\n",
      "C:\\Users\\Sai Krishna\\Desktop\\Bird-Species-Classification-main 2\\Bird-Species-Classification-main\\archive\\train\\Northern Cardinal\\372866-7.wav\n"
     ]
    },
    {
     "name": "stderr",
     "output_type": "stream",
     "text": [
      " 35%|████████████████████████████▎                                                   | 288/814 [02:00<03:08,  2.79it/s]"
     ]
    },
    {
     "name": "stdout",
     "output_type": "stream",
     "text": [
      "lables [2]\n",
      "C:\\Users\\Sai Krishna\\Desktop\\Bird-Species-Classification-main 2\\Bird-Species-Classification-main\\archive\\train\\American Robin\\175222-9.wav\n",
      "C:\\Users\\Sai Krishna\\Desktop\\Bird-Species-Classification-main 2\\Bird-Species-Classification-main\\archive\\train\\American Robin\\175222-9.wav\n"
     ]
    },
    {
     "name": "stderr",
     "output_type": "stream",
     "text": [
      " 36%|████████████████████████████▍                                                   | 289/814 [02:00<03:07,  2.80it/s]"
     ]
    },
    {
     "name": "stdout",
     "output_type": "stream",
     "text": [
      "lables [1]\n",
      "C:\\Users\\Sai Krishna\\Desktop\\Bird-Species-Classification-main 2\\Bird-Species-Classification-main\\archive\\train\\Northern Cardinal\\409007-10.wav\n",
      "C:\\Users\\Sai Krishna\\Desktop\\Bird-Species-Classification-main 2\\Bird-Species-Classification-main\\archive\\train\\Northern Cardinal\\409007-10.wav\n"
     ]
    },
    {
     "name": "stderr",
     "output_type": "stream",
     "text": [
      " 36%|████████████████████████████▌                                                   | 290/814 [02:00<03:08,  2.78it/s]"
     ]
    },
    {
     "name": "stdout",
     "output_type": "stream",
     "text": [
      "lables [2]\n",
      "C:\\Users\\Sai Krishna\\Desktop\\Bird-Species-Classification-main 2\\Bird-Species-Classification-main\\archive\\train\\American Robin\\34766-5.wav\n",
      "C:\\Users\\Sai Krishna\\Desktop\\Bird-Species-Classification-main 2\\Bird-Species-Classification-main\\archive\\train\\American Robin\\34766-5.wav\n"
     ]
    },
    {
     "name": "stderr",
     "output_type": "stream",
     "text": [
      " 36%|████████████████████████████▌                                                   | 291/814 [02:01<03:10,  2.75it/s]"
     ]
    },
    {
     "name": "stdout",
     "output_type": "stream",
     "text": [
      "lables [3]\n",
      "C:\\Users\\Sai Krishna\\Desktop\\Bird-Species-Classification-main 2\\Bird-Species-Classification-main\\archive\\train\\Song Sparrow\\493448-7.wav\n",
      "C:\\Users\\Sai Krishna\\Desktop\\Bird-Species-Classification-main 2\\Bird-Species-Classification-main\\archive\\train\\Song Sparrow\\493448-7.wav\n"
     ]
    },
    {
     "name": "stderr",
     "output_type": "stream",
     "text": [
      " 36%|████████████████████████████▋                                                   | 292/814 [02:01<03:22,  2.58it/s]"
     ]
    },
    {
     "name": "stdout",
     "output_type": "stream",
     "text": [
      "lables [0]\n",
      "C:\\Users\\Sai Krishna\\Desktop\\Bird-Species-Classification-main 2\\Bird-Species-Classification-main\\archive\\train\\American Robin\\138063-9.wav\n",
      "C:\\Users\\Sai Krishna\\Desktop\\Bird-Species-Classification-main 2\\Bird-Species-Classification-main\\archive\\train\\American Robin\\138063-9.wav\n"
     ]
    },
    {
     "name": "stderr",
     "output_type": "stream",
     "text": [
      " 36%|████████████████████████████▊                                                   | 293/814 [02:02<03:31,  2.46it/s]"
     ]
    },
    {
     "name": "stdout",
     "output_type": "stream",
     "text": [
      "lables [3]\n",
      "C:\\Users\\Sai Krishna\\Desktop\\Bird-Species-Classification-main 2\\Bird-Species-Classification-main\\archive\\train\\Song Sparrow\\111650-7.wav\n",
      "C:\\Users\\Sai Krishna\\Desktop\\Bird-Species-Classification-main 2\\Bird-Species-Classification-main\\archive\\train\\Song Sparrow\\111650-7.wav\n"
     ]
    },
    {
     "name": "stderr",
     "output_type": "stream",
     "text": [
      " 36%|████████████████████████████▉                                                   | 294/814 [02:02<03:35,  2.41it/s]"
     ]
    },
    {
     "name": "stdout",
     "output_type": "stream",
     "text": [
      "lables [0]\n",
      "C:\\Users\\Sai Krishna\\Desktop\\Bird-Species-Classification-main 2\\Bird-Species-Classification-main\\archive\\train\\Northern Mockingbird\\423438-8.wav\n",
      "C:\\Users\\Sai Krishna\\Desktop\\Bird-Species-Classification-main 2\\Bird-Species-Classification-main\\archive\\train\\Northern Mockingbird\\423438-8.wav\n"
     ]
    },
    {
     "name": "stderr",
     "output_type": "stream",
     "text": [
      " 36%|████████████████████████████▉                                                   | 295/814 [02:02<03:37,  2.39it/s]"
     ]
    },
    {
     "name": "stdout",
     "output_type": "stream",
     "text": [
      "lables [1]\n",
      "C:\\Users\\Sai Krishna\\Desktop\\Bird-Species-Classification-main 2\\Bird-Species-Classification-main\\archive\\train\\Northern Cardinal\\143800-2.wav\n",
      "C:\\Users\\Sai Krishna\\Desktop\\Bird-Species-Classification-main 2\\Bird-Species-Classification-main\\archive\\train\\Northern Cardinal\\143800-2.wav\n"
     ]
    },
    {
     "name": "stderr",
     "output_type": "stream",
     "text": [
      " 36%|█████████████████████████████                                                   | 296/814 [02:03<03:39,  2.36it/s]"
     ]
    },
    {
     "name": "stdout",
     "output_type": "stream",
     "text": [
      "lables [1]\n",
      "C:\\Users\\Sai Krishna\\Desktop\\Bird-Species-Classification-main 2\\Bird-Species-Classification-main\\archive\\train\\Northern Mockingbird\\552447-8.wav\n",
      "C:\\Users\\Sai Krishna\\Desktop\\Bird-Species-Classification-main 2\\Bird-Species-Classification-main\\archive\\train\\Northern Mockingbird\\552447-8.wav\n"
     ]
    },
    {
     "name": "stderr",
     "output_type": "stream",
     "text": [
      " 36%|█████████████████████████████▏                                                  | 297/814 [02:03<03:39,  2.35it/s]"
     ]
    },
    {
     "name": "stdout",
     "output_type": "stream",
     "text": [
      "lables [1]\n",
      "C:\\Users\\Sai Krishna\\Desktop\\Bird-Species-Classification-main 2\\Bird-Species-Classification-main\\archive\\train\\Song Sparrow\\121281-9.wav\n",
      "C:\\Users\\Sai Krishna\\Desktop\\Bird-Species-Classification-main 2\\Bird-Species-Classification-main\\archive\\train\\Song Sparrow\\121281-9.wav\n"
     ]
    },
    {
     "name": "stderr",
     "output_type": "stream",
     "text": [
      " 37%|█████████████████████████████▎                                                  | 298/814 [02:04<03:39,  2.35it/s]"
     ]
    },
    {
     "name": "stdout",
     "output_type": "stream",
     "text": [
      "lables [0]\n",
      "C:\\Users\\Sai Krishna\\Desktop\\Bird-Species-Classification-main 2\\Bird-Species-Classification-main\\archive\\train\\Bewick's Wren\\212943-12.wav\n",
      "C:\\Users\\Sai Krishna\\Desktop\\Bird-Species-Classification-main 2\\Bird-Species-Classification-main\\archive\\train\\Bewick's Wren\\212943-12.wav\n"
     ]
    },
    {
     "name": "stderr",
     "output_type": "stream",
     "text": [
      " 37%|█████████████████████████████▍                                                  | 299/814 [02:04<03:41,  2.33it/s]"
     ]
    },
    {
     "name": "stdout",
     "output_type": "stream",
     "text": [
      "lables [4]\n",
      "C:\\Users\\Sai Krishna\\Desktop\\Bird-Species-Classification-main 2\\Bird-Species-Classification-main\\archive\\train\\American Robin\\322884-11.wav\n",
      "C:\\Users\\Sai Krishna\\Desktop\\Bird-Species-Classification-main 2\\Bird-Species-Classification-main\\archive\\train\\American Robin\\322884-11.wav\n"
     ]
    },
    {
     "name": "stderr",
     "output_type": "stream",
     "text": [
      " 37%|█████████████████████████████▍                                                  | 300/814 [02:05<03:42,  2.31it/s]"
     ]
    },
    {
     "name": "stdout",
     "output_type": "stream",
     "text": [
      "lables [3]\n",
      "C:\\Users\\Sai Krishna\\Desktop\\Bird-Species-Classification-main 2\\Bird-Species-Classification-main\\archive\\train\\Song Sparrow\\480224-3.wav\n",
      "C:\\Users\\Sai Krishna\\Desktop\\Bird-Species-Classification-main 2\\Bird-Species-Classification-main\\archive\\train\\Song Sparrow\\480224-3.wav\n"
     ]
    },
    {
     "name": "stderr",
     "output_type": "stream",
     "text": [
      " 37%|█████████████████████████████▌                                                  | 301/814 [02:05<03:40,  2.32it/s]"
     ]
    },
    {
     "name": "stdout",
     "output_type": "stream",
     "text": [
      "lables [0]\n",
      "C:\\Users\\Sai Krishna\\Desktop\\Bird-Species-Classification-main 2\\Bird-Species-Classification-main\\archive\\train\\Northern Cardinal\\18125-3.wav\n",
      "C:\\Users\\Sai Krishna\\Desktop\\Bird-Species-Classification-main 2\\Bird-Species-Classification-main\\archive\\train\\Northern Cardinal\\18125-3.wav\n"
     ]
    },
    {
     "name": "stderr",
     "output_type": "stream",
     "text": [
      " 37%|█████████████████████████████▋                                                  | 302/814 [02:05<03:39,  2.34it/s]"
     ]
    },
    {
     "name": "stdout",
     "output_type": "stream",
     "text": [
      "lables [2]\n",
      "C:\\Users\\Sai Krishna\\Desktop\\Bird-Species-Classification-main 2\\Bird-Species-Classification-main\\archive\\train\\American Robin\\563612-1.wav\n",
      "C:\\Users\\Sai Krishna\\Desktop\\Bird-Species-Classification-main 2\\Bird-Species-Classification-main\\archive\\train\\American Robin\\563612-1.wav\n"
     ]
    },
    {
     "name": "stderr",
     "output_type": "stream",
     "text": [
      " 37%|█████████████████████████████▊                                                  | 303/814 [02:06<03:38,  2.34it/s]"
     ]
    },
    {
     "name": "stdout",
     "output_type": "stream",
     "text": [
      "lables [3]\n",
      "C:\\Users\\Sai Krishna\\Desktop\\Bird-Species-Classification-main 2\\Bird-Species-Classification-main\\archive\\train\\Song Sparrow\\246812-2.wav\n",
      "C:\\Users\\Sai Krishna\\Desktop\\Bird-Species-Classification-main 2\\Bird-Species-Classification-main\\archive\\train\\Song Sparrow\\246812-2.wav\n"
     ]
    },
    {
     "name": "stderr",
     "output_type": "stream",
     "text": [
      " 37%|█████████████████████████████▉                                                  | 304/814 [02:06<03:27,  2.45it/s]"
     ]
    },
    {
     "name": "stdout",
     "output_type": "stream",
     "text": [
      "lables [0]\n",
      "C:\\Users\\Sai Krishna\\Desktop\\Bird-Species-Classification-main 2\\Bird-Species-Classification-main\\archive\\train\\Song Sparrow\\551290-11.wav\n",
      "C:\\Users\\Sai Krishna\\Desktop\\Bird-Species-Classification-main 2\\Bird-Species-Classification-main\\archive\\train\\Song Sparrow\\551290-11.wav\n"
     ]
    },
    {
     "name": "stderr",
     "output_type": "stream",
     "text": [
      " 37%|█████████████████████████████▉                                                  | 305/814 [02:07<03:16,  2.59it/s]"
     ]
    },
    {
     "name": "stdout",
     "output_type": "stream",
     "text": [
      "lables [0]\n",
      "C:\\Users\\Sai Krishna\\Desktop\\Bird-Species-Classification-main 2\\Bird-Species-Classification-main\\archive\\train\\Northern Mockingbird\\538122-5.wav\n",
      "C:\\Users\\Sai Krishna\\Desktop\\Bird-Species-Classification-main 2\\Bird-Species-Classification-main\\archive\\train\\Northern Mockingbird\\538122-5.wav\n"
     ]
    },
    {
     "name": "stderr",
     "output_type": "stream",
     "text": [
      " 38%|██████████████████████████████                                                  | 306/814 [02:07<03:13,  2.63it/s]"
     ]
    },
    {
     "name": "stdout",
     "output_type": "stream",
     "text": [
      "lables [1]\n",
      "C:\\Users\\Sai Krishna\\Desktop\\Bird-Species-Classification-main 2\\Bird-Species-Classification-main\\archive\\train\\Bewick's Wren\\323977-6.wav\n",
      "C:\\Users\\Sai Krishna\\Desktop\\Bird-Species-Classification-main 2\\Bird-Species-Classification-main\\archive\\train\\Bewick's Wren\\323977-6.wav\n"
     ]
    },
    {
     "name": "stderr",
     "output_type": "stream",
     "text": [
      " 38%|██████████████████████████████▏                                                 | 307/814 [02:07<03:09,  2.68it/s]"
     ]
    },
    {
     "name": "stdout",
     "output_type": "stream",
     "text": [
      "lables [4]\n",
      "C:\\Users\\Sai Krishna\\Desktop\\Bird-Species-Classification-main 2\\Bird-Species-Classification-main\\archive\\train\\Northern Cardinal\\109034-6.wav\n",
      "C:\\Users\\Sai Krishna\\Desktop\\Bird-Species-Classification-main 2\\Bird-Species-Classification-main\\archive\\train\\Northern Cardinal\\109034-6.wav\n"
     ]
    },
    {
     "name": "stderr",
     "output_type": "stream",
     "text": [
      " 38%|██████████████████████████████▎                                                 | 308/814 [02:08<03:04,  2.75it/s]"
     ]
    },
    {
     "name": "stdout",
     "output_type": "stream",
     "text": [
      "lables [2]\n",
      "C:\\Users\\Sai Krishna\\Desktop\\Bird-Species-Classification-main 2\\Bird-Species-Classification-main\\archive\\train\\Song Sparrow\\62782-0.wav\n",
      "C:\\Users\\Sai Krishna\\Desktop\\Bird-Species-Classification-main 2\\Bird-Species-Classification-main\\archive\\train\\Song Sparrow\\62782-0.wav\n"
     ]
    },
    {
     "name": "stderr",
     "output_type": "stream",
     "text": [
      " 38%|██████████████████████████████▎                                                 | 309/814 [02:08<03:07,  2.69it/s]"
     ]
    },
    {
     "name": "stdout",
     "output_type": "stream",
     "text": [
      "lables [0]\n",
      "C:\\Users\\Sai Krishna\\Desktop\\Bird-Species-Classification-main 2\\Bird-Species-Classification-main\\archive\\train\\Song Sparrow\\128238-6.wav\n",
      "C:\\Users\\Sai Krishna\\Desktop\\Bird-Species-Classification-main 2\\Bird-Species-Classification-main\\archive\\train\\Song Sparrow\\128238-6.wav\n"
     ]
    },
    {
     "name": "stderr",
     "output_type": "stream",
     "text": [
      " 38%|██████████████████████████████▍                                                 | 310/814 [02:09<03:16,  2.57it/s]"
     ]
    },
    {
     "name": "stdout",
     "output_type": "stream",
     "text": [
      "lables [0]\n",
      "C:\\Users\\Sai Krishna\\Desktop\\Bird-Species-Classification-main 2\\Bird-Species-Classification-main\\archive\\train\\Northern Cardinal\\415386-0.wav\n",
      "C:\\Users\\Sai Krishna\\Desktop\\Bird-Species-Classification-main 2\\Bird-Species-Classification-main\\archive\\train\\Northern Cardinal\\415386-0.wav\n"
     ]
    },
    {
     "name": "stderr",
     "output_type": "stream",
     "text": [
      " 38%|██████████████████████████████▌                                                 | 311/814 [02:09<03:24,  2.46it/s]"
     ]
    },
    {
     "name": "stdout",
     "output_type": "stream",
     "text": [
      "lables [2]\n",
      "C:\\Users\\Sai Krishna\\Desktop\\Bird-Species-Classification-main 2\\Bird-Species-Classification-main\\archive\\train\\Bewick's Wren\\351041-14.wav\n",
      "C:\\Users\\Sai Krishna\\Desktop\\Bird-Species-Classification-main 2\\Bird-Species-Classification-main\\archive\\train\\Bewick's Wren\\351041-14.wav\n"
     ]
    },
    {
     "name": "stderr",
     "output_type": "stream",
     "text": [
      " 38%|██████████████████████████████▋                                                 | 312/814 [02:09<03:28,  2.41it/s]"
     ]
    },
    {
     "name": "stdout",
     "output_type": "stream",
     "text": [
      "lables [4]\n",
      "C:\\Users\\Sai Krishna\\Desktop\\Bird-Species-Classification-main 2\\Bird-Species-Classification-main\\archive\\train\\Song Sparrow\\128904-10.wav\n",
      "C:\\Users\\Sai Krishna\\Desktop\\Bird-Species-Classification-main 2\\Bird-Species-Classification-main\\archive\\train\\Song Sparrow\\128904-10.wav\n"
     ]
    },
    {
     "name": "stderr",
     "output_type": "stream",
     "text": [
      " 38%|██████████████████████████████▊                                                 | 313/814 [02:10<03:30,  2.38it/s]"
     ]
    },
    {
     "name": "stdout",
     "output_type": "stream",
     "text": [
      "lables [0]\n",
      "C:\\Users\\Sai Krishna\\Desktop\\Bird-Species-Classification-main 2\\Bird-Species-Classification-main\\archive\\train\\Bewick's Wren\\109668-9.wav\n",
      "C:\\Users\\Sai Krishna\\Desktop\\Bird-Species-Classification-main 2\\Bird-Species-Classification-main\\archive\\train\\Bewick's Wren\\109668-9.wav\n"
     ]
    },
    {
     "name": "stderr",
     "output_type": "stream",
     "text": [
      " 39%|██████████████████████████████▊                                                 | 314/814 [02:10<03:31,  2.36it/s]"
     ]
    },
    {
     "name": "stdout",
     "output_type": "stream",
     "text": [
      "lables [4]\n",
      "C:\\Users\\Sai Krishna\\Desktop\\Bird-Species-Classification-main 2\\Bird-Species-Classification-main\\archive\\train\\Northern Mockingbird\\321923-0.wav\n",
      "C:\\Users\\Sai Krishna\\Desktop\\Bird-Species-Classification-main 2\\Bird-Species-Classification-main\\archive\\train\\Northern Mockingbird\\321923-0.wav\n"
     ]
    },
    {
     "name": "stderr",
     "output_type": "stream",
     "text": [
      " 39%|██████████████████████████████▉                                                 | 315/814 [02:11<03:31,  2.36it/s]"
     ]
    },
    {
     "name": "stdout",
     "output_type": "stream",
     "text": [
      "lables [1]\n",
      "C:\\Users\\Sai Krishna\\Desktop\\Bird-Species-Classification-main 2\\Bird-Species-Classification-main\\archive\\train\\Northern Mockingbird\\172494-5.wav\n",
      "C:\\Users\\Sai Krishna\\Desktop\\Bird-Species-Classification-main 2\\Bird-Species-Classification-main\\archive\\train\\Northern Mockingbird\\172494-5.wav\n"
     ]
    },
    {
     "name": "stderr",
     "output_type": "stream",
     "text": [
      " 39%|███████████████████████████████                                                 | 316/814 [02:11<03:33,  2.33it/s]"
     ]
    },
    {
     "name": "stdout",
     "output_type": "stream",
     "text": [
      "lables [1]\n",
      "C:\\Users\\Sai Krishna\\Desktop\\Bird-Species-Classification-main 2\\Bird-Species-Classification-main\\archive\\train\\Song Sparrow\\205806-1.wav\n",
      "C:\\Users\\Sai Krishna\\Desktop\\Bird-Species-Classification-main 2\\Bird-Species-Classification-main\\archive\\train\\Song Sparrow\\205806-1.wav\n"
     ]
    },
    {
     "name": "stderr",
     "output_type": "stream",
     "text": [
      " 39%|███████████████████████████████▏                                                | 317/814 [02:12<03:32,  2.34it/s]"
     ]
    },
    {
     "name": "stdout",
     "output_type": "stream",
     "text": [
      "lables [0]\n",
      "C:\\Users\\Sai Krishna\\Desktop\\Bird-Species-Classification-main 2\\Bird-Species-Classification-main\\archive\\train\\Northern Cardinal\\266643-3.wav\n",
      "C:\\Users\\Sai Krishna\\Desktop\\Bird-Species-Classification-main 2\\Bird-Species-Classification-main\\archive\\train\\Northern Cardinal\\266643-3.wav\n"
     ]
    },
    {
     "name": "stderr",
     "output_type": "stream",
     "text": [
      " 39%|███████████████████████████████▎                                                | 318/814 [02:12<03:31,  2.35it/s]"
     ]
    },
    {
     "name": "stdout",
     "output_type": "stream",
     "text": [
      "lables [2]\n",
      "C:\\Users\\Sai Krishna\\Desktop\\Bird-Species-Classification-main 2\\Bird-Species-Classification-main\\archive\\train\\Northern Cardinal\\489171-0.wav\n",
      "C:\\Users\\Sai Krishna\\Desktop\\Bird-Species-Classification-main 2\\Bird-Species-Classification-main\\archive\\train\\Northern Cardinal\\489171-0.wav\n"
     ]
    },
    {
     "name": "stderr",
     "output_type": "stream",
     "text": [
      " 39%|███████████████████████████████▎                                                | 319/814 [02:12<03:31,  2.34it/s]"
     ]
    },
    {
     "name": "stdout",
     "output_type": "stream",
     "text": [
      "lables [2]\n",
      "C:\\Users\\Sai Krishna\\Desktop\\Bird-Species-Classification-main 2\\Bird-Species-Classification-main\\archive\\train\\Northern Cardinal\\220401-5.wav\n",
      "C:\\Users\\Sai Krishna\\Desktop\\Bird-Species-Classification-main 2\\Bird-Species-Classification-main\\archive\\train\\Northern Cardinal\\220401-5.wav\n"
     ]
    },
    {
     "name": "stderr",
     "output_type": "stream",
     "text": [
      " 39%|███████████████████████████████▍                                                | 320/814 [02:13<03:31,  2.33it/s]"
     ]
    },
    {
     "name": "stdout",
     "output_type": "stream",
     "text": [
      "lables [2]\n",
      "C:\\Users\\Sai Krishna\\Desktop\\Bird-Species-Classification-main 2\\Bird-Species-Classification-main\\archive\\train\\Northern Mockingbird\\499260-10.wav\n",
      "C:\\Users\\Sai Krishna\\Desktop\\Bird-Species-Classification-main 2\\Bird-Species-Classification-main\\archive\\train\\Northern Mockingbird\\499260-10.wav\n"
     ]
    },
    {
     "name": "stderr",
     "output_type": "stream",
     "text": [
      " 39%|███████████████████████████████▌                                                | 321/814 [02:13<03:32,  2.32it/s]"
     ]
    },
    {
     "name": "stdout",
     "output_type": "stream",
     "text": [
      "lables [1]\n",
      "C:\\Users\\Sai Krishna\\Desktop\\Bird-Species-Classification-main 2\\Bird-Species-Classification-main\\archive\\train\\Song Sparrow\\103338-7.wav\n",
      "C:\\Users\\Sai Krishna\\Desktop\\Bird-Species-Classification-main 2\\Bird-Species-Classification-main\\archive\\train\\Song Sparrow\\103338-7.wav\n"
     ]
    },
    {
     "name": "stderr",
     "output_type": "stream",
     "text": [
      " 40%|███████████████████████████████▋                                                | 322/814 [02:14<03:30,  2.33it/s]"
     ]
    },
    {
     "name": "stdout",
     "output_type": "stream",
     "text": [
      "lables [0]\n",
      "C:\\Users\\Sai Krishna\\Desktop\\Bird-Species-Classification-main 2\\Bird-Species-Classification-main\\archive\\train\\Song Sparrow\\133568-5.wav\n",
      "C:\\Users\\Sai Krishna\\Desktop\\Bird-Species-Classification-main 2\\Bird-Species-Classification-main\\archive\\train\\Song Sparrow\\133568-5.wav\n"
     ]
    },
    {
     "name": "stderr",
     "output_type": "stream",
     "text": [
      " 40%|███████████████████████████████▋                                                | 323/814 [02:14<03:29,  2.34it/s]"
     ]
    },
    {
     "name": "stdout",
     "output_type": "stream",
     "text": [
      "lables [0]\n",
      "C:\\Users\\Sai Krishna\\Desktop\\Bird-Species-Classification-main 2\\Bird-Species-Classification-main\\archive\\train\\American Robin\\190441-4.wav\n",
      "C:\\Users\\Sai Krishna\\Desktop\\Bird-Species-Classification-main 2\\Bird-Species-Classification-main\\archive\\train\\American Robin\\190441-4.wav\n"
     ]
    },
    {
     "name": "stderr",
     "output_type": "stream",
     "text": [
      " 40%|███████████████████████████████▊                                                | 324/814 [02:15<03:29,  2.34it/s]"
     ]
    },
    {
     "name": "stdout",
     "output_type": "stream",
     "text": [
      "lables [3]\n",
      "C:\\Users\\Sai Krishna\\Desktop\\Bird-Species-Classification-main 2\\Bird-Species-Classification-main\\archive\\train\\Bewick's Wren\\237263-4.wav\n",
      "C:\\Users\\Sai Krishna\\Desktop\\Bird-Species-Classification-main 2\\Bird-Species-Classification-main\\archive\\train\\Bewick's Wren\\237263-4.wav\n"
     ]
    },
    {
     "name": "stderr",
     "output_type": "stream",
     "text": [
      " 40%|███████████████████████████████▉                                                | 325/814 [02:15<03:18,  2.47it/s]"
     ]
    },
    {
     "name": "stdout",
     "output_type": "stream",
     "text": [
      "lables [4]\n",
      "C:\\Users\\Sai Krishna\\Desktop\\Bird-Species-Classification-main 2\\Bird-Species-Classification-main\\archive\\train\\Song Sparrow\\111668-2.wav\n",
      "C:\\Users\\Sai Krishna\\Desktop\\Bird-Species-Classification-main 2\\Bird-Species-Classification-main\\archive\\train\\Song Sparrow\\111668-2.wav\n"
     ]
    },
    {
     "name": "stderr",
     "output_type": "stream",
     "text": [
      " 40%|████████████████████████████████                                                | 326/814 [02:15<03:09,  2.57it/s]"
     ]
    },
    {
     "name": "stdout",
     "output_type": "stream",
     "text": [
      "lables [0]\n",
      "C:\\Users\\Sai Krishna\\Desktop\\Bird-Species-Classification-main 2\\Bird-Species-Classification-main\\archive\\train\\Bewick's Wren\\89833-0.wav\n",
      "C:\\Users\\Sai Krishna\\Desktop\\Bird-Species-Classification-main 2\\Bird-Species-Classification-main\\archive\\train\\Bewick's Wren\\89833-0.wav\n"
     ]
    },
    {
     "name": "stderr",
     "output_type": "stream",
     "text": [
      " 40%|████████████████████████████████▏                                               | 327/814 [02:16<03:02,  2.66it/s]"
     ]
    },
    {
     "name": "stdout",
     "output_type": "stream",
     "text": [
      "lables [4]\n",
      "C:\\Users\\Sai Krishna\\Desktop\\Bird-Species-Classification-main 2\\Bird-Species-Classification-main\\archive\\train\\Bewick's Wren\\217833-14.wav\n",
      "C:\\Users\\Sai Krishna\\Desktop\\Bird-Species-Classification-main 2\\Bird-Species-Classification-main\\archive\\train\\Bewick's Wren\\217833-14.wav\n"
     ]
    },
    {
     "name": "stderr",
     "output_type": "stream",
     "text": [
      " 40%|████████████████████████████████▏                                               | 328/814 [02:16<02:57,  2.74it/s]"
     ]
    },
    {
     "name": "stdout",
     "output_type": "stream",
     "text": [
      "lables [4]\n",
      "C:\\Users\\Sai Krishna\\Desktop\\Bird-Species-Classification-main 2\\Bird-Species-Classification-main\\archive\\train\\Song Sparrow\\103338-6.wav\n",
      "C:\\Users\\Sai Krishna\\Desktop\\Bird-Species-Classification-main 2\\Bird-Species-Classification-main\\archive\\train\\Song Sparrow\\103338-6.wav\n"
     ]
    },
    {
     "name": "stderr",
     "output_type": "stream",
     "text": [
      " 40%|████████████████████████████████▎                                               | 329/814 [02:16<02:54,  2.78it/s]"
     ]
    },
    {
     "name": "stdout",
     "output_type": "stream",
     "text": [
      "lables [0]\n",
      "C:\\Users\\Sai Krishna\\Desktop\\Bird-Species-Classification-main 2\\Bird-Species-Classification-main\\archive\\train\\Northern Mockingbird\\172494-7.wav\n",
      "C:\\Users\\Sai Krishna\\Desktop\\Bird-Species-Classification-main 2\\Bird-Species-Classification-main\\archive\\train\\Northern Mockingbird\\172494-7.wav\n"
     ]
    },
    {
     "name": "stderr",
     "output_type": "stream",
     "text": [
      " 41%|████████████████████████████████▍                                               | 330/814 [02:17<03:05,  2.61it/s]"
     ]
    },
    {
     "name": "stdout",
     "output_type": "stream",
     "text": [
      "lables [1]\n",
      "C:\\Users\\Sai Krishna\\Desktop\\Bird-Species-Classification-main 2\\Bird-Species-Classification-main\\archive\\train\\Northern Cardinal\\451804-3.wav\n",
      "C:\\Users\\Sai Krishna\\Desktop\\Bird-Species-Classification-main 2\\Bird-Species-Classification-main\\archive\\train\\Northern Cardinal\\451804-3.wav\n"
     ]
    },
    {
     "name": "stderr",
     "output_type": "stream",
     "text": [
      " 41%|████████████████████████████████▌                                               | 331/814 [02:17<03:12,  2.51it/s]"
     ]
    },
    {
     "name": "stdout",
     "output_type": "stream",
     "text": [
      "lables [2]\n",
      "C:\\Users\\Sai Krishna\\Desktop\\Bird-Species-Classification-main 2\\Bird-Species-Classification-main\\archive\\train\\Song Sparrow\\246812-5.wav\n",
      "C:\\Users\\Sai Krishna\\Desktop\\Bird-Species-Classification-main 2\\Bird-Species-Classification-main\\archive\\train\\Song Sparrow\\246812-5.wav\n"
     ]
    },
    {
     "name": "stderr",
     "output_type": "stream",
     "text": [
      " 41%|████████████████████████████████▋                                               | 332/814 [02:18<03:16,  2.45it/s]"
     ]
    },
    {
     "name": "stdout",
     "output_type": "stream",
     "text": [
      "lables [0]\n",
      "C:\\Users\\Sai Krishna\\Desktop\\Bird-Species-Classification-main 2\\Bird-Species-Classification-main\\archive\\train\\Northern Mockingbird\\321899-0.wav\n",
      "C:\\Users\\Sai Krishna\\Desktop\\Bird-Species-Classification-main 2\\Bird-Species-Classification-main\\archive\\train\\Northern Mockingbird\\321899-0.wav\n"
     ]
    },
    {
     "name": "stderr",
     "output_type": "stream",
     "text": [
      " 41%|████████████████████████████████▋                                               | 333/814 [02:18<03:17,  2.44it/s]"
     ]
    },
    {
     "name": "stdout",
     "output_type": "stream",
     "text": [
      "lables [1]\n",
      "C:\\Users\\Sai Krishna\\Desktop\\Bird-Species-Classification-main 2\\Bird-Species-Classification-main\\archive\\train\\Northern Mockingbird\\357031-6.wav\n",
      "C:\\Users\\Sai Krishna\\Desktop\\Bird-Species-Classification-main 2\\Bird-Species-Classification-main\\archive\\train\\Northern Mockingbird\\357031-6.wav\n"
     ]
    },
    {
     "name": "stderr",
     "output_type": "stream",
     "text": [
      " 41%|████████████████████████████████▊                                               | 334/814 [02:18<03:19,  2.40it/s]"
     ]
    },
    {
     "name": "stdout",
     "output_type": "stream",
     "text": [
      "lables [2]\n",
      "C:\\Users\\Sai Krishna\\Desktop\\Bird-Species-Classification-main 2\\Bird-Species-Classification-main\\archive\\train\\Song Sparrow\\480068-5.wav\n",
      "C:\\Users\\Sai Krishna\\Desktop\\Bird-Species-Classification-main 2\\Bird-Species-Classification-main\\archive\\train\\Song Sparrow\\480068-5.wav\n"
     ]
    },
    {
     "name": "stderr",
     "output_type": "stream",
     "text": [
      " 41%|████████████████████████████████▉                                               | 335/814 [02:19<03:20,  2.39it/s]"
     ]
    },
    {
     "name": "stdout",
     "output_type": "stream",
     "text": [
      "lables [0]\n",
      "C:\\Users\\Sai Krishna\\Desktop\\Bird-Species-Classification-main 2\\Bird-Species-Classification-main\\archive\\train\\Song Sparrow\\111670-6.wav\n",
      "C:\\Users\\Sai Krishna\\Desktop\\Bird-Species-Classification-main 2\\Bird-Species-Classification-main\\archive\\train\\Song Sparrow\\111670-6.wav\n"
     ]
    },
    {
     "name": "stderr",
     "output_type": "stream",
     "text": [
      " 41%|█████████████████████████████████                                               | 336/814 [02:19<03:21,  2.37it/s]"
     ]
    },
    {
     "name": "stdout",
     "output_type": "stream",
     "text": [
      "lables [0]\n",
      "C:\\Users\\Sai Krishna\\Desktop\\Bird-Species-Classification-main 2\\Bird-Species-Classification-main\\archive\\train\\Bewick's Wren\\12577-10.wav\n",
      "C:\\Users\\Sai Krishna\\Desktop\\Bird-Species-Classification-main 2\\Bird-Species-Classification-main\\archive\\train\\Bewick's Wren\\12577-10.wav\n"
     ]
    },
    {
     "name": "stderr",
     "output_type": "stream",
     "text": [
      " 41%|█████████████████████████████████                                               | 337/814 [02:20<03:23,  2.34it/s]"
     ]
    },
    {
     "name": "stdout",
     "output_type": "stream",
     "text": [
      "lables [4]\n",
      "C:\\Users\\Sai Krishna\\Desktop\\Bird-Species-Classification-main 2\\Bird-Species-Classification-main\\archive\\train\\Bewick's Wren\\61472-0.wav\n",
      "C:\\Users\\Sai Krishna\\Desktop\\Bird-Species-Classification-main 2\\Bird-Species-Classification-main\\archive\\train\\Bewick's Wren\\61472-0.wav\n"
     ]
    },
    {
     "name": "stderr",
     "output_type": "stream",
     "text": [
      " 42%|█████████████████████████████████▏                                              | 338/814 [02:20<03:21,  2.36it/s]"
     ]
    },
    {
     "name": "stdout",
     "output_type": "stream",
     "text": [
      "lables [4]\n",
      "C:\\Users\\Sai Krishna\\Desktop\\Bird-Species-Classification-main 2\\Bird-Species-Classification-main\\archive\\train\\Northern Mockingbird\\21732-1.wav\n",
      "C:\\Users\\Sai Krishna\\Desktop\\Bird-Species-Classification-main 2\\Bird-Species-Classification-main\\archive\\train\\Northern Mockingbird\\21732-1.wav\n"
     ]
    },
    {
     "name": "stderr",
     "output_type": "stream",
     "text": [
      " 42%|█████████████████████████████████▎                                              | 339/814 [02:21<03:21,  2.35it/s]"
     ]
    },
    {
     "name": "stdout",
     "output_type": "stream",
     "text": [
      "lables [1]\n",
      "C:\\Users\\Sai Krishna\\Desktop\\Bird-Species-Classification-main 2\\Bird-Species-Classification-main\\archive\\train\\Bewick's Wren\\325137-1.wav\n",
      "C:\\Users\\Sai Krishna\\Desktop\\Bird-Species-Classification-main 2\\Bird-Species-Classification-main\\archive\\train\\Bewick's Wren\\325137-1.wav\n"
     ]
    },
    {
     "name": "stderr",
     "output_type": "stream",
     "text": [
      " 42%|█████████████████████████████████▍                                              | 340/814 [02:21<03:21,  2.35it/s]"
     ]
    },
    {
     "name": "stdout",
     "output_type": "stream",
     "text": [
      "lables [4]\n",
      "C:\\Users\\Sai Krishna\\Desktop\\Bird-Species-Classification-main 2\\Bird-Species-Classification-main\\archive\\train\\American Robin\\338199-10.wav\n",
      "C:\\Users\\Sai Krishna\\Desktop\\Bird-Species-Classification-main 2\\Bird-Species-Classification-main\\archive\\train\\American Robin\\338199-10.wav\n"
     ]
    },
    {
     "name": "stderr",
     "output_type": "stream",
     "text": [
      " 42%|█████████████████████████████████▌                                              | 341/814 [02:21<03:20,  2.36it/s]"
     ]
    },
    {
     "name": "stdout",
     "output_type": "stream",
     "text": [
      "lables [3]\n",
      "C:\\Users\\Sai Krishna\\Desktop\\Bird-Species-Classification-main 2\\Bird-Species-Classification-main\\archive\\train\\Bewick's Wren\\15270-7.wav\n",
      "C:\\Users\\Sai Krishna\\Desktop\\Bird-Species-Classification-main 2\\Bird-Species-Classification-main\\archive\\train\\Bewick's Wren\\15270-7.wav\n"
     ]
    },
    {
     "name": "stderr",
     "output_type": "stream",
     "text": [
      " 42%|█████████████████████████████████▌                                              | 342/814 [02:22<03:16,  2.40it/s]"
     ]
    },
    {
     "name": "stdout",
     "output_type": "stream",
     "text": [
      "lables [4]\n",
      "C:\\Users\\Sai Krishna\\Desktop\\Bird-Species-Classification-main 2\\Bird-Species-Classification-main\\archive\\train\\Northern Mockingbird\\54019-2.wav\n",
      "C:\\Users\\Sai Krishna\\Desktop\\Bird-Species-Classification-main 2\\Bird-Species-Classification-main\\archive\\train\\Northern Mockingbird\\54019-2.wav\n"
     ]
    },
    {
     "name": "stderr",
     "output_type": "stream",
     "text": [
      " 42%|█████████████████████████████████▋                                              | 343/814 [02:22<03:05,  2.54it/s]"
     ]
    },
    {
     "name": "stdout",
     "output_type": "stream",
     "text": [
      "lables [1]\n",
      "C:\\Users\\Sai Krishna\\Desktop\\Bird-Species-Classification-main 2\\Bird-Species-Classification-main\\archive\\train\\Northern Mockingbird\\172494-17.wav\n",
      "C:\\Users\\Sai Krishna\\Desktop\\Bird-Species-Classification-main 2\\Bird-Species-Classification-main\\archive\\train\\Northern Mockingbird\\172494-17.wav\n"
     ]
    },
    {
     "name": "stderr",
     "output_type": "stream",
     "text": [
      " 42%|█████████████████████████████████▊                                              | 344/814 [02:22<02:59,  2.62it/s]"
     ]
    },
    {
     "name": "stdout",
     "output_type": "stream",
     "text": [
      "lables [0]\n",
      "C:\\Users\\Sai Krishna\\Desktop\\Bird-Species-Classification-main 2\\Bird-Species-Classification-main\\archive\\train\\Northern Mockingbird\\269503-3.wav\n",
      "C:\\Users\\Sai Krishna\\Desktop\\Bird-Species-Classification-main 2\\Bird-Species-Classification-main\\archive\\train\\Northern Mockingbird\\269503-3.wav\n"
     ]
    },
    {
     "name": "stderr",
     "output_type": "stream",
     "text": [
      " 42%|█████████████████████████████████▉                                              | 345/814 [02:23<02:53,  2.71it/s]"
     ]
    },
    {
     "name": "stdout",
     "output_type": "stream",
     "text": [
      "lables [1]\n",
      "C:\\Users\\Sai Krishna\\Desktop\\Bird-Species-Classification-main 2\\Bird-Species-Classification-main\\archive\\train\\Northern Mockingbird\\172648-14.wav\n",
      "C:\\Users\\Sai Krishna\\Desktop\\Bird-Species-Classification-main 2\\Bird-Species-Classification-main\\archive\\train\\Northern Mockingbird\\172648-14.wav\n"
     ]
    },
    {
     "name": "stderr",
     "output_type": "stream",
     "text": [
      " 43%|██████████████████████████████████                                              | 346/814 [02:23<02:48,  2.77it/s]"
     ]
    },
    {
     "name": "stdout",
     "output_type": "stream",
     "text": [
      "lables [1]\n",
      "C:\\Users\\Sai Krishna\\Desktop\\Bird-Species-Classification-main 2\\Bird-Species-Classification-main\\archive\\train\\Northern Mockingbird\\184933-0.wav\n",
      "C:\\Users\\Sai Krishna\\Desktop\\Bird-Species-Classification-main 2\\Bird-Species-Classification-main\\archive\\train\\Northern Mockingbird\\184933-0.wav\n"
     ]
    },
    {
     "name": "stderr",
     "output_type": "stream",
     "text": [
      " 43%|██████████████████████████████████                                              | 347/814 [02:24<02:48,  2.78it/s]"
     ]
    },
    {
     "name": "stdout",
     "output_type": "stream",
     "text": [
      "lables [1]\n",
      "C:\\Users\\Sai Krishna\\Desktop\\Bird-Species-Classification-main 2\\Bird-Species-Classification-main\\archive\\train\\American Robin\\178008-10.wav\n",
      "C:\\Users\\Sai Krishna\\Desktop\\Bird-Species-Classification-main 2\\Bird-Species-Classification-main\\archive\\train\\American Robin\\178008-10.wav\n"
     ]
    },
    {
     "name": "stderr",
     "output_type": "stream",
     "text": [
      " 43%|██████████████████████████████████▏                                             | 348/814 [02:24<02:56,  2.63it/s]"
     ]
    },
    {
     "name": "stdout",
     "output_type": "stream",
     "text": [
      "lables [4]\n",
      "C:\\Users\\Sai Krishna\\Desktop\\Bird-Species-Classification-main 2\\Bird-Species-Classification-main\\archive\\train\\American Robin\\309318-5.wav\n",
      "C:\\Users\\Sai Krishna\\Desktop\\Bird-Species-Classification-main 2\\Bird-Species-Classification-main\\archive\\train\\American Robin\\309318-5.wav\n"
     ]
    },
    {
     "name": "stderr",
     "output_type": "stream",
     "text": [
      " 43%|██████████████████████████████████▎                                             | 349/814 [02:24<03:03,  2.53it/s]"
     ]
    },
    {
     "name": "stdout",
     "output_type": "stream",
     "text": [
      "lables [3]\n",
      "C:\\Users\\Sai Krishna\\Desktop\\Bird-Species-Classification-main 2\\Bird-Species-Classification-main\\archive\\train\\American Robin\\416294-11.wav\n",
      "C:\\Users\\Sai Krishna\\Desktop\\Bird-Species-Classification-main 2\\Bird-Species-Classification-main\\archive\\train\\American Robin\\416294-11.wav\n"
     ]
    },
    {
     "name": "stderr",
     "output_type": "stream",
     "text": [
      " 43%|██████████████████████████████████▍                                             | 350/814 [02:25<03:09,  2.45it/s]"
     ]
    },
    {
     "name": "stdout",
     "output_type": "stream",
     "text": [
      "lables [3]\n",
      "C:\\Users\\Sai Krishna\\Desktop\\Bird-Species-Classification-main 2\\Bird-Species-Classification-main\\archive\\train\\Bewick's Wren\\451298-9.wav\n",
      "C:\\Users\\Sai Krishna\\Desktop\\Bird-Species-Classification-main 2\\Bird-Species-Classification-main\\archive\\train\\Bewick's Wren\\451298-9.wav\n"
     ]
    },
    {
     "name": "stderr",
     "output_type": "stream",
     "text": [
      " 43%|██████████████████████████████████▍                                             | 351/814 [02:25<03:12,  2.40it/s]"
     ]
    },
    {
     "name": "stdout",
     "output_type": "stream",
     "text": [
      "lables [4]\n",
      "C:\\Users\\Sai Krishna\\Desktop\\Bird-Species-Classification-main 2\\Bird-Species-Classification-main\\archive\\train\\Northern Mockingbird\\469351-0.wav\n",
      "C:\\Users\\Sai Krishna\\Desktop\\Bird-Species-Classification-main 2\\Bird-Species-Classification-main\\archive\\train\\Northern Mockingbird\\469351-0.wav\n"
     ]
    },
    {
     "name": "stderr",
     "output_type": "stream",
     "text": [
      " 43%|██████████████████████████████████▌                                             | 352/814 [02:26<03:13,  2.39it/s]"
     ]
    },
    {
     "name": "stdout",
     "output_type": "stream",
     "text": [
      "lables [1]\n",
      "C:\\Users\\Sai Krishna\\Desktop\\Bird-Species-Classification-main 2\\Bird-Species-Classification-main\\archive\\train\\Northern Cardinal\\211633-5.wav\n",
      "C:\\Users\\Sai Krishna\\Desktop\\Bird-Species-Classification-main 2\\Bird-Species-Classification-main\\archive\\train\\Northern Cardinal\\211633-5.wav\n"
     ]
    },
    {
     "name": "stderr",
     "output_type": "stream",
     "text": [
      " 43%|██████████████████████████████████▋                                             | 353/814 [02:26<03:12,  2.39it/s]"
     ]
    },
    {
     "name": "stdout",
     "output_type": "stream",
     "text": [
      "lables [2]\n",
      "C:\\Users\\Sai Krishna\\Desktop\\Bird-Species-Classification-main 2\\Bird-Species-Classification-main\\archive\\train\\American Robin\\310256-13.wav\n",
      "C:\\Users\\Sai Krishna\\Desktop\\Bird-Species-Classification-main 2\\Bird-Species-Classification-main\\archive\\train\\American Robin\\310256-13.wav\n"
     ]
    },
    {
     "name": "stderr",
     "output_type": "stream",
     "text": [
      " 43%|██████████████████████████████████▊                                             | 354/814 [02:27<03:13,  2.37it/s]"
     ]
    },
    {
     "name": "stdout",
     "output_type": "stream",
     "text": [
      "lables [3]\n",
      "C:\\Users\\Sai Krishna\\Desktop\\Bird-Species-Classification-main 2\\Bird-Species-Classification-main\\archive\\train\\Song Sparrow\\62782-8.wav\n",
      "C:\\Users\\Sai Krishna\\Desktop\\Bird-Species-Classification-main 2\\Bird-Species-Classification-main\\archive\\train\\Song Sparrow\\62782-8.wav\n"
     ]
    },
    {
     "name": "stderr",
     "output_type": "stream",
     "text": [
      " 44%|██████████████████████████████████▉                                             | 355/814 [02:27<03:13,  2.37it/s]"
     ]
    },
    {
     "name": "stdout",
     "output_type": "stream",
     "text": [
      "lables [0]\n",
      "C:\\Users\\Sai Krishna\\Desktop\\Bird-Species-Classification-main 2\\Bird-Species-Classification-main\\archive\\train\\Northern Mockingbird\\545900-3.wav\n",
      "C:\\Users\\Sai Krishna\\Desktop\\Bird-Species-Classification-main 2\\Bird-Species-Classification-main\\archive\\train\\Northern Mockingbird\\545900-3.wav\n"
     ]
    },
    {
     "name": "stderr",
     "output_type": "stream",
     "text": [
      " 44%|██████████████████████████████████▉                                             | 356/814 [02:27<03:13,  2.37it/s]"
     ]
    },
    {
     "name": "stdout",
     "output_type": "stream",
     "text": [
      "lables [1]\n",
      "C:\\Users\\Sai Krishna\\Desktop\\Bird-Species-Classification-main 2\\Bird-Species-Classification-main\\archive\\train\\Song Sparrow\\125718-6.wav\n",
      "C:\\Users\\Sai Krishna\\Desktop\\Bird-Species-Classification-main 2\\Bird-Species-Classification-main\\archive\\train\\Song Sparrow\\125718-6.wav\n"
     ]
    },
    {
     "name": "stderr",
     "output_type": "stream",
     "text": [
      " 44%|███████████████████████████████████                                             | 357/814 [02:28<03:13,  2.36it/s]"
     ]
    },
    {
     "name": "stdout",
     "output_type": "stream",
     "text": [
      "lables [0]\n",
      "C:\\Users\\Sai Krishna\\Desktop\\Bird-Species-Classification-main 2\\Bird-Species-Classification-main\\archive\\train\\Northern Mockingbird\\54019-13.wav\n",
      "C:\\Users\\Sai Krishna\\Desktop\\Bird-Species-Classification-main 2\\Bird-Species-Classification-main\\archive\\train\\Northern Mockingbird\\54019-13.wav\n"
     ]
    },
    {
     "name": "stderr",
     "output_type": "stream",
     "text": [
      " 44%|███████████████████████████████████▏                                            | 358/814 [02:28<03:12,  2.37it/s]"
     ]
    },
    {
     "name": "stdout",
     "output_type": "stream",
     "text": [
      "lables [1]\n",
      "C:\\Users\\Sai Krishna\\Desktop\\Bird-Species-Classification-main 2\\Bird-Species-Classification-main\\archive\\train\\Northern Mockingbird\\172494-15.wav\n",
      "C:\\Users\\Sai Krishna\\Desktop\\Bird-Species-Classification-main 2\\Bird-Species-Classification-main\\archive\\train\\Northern Mockingbird\\172494-15.wav\n"
     ]
    },
    {
     "name": "stderr",
     "output_type": "stream",
     "text": [
      " 44%|███████████████████████████████████▎                                            | 359/814 [02:29<03:08,  2.42it/s]"
     ]
    },
    {
     "name": "stdout",
     "output_type": "stream",
     "text": [
      "lables [1]\n",
      "C:\\Users\\Sai Krishna\\Desktop\\Bird-Species-Classification-main 2\\Bird-Species-Classification-main\\archive\\train\\American Robin\\178008-11.wav\n",
      "C:\\Users\\Sai Krishna\\Desktop\\Bird-Species-Classification-main 2\\Bird-Species-Classification-main\\archive\\train\\American Robin\\178008-11.wav\n"
     ]
    },
    {
     "name": "stderr",
     "output_type": "stream",
     "text": [
      " 44%|███████████████████████████████████▍                                            | 360/814 [02:29<02:57,  2.55it/s]"
     ]
    },
    {
     "name": "stdout",
     "output_type": "stream",
     "text": [
      "lables [3]\n",
      "C:\\Users\\Sai Krishna\\Desktop\\Bird-Species-Classification-main 2\\Bird-Species-Classification-main\\archive\\train\\Song Sparrow\\368065-4.wav\n",
      "C:\\Users\\Sai Krishna\\Desktop\\Bird-Species-Classification-main 2\\Bird-Species-Classification-main\\archive\\train\\Song Sparrow\\368065-4.wav\n"
     ]
    },
    {
     "name": "stderr",
     "output_type": "stream",
     "text": [
      " 44%|███████████████████████████████████▍                                            | 361/814 [02:29<02:50,  2.66it/s]"
     ]
    },
    {
     "name": "stdout",
     "output_type": "stream",
     "text": [
      "lables [0]\n",
      "C:\\Users\\Sai Krishna\\Desktop\\Bird-Species-Classification-main 2\\Bird-Species-Classification-main\\archive\\train\\Northern Cardinal\\18344-8.wav\n",
      "C:\\Users\\Sai Krishna\\Desktop\\Bird-Species-Classification-main 2\\Bird-Species-Classification-main\\archive\\train\\Northern Cardinal\\18344-8.wav\n"
     ]
    },
    {
     "name": "stderr",
     "output_type": "stream",
     "text": [
      " 44%|███████████████████████████████████▌                                            | 362/814 [02:30<02:45,  2.73it/s]"
     ]
    },
    {
     "name": "stdout",
     "output_type": "stream",
     "text": [
      "lables [2]\n",
      "C:\\Users\\Sai Krishna\\Desktop\\Bird-Species-Classification-main 2\\Bird-Species-Classification-main\\archive\\train\\American Robin\\375006-6.wav\n",
      "C:\\Users\\Sai Krishna\\Desktop\\Bird-Species-Classification-main 2\\Bird-Species-Classification-main\\archive\\train\\American Robin\\375006-6.wav\n"
     ]
    },
    {
     "name": "stderr",
     "output_type": "stream",
     "text": [
      " 45%|███████████████████████████████████▋                                            | 363/814 [02:30<02:42,  2.77it/s]"
     ]
    },
    {
     "name": "stdout",
     "output_type": "stream",
     "text": [
      "lables [3]\n",
      "C:\\Users\\Sai Krishna\\Desktop\\Bird-Species-Classification-main 2\\Bird-Species-Classification-main\\archive\\train\\Northern Mockingbird\\131455-4.wav\n",
      "C:\\Users\\Sai Krishna\\Desktop\\Bird-Species-Classification-main 2\\Bird-Species-Classification-main\\archive\\train\\Northern Mockingbird\\131455-4.wav\n"
     ]
    },
    {
     "name": "stderr",
     "output_type": "stream",
     "text": [
      " 45%|███████████████████████████████████▊                                            | 364/814 [02:30<02:39,  2.83it/s]"
     ]
    },
    {
     "name": "stdout",
     "output_type": "stream",
     "text": [
      "lables [1]\n",
      "C:\\Users\\Sai Krishna\\Desktop\\Bird-Species-Classification-main 2\\Bird-Species-Classification-main\\archive\\train\\American Robin\\383961-0.wav\n",
      "C:\\Users\\Sai Krishna\\Desktop\\Bird-Species-Classification-main 2\\Bird-Species-Classification-main\\archive\\train\\American Robin\\383961-0.wav\n"
     ]
    },
    {
     "name": "stderr",
     "output_type": "stream",
     "text": [
      " 45%|███████████████████████████████████▊                                            | 365/814 [02:31<02:39,  2.82it/s]"
     ]
    },
    {
     "name": "stdout",
     "output_type": "stream",
     "text": [
      "lables [3]\n",
      "C:\\Users\\Sai Krishna\\Desktop\\Bird-Species-Classification-main 2\\Bird-Species-Classification-main\\archive\\train\\Bewick's Wren\\325137-5.wav\n",
      "C:\\Users\\Sai Krishna\\Desktop\\Bird-Species-Classification-main 2\\Bird-Species-Classification-main\\archive\\train\\Bewick's Wren\\325137-5.wav\n"
     ]
    },
    {
     "name": "stderr",
     "output_type": "stream",
     "text": [
      " 45%|███████████████████████████████████▉                                            | 366/814 [02:31<02:39,  2.81it/s]"
     ]
    },
    {
     "name": "stdout",
     "output_type": "stream",
     "text": [
      "lables [4]\n",
      "C:\\Users\\Sai Krishna\\Desktop\\Bird-Species-Classification-main 2\\Bird-Species-Classification-main\\archive\\train\\Northern Mockingbird\\552450-1.wav\n",
      "C:\\Users\\Sai Krishna\\Desktop\\Bird-Species-Classification-main 2\\Bird-Species-Classification-main\\archive\\train\\Northern Mockingbird\\552450-1.wav\n"
     ]
    },
    {
     "name": "stderr",
     "output_type": "stream",
     "text": [
      " 45%|████████████████████████████████████                                            | 367/814 [02:31<02:39,  2.81it/s]"
     ]
    },
    {
     "name": "stdout",
     "output_type": "stream",
     "text": [
      "lables [1]\n",
      "C:\\Users\\Sai Krishna\\Desktop\\Bird-Species-Classification-main 2\\Bird-Species-Classification-main\\archive\\train\\Northern Mockingbird\\21733-15.wav\n",
      "C:\\Users\\Sai Krishna\\Desktop\\Bird-Species-Classification-main 2\\Bird-Species-Classification-main\\archive\\train\\Northern Mockingbird\\21733-15.wav\n"
     ]
    },
    {
     "name": "stderr",
     "output_type": "stream",
     "text": [
      " 45%|████████████████████████████████████▏                                           | 368/814 [02:32<02:39,  2.79it/s]"
     ]
    },
    {
     "name": "stdout",
     "output_type": "stream",
     "text": [
      "lables [1]\n",
      "C:\\Users\\Sai Krishna\\Desktop\\Bird-Species-Classification-main 2\\Bird-Species-Classification-main\\archive\\train\\Song Sparrow\\282625-2.wav\n",
      "C:\\Users\\Sai Krishna\\Desktop\\Bird-Species-Classification-main 2\\Bird-Species-Classification-main\\archive\\train\\Song Sparrow\\282625-2.wav\n"
     ]
    },
    {
     "name": "stderr",
     "output_type": "stream",
     "text": [
      " 45%|████████████████████████████████████▎                                           | 369/814 [02:32<02:40,  2.77it/s]"
     ]
    },
    {
     "name": "stdout",
     "output_type": "stream",
     "text": [
      "lables [0]\n",
      "C:\\Users\\Sai Krishna\\Desktop\\Bird-Species-Classification-main 2\\Bird-Species-Classification-main\\archive\\train\\Northern Mockingbird\\321923-6.wav\n",
      "C:\\Users\\Sai Krishna\\Desktop\\Bird-Species-Classification-main 2\\Bird-Species-Classification-main\\archive\\train\\Northern Mockingbird\\321923-6.wav\n"
     ]
    },
    {
     "name": "stderr",
     "output_type": "stream",
     "text": [
      " 45%|████████████████████████████████████▎                                           | 370/814 [02:33<02:42,  2.74it/s]"
     ]
    },
    {
     "name": "stdout",
     "output_type": "stream",
     "text": [
      "lables [1]\n",
      "C:\\Users\\Sai Krishna\\Desktop\\Bird-Species-Classification-main 2\\Bird-Species-Classification-main\\archive\\train\\Bewick's Wren\\14172-11.wav\n",
      "C:\\Users\\Sai Krishna\\Desktop\\Bird-Species-Classification-main 2\\Bird-Species-Classification-main\\archive\\train\\Bewick's Wren\\14172-11.wav\n"
     ]
    },
    {
     "name": "stderr",
     "output_type": "stream",
     "text": [
      " 46%|████████████████████████████████████▍                                           | 371/814 [02:33<02:54,  2.53it/s]"
     ]
    },
    {
     "name": "stdout",
     "output_type": "stream",
     "text": [
      "lables [4]\n",
      "C:\\Users\\Sai Krishna\\Desktop\\Bird-Species-Classification-main 2\\Bird-Species-Classification-main\\archive\\train\\Song Sparrow\\312736-5.wav\n",
      "C:\\Users\\Sai Krishna\\Desktop\\Bird-Species-Classification-main 2\\Bird-Species-Classification-main\\archive\\train\\Song Sparrow\\312736-5.wav\n"
     ]
    },
    {
     "name": "stderr",
     "output_type": "stream",
     "text": [
      " 46%|████████████████████████████████████▌                                           | 372/814 [02:33<03:02,  2.42it/s]"
     ]
    },
    {
     "name": "stdout",
     "output_type": "stream",
     "text": [
      "lables [0]\n",
      "C:\\Users\\Sai Krishna\\Desktop\\Bird-Species-Classification-main 2\\Bird-Species-Classification-main\\archive\\train\\Bewick's Wren\\351065-4.wav\n",
      "C:\\Users\\Sai Krishna\\Desktop\\Bird-Species-Classification-main 2\\Bird-Species-Classification-main\\archive\\train\\Bewick's Wren\\351065-4.wav\n"
     ]
    },
    {
     "name": "stderr",
     "output_type": "stream",
     "text": [
      " 46%|████████████████████████████████████▋                                           | 373/814 [02:34<03:09,  2.32it/s]"
     ]
    },
    {
     "name": "stdout",
     "output_type": "stream",
     "text": [
      "lables [4]\n",
      "C:\\Users\\Sai Krishna\\Desktop\\Bird-Species-Classification-main 2\\Bird-Species-Classification-main\\archive\\train\\Song Sparrow\\483978-2.wav\n",
      "C:\\Users\\Sai Krishna\\Desktop\\Bird-Species-Classification-main 2\\Bird-Species-Classification-main\\archive\\train\\Song Sparrow\\483978-2.wav\n"
     ]
    },
    {
     "name": "stderr",
     "output_type": "stream",
     "text": [
      " 46%|████████████████████████████████████▊                                           | 374/814 [02:34<03:08,  2.33it/s]"
     ]
    },
    {
     "name": "stdout",
     "output_type": "stream",
     "text": [
      "lables [0]\n",
      "C:\\Users\\Sai Krishna\\Desktop\\Bird-Species-Classification-main 2\\Bird-Species-Classification-main\\archive\\train\\Northern Cardinal\\564312-10.wav\n",
      "C:\\Users\\Sai Krishna\\Desktop\\Bird-Species-Classification-main 2\\Bird-Species-Classification-main\\archive\\train\\Northern Cardinal\\564312-10.wav\n"
     ]
    },
    {
     "name": "stderr",
     "output_type": "stream",
     "text": [
      " 46%|████████████████████████████████████▊                                           | 375/814 [02:35<03:09,  2.31it/s]"
     ]
    },
    {
     "name": "stdout",
     "output_type": "stream",
     "text": [
      "lables [2]\n",
      "C:\\Users\\Sai Krishna\\Desktop\\Bird-Species-Classification-main 2\\Bird-Species-Classification-main\\archive\\train\\American Robin\\78683-10.wav\n",
      "C:\\Users\\Sai Krishna\\Desktop\\Bird-Species-Classification-main 2\\Bird-Species-Classification-main\\archive\\train\\American Robin\\78683-10.wav\n"
     ]
    },
    {
     "name": "stderr",
     "output_type": "stream",
     "text": [
      " 46%|████████████████████████████████████▉                                           | 376/814 [02:35<03:09,  2.32it/s]"
     ]
    },
    {
     "name": "stdout",
     "output_type": "stream",
     "text": [
      "lables [3]\n",
      "C:\\Users\\Sai Krishna\\Desktop\\Bird-Species-Classification-main 2\\Bird-Species-Classification-main\\archive\\train\\Song Sparrow\\500924-10.wav\n",
      "C:\\Users\\Sai Krishna\\Desktop\\Bird-Species-Classification-main 2\\Bird-Species-Classification-main\\archive\\train\\Song Sparrow\\500924-10.wav\n"
     ]
    },
    {
     "name": "stderr",
     "output_type": "stream",
     "text": [
      " 46%|█████████████████████████████████████                                           | 377/814 [02:36<03:09,  2.31it/s]"
     ]
    },
    {
     "name": "stdout",
     "output_type": "stream",
     "text": [
      "lables [0]\n",
      "C:\\Users\\Sai Krishna\\Desktop\\Bird-Species-Classification-main 2\\Bird-Species-Classification-main\\archive\\train\\Northern Cardinal\\460604-7.wav\n",
      "C:\\Users\\Sai Krishna\\Desktop\\Bird-Species-Classification-main 2\\Bird-Species-Classification-main\\archive\\train\\Northern Cardinal\\460604-7.wav\n"
     ]
    },
    {
     "name": "stderr",
     "output_type": "stream",
     "text": [
      " 46%|█████████████████████████████████████▏                                          | 378/814 [02:36<03:08,  2.31it/s]"
     ]
    },
    {
     "name": "stdout",
     "output_type": "stream",
     "text": [
      "lables [0]\n",
      "C:\\Users\\Sai Krishna\\Desktop\\Bird-Species-Classification-main 2\\Bird-Species-Classification-main\\archive\\train\\Northern Cardinal\\190526-1.wav\n",
      "C:\\Users\\Sai Krishna\\Desktop\\Bird-Species-Classification-main 2\\Bird-Species-Classification-main\\archive\\train\\Northern Cardinal\\190526-1.wav\n"
     ]
    },
    {
     "name": "stderr",
     "output_type": "stream",
     "text": [
      " 47%|█████████████████████████████████████▏                                          | 379/814 [02:37<03:09,  2.30it/s]"
     ]
    },
    {
     "name": "stdout",
     "output_type": "stream",
     "text": [
      "lables [2]\n",
      "C:\\Users\\Sai Krishna\\Desktop\\Bird-Species-Classification-main 2\\Bird-Species-Classification-main\\archive\\train\\Northern Mockingbird\\179353-9.wav\n",
      "C:\\Users\\Sai Krishna\\Desktop\\Bird-Species-Classification-main 2\\Bird-Species-Classification-main\\archive\\train\\Northern Mockingbird\\179353-9.wav\n"
     ]
    },
    {
     "name": "stderr",
     "output_type": "stream",
     "text": [
      " 47%|█████████████████████████████████████▎                                          | 380/814 [02:37<03:08,  2.30it/s]"
     ]
    },
    {
     "name": "stdout",
     "output_type": "stream",
     "text": [
      "lables [1]\n",
      "C:\\Users\\Sai Krishna\\Desktop\\Bird-Species-Classification-main 2\\Bird-Species-Classification-main\\archive\\train\\American Robin\\13602-1.wav\n",
      "C:\\Users\\Sai Krishna\\Desktop\\Bird-Species-Classification-main 2\\Bird-Species-Classification-main\\archive\\train\\American Robin\\13602-1.wav\n"
     ]
    },
    {
     "name": "stderr",
     "output_type": "stream",
     "text": [
      " 47%|█████████████████████████████████████▍                                          | 381/814 [02:37<03:07,  2.31it/s]"
     ]
    },
    {
     "name": "stdout",
     "output_type": "stream",
     "text": [
      "lables [3]\n",
      "C:\\Users\\Sai Krishna\\Desktop\\Bird-Species-Classification-main 2\\Bird-Species-Classification-main\\archive\\train\\American Robin\\165303-3.wav\n",
      "C:\\Users\\Sai Krishna\\Desktop\\Bird-Species-Classification-main 2\\Bird-Species-Classification-main\\archive\\train\\American Robin\\165303-3.wav\n"
     ]
    },
    {
     "name": "stderr",
     "output_type": "stream",
     "text": [
      " 47%|█████████████████████████████████████▌                                          | 382/814 [02:38<03:05,  2.33it/s]"
     ]
    },
    {
     "name": "stdout",
     "output_type": "stream",
     "text": [
      "lables [3]\n",
      "C:\\Users\\Sai Krishna\\Desktop\\Bird-Species-Classification-main 2\\Bird-Species-Classification-main\\archive\\train\\Northern Cardinal\\165345-2.wav\n",
      "C:\\Users\\Sai Krishna\\Desktop\\Bird-Species-Classification-main 2\\Bird-Species-Classification-main\\archive\\train\\Northern Cardinal\\165345-2.wav\n"
     ]
    },
    {
     "name": "stderr",
     "output_type": "stream",
     "text": [
      " 47%|█████████████████████████████████████▋                                          | 383/814 [02:38<03:04,  2.34it/s]"
     ]
    },
    {
     "name": "stdout",
     "output_type": "stream",
     "text": [
      "lables [2]\n",
      "C:\\Users\\Sai Krishna\\Desktop\\Bird-Species-Classification-main 2\\Bird-Species-Classification-main\\archive\\train\\Northern Mockingbird\\321941-6.wav\n",
      "C:\\Users\\Sai Krishna\\Desktop\\Bird-Species-Classification-main 2\\Bird-Species-Classification-main\\archive\\train\\Northern Mockingbird\\321941-6.wav\n"
     ]
    },
    {
     "name": "stderr",
     "output_type": "stream",
     "text": [
      " 47%|█████████████████████████████████████▋                                          | 384/814 [02:39<03:03,  2.34it/s]"
     ]
    },
    {
     "name": "stdout",
     "output_type": "stream",
     "text": [
      "lables [1]\n",
      "C:\\Users\\Sai Krishna\\Desktop\\Bird-Species-Classification-main 2\\Bird-Species-Classification-main\\archive\\train\\Northern Mockingbird\\170052-13.wav\n",
      "C:\\Users\\Sai Krishna\\Desktop\\Bird-Species-Classification-main 2\\Bird-Species-Classification-main\\archive\\train\\Northern Mockingbird\\170052-13.wav\n"
     ]
    },
    {
     "name": "stderr",
     "output_type": "stream",
     "text": [
      " 47%|█████████████████████████████████████▊                                          | 385/814 [02:39<03:03,  2.33it/s]"
     ]
    },
    {
     "name": "stdout",
     "output_type": "stream",
     "text": [
      "lables [1]\n",
      "C:\\Users\\Sai Krishna\\Desktop\\Bird-Species-Classification-main 2\\Bird-Species-Classification-main\\archive\\train\\Northern Cardinal\\20420-5.wav\n",
      "C:\\Users\\Sai Krishna\\Desktop\\Bird-Species-Classification-main 2\\Bird-Species-Classification-main\\archive\\train\\Northern Cardinal\\20420-5.wav\n"
     ]
    },
    {
     "name": "stderr",
     "output_type": "stream",
     "text": [
      " 47%|█████████████████████████████████████▉                                          | 386/814 [02:39<03:02,  2.34it/s]"
     ]
    },
    {
     "name": "stdout",
     "output_type": "stream",
     "text": [
      "lables [2]\n",
      "C:\\Users\\Sai Krishna\\Desktop\\Bird-Species-Classification-main 2\\Bird-Species-Classification-main\\archive\\train\\Northern Cardinal\\175226-3.wav\n",
      "C:\\Users\\Sai Krishna\\Desktop\\Bird-Species-Classification-main 2\\Bird-Species-Classification-main\\archive\\train\\Northern Cardinal\\175226-3.wav\n"
     ]
    },
    {
     "name": "stderr",
     "output_type": "stream",
     "text": [
      " 48%|██████████████████████████████████████                                          | 387/814 [02:40<03:01,  2.36it/s]"
     ]
    },
    {
     "name": "stdout",
     "output_type": "stream",
     "text": [
      "lables [2]\n",
      "C:\\Users\\Sai Krishna\\Desktop\\Bird-Species-Classification-main 2\\Bird-Species-Classification-main\\archive\\train\\Song Sparrow\\362470-5.wav\n",
      "C:\\Users\\Sai Krishna\\Desktop\\Bird-Species-Classification-main 2\\Bird-Species-Classification-main\\archive\\train\\Song Sparrow\\362470-5.wav\n"
     ]
    },
    {
     "name": "stderr",
     "output_type": "stream",
     "text": [
      " 48%|██████████████████████████████████████▏                                         | 388/814 [02:40<02:51,  2.48it/s]"
     ]
    },
    {
     "name": "stdout",
     "output_type": "stream",
     "text": [
      "lables [0]\n",
      "C:\\Users\\Sai Krishna\\Desktop\\Bird-Species-Classification-main 2\\Bird-Species-Classification-main\\archive\\train\\Northern Mockingbird\\179351-2.wav\n",
      "C:\\Users\\Sai Krishna\\Desktop\\Bird-Species-Classification-main 2\\Bird-Species-Classification-main\\archive\\train\\Northern Mockingbird\\179351-2.wav\n"
     ]
    },
    {
     "name": "stderr",
     "output_type": "stream",
     "text": [
      " 48%|██████████████████████████████████████▏                                         | 389/814 [02:41<02:43,  2.60it/s]"
     ]
    },
    {
     "name": "stdout",
     "output_type": "stream",
     "text": [
      "lables [1]\n",
      "C:\\Users\\Sai Krishna\\Desktop\\Bird-Species-Classification-main 2\\Bird-Species-Classification-main\\archive\\train\\Bewick's Wren\\61472-8.wav\n",
      "C:\\Users\\Sai Krishna\\Desktop\\Bird-Species-Classification-main 2\\Bird-Species-Classification-main\\archive\\train\\Bewick's Wren\\61472-8.wav\n"
     ]
    },
    {
     "name": "stderr",
     "output_type": "stream",
     "text": [
      " 48%|██████████████████████████████████████▎                                         | 390/814 [02:41<02:38,  2.68it/s]"
     ]
    },
    {
     "name": "stdout",
     "output_type": "stream",
     "text": [
      "lables [4]\n",
      "C:\\Users\\Sai Krishna\\Desktop\\Bird-Species-Classification-main 2\\Bird-Species-Classification-main\\archive\\train\\Song Sparrow\\103338-1.wav\n",
      "C:\\Users\\Sai Krishna\\Desktop\\Bird-Species-Classification-main 2\\Bird-Species-Classification-main\\archive\\train\\Song Sparrow\\103338-1.wav\n"
     ]
    },
    {
     "name": "stderr",
     "output_type": "stream",
     "text": [
      " 48%|██████████████████████████████████████▍                                         | 391/814 [02:41<02:34,  2.74it/s]"
     ]
    },
    {
     "name": "stdout",
     "output_type": "stream",
     "text": [
      "lables [0]\n",
      "C:\\Users\\Sai Krishna\\Desktop\\Bird-Species-Classification-main 2\\Bird-Species-Classification-main\\archive\\train\\Northern Mockingbird\\321913-0.wav\n",
      "C:\\Users\\Sai Krishna\\Desktop\\Bird-Species-Classification-main 2\\Bird-Species-Classification-main\\archive\\train\\Northern Mockingbird\\321913-0.wav\n"
     ]
    },
    {
     "name": "stderr",
     "output_type": "stream",
     "text": [
      " 48%|██████████████████████████████████████▌                                         | 392/814 [02:42<02:30,  2.81it/s]"
     ]
    },
    {
     "name": "stdout",
     "output_type": "stream",
     "text": [
      "lables [1]\n",
      "C:\\Users\\Sai Krishna\\Desktop\\Bird-Species-Classification-main 2\\Bird-Species-Classification-main\\archive\\train\\American Robin\\269082-4.wav\n",
      "C:\\Users\\Sai Krishna\\Desktop\\Bird-Species-Classification-main 2\\Bird-Species-Classification-main\\archive\\train\\American Robin\\269082-4.wav\n"
     ]
    },
    {
     "name": "stderr",
     "output_type": "stream",
     "text": [
      " 48%|██████████████████████████████████████▌                                         | 393/814 [02:42<02:31,  2.77it/s]"
     ]
    },
    {
     "name": "stdout",
     "output_type": "stream",
     "text": [
      "lables [3]\n",
      "C:\\Users\\Sai Krishna\\Desktop\\Bird-Species-Classification-main 2\\Bird-Species-Classification-main\\archive\\train\\Song Sparrow\\336819-10.wav\n",
      "C:\\Users\\Sai Krishna\\Desktop\\Bird-Species-Classification-main 2\\Bird-Species-Classification-main\\archive\\train\\Song Sparrow\\336819-10.wav\n"
     ]
    },
    {
     "name": "stderr",
     "output_type": "stream",
     "text": [
      " 48%|██████████████████████████████████████▋                                         | 394/814 [02:42<02:31,  2.77it/s]"
     ]
    },
    {
     "name": "stdout",
     "output_type": "stream",
     "text": [
      "lables [0]\n",
      "C:\\Users\\Sai Krishna\\Desktop\\Bird-Species-Classification-main 2\\Bird-Species-Classification-main\\archive\\train\\Song Sparrow\\282625-4.wav\n",
      "C:\\Users\\Sai Krishna\\Desktop\\Bird-Species-Classification-main 2\\Bird-Species-Classification-main\\archive\\train\\Song Sparrow\\282625-4.wav\n"
     ]
    },
    {
     "name": "stderr",
     "output_type": "stream",
     "text": [
      " 49%|██████████████████████████████████████▊                                         | 395/814 [02:43<02:31,  2.76it/s]"
     ]
    },
    {
     "name": "stdout",
     "output_type": "stream",
     "text": [
      "lables [0]\n",
      "C:\\Users\\Sai Krishna\\Desktop\\Bird-Species-Classification-main 2\\Bird-Species-Classification-main\\archive\\train\\Song Sparrow\\376028-2.wav\n",
      "C:\\Users\\Sai Krishna\\Desktop\\Bird-Species-Classification-main 2\\Bird-Species-Classification-main\\archive\\train\\Song Sparrow\\376028-2.wav\n"
     ]
    },
    {
     "name": "stderr",
     "output_type": "stream",
     "text": [
      " 49%|██████████████████████████████████████▉                                         | 396/814 [02:43<02:32,  2.74it/s]"
     ]
    },
    {
     "name": "stdout",
     "output_type": "stream",
     "text": [
      "lables [0]\n",
      "C:\\Users\\Sai Krishna\\Desktop\\Bird-Species-Classification-main 2\\Bird-Species-Classification-main\\archive\\train\\Song Sparrow\\408811-3.wav\n",
      "C:\\Users\\Sai Krishna\\Desktop\\Bird-Species-Classification-main 2\\Bird-Species-Classification-main\\archive\\train\\Song Sparrow\\408811-3.wav\n"
     ]
    },
    {
     "name": "stderr",
     "output_type": "stream",
     "text": [
      " 49%|███████████████████████████████████████                                         | 397/814 [02:43<02:34,  2.70it/s]"
     ]
    },
    {
     "name": "stdout",
     "output_type": "stream",
     "text": [
      "lables [0]\n",
      "C:\\Users\\Sai Krishna\\Desktop\\Bird-Species-Classification-main 2\\Bird-Species-Classification-main\\archive\\train\\Northern Cardinal\\474134-11.wav\n",
      "C:\\Users\\Sai Krishna\\Desktop\\Bird-Species-Classification-main 2\\Bird-Species-Classification-main\\archive\\train\\Northern Cardinal\\474134-11.wav\n"
     ]
    },
    {
     "name": "stderr",
     "output_type": "stream",
     "text": [
      " 49%|███████████████████████████████████████                                         | 398/814 [02:44<02:35,  2.68it/s]"
     ]
    },
    {
     "name": "stdout",
     "output_type": "stream",
     "text": [
      "lables [2]\n",
      "C:\\Users\\Sai Krishna\\Desktop\\Bird-Species-Classification-main 2\\Bird-Species-Classification-main\\archive\\train\\American Robin\\165272-2.wav\n",
      "C:\\Users\\Sai Krishna\\Desktop\\Bird-Species-Classification-main 2\\Bird-Species-Classification-main\\archive\\train\\American Robin\\165272-2.wav\n"
     ]
    },
    {
     "name": "stderr",
     "output_type": "stream",
     "text": [
      " 49%|███████████████████████████████████████▏                                        | 399/814 [02:44<02:43,  2.54it/s]"
     ]
    },
    {
     "name": "stdout",
     "output_type": "stream",
     "text": [
      "lables [3]\n",
      "C:\\Users\\Sai Krishna\\Desktop\\Bird-Species-Classification-main 2\\Bird-Species-Classification-main\\archive\\train\\Northern Mockingbird\\321945-12.wav\n",
      "C:\\Users\\Sai Krishna\\Desktop\\Bird-Species-Classification-main 2\\Bird-Species-Classification-main\\archive\\train\\Northern Mockingbird\\321945-12.wav\n"
     ]
    },
    {
     "name": "stderr",
     "output_type": "stream",
     "text": [
      " 49%|███████████████████████████████████████▎                                        | 400/814 [02:45<02:49,  2.44it/s]"
     ]
    },
    {
     "name": "stdout",
     "output_type": "stream",
     "text": [
      "lables [1]\n",
      "C:\\Users\\Sai Krishna\\Desktop\\Bird-Species-Classification-main 2\\Bird-Species-Classification-main\\archive\\train\\Northern Cardinal\\542090-0.wav\n",
      "C:\\Users\\Sai Krishna\\Desktop\\Bird-Species-Classification-main 2\\Bird-Species-Classification-main\\archive\\train\\Northern Cardinal\\542090-0.wav\n"
     ]
    },
    {
     "name": "stderr",
     "output_type": "stream",
     "text": [
      " 49%|███████████████████████████████████████▍                                        | 401/814 [02:45<02:51,  2.40it/s]"
     ]
    },
    {
     "name": "stdout",
     "output_type": "stream",
     "text": [
      "lables [2]\n",
      "C:\\Users\\Sai Krishna\\Desktop\\Bird-Species-Classification-main 2\\Bird-Species-Classification-main\\archive\\train\\Northern Cardinal\\302932-6.wav\n",
      "C:\\Users\\Sai Krishna\\Desktop\\Bird-Species-Classification-main 2\\Bird-Species-Classification-main\\archive\\train\\Northern Cardinal\\302932-6.wav\n"
     ]
    },
    {
     "name": "stderr",
     "output_type": "stream",
     "text": [
      " 49%|███████████████████████████████████████▌                                        | 402/814 [02:46<02:54,  2.36it/s]"
     ]
    },
    {
     "name": "stdout",
     "output_type": "stream",
     "text": [
      "lables [2]\n",
      "C:\\Users\\Sai Krishna\\Desktop\\Bird-Species-Classification-main 2\\Bird-Species-Classification-main\\archive\\train\\Bewick's Wren\\61471-13.wav\n",
      "C:\\Users\\Sai Krishna\\Desktop\\Bird-Species-Classification-main 2\\Bird-Species-Classification-main\\archive\\train\\Bewick's Wren\\61471-13.wav\n"
     ]
    },
    {
     "name": "stderr",
     "output_type": "stream",
     "text": [
      " 50%|███████████████████████████████████████▌                                        | 403/814 [02:46<02:55,  2.34it/s]"
     ]
    },
    {
     "name": "stdout",
     "output_type": "stream",
     "text": [
      "lables [0]\n",
      "C:\\Users\\Sai Krishna\\Desktop\\Bird-Species-Classification-main 2\\Bird-Species-Classification-main\\archive\\train\\Song Sparrow\\111670-14.wav\n",
      "C:\\Users\\Sai Krishna\\Desktop\\Bird-Species-Classification-main 2\\Bird-Species-Classification-main\\archive\\train\\Song Sparrow\\111670-14.wav\n"
     ]
    },
    {
     "name": "stderr",
     "output_type": "stream",
     "text": [
      " 50%|███████████████████████████████████████▋                                        | 404/814 [02:46<02:55,  2.33it/s]"
     ]
    },
    {
     "name": "stdout",
     "output_type": "stream",
     "text": [
      "lables [0]\n",
      "C:\\Users\\Sai Krishna\\Desktop\\Bird-Species-Classification-main 2\\Bird-Species-Classification-main\\archive\\train\\American Robin\\269082-8.wav\n",
      "C:\\Users\\Sai Krishna\\Desktop\\Bird-Species-Classification-main 2\\Bird-Species-Classification-main\\archive\\train\\American Robin\\269082-8.wav\n"
     ]
    },
    {
     "name": "stderr",
     "output_type": "stream",
     "text": [
      " 50%|███████████████████████████████████████▊                                        | 405/814 [02:47<02:56,  2.32it/s]"
     ]
    },
    {
     "name": "stdout",
     "output_type": "stream",
     "text": [
      "lables [3]\n",
      "C:\\Users\\Sai Krishna\\Desktop\\Bird-Species-Classification-main 2\\Bird-Species-Classification-main\\archive\\train\\Song Sparrow\\105818-8.wav\n",
      "C:\\Users\\Sai Krishna\\Desktop\\Bird-Species-Classification-main 2\\Bird-Species-Classification-main\\archive\\train\\Song Sparrow\\105818-8.wav\n"
     ]
    },
    {
     "name": "stderr",
     "output_type": "stream",
     "text": [
      " 50%|███████████████████████████████████████▉                                        | 406/814 [02:47<02:54,  2.34it/s]"
     ]
    },
    {
     "name": "stdout",
     "output_type": "stream",
     "text": [
      "lables [0]\n",
      "C:\\Users\\Sai Krishna\\Desktop\\Bird-Species-Classification-main 2\\Bird-Species-Classification-main\\archive\\train\\Northern Mockingbird\\563125-7.wav\n",
      "C:\\Users\\Sai Krishna\\Desktop\\Bird-Species-Classification-main 2\\Bird-Species-Classification-main\\archive\\train\\Northern Mockingbird\\563125-7.wav\n"
     ]
    },
    {
     "name": "stderr",
     "output_type": "stream",
     "text": [
      " 50%|████████████████████████████████████████                                        | 407/814 [02:48<02:55,  2.32it/s]"
     ]
    },
    {
     "name": "stdout",
     "output_type": "stream",
     "text": [
      "lables [1]\n",
      "C:\\Users\\Sai Krishna\\Desktop\\Bird-Species-Classification-main 2\\Bird-Species-Classification-main\\archive\\train\\Northern Mockingbird\\541496-8.wav\n",
      "C:\\Users\\Sai Krishna\\Desktop\\Bird-Species-Classification-main 2\\Bird-Species-Classification-main\\archive\\train\\Northern Mockingbird\\541496-8.wav\n"
     ]
    },
    {
     "name": "stderr",
     "output_type": "stream",
     "text": [
      " 50%|████████████████████████████████████████                                        | 408/814 [02:48<02:54,  2.33it/s]"
     ]
    },
    {
     "name": "stdout",
     "output_type": "stream",
     "text": [
      "lables [0]\n",
      "C:\\Users\\Sai Krishna\\Desktop\\Bird-Species-Classification-main 2\\Bird-Species-Classification-main\\archive\\train\\Bewick's Wren\\351058-12.wav\n",
      "C:\\Users\\Sai Krishna\\Desktop\\Bird-Species-Classification-main 2\\Bird-Species-Classification-main\\archive\\train\\Bewick's Wren\\351058-12.wav\n"
     ]
    },
    {
     "name": "stderr",
     "output_type": "stream",
     "text": [
      " 50%|████████████████████████████████████████▏                                       | 409/814 [02:49<02:54,  2.32it/s]"
     ]
    },
    {
     "name": "stdout",
     "output_type": "stream",
     "text": [
      "lables [4]\n",
      "C:\\Users\\Sai Krishna\\Desktop\\Bird-Species-Classification-main 2\\Bird-Species-Classification-main\\archive\\train\\Bewick's Wren\\104637-2.wav\n",
      "C:\\Users\\Sai Krishna\\Desktop\\Bird-Species-Classification-main 2\\Bird-Species-Classification-main\\archive\\train\\Bewick's Wren\\104637-2.wav\n"
     ]
    },
    {
     "name": "stderr",
     "output_type": "stream",
     "text": [
      " 50%|████████████████████████████████████████▎                                       | 410/814 [02:49<02:52,  2.34it/s]"
     ]
    },
    {
     "name": "stdout",
     "output_type": "stream",
     "text": [
      "lables [4]\n",
      "C:\\Users\\Sai Krishna\\Desktop\\Bird-Species-Classification-main 2\\Bird-Species-Classification-main\\archive\\train\\Song Sparrow\\175509-4.wav\n",
      "C:\\Users\\Sai Krishna\\Desktop\\Bird-Species-Classification-main 2\\Bird-Species-Classification-main\\archive\\train\\Song Sparrow\\175509-4.wav\n"
     ]
    },
    {
     "name": "stderr",
     "output_type": "stream",
     "text": [
      " 50%|████████████████████████████████████████▍                                       | 411/814 [02:49<02:52,  2.33it/s]"
     ]
    },
    {
     "name": "stdout",
     "output_type": "stream",
     "text": [
      "lables [0]\n",
      "C:\\Users\\Sai Krishna\\Desktop\\Bird-Species-Classification-main 2\\Bird-Species-Classification-main\\archive\\train\\Song Sparrow\\465907-10.wav\n",
      "C:\\Users\\Sai Krishna\\Desktop\\Bird-Species-Classification-main 2\\Bird-Species-Classification-main\\archive\\train\\Song Sparrow\\465907-10.wav\n"
     ]
    },
    {
     "name": "stderr",
     "output_type": "stream",
     "text": [
      " 51%|████████████████████████████████████████▍                                       | 412/814 [02:50<02:52,  2.33it/s]"
     ]
    },
    {
     "name": "stdout",
     "output_type": "stream",
     "text": [
      "lables [0]\n",
      "C:\\Users\\Sai Krishna\\Desktop\\Bird-Species-Classification-main 2\\Bird-Species-Classification-main\\archive\\train\\Bewick's Wren\\351065-6.wav\n",
      "C:\\Users\\Sai Krishna\\Desktop\\Bird-Species-Classification-main 2\\Bird-Species-Classification-main\\archive\\train\\Bewick's Wren\\351065-6.wav\n"
     ]
    },
    {
     "name": "stderr",
     "output_type": "stream",
     "text": [
      " 51%|████████████████████████████████████████▌                                       | 413/814 [02:50<02:52,  2.33it/s]"
     ]
    },
    {
     "name": "stdout",
     "output_type": "stream",
     "text": [
      "lables [4]\n",
      "C:\\Users\\Sai Krishna\\Desktop\\Bird-Species-Classification-main 2\\Bird-Species-Classification-main\\archive\\train\\American Robin\\446458-6.wav\n",
      "C:\\Users\\Sai Krishna\\Desktop\\Bird-Species-Classification-main 2\\Bird-Species-Classification-main\\archive\\train\\American Robin\\446458-6.wav\n"
     ]
    },
    {
     "name": "stderr",
     "output_type": "stream",
     "text": [
      " 51%|████████████████████████████████████████▋                                       | 414/814 [02:51<02:50,  2.34it/s]"
     ]
    },
    {
     "name": "stdout",
     "output_type": "stream",
     "text": [
      "lables [3]\n",
      "C:\\Users\\Sai Krishna\\Desktop\\Bird-Species-Classification-main 2\\Bird-Species-Classification-main\\archive\\train\\Northern Cardinal\\373569-7.wav\n",
      "C:\\Users\\Sai Krishna\\Desktop\\Bird-Species-Classification-main 2\\Bird-Species-Classification-main\\archive\\train\\Northern Cardinal\\373569-7.wav\n"
     ]
    },
    {
     "name": "stderr",
     "output_type": "stream",
     "text": [
      " 51%|████████████████████████████████████████▊                                       | 415/814 [02:51<02:50,  2.34it/s]"
     ]
    },
    {
     "name": "stdout",
     "output_type": "stream",
     "text": [
      "lables [2]\n",
      "C:\\Users\\Sai Krishna\\Desktop\\Bird-Species-Classification-main 2\\Bird-Species-Classification-main\\archive\\train\\Song Sparrow\\425799-1.wav\n",
      "C:\\Users\\Sai Krishna\\Desktop\\Bird-Species-Classification-main 2\\Bird-Species-Classification-main\\archive\\train\\Song Sparrow\\425799-1.wav\n"
     ]
    },
    {
     "name": "stderr",
     "output_type": "stream",
     "text": [
      " 51%|████████████████████████████████████████▉                                       | 416/814 [02:52<02:50,  2.33it/s]"
     ]
    },
    {
     "name": "stdout",
     "output_type": "stream",
     "text": [
      "lables [4]\n",
      "C:\\Users\\Sai Krishna\\Desktop\\Bird-Species-Classification-main 2\\Bird-Species-Classification-main\\archive\\train\\American Robin\\375006-5.wav\n",
      "C:\\Users\\Sai Krishna\\Desktop\\Bird-Species-Classification-main 2\\Bird-Species-Classification-main\\archive\\train\\American Robin\\375006-5.wav\n"
     ]
    },
    {
     "name": "stderr",
     "output_type": "stream",
     "text": [
      " 51%|████████████████████████████████████████▉                                       | 417/814 [02:52<02:49,  2.34it/s]"
     ]
    },
    {
     "name": "stdout",
     "output_type": "stream",
     "text": [
      "lables [3]\n",
      "C:\\Users\\Sai Krishna\\Desktop\\Bird-Species-Classification-main 2\\Bird-Species-Classification-main\\archive\\train\\Song Sparrow\\111644-12.wav\n",
      "C:\\Users\\Sai Krishna\\Desktop\\Bird-Species-Classification-main 2\\Bird-Species-Classification-main\\archive\\train\\Song Sparrow\\111644-12.wav\n"
     ]
    },
    {
     "name": "stderr",
     "output_type": "stream",
     "text": [
      " 51%|█████████████████████████████████████████                                       | 418/814 [02:52<02:49,  2.34it/s]"
     ]
    },
    {
     "name": "stdout",
     "output_type": "stream",
     "text": [
      "lables [0]\n",
      "C:\\Users\\Sai Krishna\\Desktop\\Bird-Species-Classification-main 2\\Bird-Species-Classification-main\\archive\\train\\Song Sparrow\\111649-12.wav\n",
      "C:\\Users\\Sai Krishna\\Desktop\\Bird-Species-Classification-main 2\\Bird-Species-Classification-main\\archive\\train\\Song Sparrow\\111649-12.wav\n"
     ]
    },
    {
     "name": "stderr",
     "output_type": "stream",
     "text": [
      " 51%|█████████████████████████████████████████▏                                      | 419/814 [02:53<02:48,  2.35it/s]"
     ]
    },
    {
     "name": "stdout",
     "output_type": "stream",
     "text": [
      "lables [0]\n",
      "C:\\Users\\Sai Krishna\\Desktop\\Bird-Species-Classification-main 2\\Bird-Species-Classification-main\\archive\\train\\Northern Cardinal\\559516-11.wav\n",
      "C:\\Users\\Sai Krishna\\Desktop\\Bird-Species-Classification-main 2\\Bird-Species-Classification-main\\archive\\train\\Northern Cardinal\\559516-11.wav\n"
     ]
    },
    {
     "name": "stderr",
     "output_type": "stream",
     "text": [
      " 52%|█████████████████████████████████████████▎                                      | 420/814 [02:53<02:39,  2.47it/s]"
     ]
    },
    {
     "name": "stdout",
     "output_type": "stream",
     "text": [
      "lables [2]\n",
      "C:\\Users\\Sai Krishna\\Desktop\\Bird-Species-Classification-main 2\\Bird-Species-Classification-main\\archive\\train\\Northern Mockingbird\\54019-17.wav\n",
      "C:\\Users\\Sai Krishna\\Desktop\\Bird-Species-Classification-main 2\\Bird-Species-Classification-main\\archive\\train\\Northern Mockingbird\\54019-17.wav\n"
     ]
    },
    {
     "name": "stderr",
     "output_type": "stream",
     "text": [
      " 52%|█████████████████████████████████████████▍                                      | 421/814 [02:54<02:31,  2.60it/s]"
     ]
    },
    {
     "name": "stdout",
     "output_type": "stream",
     "text": [
      "lables [1]\n",
      "C:\\Users\\Sai Krishna\\Desktop\\Bird-Species-Classification-main 2\\Bird-Species-Classification-main\\archive\\train\\Song Sparrow\\429249-6.wav\n",
      "C:\\Users\\Sai Krishna\\Desktop\\Bird-Species-Classification-main 2\\Bird-Species-Classification-main\\archive\\train\\Song Sparrow\\429249-6.wav\n"
     ]
    },
    {
     "name": "stderr",
     "output_type": "stream",
     "text": [
      " 52%|█████████████████████████████████████████▍                                      | 422/814 [02:54<02:24,  2.70it/s]"
     ]
    },
    {
     "name": "stdout",
     "output_type": "stream",
     "text": [
      "lables [0]\n",
      "C:\\Users\\Sai Krishna\\Desktop\\Bird-Species-Classification-main 2\\Bird-Species-Classification-main\\archive\\train\\Song Sparrow\\481115-7.wav\n",
      "C:\\Users\\Sai Krishna\\Desktop\\Bird-Species-Classification-main 2\\Bird-Species-Classification-main\\archive\\train\\Song Sparrow\\481115-7.wav\n"
     ]
    },
    {
     "name": "stderr",
     "output_type": "stream",
     "text": [
      " 52%|█████████████████████████████████████████▌                                      | 423/814 [02:54<02:22,  2.74it/s]"
     ]
    },
    {
     "name": "stdout",
     "output_type": "stream",
     "text": [
      "lables [0]\n",
      "C:\\Users\\Sai Krishna\\Desktop\\Bird-Species-Classification-main 2\\Bird-Species-Classification-main\\archive\\train\\Northern Cardinal\\54652-7.wav\n",
      "C:\\Users\\Sai Krishna\\Desktop\\Bird-Species-Classification-main 2\\Bird-Species-Classification-main\\archive\\train\\Northern Cardinal\\54652-7.wav\n"
     ]
    },
    {
     "name": "stderr",
     "output_type": "stream",
     "text": [
      " 52%|█████████████████████████████████████████▋                                      | 424/814 [02:55<02:19,  2.79it/s]"
     ]
    },
    {
     "name": "stdout",
     "output_type": "stream",
     "text": [
      "lables [2]\n",
      "C:\\Users\\Sai Krishna\\Desktop\\Bird-Species-Classification-main 2\\Bird-Species-Classification-main\\archive\\train\\American Robin\\537326-1.wav\n",
      "C:\\Users\\Sai Krishna\\Desktop\\Bird-Species-Classification-main 2\\Bird-Species-Classification-main\\archive\\train\\American Robin\\537326-1.wav\n"
     ]
    },
    {
     "name": "stderr",
     "output_type": "stream",
     "text": [
      " 52%|█████████████████████████████████████████▊                                      | 425/814 [02:55<02:28,  2.62it/s]"
     ]
    },
    {
     "name": "stdout",
     "output_type": "stream",
     "text": [
      "lables [3]\n",
      "C:\\Users\\Sai Krishna\\Desktop\\Bird-Species-Classification-main 2\\Bird-Species-Classification-main\\archive\\train\\American Robin\\483628-2.wav\n",
      "C:\\Users\\Sai Krishna\\Desktop\\Bird-Species-Classification-main 2\\Bird-Species-Classification-main\\archive\\train\\American Robin\\483628-2.wav\n"
     ]
    },
    {
     "name": "stderr",
     "output_type": "stream",
     "text": [
      " 52%|█████████████████████████████████████████▊                                      | 426/814 [02:56<02:33,  2.53it/s]"
     ]
    },
    {
     "name": "stdout",
     "output_type": "stream",
     "text": [
      "lables [3]\n",
      "C:\\Users\\Sai Krishna\\Desktop\\Bird-Species-Classification-main 2\\Bird-Species-Classification-main\\archive\\train\\Northern Cardinal\\408321-8.wav\n",
      "C:\\Users\\Sai Krishna\\Desktop\\Bird-Species-Classification-main 2\\Bird-Species-Classification-main\\archive\\train\\Northern Cardinal\\408321-8.wav\n"
     ]
    },
    {
     "name": "stderr",
     "output_type": "stream",
     "text": [
      " 52%|█████████████████████████████████████████▉                                      | 427/814 [02:56<02:36,  2.47it/s]"
     ]
    },
    {
     "name": "stdout",
     "output_type": "stream",
     "text": [
      "lables [2]\n",
      "C:\\Users\\Sai Krishna\\Desktop\\Bird-Species-Classification-main 2\\Bird-Species-Classification-main\\archive\\train\\Song Sparrow\\111669-0.wav\n",
      "C:\\Users\\Sai Krishna\\Desktop\\Bird-Species-Classification-main 2\\Bird-Species-Classification-main\\archive\\train\\Song Sparrow\\111669-0.wav\n"
     ]
    },
    {
     "name": "stderr",
     "output_type": "stream",
     "text": [
      " 53%|██████████████████████████████████████████                                      | 428/814 [02:56<02:39,  2.42it/s]"
     ]
    },
    {
     "name": "stdout",
     "output_type": "stream",
     "text": [
      "lables [0]\n",
      "C:\\Users\\Sai Krishna\\Desktop\\Bird-Species-Classification-main 2\\Bird-Species-Classification-main\\archive\\train\\Song Sparrow\\358837-9.wav\n",
      "C:\\Users\\Sai Krishna\\Desktop\\Bird-Species-Classification-main 2\\Bird-Species-Classification-main\\archive\\train\\Song Sparrow\\358837-9.wav\n"
     ]
    },
    {
     "name": "stderr",
     "output_type": "stream",
     "text": [
      " 53%|██████████████████████████████████████████▏                                     | 429/814 [02:57<02:39,  2.42it/s]"
     ]
    },
    {
     "name": "stdout",
     "output_type": "stream",
     "text": [
      "lables [0]\n",
      "C:\\Users\\Sai Krishna\\Desktop\\Bird-Species-Classification-main 2\\Bird-Species-Classification-main\\archive\\train\\Bewick's Wren\\351182-1.wav\n",
      "C:\\Users\\Sai Krishna\\Desktop\\Bird-Species-Classification-main 2\\Bird-Species-Classification-main\\archive\\train\\Bewick's Wren\\351182-1.wav\n"
     ]
    },
    {
     "name": "stderr",
     "output_type": "stream",
     "text": [
      " 53%|██████████████████████████████████████████▎                                     | 430/814 [02:57<02:40,  2.39it/s]"
     ]
    },
    {
     "name": "stdout",
     "output_type": "stream",
     "text": [
      "lables [4]\n",
      "C:\\Users\\Sai Krishna\\Desktop\\Bird-Species-Classification-main 2\\Bird-Species-Classification-main\\archive\\train\\Northern Mockingbird\\321923-8.wav\n",
      "C:\\Users\\Sai Krishna\\Desktop\\Bird-Species-Classification-main 2\\Bird-Species-Classification-main\\archive\\train\\Northern Mockingbird\\321923-8.wav\n"
     ]
    },
    {
     "name": "stderr",
     "output_type": "stream",
     "text": [
      " 53%|██████████████████████████████████████████▎                                     | 431/814 [02:58<02:41,  2.37it/s]"
     ]
    },
    {
     "name": "stdout",
     "output_type": "stream",
     "text": [
      "lables [1]\n",
      "C:\\Users\\Sai Krishna\\Desktop\\Bird-Species-Classification-main 2\\Bird-Species-Classification-main\\archive\\train\\Song Sparrow\\185605-0.wav\n",
      "C:\\Users\\Sai Krishna\\Desktop\\Bird-Species-Classification-main 2\\Bird-Species-Classification-main\\archive\\train\\Song Sparrow\\185605-0.wav\n"
     ]
    },
    {
     "name": "stderr",
     "output_type": "stream",
     "text": [
      " 53%|██████████████████████████████████████████▍                                     | 432/814 [02:58<02:41,  2.36it/s]"
     ]
    },
    {
     "name": "stdout",
     "output_type": "stream",
     "text": [
      "lables [0]\n",
      "C:\\Users\\Sai Krishna\\Desktop\\Bird-Species-Classification-main 2\\Bird-Species-Classification-main\\archive\\train\\Northern Mockingbird\\534181-4.wav\n",
      "C:\\Users\\Sai Krishna\\Desktop\\Bird-Species-Classification-main 2\\Bird-Species-Classification-main\\archive\\train\\Northern Mockingbird\\534181-4.wav\n"
     ]
    },
    {
     "name": "stderr",
     "output_type": "stream",
     "text": [
      " 53%|██████████████████████████████████████████▌                                     | 433/814 [02:58<02:41,  2.35it/s]"
     ]
    },
    {
     "name": "stdout",
     "output_type": "stream",
     "text": [
      "lables [1]\n",
      "C:\\Users\\Sai Krishna\\Desktop\\Bird-Species-Classification-main 2\\Bird-Species-Classification-main\\archive\\train\\American Robin\\483578-10.wav\n",
      "C:\\Users\\Sai Krishna\\Desktop\\Bird-Species-Classification-main 2\\Bird-Species-Classification-main\\archive\\train\\American Robin\\483578-10.wav\n"
     ]
    },
    {
     "name": "stderr",
     "output_type": "stream",
     "text": [
      " 53%|██████████████████████████████████████████▋                                     | 434/814 [02:59<02:42,  2.34it/s]"
     ]
    },
    {
     "name": "stdout",
     "output_type": "stream",
     "text": [
      "lables [3]\n",
      "C:\\Users\\Sai Krishna\\Desktop\\Bird-Species-Classification-main 2\\Bird-Species-Classification-main\\archive\\train\\Bewick's Wren\\173154-1.wav\n",
      "C:\\Users\\Sai Krishna\\Desktop\\Bird-Species-Classification-main 2\\Bird-Species-Classification-main\\archive\\train\\Bewick's Wren\\173154-1.wav\n"
     ]
    },
    {
     "name": "stderr",
     "output_type": "stream",
     "text": [
      " 53%|██████████████████████████████████████████▊                                     | 435/814 [02:59<02:42,  2.34it/s]"
     ]
    },
    {
     "name": "stdout",
     "output_type": "stream",
     "text": [
      "lables [4]\n",
      "C:\\Users\\Sai Krishna\\Desktop\\Bird-Species-Classification-main 2\\Bird-Species-Classification-main\\archive\\train\\Bewick's Wren\\323981-1.wav\n",
      "C:\\Users\\Sai Krishna\\Desktop\\Bird-Species-Classification-main 2\\Bird-Species-Classification-main\\archive\\train\\Bewick's Wren\\323981-1.wav\n"
     ]
    },
    {
     "name": "stderr",
     "output_type": "stream",
     "text": [
      " 54%|██████████████████████████████████████████▊                                     | 436/814 [03:00<02:42,  2.33it/s]"
     ]
    },
    {
     "name": "stdout",
     "output_type": "stream",
     "text": [
      "lables [4]\n",
      "C:\\Users\\Sai Krishna\\Desktop\\Bird-Species-Classification-main 2\\Bird-Species-Classification-main\\archive\\train\\American Robin\\14442-7.wav\n",
      "C:\\Users\\Sai Krishna\\Desktop\\Bird-Species-Classification-main 2\\Bird-Species-Classification-main\\archive\\train\\American Robin\\14442-7.wav\n"
     ]
    },
    {
     "name": "stderr",
     "output_type": "stream",
     "text": [
      " 54%|██████████████████████████████████████████▉                                     | 437/814 [03:00<02:38,  2.38it/s]"
     ]
    },
    {
     "name": "stdout",
     "output_type": "stream",
     "text": [
      "lables [3]\n",
      "C:\\Users\\Sai Krishna\\Desktop\\Bird-Species-Classification-main 2\\Bird-Species-Classification-main\\archive\\train\\Bewick's Wren\\480035-4.wav\n",
      "C:\\Users\\Sai Krishna\\Desktop\\Bird-Species-Classification-main 2\\Bird-Species-Classification-main\\archive\\train\\Bewick's Wren\\480035-4.wav\n"
     ]
    },
    {
     "name": "stderr",
     "output_type": "stream",
     "text": [
      " 54%|███████████████████████████████████████████                                     | 438/814 [03:01<02:28,  2.53it/s]"
     ]
    },
    {
     "name": "stdout",
     "output_type": "stream",
     "text": [
      "lables [4]\n",
      "C:\\Users\\Sai Krishna\\Desktop\\Bird-Species-Classification-main 2\\Bird-Species-Classification-main\\archive\\train\\Bewick's Wren\\104637-1.wav\n",
      "C:\\Users\\Sai Krishna\\Desktop\\Bird-Species-Classification-main 2\\Bird-Species-Classification-main\\archive\\train\\Bewick's Wren\\104637-1.wav\n"
     ]
    },
    {
     "name": "stderr",
     "output_type": "stream",
     "text": [
      " 54%|███████████████████████████████████████████▏                                    | 439/814 [03:01<02:23,  2.61it/s]"
     ]
    },
    {
     "name": "stdout",
     "output_type": "stream",
     "text": [
      "lables [4]\n",
      "C:\\Users\\Sai Krishna\\Desktop\\Bird-Species-Classification-main 2\\Bird-Species-Classification-main\\archive\\train\\Northern Mockingbird\\58179-4.wav\n",
      "C:\\Users\\Sai Krishna\\Desktop\\Bird-Species-Classification-main 2\\Bird-Species-Classification-main\\archive\\train\\Northern Mockingbird\\58179-4.wav\n"
     ]
    },
    {
     "name": "stderr",
     "output_type": "stream",
     "text": [
      " 54%|███████████████████████████████████████████▏                                    | 440/814 [03:01<02:17,  2.72it/s]"
     ]
    },
    {
     "name": "stdout",
     "output_type": "stream",
     "text": [
      "lables [1]\n",
      "C:\\Users\\Sai Krishna\\Desktop\\Bird-Species-Classification-main 2\\Bird-Species-Classification-main\\archive\\train\\Northern Cardinal\\564311-2.wav\n",
      "C:\\Users\\Sai Krishna\\Desktop\\Bird-Species-Classification-main 2\\Bird-Species-Classification-main\\archive\\train\\Northern Cardinal\\564311-2.wav\n"
     ]
    },
    {
     "name": "stderr",
     "output_type": "stream",
     "text": [
      " 54%|███████████████████████████████████████████▎                                    | 441/814 [03:02<02:15,  2.76it/s]"
     ]
    },
    {
     "name": "stdout",
     "output_type": "stream",
     "text": [
      "lables [2]\n",
      "C:\\Users\\Sai Krishna\\Desktop\\Bird-Species-Classification-main 2\\Bird-Species-Classification-main\\archive\\train\\Bewick's Wren\\351083-8.wav\n",
      "C:\\Users\\Sai Krishna\\Desktop\\Bird-Species-Classification-main 2\\Bird-Species-Classification-main\\archive\\train\\Bewick's Wren\\351083-8.wav\n"
     ]
    },
    {
     "name": "stderr",
     "output_type": "stream",
     "text": [
      " 54%|███████████████████████████████████████████▍                                    | 442/814 [03:02<02:13,  2.80it/s]"
     ]
    },
    {
     "name": "stdout",
     "output_type": "stream",
     "text": [
      "lables [4]\n",
      "C:\\Users\\Sai Krishna\\Desktop\\Bird-Species-Classification-main 2\\Bird-Species-Classification-main\\archive\\train\\Song Sparrow\\320719-4.wav\n",
      "C:\\Users\\Sai Krishna\\Desktop\\Bird-Species-Classification-main 2\\Bird-Species-Classification-main\\archive\\train\\Song Sparrow\\320719-4.wav\n"
     ]
    },
    {
     "name": "stderr",
     "output_type": "stream",
     "text": [
      " 54%|███████████████████████████████████████████▌                                    | 443/814 [03:02<02:19,  2.66it/s]"
     ]
    },
    {
     "name": "stdout",
     "output_type": "stream",
     "text": [
      "lables [0]\n",
      "C:\\Users\\Sai Krishna\\Desktop\\Bird-Species-Classification-main 2\\Bird-Species-Classification-main\\archive\\train\\Song Sparrow\\408571-10.wav\n",
      "C:\\Users\\Sai Krishna\\Desktop\\Bird-Species-Classification-main 2\\Bird-Species-Classification-main\\archive\\train\\Song Sparrow\\408571-10.wav\n"
     ]
    },
    {
     "name": "stderr",
     "output_type": "stream",
     "text": [
      " 55%|███████████████████████████████████████████▋                                    | 444/814 [03:03<02:27,  2.51it/s]"
     ]
    },
    {
     "name": "stdout",
     "output_type": "stream",
     "text": [
      "lables [4]\n",
      "C:\\Users\\Sai Krishna\\Desktop\\Bird-Species-Classification-main 2\\Bird-Species-Classification-main\\archive\\train\\Bewick's Wren\\351041-7.wav\n",
      "C:\\Users\\Sai Krishna\\Desktop\\Bird-Species-Classification-main 2\\Bird-Species-Classification-main\\archive\\train\\Bewick's Wren\\351041-7.wav\n"
     ]
    },
    {
     "name": "stderr",
     "output_type": "stream",
     "text": [
      " 55%|███████████████████████████████████████████▋                                    | 445/814 [03:03<02:29,  2.47it/s]"
     ]
    },
    {
     "name": "stdout",
     "output_type": "stream",
     "text": [
      "lables [4]\n",
      "C:\\Users\\Sai Krishna\\Desktop\\Bird-Species-Classification-main 2\\Bird-Species-Classification-main\\archive\\train\\Bewick's Wren\\217835-7.wav\n",
      "C:\\Users\\Sai Krishna\\Desktop\\Bird-Species-Classification-main 2\\Bird-Species-Classification-main\\archive\\train\\Bewick's Wren\\217835-7.wav\n"
     ]
    },
    {
     "name": "stderr",
     "output_type": "stream",
     "text": [
      " 55%|███████████████████████████████████████████▊                                    | 446/814 [03:04<02:32,  2.41it/s]"
     ]
    },
    {
     "name": "stdout",
     "output_type": "stream",
     "text": [
      "lables [4]\n",
      "C:\\Users\\Sai Krishna\\Desktop\\Bird-Species-Classification-main 2\\Bird-Species-Classification-main\\archive\\train\\American Robin\\384027-5.wav\n",
      "C:\\Users\\Sai Krishna\\Desktop\\Bird-Species-Classification-main 2\\Bird-Species-Classification-main\\archive\\train\\American Robin\\384027-5.wav\n"
     ]
    },
    {
     "name": "stderr",
     "output_type": "stream",
     "text": [
      " 55%|███████████████████████████████████████████▉                                    | 447/814 [03:04<02:34,  2.38it/s]"
     ]
    },
    {
     "name": "stdout",
     "output_type": "stream",
     "text": [
      "lables [3]\n",
      "C:\\Users\\Sai Krishna\\Desktop\\Bird-Species-Classification-main 2\\Bird-Species-Classification-main\\archive\\train\\Northern Mockingbird\\54018-0.wav\n",
      "C:\\Users\\Sai Krishna\\Desktop\\Bird-Species-Classification-main 2\\Bird-Species-Classification-main\\archive\\train\\Northern Mockingbird\\54018-0.wav\n"
     ]
    },
    {
     "name": "stderr",
     "output_type": "stream",
     "text": [
      " 55%|████████████████████████████████████████████                                    | 448/814 [03:05<02:35,  2.35it/s]"
     ]
    },
    {
     "name": "stdout",
     "output_type": "stream",
     "text": [
      "lables [1]\n",
      "C:\\Users\\Sai Krishna\\Desktop\\Bird-Species-Classification-main 2\\Bird-Species-Classification-main\\archive\\train\\American Robin\\313352-14.wav\n",
      "C:\\Users\\Sai Krishna\\Desktop\\Bird-Species-Classification-main 2\\Bird-Species-Classification-main\\archive\\train\\American Robin\\313352-14.wav\n"
     ]
    },
    {
     "name": "stderr",
     "output_type": "stream",
     "text": [
      " 55%|████████████████████████████████████████████▏                                   | 449/814 [03:05<02:35,  2.34it/s]"
     ]
    },
    {
     "name": "stdout",
     "output_type": "stream",
     "text": [
      "lables [3]\n",
      "C:\\Users\\Sai Krishna\\Desktop\\Bird-Species-Classification-main 2\\Bird-Species-Classification-main\\archive\\train\\Bewick's Wren\\61471-3.wav\n",
      "C:\\Users\\Sai Krishna\\Desktop\\Bird-Species-Classification-main 2\\Bird-Species-Classification-main\\archive\\train\\Bewick's Wren\\61471-3.wav\n"
     ]
    },
    {
     "name": "stderr",
     "output_type": "stream",
     "text": [
      " 55%|████████████████████████████████████████████▏                                   | 450/814 [03:05<02:35,  2.35it/s]"
     ]
    },
    {
     "name": "stdout",
     "output_type": "stream",
     "text": [
      "lables [4]\n",
      "C:\\Users\\Sai Krishna\\Desktop\\Bird-Species-Classification-main 2\\Bird-Species-Classification-main\\archive\\train\\American Robin\\564324-8.wav\n",
      "C:\\Users\\Sai Krishna\\Desktop\\Bird-Species-Classification-main 2\\Bird-Species-Classification-main\\archive\\train\\American Robin\\564324-8.wav\n"
     ]
    },
    {
     "name": "stderr",
     "output_type": "stream",
     "text": [
      " 55%|████████████████████████████████████████████▎                                   | 451/814 [03:06<02:35,  2.33it/s]"
     ]
    },
    {
     "name": "stdout",
     "output_type": "stream",
     "text": [
      "lables [3]\n",
      "C:\\Users\\Sai Krishna\\Desktop\\Bird-Species-Classification-main 2\\Bird-Species-Classification-main\\archive\\train\\Bewick's Wren\\323979-1.wav\n",
      "C:\\Users\\Sai Krishna\\Desktop\\Bird-Species-Classification-main 2\\Bird-Species-Classification-main\\archive\\train\\Bewick's Wren\\323979-1.wav\n"
     ]
    },
    {
     "name": "stderr",
     "output_type": "stream",
     "text": [
      " 56%|████████████████████████████████████████████▍                                   | 452/814 [03:06<02:31,  2.39it/s]"
     ]
    },
    {
     "name": "stdout",
     "output_type": "stream",
     "text": [
      "lables [4]\n",
      "C:\\Users\\Sai Krishna\\Desktop\\Bird-Species-Classification-main 2\\Bird-Species-Classification-main\\archive\\train\\Northern Mockingbird\\54725-2.wav\n",
      "C:\\Users\\Sai Krishna\\Desktop\\Bird-Species-Classification-main 2\\Bird-Species-Classification-main\\archive\\train\\Northern Mockingbird\\54725-2.wav\n"
     ]
    },
    {
     "name": "stderr",
     "output_type": "stream",
     "text": [
      " 56%|████████████████████████████████████████████▌                                   | 453/814 [03:07<02:22,  2.53it/s]"
     ]
    },
    {
     "name": "stdout",
     "output_type": "stream",
     "text": [
      "lables [1]\n",
      "C:\\Users\\Sai Krishna\\Desktop\\Bird-Species-Classification-main 2\\Bird-Species-Classification-main\\archive\\train\\American Robin\\564544-7.wav\n",
      "C:\\Users\\Sai Krishna\\Desktop\\Bird-Species-Classification-main 2\\Bird-Species-Classification-main\\archive\\train\\American Robin\\564544-7.wav\n"
     ]
    },
    {
     "name": "stderr",
     "output_type": "stream",
     "text": [
      " 56%|████████████████████████████████████████████▌                                   | 454/814 [03:07<02:17,  2.62it/s]"
     ]
    },
    {
     "name": "stdout",
     "output_type": "stream",
     "text": [
      "lables [3]\n",
      "C:\\Users\\Sai Krishna\\Desktop\\Bird-Species-Classification-main 2\\Bird-Species-Classification-main\\archive\\train\\American Robin\\468991-13.wav\n",
      "C:\\Users\\Sai Krishna\\Desktop\\Bird-Species-Classification-main 2\\Bird-Species-Classification-main\\archive\\train\\American Robin\\468991-13.wav\n"
     ]
    },
    {
     "name": "stderr",
     "output_type": "stream",
     "text": [
      " 56%|████████████████████████████████████████████▋                                   | 455/814 [03:07<02:13,  2.70it/s]"
     ]
    },
    {
     "name": "stdout",
     "output_type": "stream",
     "text": [
      "lables [3]\n",
      "C:\\Users\\Sai Krishna\\Desktop\\Bird-Species-Classification-main 2\\Bird-Species-Classification-main\\archive\\train\\Bewick's Wren\\417877-2.wav\n",
      "C:\\Users\\Sai Krishna\\Desktop\\Bird-Species-Classification-main 2\\Bird-Species-Classification-main\\archive\\train\\Bewick's Wren\\417877-2.wav\n"
     ]
    },
    {
     "name": "stderr",
     "output_type": "stream",
     "text": [
      " 56%|████████████████████████████████████████████▊                                   | 456/814 [03:08<02:09,  2.77it/s]"
     ]
    },
    {
     "name": "stdout",
     "output_type": "stream",
     "text": [
      "lables [4]\n",
      "C:\\Users\\Sai Krishna\\Desktop\\Bird-Species-Classification-main 2\\Bird-Species-Classification-main\\archive\\train\\Song Sparrow\\142621-0.wav\n",
      "C:\\Users\\Sai Krishna\\Desktop\\Bird-Species-Classification-main 2\\Bird-Species-Classification-main\\archive\\train\\Song Sparrow\\142621-0.wav\n"
     ]
    },
    {
     "name": "stderr",
     "output_type": "stream",
     "text": [
      " 56%|████████████████████████████████████████████▉                                   | 457/814 [03:08<02:07,  2.79it/s]"
     ]
    },
    {
     "name": "stdout",
     "output_type": "stream",
     "text": [
      "lables [0]\n",
      "C:\\Users\\Sai Krishna\\Desktop\\Bird-Species-Classification-main 2\\Bird-Species-Classification-main\\archive\\train\\American Robin\\138063-15.wav\n",
      "C:\\Users\\Sai Krishna\\Desktop\\Bird-Species-Classification-main 2\\Bird-Species-Classification-main\\archive\\train\\American Robin\\138063-15.wav\n"
     ]
    },
    {
     "name": "stderr",
     "output_type": "stream",
     "text": [
      " 56%|█████████████████████████████████████████████                                   | 458/814 [03:08<02:15,  2.62it/s]"
     ]
    },
    {
     "name": "stdout",
     "output_type": "stream",
     "text": [
      "lables [3]\n",
      "C:\\Users\\Sai Krishna\\Desktop\\Bird-Species-Classification-main 2\\Bird-Species-Classification-main\\archive\\train\\Northern Mockingbird\\321899-9.wav\n",
      "C:\\Users\\Sai Krishna\\Desktop\\Bird-Species-Classification-main 2\\Bird-Species-Classification-main\\archive\\train\\Northern Mockingbird\\321899-9.wav\n"
     ]
    },
    {
     "name": "stderr",
     "output_type": "stream",
     "text": [
      " 56%|█████████████████████████████████████████████                                   | 459/814 [03:09<02:21,  2.52it/s]"
     ]
    },
    {
     "name": "stdout",
     "output_type": "stream",
     "text": [
      "lables [1]\n",
      "C:\\Users\\Sai Krishna\\Desktop\\Bird-Species-Classification-main 2\\Bird-Species-Classification-main\\archive\\train\\Northern Mockingbird\\470300-8.wav\n",
      "C:\\Users\\Sai Krishna\\Desktop\\Bird-Species-Classification-main 2\\Bird-Species-Classification-main\\archive\\train\\Northern Mockingbird\\470300-8.wav\n"
     ]
    },
    {
     "name": "stderr",
     "output_type": "stream",
     "text": [
      " 57%|█████████████████████████████████████████████▏                                  | 460/814 [03:09<02:23,  2.46it/s]"
     ]
    },
    {
     "name": "stdout",
     "output_type": "stream",
     "text": [
      "lables [0]\n",
      "C:\\Users\\Sai Krishna\\Desktop\\Bird-Species-Classification-main 2\\Bird-Species-Classification-main\\archive\\train\\Song Sparrow\\111644-9.wav\n",
      "C:\\Users\\Sai Krishna\\Desktop\\Bird-Species-Classification-main 2\\Bird-Species-Classification-main\\archive\\train\\Song Sparrow\\111644-9.wav\n"
     ]
    },
    {
     "name": "stderr",
     "output_type": "stream",
     "text": [
      " 57%|█████████████████████████████████████████████▎                                  | 461/814 [03:10<02:24,  2.44it/s]"
     ]
    },
    {
     "name": "stdout",
     "output_type": "stream",
     "text": [
      "lables [0]\n",
      "C:\\Users\\Sai Krishna\\Desktop\\Bird-Species-Classification-main 2\\Bird-Species-Classification-main\\archive\\train\\Song Sparrow\\565242-6.wav\n",
      "C:\\Users\\Sai Krishna\\Desktop\\Bird-Species-Classification-main 2\\Bird-Species-Classification-main\\archive\\train\\Song Sparrow\\565242-6.wav\n"
     ]
    },
    {
     "name": "stderr",
     "output_type": "stream",
     "text": [
      " 57%|█████████████████████████████████████████████▍                                  | 462/814 [03:10<02:26,  2.40it/s]"
     ]
    },
    {
     "name": "stdout",
     "output_type": "stream",
     "text": [
      "lables [0]\n",
      "C:\\Users\\Sai Krishna\\Desktop\\Bird-Species-Classification-main 2\\Bird-Species-Classification-main\\archive\\train\\Song Sparrow\\408014-6.wav\n",
      "C:\\Users\\Sai Krishna\\Desktop\\Bird-Species-Classification-main 2\\Bird-Species-Classification-main\\archive\\train\\Song Sparrow\\408014-6.wav\n"
     ]
    },
    {
     "name": "stderr",
     "output_type": "stream",
     "text": [
      " 57%|█████████████████████████████████████████████▌                                  | 463/814 [03:10<02:26,  2.39it/s]"
     ]
    },
    {
     "name": "stdout",
     "output_type": "stream",
     "text": [
      "lables [0]\n",
      "C:\\Users\\Sai Krishna\\Desktop\\Bird-Species-Classification-main 2\\Bird-Species-Classification-main\\archive\\train\\Northern Mockingbird\\321932-2.wav\n",
      "C:\\Users\\Sai Krishna\\Desktop\\Bird-Species-Classification-main 2\\Bird-Species-Classification-main\\archive\\train\\Northern Mockingbird\\321932-2.wav\n"
     ]
    },
    {
     "name": "stderr",
     "output_type": "stream",
     "text": [
      " 57%|█████████████████████████████████████████████▌                                  | 464/814 [03:11<02:27,  2.37it/s]"
     ]
    },
    {
     "name": "stdout",
     "output_type": "stream",
     "text": [
      "lables [1]\n",
      "C:\\Users\\Sai Krishna\\Desktop\\Bird-Species-Classification-main 2\\Bird-Species-Classification-main\\archive\\train\\American Robin\\190473-11.wav\n",
      "C:\\Users\\Sai Krishna\\Desktop\\Bird-Species-Classification-main 2\\Bird-Species-Classification-main\\archive\\train\\American Robin\\190473-11.wav\n"
     ]
    },
    {
     "name": "stderr",
     "output_type": "stream",
     "text": [
      " 57%|█████████████████████████████████████████████▋                                  | 465/814 [03:11<02:26,  2.39it/s]"
     ]
    },
    {
     "name": "stdout",
     "output_type": "stream",
     "text": [
      "lables [3]\n",
      "C:\\Users\\Sai Krishna\\Desktop\\Bird-Species-Classification-main 2\\Bird-Species-Classification-main\\archive\\train\\American Robin\\310256-6.wav\n",
      "C:\\Users\\Sai Krishna\\Desktop\\Bird-Species-Classification-main 2\\Bird-Species-Classification-main\\archive\\train\\American Robin\\310256-6.wav\n"
     ]
    },
    {
     "name": "stderr",
     "output_type": "stream",
     "text": [
      " 57%|█████████████████████████████████████████████▊                                  | 466/814 [03:12<02:26,  2.37it/s]"
     ]
    },
    {
     "name": "stdout",
     "output_type": "stream",
     "text": [
      "lables [3]\n",
      "C:\\Users\\Sai Krishna\\Desktop\\Bird-Species-Classification-main 2\\Bird-Species-Classification-main\\archive\\train\\Bewick's Wren\\217913-1.wav\n",
      "C:\\Users\\Sai Krishna\\Desktop\\Bird-Species-Classification-main 2\\Bird-Species-Classification-main\\archive\\train\\Bewick's Wren\\217913-1.wav\n"
     ]
    },
    {
     "name": "stderr",
     "output_type": "stream",
     "text": [
      " 57%|█████████████████████████████████████████████▉                                  | 467/814 [03:12<02:27,  2.36it/s]"
     ]
    },
    {
     "name": "stdout",
     "output_type": "stream",
     "text": [
      "lables [4]\n",
      "C:\\Users\\Sai Krishna\\Desktop\\Bird-Species-Classification-main 2\\Bird-Species-Classification-main\\archive\\train\\Song Sparrow\\408126-2.wav\n",
      "C:\\Users\\Sai Krishna\\Desktop\\Bird-Species-Classification-main 2\\Bird-Species-Classification-main\\archive\\train\\Song Sparrow\\408126-2.wav\n"
     ]
    },
    {
     "name": "stderr",
     "output_type": "stream",
     "text": [
      " 57%|█████████████████████████████████████████████▉                                  | 468/814 [03:13<02:24,  2.40it/s]"
     ]
    },
    {
     "name": "stdout",
     "output_type": "stream",
     "text": [
      "lables [0]\n",
      "C:\\Users\\Sai Krishna\\Desktop\\Bird-Species-Classification-main 2\\Bird-Species-Classification-main\\archive\\train\\American Robin\\313352-7.wav\n",
      "C:\\Users\\Sai Krishna\\Desktop\\Bird-Species-Classification-main 2\\Bird-Species-Classification-main\\archive\\train\\American Robin\\313352-7.wav\n"
     ]
    },
    {
     "name": "stderr",
     "output_type": "stream",
     "text": [
      " 58%|██████████████████████████████████████████████                                  | 469/814 [03:13<02:16,  2.54it/s]"
     ]
    },
    {
     "name": "stdout",
     "output_type": "stream",
     "text": [
      "lables [3]\n",
      "C:\\Users\\Sai Krishna\\Desktop\\Bird-Species-Classification-main 2\\Bird-Species-Classification-main\\archive\\train\\Northern Cardinal\\72185-1.wav\n",
      "C:\\Users\\Sai Krishna\\Desktop\\Bird-Species-Classification-main 2\\Bird-Species-Classification-main\\archive\\train\\Northern Cardinal\\72185-1.wav\n"
     ]
    },
    {
     "name": "stderr",
     "output_type": "stream",
     "text": [
      " 58%|██████████████████████████████████████████████▏                                 | 470/814 [03:13<02:10,  2.63it/s]"
     ]
    },
    {
     "name": "stdout",
     "output_type": "stream",
     "text": [
      "lables [2]\n",
      "C:\\Users\\Sai Krishna\\Desktop\\Bird-Species-Classification-main 2\\Bird-Species-Classification-main\\archive\\train\\Northern Cardinal\\205836-9.wav\n",
      "C:\\Users\\Sai Krishna\\Desktop\\Bird-Species-Classification-main 2\\Bird-Species-Classification-main\\archive\\train\\Northern Cardinal\\205836-9.wav\n"
     ]
    },
    {
     "name": "stderr",
     "output_type": "stream",
     "text": [
      " 58%|██████████████████████████████████████████████▎                                 | 471/814 [03:14<02:06,  2.71it/s]"
     ]
    },
    {
     "name": "stdout",
     "output_type": "stream",
     "text": [
      "lables [2]\n",
      "C:\\Users\\Sai Krishna\\Desktop\\Bird-Species-Classification-main 2\\Bird-Species-Classification-main\\archive\\train\\Northern Cardinal\\466692-9.wav\n",
      "C:\\Users\\Sai Krishna\\Desktop\\Bird-Species-Classification-main 2\\Bird-Species-Classification-main\\archive\\train\\Northern Cardinal\\466692-9.wav\n"
     ]
    },
    {
     "name": "stderr",
     "output_type": "stream",
     "text": [
      " 58%|██████████████████████████████████████████████▍                                 | 472/814 [03:14<02:03,  2.76it/s]"
     ]
    },
    {
     "name": "stdout",
     "output_type": "stream",
     "text": [
      "lables [2]\n",
      "C:\\Users\\Sai Krishna\\Desktop\\Bird-Species-Classification-main 2\\Bird-Species-Classification-main\\archive\\train\\Bewick's Wren\\351091-3.wav\n",
      "C:\\Users\\Sai Krishna\\Desktop\\Bird-Species-Classification-main 2\\Bird-Species-Classification-main\\archive\\train\\Bewick's Wren\\351091-3.wav\n"
     ]
    },
    {
     "name": "stderr",
     "output_type": "stream",
     "text": [
      " 58%|██████████████████████████████████████████████▍                                 | 473/814 [03:14<02:01,  2.81it/s]"
     ]
    },
    {
     "name": "stdout",
     "output_type": "stream",
     "text": [
      "lables [4]\n",
      "C:\\Users\\Sai Krishna\\Desktop\\Bird-Species-Classification-main 2\\Bird-Species-Classification-main\\archive\\train\\Northern Mockingbird\\18484-8.wav\n",
      "C:\\Users\\Sai Krishna\\Desktop\\Bird-Species-Classification-main 2\\Bird-Species-Classification-main\\archive\\train\\Northern Mockingbird\\18484-8.wav\n"
     ]
    },
    {
     "name": "stderr",
     "output_type": "stream",
     "text": [
      " 58%|██████████████████████████████████████████████▌                                 | 474/814 [03:15<02:01,  2.80it/s]"
     ]
    },
    {
     "name": "stdout",
     "output_type": "stream",
     "text": [
      "lables [1]\n",
      "C:\\Users\\Sai Krishna\\Desktop\\Bird-Species-Classification-main 2\\Bird-Species-Classification-main\\archive\\train\\Song Sparrow\\73428-6.wav\n",
      "C:\\Users\\Sai Krishna\\Desktop\\Bird-Species-Classification-main 2\\Bird-Species-Classification-main\\archive\\train\\Song Sparrow\\73428-6.wav\n"
     ]
    },
    {
     "name": "stderr",
     "output_type": "stream",
     "text": [
      " 58%|██████████████████████████████████████████████▋                                 | 475/814 [03:15<02:00,  2.81it/s]"
     ]
    },
    {
     "name": "stdout",
     "output_type": "stream",
     "text": [
      "lables [0]\n",
      "C:\\Users\\Sai Krishna\\Desktop\\Bird-Species-Classification-main 2\\Bird-Species-Classification-main\\archive\\train\\Song Sparrow\\111671-0.wav\n",
      "C:\\Users\\Sai Krishna\\Desktop\\Bird-Species-Classification-main 2\\Bird-Species-Classification-main\\archive\\train\\Song Sparrow\\111671-0.wav\n"
     ]
    },
    {
     "name": "stderr",
     "output_type": "stream",
     "text": [
      " 58%|██████████████████████████████████████████████▊                                 | 476/814 [03:15<02:08,  2.63it/s]"
     ]
    },
    {
     "name": "stdout",
     "output_type": "stream",
     "text": [
      "lables [0]\n",
      "C:\\Users\\Sai Krishna\\Desktop\\Bird-Species-Classification-main 2\\Bird-Species-Classification-main\\archive\\train\\Song Sparrow\\129646-11.wav\n",
      "C:\\Users\\Sai Krishna\\Desktop\\Bird-Species-Classification-main 2\\Bird-Species-Classification-main\\archive\\train\\Song Sparrow\\129646-11.wav\n"
     ]
    },
    {
     "name": "stderr",
     "output_type": "stream",
     "text": [
      " 59%|██████████████████████████████████████████████▉                                 | 477/814 [03:16<02:14,  2.51it/s]"
     ]
    },
    {
     "name": "stdout",
     "output_type": "stream",
     "text": [
      "lables [0]\n",
      "C:\\Users\\Sai Krishna\\Desktop\\Bird-Species-Classification-main 2\\Bird-Species-Classification-main\\archive\\train\\Northern Mockingbird\\538122-10.wav\n",
      "C:\\Users\\Sai Krishna\\Desktop\\Bird-Species-Classification-main 2\\Bird-Species-Classification-main\\archive\\train\\Northern Mockingbird\\538122-10.wav\n"
     ]
    },
    {
     "name": "stderr",
     "output_type": "stream",
     "text": [
      " 59%|██████████████████████████████████████████████▉                                 | 478/814 [03:16<02:16,  2.46it/s]"
     ]
    },
    {
     "name": "stdout",
     "output_type": "stream",
     "text": [
      "lables [1]\n",
      "C:\\Users\\Sai Krishna\\Desktop\\Bird-Species-Classification-main 2\\Bird-Species-Classification-main\\archive\\train\\Northern Mockingbird\\54725-1.wav\n",
      "C:\\Users\\Sai Krishna\\Desktop\\Bird-Species-Classification-main 2\\Bird-Species-Classification-main\\archive\\train\\Northern Mockingbird\\54725-1.wav\n"
     ]
    },
    {
     "name": "stderr",
     "output_type": "stream",
     "text": [
      " 59%|███████████████████████████████████████████████                                 | 479/814 [03:17<02:18,  2.42it/s]"
     ]
    },
    {
     "name": "stdout",
     "output_type": "stream",
     "text": [
      "lables [4]\n",
      "C:\\Users\\Sai Krishna\\Desktop\\Bird-Species-Classification-main 2\\Bird-Species-Classification-main\\archive\\train\\Northern Mockingbird\\321906-12.wav\n",
      "C:\\Users\\Sai Krishna\\Desktop\\Bird-Species-Classification-main 2\\Bird-Species-Classification-main\\archive\\train\\Northern Mockingbird\\321906-12.wav\n"
     ]
    },
    {
     "name": "stderr",
     "output_type": "stream",
     "text": [
      " 59%|███████████████████████████████████████████████▏                                | 480/814 [03:17<02:19,  2.40it/s]"
     ]
    },
    {
     "name": "stdout",
     "output_type": "stream",
     "text": [
      "lables [1]\n",
      "C:\\Users\\Sai Krishna\\Desktop\\Bird-Species-Classification-main 2\\Bird-Species-Classification-main\\archive\\train\\Song Sparrow\\103338-2.wav\n",
      "C:\\Users\\Sai Krishna\\Desktop\\Bird-Species-Classification-main 2\\Bird-Species-Classification-main\\archive\\train\\Song Sparrow\\103338-2.wav\n"
     ]
    },
    {
     "name": "stderr",
     "output_type": "stream",
     "text": [
      " 59%|███████████████████████████████████████████████▎                                | 481/814 [03:18<02:20,  2.37it/s]"
     ]
    },
    {
     "name": "stdout",
     "output_type": "stream",
     "text": [
      "lables [0]\n",
      "C:\\Users\\Sai Krishna\\Desktop\\Bird-Species-Classification-main 2\\Bird-Species-Classification-main\\archive\\train\\Northern Mockingbird\\406012-8.wav\n",
      "C:\\Users\\Sai Krishna\\Desktop\\Bird-Species-Classification-main 2\\Bird-Species-Classification-main\\archive\\train\\Northern Mockingbird\\406012-8.wav\n"
     ]
    },
    {
     "name": "stderr",
     "output_type": "stream",
     "text": [
      " 59%|███████████████████████████████████████████████▎                                | 482/814 [03:18<02:21,  2.35it/s]"
     ]
    },
    {
     "name": "stdout",
     "output_type": "stream",
     "text": [
      "lables [1]\n",
      "C:\\Users\\Sai Krishna\\Desktop\\Bird-Species-Classification-main 2\\Bird-Species-Classification-main\\archive\\train\\Bewick's Wren\\480035-6.wav\n",
      "C:\\Users\\Sai Krishna\\Desktop\\Bird-Species-Classification-main 2\\Bird-Species-Classification-main\\archive\\train\\Bewick's Wren\\480035-6.wav\n"
     ]
    },
    {
     "name": "stderr",
     "output_type": "stream",
     "text": [
      " 59%|███████████████████████████████████████████████▍                                | 483/814 [03:18<02:20,  2.36it/s]"
     ]
    },
    {
     "name": "stdout",
     "output_type": "stream",
     "text": [
      "lables [0]\n",
      "C:\\Users\\Sai Krishna\\Desktop\\Bird-Species-Classification-main 2\\Bird-Species-Classification-main\\archive\\train\\Song Sparrow\\133566-10.wav\n",
      "C:\\Users\\Sai Krishna\\Desktop\\Bird-Species-Classification-main 2\\Bird-Species-Classification-main\\archive\\train\\Song Sparrow\\133566-10.wav\n"
     ]
    },
    {
     "name": "stderr",
     "output_type": "stream",
     "text": [
      " 59%|███████████████████████████████████████████████▌                                | 484/814 [03:19<02:20,  2.36it/s]"
     ]
    },
    {
     "name": "stdout",
     "output_type": "stream",
     "text": [
      "lables [0]\n",
      "C:\\Users\\Sai Krishna\\Desktop\\Bird-Species-Classification-main 2\\Bird-Species-Classification-main\\archive\\train\\American Robin\\483578-0.wav\n",
      "C:\\Users\\Sai Krishna\\Desktop\\Bird-Species-Classification-main 2\\Bird-Species-Classification-main\\archive\\train\\American Robin\\483578-0.wav\n"
     ]
    },
    {
     "name": "stderr",
     "output_type": "stream",
     "text": [
      " 60%|███████████████████████████████████████████████▋                                | 485/814 [03:19<02:21,  2.32it/s]"
     ]
    },
    {
     "name": "stdout",
     "output_type": "stream",
     "text": [
      "lables [3]\n",
      "C:\\Users\\Sai Krishna\\Desktop\\Bird-Species-Classification-main 2\\Bird-Species-Classification-main\\archive\\train\\American Robin\\165291-13.wav\n",
      "C:\\Users\\Sai Krishna\\Desktop\\Bird-Species-Classification-main 2\\Bird-Species-Classification-main\\archive\\train\\American Robin\\165291-13.wav\n"
     ]
    },
    {
     "name": "stderr",
     "output_type": "stream",
     "text": [
      " 60%|███████████████████████████████████████████████▊                                | 486/814 [03:20<02:21,  2.33it/s]"
     ]
    },
    {
     "name": "stdout",
     "output_type": "stream",
     "text": [
      "lables [3]\n",
      "C:\\Users\\Sai Krishna\\Desktop\\Bird-Species-Classification-main 2\\Bird-Species-Classification-main\\archive\\train\\Northern Mockingbird\\58179-7.wav\n",
      "C:\\Users\\Sai Krishna\\Desktop\\Bird-Species-Classification-main 2\\Bird-Species-Classification-main\\archive\\train\\Northern Mockingbird\\58179-7.wav\n"
     ]
    },
    {
     "name": "stderr",
     "output_type": "stream",
     "text": [
      " 60%|███████████████████████████████████████████████▊                                | 487/814 [03:20<02:20,  2.32it/s]"
     ]
    },
    {
     "name": "stdout",
     "output_type": "stream",
     "text": [
      "lables [1]\n",
      "C:\\Users\\Sai Krishna\\Desktop\\Bird-Species-Classification-main 2\\Bird-Species-Classification-main\\archive\\train\\Northern Mockingbird\\172647-0.wav\n",
      "C:\\Users\\Sai Krishna\\Desktop\\Bird-Species-Classification-main 2\\Bird-Species-Classification-main\\archive\\train\\Northern Mockingbird\\172647-0.wav\n"
     ]
    },
    {
     "name": "stderr",
     "output_type": "stream",
     "text": [
      " 60%|███████████████████████████████████████████████▉                                | 488/814 [03:21<02:17,  2.37it/s]"
     ]
    },
    {
     "name": "stdout",
     "output_type": "stream",
     "text": [
      "lables [3]\n",
      "C:\\Users\\Sai Krishna\\Desktop\\Bird-Species-Classification-main 2\\Bird-Species-Classification-main\\archive\\train\\Northern Cardinal\\367804-16.wav\n",
      "C:\\Users\\Sai Krishna\\Desktop\\Bird-Species-Classification-main 2\\Bird-Species-Classification-main\\archive\\train\\Northern Cardinal\\367804-16.wav\n"
     ]
    },
    {
     "name": "stderr",
     "output_type": "stream",
     "text": [
      " 60%|████████████████████████████████████████████████                                | 489/814 [03:21<02:10,  2.50it/s]"
     ]
    },
    {
     "name": "stdout",
     "output_type": "stream",
     "text": [
      "lables [2]\n",
      "C:\\Users\\Sai Krishna\\Desktop\\Bird-Species-Classification-main 2\\Bird-Species-Classification-main\\archive\\train\\Northern Mockingbird\\489315-14.wav\n",
      "C:\\Users\\Sai Krishna\\Desktop\\Bird-Species-Classification-main 2\\Bird-Species-Classification-main\\archive\\train\\Northern Mockingbird\\489315-14.wav\n"
     ]
    },
    {
     "name": "stderr",
     "output_type": "stream",
     "text": [
      " 60%|████████████████████████████████████████████████▏                               | 490/814 [03:21<02:04,  2.60it/s]"
     ]
    },
    {
     "name": "stdout",
     "output_type": "stream",
     "text": [
      "lables [1]\n",
      "C:\\Users\\Sai Krishna\\Desktop\\Bird-Species-Classification-main 2\\Bird-Species-Classification-main\\archive\\train\\Northern Cardinal\\466692-5.wav\n",
      "C:\\Users\\Sai Krishna\\Desktop\\Bird-Species-Classification-main 2\\Bird-Species-Classification-main\\archive\\train\\Northern Cardinal\\466692-5.wav\n"
     ]
    },
    {
     "name": "stderr",
     "output_type": "stream",
     "text": [
      " 60%|████████████████████████████████████████████████▎                               | 491/814 [03:22<02:01,  2.67it/s]"
     ]
    },
    {
     "name": "stdout",
     "output_type": "stream",
     "text": [
      "lables [2]\n",
      "C:\\Users\\Sai Krishna\\Desktop\\Bird-Species-Classification-main 2\\Bird-Species-Classification-main\\archive\\train\\Bewick's Wren\\351078-7.wav\n",
      "C:\\Users\\Sai Krishna\\Desktop\\Bird-Species-Classification-main 2\\Bird-Species-Classification-main\\archive\\train\\Bewick's Wren\\351078-7.wav\n"
     ]
    },
    {
     "name": "stderr",
     "output_type": "stream",
     "text": [
      " 60%|████████████████████████████████████████████████▎                               | 492/814 [03:22<01:58,  2.72it/s]"
     ]
    },
    {
     "name": "stdout",
     "output_type": "stream",
     "text": [
      "lables [4]\n",
      "C:\\Users\\Sai Krishna\\Desktop\\Bird-Species-Classification-main 2\\Bird-Species-Classification-main\\archive\\train\\Song Sparrow\\490353-5.wav\n",
      "C:\\Users\\Sai Krishna\\Desktop\\Bird-Species-Classification-main 2\\Bird-Species-Classification-main\\archive\\train\\Song Sparrow\\490353-5.wav\n"
     ]
    },
    {
     "name": "stderr",
     "output_type": "stream",
     "text": [
      " 61%|████████████████████████████████████████████████▍                               | 493/814 [03:22<01:57,  2.74it/s]"
     ]
    },
    {
     "name": "stdout",
     "output_type": "stream",
     "text": [
      "lables [0]\n",
      "C:\\Users\\Sai Krishna\\Desktop\\Bird-Species-Classification-main 2\\Bird-Species-Classification-main\\archive\\train\\American Robin\\70119-5.wav\n",
      "C:\\Users\\Sai Krishna\\Desktop\\Bird-Species-Classification-main 2\\Bird-Species-Classification-main\\archive\\train\\American Robin\\70119-5.wav\n"
     ]
    },
    {
     "name": "stderr",
     "output_type": "stream",
     "text": [
      " 61%|████████████████████████████████████████████████▌                               | 494/814 [03:23<02:02,  2.60it/s]"
     ]
    },
    {
     "name": "stdout",
     "output_type": "stream",
     "text": [
      "lables [2]\n",
      "C:\\Users\\Sai Krishna\\Desktop\\Bird-Species-Classification-main 2\\Bird-Species-Classification-main\\archive\\train\\Song Sparrow\\179182-5.wav\n",
      "C:\\Users\\Sai Krishna\\Desktop\\Bird-Species-Classification-main 2\\Bird-Species-Classification-main\\archive\\train\\Song Sparrow\\179182-5.wav\n"
     ]
    },
    {
     "name": "stderr",
     "output_type": "stream",
     "text": [
      " 61%|████████████████████████████████████████████████▋                               | 495/814 [03:23<02:08,  2.49it/s]"
     ]
    },
    {
     "name": "stdout",
     "output_type": "stream",
     "text": [
      "lables [2]\n",
      "C:\\Users\\Sai Krishna\\Desktop\\Bird-Species-Classification-main 2\\Bird-Species-Classification-main\\archive\\train\\Bewick's Wren\\178015-13.wav\n",
      "C:\\Users\\Sai Krishna\\Desktop\\Bird-Species-Classification-main 2\\Bird-Species-Classification-main\\archive\\train\\Bewick's Wren\\178015-13.wav\n"
     ]
    },
    {
     "name": "stderr",
     "output_type": "stream",
     "text": [
      " 61%|████████████████████████████████████████████████▋                               | 496/814 [03:24<02:10,  2.45it/s]"
     ]
    },
    {
     "name": "stdout",
     "output_type": "stream",
     "text": [
      "lables [4]\n",
      "C:\\Users\\Sai Krishna\\Desktop\\Bird-Species-Classification-main 2\\Bird-Species-Classification-main\\archive\\train\\Song Sparrow\\142620-0.wav\n",
      "C:\\Users\\Sai Krishna\\Desktop\\Bird-Species-Classification-main 2\\Bird-Species-Classification-main\\archive\\train\\Song Sparrow\\142620-0.wav\n"
     ]
    },
    {
     "name": "stderr",
     "output_type": "stream",
     "text": [
      " 61%|████████████████████████████████████████████████▊                               | 497/814 [03:24<02:12,  2.40it/s]"
     ]
    },
    {
     "name": "stdout",
     "output_type": "stream",
     "text": [
      "lables [0]\n",
      "C:\\Users\\Sai Krishna\\Desktop\\Bird-Species-Classification-main 2\\Bird-Species-Classification-main\\archive\\train\\Song Sparrow\\336819-15.wav\n",
      "C:\\Users\\Sai Krishna\\Desktop\\Bird-Species-Classification-main 2\\Bird-Species-Classification-main\\archive\\train\\Song Sparrow\\336819-15.wav\n"
     ]
    },
    {
     "name": "stderr",
     "output_type": "stream",
     "text": [
      " 61%|████████████████████████████████████████████████▉                               | 498/814 [03:25<02:13,  2.37it/s]"
     ]
    },
    {
     "name": "stdout",
     "output_type": "stream",
     "text": [
      "lables [0]\n",
      "C:\\Users\\Sai Krishna\\Desktop\\Bird-Species-Classification-main 2\\Bird-Species-Classification-main\\archive\\train\\American Robin\\322572-11.wav\n",
      "C:\\Users\\Sai Krishna\\Desktop\\Bird-Species-Classification-main 2\\Bird-Species-Classification-main\\archive\\train\\American Robin\\322572-11.wav\n"
     ]
    },
    {
     "name": "stderr",
     "output_type": "stream",
     "text": [
      " 61%|█████████████████████████████████████████████████                               | 499/814 [03:25<02:12,  2.38it/s]"
     ]
    },
    {
     "name": "stdout",
     "output_type": "stream",
     "text": [
      "lables [3]\n",
      "C:\\Users\\Sai Krishna\\Desktop\\Bird-Species-Classification-main 2\\Bird-Species-Classification-main\\archive\\train\\American Robin\\309318-2.wav\n",
      "C:\\Users\\Sai Krishna\\Desktop\\Bird-Species-Classification-main 2\\Bird-Species-Classification-main\\archive\\train\\American Robin\\309318-2.wav\n"
     ]
    },
    {
     "name": "stderr",
     "output_type": "stream",
     "text": [
      " 61%|█████████████████████████████████████████████████▏                              | 500/814 [03:25<02:13,  2.36it/s]"
     ]
    },
    {
     "name": "stdout",
     "output_type": "stream",
     "text": [
      "lables [3]\n",
      "C:\\Users\\Sai Krishna\\Desktop\\Bird-Species-Classification-main 2\\Bird-Species-Classification-main\\archive\\train\\American Robin\\562221-13.wav\n",
      "C:\\Users\\Sai Krishna\\Desktop\\Bird-Species-Classification-main 2\\Bird-Species-Classification-main\\archive\\train\\American Robin\\562221-13.wav\n"
     ]
    },
    {
     "name": "stderr",
     "output_type": "stream",
     "text": [
      " 62%|█████████████████████████████████████████████████▏                              | 501/814 [03:26<02:12,  2.36it/s]"
     ]
    },
    {
     "name": "stdout",
     "output_type": "stream",
     "text": [
      "lables [3]\n",
      "C:\\Users\\Sai Krishna\\Desktop\\Bird-Species-Classification-main 2\\Bird-Species-Classification-main\\archive\\train\\Northern Mockingbird\\139965-11.wav\n",
      "C:\\Users\\Sai Krishna\\Desktop\\Bird-Species-Classification-main 2\\Bird-Species-Classification-main\\archive\\train\\Northern Mockingbird\\139965-11.wav\n"
     ]
    },
    {
     "name": "stderr",
     "output_type": "stream",
     "text": [
      " 62%|█████████████████████████████████████████████████▎                              | 502/814 [03:26<02:12,  2.36it/s]"
     ]
    },
    {
     "name": "stdout",
     "output_type": "stream",
     "text": [
      "lables [1]\n",
      "C:\\Users\\Sai Krishna\\Desktop\\Bird-Species-Classification-main 2\\Bird-Species-Classification-main\\archive\\train\\Northern Mockingbird\\321913-5.wav\n",
      "C:\\Users\\Sai Krishna\\Desktop\\Bird-Species-Classification-main 2\\Bird-Species-Classification-main\\archive\\train\\Northern Mockingbird\\321913-5.wav\n"
     ]
    },
    {
     "name": "stderr",
     "output_type": "stream",
     "text": [
      " 62%|█████████████████████████████████████████████████▍                              | 503/814 [03:27<02:13,  2.34it/s]"
     ]
    },
    {
     "name": "stdout",
     "output_type": "stream",
     "text": [
      "lables [1]\n",
      "C:\\Users\\Sai Krishna\\Desktop\\Bird-Species-Classification-main 2\\Bird-Species-Classification-main\\archive\\train\\Northern Cardinal\\172437-2.wav\n",
      "C:\\Users\\Sai Krishna\\Desktop\\Bird-Species-Classification-main 2\\Bird-Species-Classification-main\\archive\\train\\Northern Cardinal\\172437-2.wav\n"
     ]
    },
    {
     "name": "stderr",
     "output_type": "stream",
     "text": [
      " 62%|█████████████████████████████████████████████████▌                              | 504/814 [03:27<02:13,  2.32it/s]"
     ]
    },
    {
     "name": "stdout",
     "output_type": "stream",
     "text": [
      "lables [2]\n",
      "C:\\Users\\Sai Krishna\\Desktop\\Bird-Species-Classification-main 2\\Bird-Species-Classification-main\\archive\\train\\Northern Mockingbird\\21733-1.wav\n",
      "C:\\Users\\Sai Krishna\\Desktop\\Bird-Species-Classification-main 2\\Bird-Species-Classification-main\\archive\\train\\Northern Mockingbird\\21733-1.wav\n"
     ]
    },
    {
     "name": "stderr",
     "output_type": "stream",
     "text": [
      " 62%|█████████████████████████████████████████████████▋                              | 505/814 [03:27<02:05,  2.46it/s]"
     ]
    },
    {
     "name": "stdout",
     "output_type": "stream",
     "text": [
      "lables [1]\n",
      "C:\\Users\\Sai Krishna\\Desktop\\Bird-Species-Classification-main 2\\Bird-Species-Classification-main\\archive\\train\\Song Sparrow\\490351-12.wav\n",
      "C:\\Users\\Sai Krishna\\Desktop\\Bird-Species-Classification-main 2\\Bird-Species-Classification-main\\archive\\train\\Song Sparrow\\490351-12.wav\n"
     ]
    },
    {
     "name": "stderr",
     "output_type": "stream",
     "text": [
      " 62%|█████████████████████████████████████████████████▋                              | 506/814 [03:28<01:59,  2.57it/s]"
     ]
    },
    {
     "name": "stdout",
     "output_type": "stream",
     "text": [
      "lables [0]\n",
      "C:\\Users\\Sai Krishna\\Desktop\\Bird-Species-Classification-main 2\\Bird-Species-Classification-main\\archive\\train\\Bewick's Wren\\493957-5.wav\n",
      "C:\\Users\\Sai Krishna\\Desktop\\Bird-Species-Classification-main 2\\Bird-Species-Classification-main\\archive\\train\\Bewick's Wren\\493957-5.wav\n"
     ]
    },
    {
     "name": "stderr",
     "output_type": "stream",
     "text": [
      " 62%|█████████████████████████████████████████████████▊                              | 507/814 [03:28<01:55,  2.65it/s]"
     ]
    },
    {
     "name": "stdout",
     "output_type": "stream",
     "text": [
      "lables [4]\n",
      "C:\\Users\\Sai Krishna\\Desktop\\Bird-Species-Classification-main 2\\Bird-Species-Classification-main\\archive\\train\\Northern Mockingbird\\321941-4.wav\n",
      "C:\\Users\\Sai Krishna\\Desktop\\Bird-Species-Classification-main 2\\Bird-Species-Classification-main\\archive\\train\\Northern Mockingbird\\321941-4.wav\n"
     ]
    },
    {
     "name": "stderr",
     "output_type": "stream",
     "text": [
      " 62%|█████████████████████████████████████████████████▉                              | 508/814 [03:28<01:52,  2.72it/s]"
     ]
    },
    {
     "name": "stdout",
     "output_type": "stream",
     "text": [
      "lables [1]\n",
      "C:\\Users\\Sai Krishna\\Desktop\\Bird-Species-Classification-main 2\\Bird-Species-Classification-main\\archive\\train\\Song Sparrow\\425799-11.wav\n",
      "C:\\Users\\Sai Krishna\\Desktop\\Bird-Species-Classification-main 2\\Bird-Species-Classification-main\\archive\\train\\Song Sparrow\\425799-11.wav\n"
     ]
    },
    {
     "name": "stderr",
     "output_type": "stream",
     "text": [
      " 63%|██████████████████████████████████████████████████                              | 509/814 [03:29<01:50,  2.75it/s]"
     ]
    },
    {
     "name": "stdout",
     "output_type": "stream",
     "text": [
      "lables [0]\n",
      "C:\\Users\\Sai Krishna\\Desktop\\Bird-Species-Classification-main 2\\Bird-Species-Classification-main\\archive\\train\\Northern Mockingbird\\319143-6.wav\n",
      "C:\\Users\\Sai Krishna\\Desktop\\Bird-Species-Classification-main 2\\Bird-Species-Classification-main\\archive\\train\\Northern Mockingbird\\319143-6.wav\n"
     ]
    },
    {
     "name": "stderr",
     "output_type": "stream",
     "text": [
      " 63%|██████████████████████████████████████████████████                              | 510/814 [03:29<01:58,  2.57it/s]"
     ]
    },
    {
     "name": "stdout",
     "output_type": "stream",
     "text": [
      "lables [1]\n",
      "C:\\Users\\Sai Krishna\\Desktop\\Bird-Species-Classification-main 2\\Bird-Species-Classification-main\\archive\\train\\American Robin\\310256-0.wav\n",
      "C:\\Users\\Sai Krishna\\Desktop\\Bird-Species-Classification-main 2\\Bird-Species-Classification-main\\archive\\train\\American Robin\\310256-0.wav\n"
     ]
    },
    {
     "name": "stderr",
     "output_type": "stream",
     "text": [
      " 63%|██████████████████████████████████████████████████▏                             | 511/814 [03:30<02:02,  2.48it/s]"
     ]
    },
    {
     "name": "stdout",
     "output_type": "stream",
     "text": [
      "lables [3]\n",
      "C:\\Users\\Sai Krishna\\Desktop\\Bird-Species-Classification-main 2\\Bird-Species-Classification-main\\archive\\train\\Northern Cardinal\\483878-0.wav\n",
      "C:\\Users\\Sai Krishna\\Desktop\\Bird-Species-Classification-main 2\\Bird-Species-Classification-main\\archive\\train\\Northern Cardinal\\483878-0.wav\n"
     ]
    },
    {
     "name": "stderr",
     "output_type": "stream",
     "text": [
      " 63%|██████████████████████████████████████████████████▎                             | 512/814 [03:30<02:04,  2.43it/s]"
     ]
    },
    {
     "name": "stdout",
     "output_type": "stream",
     "text": [
      "lables [2]\n",
      "C:\\Users\\Sai Krishna\\Desktop\\Bird-Species-Classification-main 2\\Bird-Species-Classification-main\\archive\\train\\Song Sparrow\\128238-5.wav\n",
      "C:\\Users\\Sai Krishna\\Desktop\\Bird-Species-Classification-main 2\\Bird-Species-Classification-main\\archive\\train\\Song Sparrow\\128238-5.wav\n"
     ]
    },
    {
     "name": "stderr",
     "output_type": "stream",
     "text": [
      " 63%|██████████████████████████████████████████████████▍                             | 513/814 [03:31<02:06,  2.38it/s]"
     ]
    },
    {
     "name": "stdout",
     "output_type": "stream",
     "text": [
      "lables [0]\n",
      "C:\\Users\\Sai Krishna\\Desktop\\Bird-Species-Classification-main 2\\Bird-Species-Classification-main\\archive\\train\\Song Sparrow\\111669-1.wav\n",
      "C:\\Users\\Sai Krishna\\Desktop\\Bird-Species-Classification-main 2\\Bird-Species-Classification-main\\archive\\train\\Song Sparrow\\111669-1.wav\n"
     ]
    },
    {
     "name": "stderr",
     "output_type": "stream",
     "text": [
      " 63%|██████████████████████████████████████████████████▌                             | 514/814 [03:31<02:05,  2.39it/s]"
     ]
    },
    {
     "name": "stdout",
     "output_type": "stream",
     "text": [
      "lables [0]\n",
      "C:\\Users\\Sai Krishna\\Desktop\\Bird-Species-Classification-main 2\\Bird-Species-Classification-main\\archive\\train\\Bewick's Wren\\173153-4.wav\n",
      "C:\\Users\\Sai Krishna\\Desktop\\Bird-Species-Classification-main 2\\Bird-Species-Classification-main\\archive\\train\\Bewick's Wren\\173153-4.wav\n"
     ]
    },
    {
     "name": "stderr",
     "output_type": "stream",
     "text": [
      " 63%|██████████████████████████████████████████████████▌                             | 515/814 [03:31<02:06,  2.36it/s]"
     ]
    },
    {
     "name": "stdout",
     "output_type": "stream",
     "text": [
      "lables [4]\n",
      "C:\\Users\\Sai Krishna\\Desktop\\Bird-Species-Classification-main 2\\Bird-Species-Classification-main\\archive\\train\\Bewick's Wren\\493957-1.wav\n",
      "C:\\Users\\Sai Krishna\\Desktop\\Bird-Species-Classification-main 2\\Bird-Species-Classification-main\\archive\\train\\Bewick's Wren\\493957-1.wav\n"
     ]
    },
    {
     "name": "stderr",
     "output_type": "stream",
     "text": [
      " 63%|██████████████████████████████████████████████████▋                             | 516/814 [03:32<02:07,  2.33it/s]"
     ]
    },
    {
     "name": "stdout",
     "output_type": "stream",
     "text": [
      "lables [4]\n",
      "C:\\Users\\Sai Krishna\\Desktop\\Bird-Species-Classification-main 2\\Bird-Species-Classification-main\\archive\\train\\American Robin\\322822-2.wav\n",
      "C:\\Users\\Sai Krishna\\Desktop\\Bird-Species-Classification-main 2\\Bird-Species-Classification-main\\archive\\train\\American Robin\\322822-2.wav\n"
     ]
    },
    {
     "name": "stderr",
     "output_type": "stream",
     "text": [
      " 64%|██████████████████████████████████████████████████▊                             | 517/814 [03:32<02:07,  2.34it/s]"
     ]
    },
    {
     "name": "stdout",
     "output_type": "stream",
     "text": [
      "lables [3]\n",
      "C:\\Users\\Sai Krishna\\Desktop\\Bird-Species-Classification-main 2\\Bird-Species-Classification-main\\archive\\train\\Song Sparrow\\78060-5.wav\n",
      "C:\\Users\\Sai Krishna\\Desktop\\Bird-Species-Classification-main 2\\Bird-Species-Classification-main\\archive\\train\\Song Sparrow\\78060-5.wav\n"
     ]
    },
    {
     "name": "stderr",
     "output_type": "stream",
     "text": [
      " 64%|██████████████████████████████████████████████████▉                             | 518/814 [03:33<02:08,  2.31it/s]"
     ]
    },
    {
     "name": "stdout",
     "output_type": "stream",
     "text": [
      "lables [0]\n",
      "C:\\Users\\Sai Krishna\\Desktop\\Bird-Species-Classification-main 2\\Bird-Species-Classification-main\\archive\\train\\American Robin\\14442-11.wav\n",
      "C:\\Users\\Sai Krishna\\Desktop\\Bird-Species-Classification-main 2\\Bird-Species-Classification-main\\archive\\train\\American Robin\\14442-11.wav\n"
     ]
    },
    {
     "name": "stderr",
     "output_type": "stream",
     "text": [
      " 64%|███████████████████████████████████████████████████                             | 519/814 [03:33<02:07,  2.31it/s]"
     ]
    },
    {
     "name": "stdout",
     "output_type": "stream",
     "text": [
      "lables [3]\n",
      "C:\\Users\\Sai Krishna\\Desktop\\Bird-Species-Classification-main 2\\Bird-Species-Classification-main\\archive\\train\\Northern Cardinal\\412669-10.wav\n",
      "C:\\Users\\Sai Krishna\\Desktop\\Bird-Species-Classification-main 2\\Bird-Species-Classification-main\\archive\\train\\Northern Cardinal\\412669-10.wav\n"
     ]
    },
    {
     "name": "stderr",
     "output_type": "stream",
     "text": [
      " 64%|███████████████████████████████████████████████████                             | 520/814 [03:34<02:05,  2.35it/s]"
     ]
    },
    {
     "name": "stdout",
     "output_type": "stream",
     "text": [
      "lables [2]\n",
      "C:\\Users\\Sai Krishna\\Desktop\\Bird-Species-Classification-main 2\\Bird-Species-Classification-main\\archive\\train\\Bewick's Wren\\351093-3.wav\n",
      "C:\\Users\\Sai Krishna\\Desktop\\Bird-Species-Classification-main 2\\Bird-Species-Classification-main\\archive\\train\\Bewick's Wren\\351093-3.wav\n"
     ]
    },
    {
     "name": "stderr",
     "output_type": "stream",
     "text": [
      " 64%|███████████████████████████████████████████████████▏                            | 521/814 [03:34<01:57,  2.50it/s]"
     ]
    },
    {
     "name": "stdout",
     "output_type": "stream",
     "text": [
      "lables [4]\n",
      "C:\\Users\\Sai Krishna\\Desktop\\Bird-Species-Classification-main 2\\Bird-Species-Classification-main\\archive\\train\\American Robin\\190441-5.wav\n",
      "C:\\Users\\Sai Krishna\\Desktop\\Bird-Species-Classification-main 2\\Bird-Species-Classification-main\\archive\\train\\American Robin\\190441-5.wav\n"
     ]
    },
    {
     "name": "stderr",
     "output_type": "stream",
     "text": [
      " 64%|███████████████████████████████████████████████████▎                            | 522/814 [03:34<01:52,  2.59it/s]"
     ]
    },
    {
     "name": "stdout",
     "output_type": "stream",
     "text": [
      "lables [3]\n",
      "C:\\Users\\Sai Krishna\\Desktop\\Bird-Species-Classification-main 2\\Bird-Species-Classification-main\\archive\\train\\Northern Cardinal\\18125-6.wav\n",
      "C:\\Users\\Sai Krishna\\Desktop\\Bird-Species-Classification-main 2\\Bird-Species-Classification-main\\archive\\train\\Northern Cardinal\\18125-6.wav\n"
     ]
    },
    {
     "name": "stderr",
     "output_type": "stream",
     "text": [
      " 64%|███████████████████████████████████████████████████▍                            | 523/814 [03:35<01:49,  2.66it/s]"
     ]
    },
    {
     "name": "stdout",
     "output_type": "stream",
     "text": [
      "lables [2]\n",
      "C:\\Users\\Sai Krishna\\Desktop\\Bird-Species-Classification-main 2\\Bird-Species-Classification-main\\archive\\train\\American Robin\\468991-8.wav\n",
      "C:\\Users\\Sai Krishna\\Desktop\\Bird-Species-Classification-main 2\\Bird-Species-Classification-main\\archive\\train\\American Robin\\468991-8.wav\n"
     ]
    },
    {
     "name": "stderr",
     "output_type": "stream",
     "text": [
      " 64%|███████████████████████████████████████████████████▍                            | 524/814 [03:35<01:45,  2.75it/s]"
     ]
    },
    {
     "name": "stdout",
     "output_type": "stream",
     "text": [
      "lables [3]\n",
      "C:\\Users\\Sai Krishna\\Desktop\\Bird-Species-Classification-main 2\\Bird-Species-Classification-main\\archive\\train\\Northern Mockingbird\\351830-8.wav\n",
      "C:\\Users\\Sai Krishna\\Desktop\\Bird-Species-Classification-main 2\\Bird-Species-Classification-main\\archive\\train\\Northern Mockingbird\\351830-8.wav\n"
     ]
    },
    {
     "name": "stderr",
     "output_type": "stream",
     "text": [
      " 64%|███████████████████████████████████████████████████▌                            | 525/814 [03:35<01:47,  2.70it/s]"
     ]
    },
    {
     "name": "stdout",
     "output_type": "stream",
     "text": [
      "lables [1]\n",
      "C:\\Users\\Sai Krishna\\Desktop\\Bird-Species-Classification-main 2\\Bird-Species-Classification-main\\archive\\train\\Northern Cardinal\\489171-5.wav\n",
      "C:\\Users\\Sai Krishna\\Desktop\\Bird-Species-Classification-main 2\\Bird-Species-Classification-main\\archive\\train\\Northern Cardinal\\489171-5.wav\n"
     ]
    },
    {
     "name": "stderr",
     "output_type": "stream",
     "text": [
      " 65%|███████████████████████████████████████████████████▋                            | 526/814 [03:36<01:46,  2.70it/s]"
     ]
    },
    {
     "name": "stdout",
     "output_type": "stream",
     "text": [
      "lables [2]\n",
      "C:\\Users\\Sai Krishna\\Desktop\\Bird-Species-Classification-main 2\\Bird-Species-Classification-main\\archive\\train\\Bewick's Wren\\351081-3.wav\n",
      "C:\\Users\\Sai Krishna\\Desktop\\Bird-Species-Classification-main 2\\Bird-Species-Classification-main\\archive\\train\\Bewick's Wren\\351081-3.wav\n"
     ]
    },
    {
     "name": "stderr",
     "output_type": "stream",
     "text": [
      " 65%|███████████████████████████████████████████████████▊                            | 527/814 [03:36<01:46,  2.70it/s]"
     ]
    },
    {
     "name": "stdout",
     "output_type": "stream",
     "text": [
      "lables [4]\n",
      "C:\\Users\\Sai Krishna\\Desktop\\Bird-Species-Classification-main 2\\Bird-Species-Classification-main\\archive\\train\\American Robin\\351863-0.wav\n",
      "C:\\Users\\Sai Krishna\\Desktop\\Bird-Species-Classification-main 2\\Bird-Species-Classification-main\\archive\\train\\American Robin\\351863-0.wav\n"
     ]
    },
    {
     "name": "stderr",
     "output_type": "stream",
     "text": [
      " 65%|███████████████████████████████████████████████████▉                            | 528/814 [03:37<01:52,  2.55it/s]"
     ]
    },
    {
     "name": "stdout",
     "output_type": "stream",
     "text": [
      "lables [3]\n",
      "C:\\Users\\Sai Krishna\\Desktop\\Bird-Species-Classification-main 2\\Bird-Species-Classification-main\\archive\\train\\Northern Mockingbird\\538122-4.wav\n",
      "C:\\Users\\Sai Krishna\\Desktop\\Bird-Species-Classification-main 2\\Bird-Species-Classification-main\\archive\\train\\Northern Mockingbird\\538122-4.wav\n"
     ]
    },
    {
     "name": "stderr",
     "output_type": "stream",
     "text": [
      " 65%|███████████████████████████████████████████████████▉                            | 529/814 [03:37<01:55,  2.47it/s]"
     ]
    },
    {
     "name": "stdout",
     "output_type": "stream",
     "text": [
      "lables [1]\n",
      "C:\\Users\\Sai Krishna\\Desktop\\Bird-Species-Classification-main 2\\Bird-Species-Classification-main\\archive\\train\\Song Sparrow\\179182-6.wav\n",
      "C:\\Users\\Sai Krishna\\Desktop\\Bird-Species-Classification-main 2\\Bird-Species-Classification-main\\archive\\train\\Song Sparrow\\179182-6.wav\n"
     ]
    },
    {
     "name": "stderr",
     "output_type": "stream",
     "text": [
      " 65%|████████████████████████████████████████████████████                            | 530/814 [03:37<01:58,  2.40it/s]"
     ]
    },
    {
     "name": "stdout",
     "output_type": "stream",
     "text": [
      "lables [2]\n",
      "C:\\Users\\Sai Krishna\\Desktop\\Bird-Species-Classification-main 2\\Bird-Species-Classification-main\\archive\\train\\Bewick's Wren\\178322-10.wav\n",
      "C:\\Users\\Sai Krishna\\Desktop\\Bird-Species-Classification-main 2\\Bird-Species-Classification-main\\archive\\train\\Bewick's Wren\\178322-10.wav\n"
     ]
    },
    {
     "name": "stderr",
     "output_type": "stream",
     "text": [
      " 65%|████████████████████████████████████████████████████▏                           | 531/814 [03:38<01:59,  2.37it/s]"
     ]
    },
    {
     "name": "stdout",
     "output_type": "stream",
     "text": [
      "lables [4]\n",
      "C:\\Users\\Sai Krishna\\Desktop\\Bird-Species-Classification-main 2\\Bird-Species-Classification-main\\archive\\train\\Song Sparrow\\175509-5.wav\n",
      "C:\\Users\\Sai Krishna\\Desktop\\Bird-Species-Classification-main 2\\Bird-Species-Classification-main\\archive\\train\\Song Sparrow\\175509-5.wav\n"
     ]
    },
    {
     "name": "stderr",
     "output_type": "stream",
     "text": [
      " 65%|████████████████████████████████████████████████████▎                           | 532/814 [03:38<02:00,  2.35it/s]"
     ]
    },
    {
     "name": "stdout",
     "output_type": "stream",
     "text": [
      "lables [0]\n",
      "C:\\Users\\Sai Krishna\\Desktop\\Bird-Species-Classification-main 2\\Bird-Species-Classification-main\\archive\\train\\Northern Mockingbird\\21733-13.wav\n",
      "C:\\Users\\Sai Krishna\\Desktop\\Bird-Species-Classification-main 2\\Bird-Species-Classification-main\\archive\\train\\Northern Mockingbird\\21733-13.wav\n"
     ]
    },
    {
     "name": "stderr",
     "output_type": "stream",
     "text": [
      " 65%|████████████████████████████████████████████████████▍                           | 533/814 [03:39<02:00,  2.34it/s]"
     ]
    },
    {
     "name": "stdout",
     "output_type": "stream",
     "text": [
      "lables [1]\n",
      "C:\\Users\\Sai Krishna\\Desktop\\Bird-Species-Classification-main 2\\Bird-Species-Classification-main\\archive\\train\\Northern Cardinal\\211633-1.wav\n",
      "C:\\Users\\Sai Krishna\\Desktop\\Bird-Species-Classification-main 2\\Bird-Species-Classification-main\\archive\\train\\Northern Cardinal\\211633-1.wav\n"
     ]
    },
    {
     "name": "stderr",
     "output_type": "stream",
     "text": [
      " 66%|████████████████████████████████████████████████████▍                           | 534/814 [03:39<02:00,  2.33it/s]"
     ]
    },
    {
     "name": "stdout",
     "output_type": "stream",
     "text": [
      "lables [2]\n",
      "C:\\Users\\Sai Krishna\\Desktop\\Bird-Species-Classification-main 2\\Bird-Species-Classification-main\\archive\\train\\Song Sparrow\\500924-13.wav\n",
      "C:\\Users\\Sai Krishna\\Desktop\\Bird-Species-Classification-main 2\\Bird-Species-Classification-main\\archive\\train\\Song Sparrow\\500924-13.wav\n"
     ]
    },
    {
     "name": "stderr",
     "output_type": "stream",
     "text": [
      " 66%|████████████████████████████████████████████████████▌                           | 535/814 [03:40<01:59,  2.33it/s]"
     ]
    },
    {
     "name": "stdout",
     "output_type": "stream",
     "text": [
      "lables [0]\n",
      "C:\\Users\\Sai Krishna\\Desktop\\Bird-Species-Classification-main 2\\Bird-Species-Classification-main\\archive\\train\\American Robin\\408817-8.wav\n",
      "C:\\Users\\Sai Krishna\\Desktop\\Bird-Species-Classification-main 2\\Bird-Species-Classification-main\\archive\\train\\American Robin\\408817-8.wav\n"
     ]
    },
    {
     "name": "stderr",
     "output_type": "stream",
     "text": [
      " 66%|████████████████████████████████████████████████████▋                           | 536/814 [03:40<01:58,  2.34it/s]"
     ]
    },
    {
     "name": "stdout",
     "output_type": "stream",
     "text": [
      "lables [3]\n",
      "C:\\Users\\Sai Krishna\\Desktop\\Bird-Species-Classification-main 2\\Bird-Species-Classification-main\\archive\\train\\Northern Mockingbird\\321913-9.wav\n",
      "C:\\Users\\Sai Krishna\\Desktop\\Bird-Species-Classification-main 2\\Bird-Species-Classification-main\\archive\\train\\Northern Mockingbird\\321913-9.wav\n"
     ]
    },
    {
     "name": "stderr",
     "output_type": "stream",
     "text": [
      " 66%|████████████████████████████████████████████████████▊                           | 537/814 [03:40<01:57,  2.35it/s]"
     ]
    },
    {
     "name": "stdout",
     "output_type": "stream",
     "text": [
      "lables [1]\n",
      "C:\\Users\\Sai Krishna\\Desktop\\Bird-Species-Classification-main 2\\Bird-Species-Classification-main\\archive\\train\\Northern Cardinal\\109035-10.wav\n",
      "C:\\Users\\Sai Krishna\\Desktop\\Bird-Species-Classification-main 2\\Bird-Species-Classification-main\\archive\\train\\Northern Cardinal\\109035-10.wav\n"
     ]
    },
    {
     "name": "stderr",
     "output_type": "stream",
     "text": [
      " 66%|████████████████████████████████████████████████████▊                           | 538/814 [03:41<01:58,  2.34it/s]"
     ]
    },
    {
     "name": "stdout",
     "output_type": "stream",
     "text": [
      "lables [2]\n",
      "C:\\Users\\Sai Krishna\\Desktop\\Bird-Species-Classification-main 2\\Bird-Species-Classification-main\\archive\\train\\Song Sparrow\\142619-0.wav\n",
      "C:\\Users\\Sai Krishna\\Desktop\\Bird-Species-Classification-main 2\\Bird-Species-Classification-main\\archive\\train\\Song Sparrow\\142619-0.wav\n"
     ]
    },
    {
     "name": "stderr",
     "output_type": "stream",
     "text": [
      " 66%|████████████████████████████████████████████████████▉                           | 539/814 [03:41<01:56,  2.35it/s]"
     ]
    },
    {
     "name": "stdout",
     "output_type": "stream",
     "text": [
      "lables [0]\n",
      "C:\\Users\\Sai Krishna\\Desktop\\Bird-Species-Classification-main 2\\Bird-Species-Classification-main\\archive\\train\\Northern Cardinal\\233123-6.wav\n",
      "C:\\Users\\Sai Krishna\\Desktop\\Bird-Species-Classification-main 2\\Bird-Species-Classification-main\\archive\\train\\Northern Cardinal\\233123-6.wav\n"
     ]
    },
    {
     "name": "stderr",
     "output_type": "stream",
     "text": [
      " 66%|█████████████████████████████████████████████████████                           | 540/814 [03:42<01:56,  2.35it/s]"
     ]
    },
    {
     "name": "stdout",
     "output_type": "stream",
     "text": [
      "lables [2]\n",
      "C:\\Users\\Sai Krishna\\Desktop\\Bird-Species-Classification-main 2\\Bird-Species-Classification-main\\archive\\train\\Song Sparrow\\480032-4.wav\n",
      "C:\\Users\\Sai Krishna\\Desktop\\Bird-Species-Classification-main 2\\Bird-Species-Classification-main\\archive\\train\\Song Sparrow\\480032-4.wav\n"
     ]
    },
    {
     "name": "stderr",
     "output_type": "stream",
     "text": [
      " 66%|█████████████████████████████████████████████████████▏                          | 541/814 [03:42<01:49,  2.49it/s]"
     ]
    },
    {
     "name": "stdout",
     "output_type": "stream",
     "text": [
      "lables [0]\n",
      "C:\\Users\\Sai Krishna\\Desktop\\Bird-Species-Classification-main 2\\Bird-Species-Classification-main\\archive\\train\\Song Sparrow\\111646-5.wav\n",
      "C:\\Users\\Sai Krishna\\Desktop\\Bird-Species-Classification-main 2\\Bird-Species-Classification-main\\archive\\train\\Song Sparrow\\111646-5.wav\n"
     ]
    },
    {
     "name": "stderr",
     "output_type": "stream",
     "text": [
      " 67%|█████████████████████████████████████████████████████▎                          | 542/814 [03:42<01:44,  2.60it/s]"
     ]
    },
    {
     "name": "stdout",
     "output_type": "stream",
     "text": [
      "lables [0]\n",
      "C:\\Users\\Sai Krishna\\Desktop\\Bird-Species-Classification-main 2\\Bird-Species-Classification-main\\archive\\train\\American Robin\\178008-9.wav\n",
      "C:\\Users\\Sai Krishna\\Desktop\\Bird-Species-Classification-main 2\\Bird-Species-Classification-main\\archive\\train\\American Robin\\178008-9.wav\n"
     ]
    },
    {
     "name": "stderr",
     "output_type": "stream",
     "text": [
      " 67%|█████████████████████████████████████████████████████▎                          | 543/814 [03:43<01:41,  2.66it/s]"
     ]
    },
    {
     "name": "stdout",
     "output_type": "stream",
     "text": [
      "lables [3]\n",
      "C:\\Users\\Sai Krishna\\Desktop\\Bird-Species-Classification-main 2\\Bird-Species-Classification-main\\archive\\train\\Northern Cardinal\\466697-12.wav\n",
      "C:\\Users\\Sai Krishna\\Desktop\\Bird-Species-Classification-main 2\\Bird-Species-Classification-main\\archive\\train\\Northern Cardinal\\466697-12.wav\n"
     ]
    },
    {
     "name": "stderr",
     "output_type": "stream",
     "text": [
      " 67%|█████████████████████████████████████████████████████▍                          | 544/814 [03:43<01:39,  2.71it/s]"
     ]
    },
    {
     "name": "stdout",
     "output_type": "stream",
     "text": [
      "lables [2]\n",
      "C:\\Users\\Sai Krishna\\Desktop\\Bird-Species-Classification-main 2\\Bird-Species-Classification-main\\archive\\train\\Northern Cardinal\\172437-9.wav\n",
      "C:\\Users\\Sai Krishna\\Desktop\\Bird-Species-Classification-main 2\\Bird-Species-Classification-main\\archive\\train\\Northern Cardinal\\172437-9.wav\n"
     ]
    },
    {
     "name": "stderr",
     "output_type": "stream",
     "text": [
      " 67%|█████████████████████████████████████████████████████▌                          | 545/814 [03:43<01:37,  2.76it/s]"
     ]
    },
    {
     "name": "stdout",
     "output_type": "stream",
     "text": [
      "lables [2]\n",
      "C:\\Users\\Sai Krishna\\Desktop\\Bird-Species-Classification-main 2\\Bird-Species-Classification-main\\archive\\train\\Northern Mockingbird\\499260-12.wav\n",
      "C:\\Users\\Sai Krishna\\Desktop\\Bird-Species-Classification-main 2\\Bird-Species-Classification-main\\archive\\train\\Northern Mockingbird\\499260-12.wav\n"
     ]
    },
    {
     "name": "stderr",
     "output_type": "stream",
     "text": [
      " 67%|█████████████████████████████████████████████████████▋                          | 546/814 [03:44<01:37,  2.76it/s]"
     ]
    },
    {
     "name": "stdout",
     "output_type": "stream",
     "text": [
      "lables [1]\n",
      "C:\\Users\\Sai Krishna\\Desktop\\Bird-Species-Classification-main 2\\Bird-Species-Classification-main\\archive\\train\\Bewick's Wren\\61471-6.wav\n",
      "C:\\Users\\Sai Krishna\\Desktop\\Bird-Species-Classification-main 2\\Bird-Species-Classification-main\\archive\\train\\Bewick's Wren\\61471-6.wav\n"
     ]
    },
    {
     "name": "stderr",
     "output_type": "stream",
     "text": [
      " 67%|█████████████████████████████████████████████████████▊                          | 547/814 [03:44<01:36,  2.76it/s]"
     ]
    },
    {
     "name": "stdout",
     "output_type": "stream",
     "text": [
      "lables [4]\n",
      "C:\\Users\\Sai Krishna\\Desktop\\Bird-Species-Classification-main 2\\Bird-Species-Classification-main\\archive\\train\\Northern Mockingbird\\18484-1.wav\n",
      "C:\\Users\\Sai Krishna\\Desktop\\Bird-Species-Classification-main 2\\Bird-Species-Classification-main\\archive\\train\\Northern Mockingbird\\18484-1.wav\n"
     ]
    },
    {
     "name": "stderr",
     "output_type": "stream",
     "text": [
      " 67%|█████████████████████████████████████████████████████▊                          | 548/814 [03:45<01:36,  2.77it/s]"
     ]
    },
    {
     "name": "stdout",
     "output_type": "stream",
     "text": [
      "lables [1]\n",
      "C:\\Users\\Sai Krishna\\Desktop\\Bird-Species-Classification-main 2\\Bird-Species-Classification-main\\archive\\train\\Song Sparrow\\423504-2.wav\n",
      "C:\\Users\\Sai Krishna\\Desktop\\Bird-Species-Classification-main 2\\Bird-Species-Classification-main\\archive\\train\\Song Sparrow\\423504-2.wav\n"
     ]
    },
    {
     "name": "stderr",
     "output_type": "stream",
     "text": [
      " 67%|█████████████████████████████████████████████████████▉                          | 549/814 [03:45<01:36,  2.73it/s]"
     ]
    },
    {
     "name": "stdout",
     "output_type": "stream",
     "text": [
      "lables [0]\n",
      "C:\\Users\\Sai Krishna\\Desktop\\Bird-Species-Classification-main 2\\Bird-Species-Classification-main\\archive\\train\\Northern Cardinal\\372866-1.wav\n",
      "C:\\Users\\Sai Krishna\\Desktop\\Bird-Species-Classification-main 2\\Bird-Species-Classification-main\\archive\\train\\Northern Cardinal\\372866-1.wav\n"
     ]
    },
    {
     "name": "stderr",
     "output_type": "stream",
     "text": [
      " 68%|██████████████████████████████████████████████████████                          | 550/814 [03:45<01:36,  2.73it/s]"
     ]
    },
    {
     "name": "stdout",
     "output_type": "stream",
     "text": [
      "lables [2]\n",
      "C:\\Users\\Sai Krishna\\Desktop\\Bird-Species-Classification-main 2\\Bird-Species-Classification-main\\archive\\train\\American Robin\\368614-14.wav\n",
      "C:\\Users\\Sai Krishna\\Desktop\\Bird-Species-Classification-main 2\\Bird-Species-Classification-main\\archive\\train\\American Robin\\368614-14.wav\n"
     ]
    },
    {
     "name": "stderr",
     "output_type": "stream",
     "text": [
      " 68%|██████████████████████████████████████████████████████▏                         | 551/814 [03:46<01:37,  2.70it/s]"
     ]
    },
    {
     "name": "stdout",
     "output_type": "stream",
     "text": [
      "lables [3]\n",
      "C:\\Users\\Sai Krishna\\Desktop\\Bird-Species-Classification-main 2\\Bird-Species-Classification-main\\archive\\train\\Northern Mockingbird\\469351-6.wav\n",
      "C:\\Users\\Sai Krishna\\Desktop\\Bird-Species-Classification-main 2\\Bird-Species-Classification-main\\archive\\train\\Northern Mockingbird\\469351-6.wav\n"
     ]
    },
    {
     "name": "stderr",
     "output_type": "stream",
     "text": [
      " 68%|██████████████████████████████████████████████████████▎                         | 552/814 [03:46<01:43,  2.54it/s]"
     ]
    },
    {
     "name": "stdout",
     "output_type": "stream",
     "text": [
      "lables [1]\n",
      "C:\\Users\\Sai Krishna\\Desktop\\Bird-Species-Classification-main 2\\Bird-Species-Classification-main\\archive\\train\\Song Sparrow\\131646-1.wav\n",
      "C:\\Users\\Sai Krishna\\Desktop\\Bird-Species-Classification-main 2\\Bird-Species-Classification-main\\archive\\train\\Song Sparrow\\131646-1.wav\n"
     ]
    },
    {
     "name": "stderr",
     "output_type": "stream",
     "text": [
      " 68%|██████████████████████████████████████████████████████▎                         | 553/814 [03:47<01:45,  2.47it/s]"
     ]
    },
    {
     "name": "stdout",
     "output_type": "stream",
     "text": [
      "lables [0]\n",
      "C:\\Users\\Sai Krishna\\Desktop\\Bird-Species-Classification-main 2\\Bird-Species-Classification-main\\archive\\train\\Song Sparrow\\480068-2.wav\n",
      "C:\\Users\\Sai Krishna\\Desktop\\Bird-Species-Classification-main 2\\Bird-Species-Classification-main\\archive\\train\\Song Sparrow\\480068-2.wav\n"
     ]
    },
    {
     "name": "stderr",
     "output_type": "stream",
     "text": [
      " 68%|██████████████████████████████████████████████████████▍                         | 554/814 [03:47<01:48,  2.40it/s]"
     ]
    },
    {
     "name": "stdout",
     "output_type": "stream",
     "text": [
      "lables [0]\n",
      "C:\\Users\\Sai Krishna\\Desktop\\Bird-Species-Classification-main 2\\Bird-Species-Classification-main\\archive\\train\\Northern Mockingbird\\351831-2.wav\n",
      "C:\\Users\\Sai Krishna\\Desktop\\Bird-Species-Classification-main 2\\Bird-Species-Classification-main\\archive\\train\\Northern Mockingbird\\351831-2.wav\n"
     ]
    },
    {
     "name": "stderr",
     "output_type": "stream",
     "text": [
      " 68%|██████████████████████████████████████████████████████▌                         | 555/814 [03:47<01:48,  2.39it/s]"
     ]
    },
    {
     "name": "stdout",
     "output_type": "stream",
     "text": [
      "lables [1]\n",
      "C:\\Users\\Sai Krishna\\Desktop\\Bird-Species-Classification-main 2\\Bird-Species-Classification-main\\archive\\train\\Northern Cardinal\\109034-10.wav\n",
      "C:\\Users\\Sai Krishna\\Desktop\\Bird-Species-Classification-main 2\\Bird-Species-Classification-main\\archive\\train\\Northern Cardinal\\109034-10.wav\n"
     ]
    },
    {
     "name": "stderr",
     "output_type": "stream",
     "text": [
      " 68%|██████████████████████████████████████████████████████▋                         | 556/814 [03:48<01:50,  2.34it/s]"
     ]
    },
    {
     "name": "stdout",
     "output_type": "stream",
     "text": [
      "lables [2]\n",
      "C:\\Users\\Sai Krishna\\Desktop\\Bird-Species-Classification-main 2\\Bird-Species-Classification-main\\archive\\train\\Northern Cardinal\\172437-5.wav\n",
      "C:\\Users\\Sai Krishna\\Desktop\\Bird-Species-Classification-main 2\\Bird-Species-Classification-main\\archive\\train\\Northern Cardinal\\172437-5.wav\n"
     ]
    },
    {
     "name": "stderr",
     "output_type": "stream",
     "text": [
      " 68%|██████████████████████████████████████████████████████▋                         | 557/814 [03:48<01:50,  2.32it/s]"
     ]
    },
    {
     "name": "stdout",
     "output_type": "stream",
     "text": [
      "lables [2]\n",
      "C:\\Users\\Sai Krishna\\Desktop\\Bird-Species-Classification-main 2\\Bird-Species-Classification-main\\archive\\train\\Northern Cardinal\\464152-8.wav\n",
      "C:\\Users\\Sai Krishna\\Desktop\\Bird-Species-Classification-main 2\\Bird-Species-Classification-main\\archive\\train\\Northern Cardinal\\464152-8.wav\n"
     ]
    },
    {
     "name": "stderr",
     "output_type": "stream",
     "text": [
      " 69%|██████████████████████████████████████████████████████▊                         | 558/814 [03:49<01:49,  2.33it/s]"
     ]
    },
    {
     "name": "stdout",
     "output_type": "stream",
     "text": [
      "lables [2]\n",
      "C:\\Users\\Sai Krishna\\Desktop\\Bird-Species-Classification-main 2\\Bird-Species-Classification-main\\archive\\train\\Song Sparrow\\205806-3.wav\n",
      "C:\\Users\\Sai Krishna\\Desktop\\Bird-Species-Classification-main 2\\Bird-Species-Classification-main\\archive\\train\\Song Sparrow\\205806-3.wav\n"
     ]
    },
    {
     "name": "stderr",
     "output_type": "stream",
     "text": [
      " 69%|██████████████████████████████████████████████████████▉                         | 559/814 [03:49<01:49,  2.33it/s]"
     ]
    },
    {
     "name": "stdout",
     "output_type": "stream",
     "text": [
      "lables [1]\n",
      "C:\\Users\\Sai Krishna\\Desktop\\Bird-Species-Classification-main 2\\Bird-Species-Classification-main\\archive\\train\\Northern Mockingbird\\232710-9.wav\n",
      "C:\\Users\\Sai Krishna\\Desktop\\Bird-Species-Classification-main 2\\Bird-Species-Classification-main\\archive\\train\\Northern Mockingbird\\232710-9.wav\n"
     ]
    },
    {
     "name": "stderr",
     "output_type": "stream",
     "text": [
      " 69%|███████████████████████████████████████████████████████                         | 560/814 [03:50<01:48,  2.34it/s]"
     ]
    },
    {
     "name": "stdout",
     "output_type": "stream",
     "text": [
      "lables [1]\n",
      "C:\\Users\\Sai Krishna\\Desktop\\Bird-Species-Classification-main 2\\Bird-Species-Classification-main\\archive\\train\\Northern Mockingbird\\14213-12.wav\n",
      "C:\\Users\\Sai Krishna\\Desktop\\Bird-Species-Classification-main 2\\Bird-Species-Classification-main\\archive\\train\\Northern Mockingbird\\14213-12.wav\n"
     ]
    },
    {
     "name": "stderr",
     "output_type": "stream",
     "text": [
      " 69%|███████████████████████████████████████████████████████▏                        | 561/814 [03:50<01:48,  2.34it/s]"
     ]
    },
    {
     "name": "stdout",
     "output_type": "stream",
     "text": [
      "lables [1]\n",
      "C:\\Users\\Sai Krishna\\Desktop\\Bird-Species-Classification-main 2\\Bird-Species-Classification-main\\archive\\train\\Northern Cardinal\\460742-1.wav\n",
      "C:\\Users\\Sai Krishna\\Desktop\\Bird-Species-Classification-main 2\\Bird-Species-Classification-main\\archive\\train\\Northern Cardinal\\460742-1.wav\n"
     ]
    },
    {
     "name": "stderr",
     "output_type": "stream",
     "text": [
      " 69%|███████████████████████████████████████████████████████▏                        | 562/814 [03:50<01:47,  2.35it/s]"
     ]
    },
    {
     "name": "stdout",
     "output_type": "stream",
     "text": [
      "lables [2]\n",
      "C:\\Users\\Sai Krishna\\Desktop\\Bird-Species-Classification-main 2\\Bird-Species-Classification-main\\archive\\train\\American Robin\\483578-6.wav\n",
      "C:\\Users\\Sai Krishna\\Desktop\\Bird-Species-Classification-main 2\\Bird-Species-Classification-main\\archive\\train\\American Robin\\483578-6.wav\n"
     ]
    },
    {
     "name": "stderr",
     "output_type": "stream",
     "text": [
      " 69%|███████████████████████████████████████████████████████▎                        | 563/814 [03:51<01:46,  2.35it/s]"
     ]
    },
    {
     "name": "stdout",
     "output_type": "stream",
     "text": [
      "lables [3]\n",
      "C:\\Users\\Sai Krishna\\Desktop\\Bird-Species-Classification-main 2\\Bird-Species-Classification-main\\archive\\train\\American Robin\\165304-14.wav\n",
      "C:\\Users\\Sai Krishna\\Desktop\\Bird-Species-Classification-main 2\\Bird-Species-Classification-main\\archive\\train\\American Robin\\165304-14.wav\n"
     ]
    },
    {
     "name": "stderr",
     "output_type": "stream",
     "text": [
      " 69%|███████████████████████████████████████████████████████▍                        | 564/814 [03:51<01:45,  2.37it/s]"
     ]
    },
    {
     "name": "stdout",
     "output_type": "stream",
     "text": [
      "lables [3]\n",
      "C:\\Users\\Sai Krishna\\Desktop\\Bird-Species-Classification-main 2\\Bird-Species-Classification-main\\archive\\train\\Northern Cardinal\\559516-12.wav\n",
      "C:\\Users\\Sai Krishna\\Desktop\\Bird-Species-Classification-main 2\\Bird-Species-Classification-main\\archive\\train\\Northern Cardinal\\559516-12.wav\n"
     ]
    },
    {
     "name": "stderr",
     "output_type": "stream",
     "text": [
      " 69%|███████████████████████████████████████████████████████▌                        | 565/814 [03:52<01:45,  2.37it/s]"
     ]
    },
    {
     "name": "stdout",
     "output_type": "stream",
     "text": [
      "lables [2]\n",
      "C:\\Users\\Sai Krishna\\Desktop\\Bird-Species-Classification-main 2\\Bird-Species-Classification-main\\archive\\train\\Northern Cardinal\\372866-13.wav\n",
      "C:\\Users\\Sai Krishna\\Desktop\\Bird-Species-Classification-main 2\\Bird-Species-Classification-main\\archive\\train\\Northern Cardinal\\372866-13.wav\n"
     ]
    },
    {
     "name": "stderr",
     "output_type": "stream",
     "text": [
      " 70%|███████████████████████████████████████████████████████▋                        | 566/814 [03:52<01:39,  2.50it/s]"
     ]
    },
    {
     "name": "stdout",
     "output_type": "stream",
     "text": [
      "lables [2]\n",
      "C:\\Users\\Sai Krishna\\Desktop\\Bird-Species-Classification-main 2\\Bird-Species-Classification-main\\archive\\train\\American Robin\\103060-15.wav\n",
      "C:\\Users\\Sai Krishna\\Desktop\\Bird-Species-Classification-main 2\\Bird-Species-Classification-main\\archive\\train\\American Robin\\103060-15.wav\n"
     ]
    },
    {
     "name": "stderr",
     "output_type": "stream",
     "text": [
      " 70%|███████████████████████████████████████████████████████▋                        | 567/814 [03:52<01:35,  2.59it/s]"
     ]
    },
    {
     "name": "stdout",
     "output_type": "stream",
     "text": [
      "lables [3]\n",
      "C:\\Users\\Sai Krishna\\Desktop\\Bird-Species-Classification-main 2\\Bird-Species-Classification-main\\archive\\train\\Bewick's Wren\\217824-7.wav\n",
      "C:\\Users\\Sai Krishna\\Desktop\\Bird-Species-Classification-main 2\\Bird-Species-Classification-main\\archive\\train\\Bewick's Wren\\217824-7.wav\n"
     ]
    },
    {
     "name": "stderr",
     "output_type": "stream",
     "text": [
      " 70%|███████████████████████████████████████████████████████▊                        | 568/814 [03:53<01:31,  2.69it/s]"
     ]
    },
    {
     "name": "stdout",
     "output_type": "stream",
     "text": [
      "lables [0]\n",
      "C:\\Users\\Sai Krishna\\Desktop\\Bird-Species-Classification-main 2\\Bird-Species-Classification-main\\archive\\train\\Northern Mockingbird\\34576-0.wav\n",
      "C:\\Users\\Sai Krishna\\Desktop\\Bird-Species-Classification-main 2\\Bird-Species-Classification-main\\archive\\train\\Northern Mockingbird\\34576-0.wav\n"
     ]
    },
    {
     "name": "stderr",
     "output_type": "stream",
     "text": [
      " 70%|███████████████████████████████████████████████████████▉                        | 569/814 [03:53<01:30,  2.72it/s]"
     ]
    },
    {
     "name": "stdout",
     "output_type": "stream",
     "text": [
      "lables [1]\n",
      "C:\\Users\\Sai Krishna\\Desktop\\Bird-Species-Classification-main 2\\Bird-Species-Classification-main\\archive\\train\\Northern Cardinal\\470301-5.wav\n",
      "C:\\Users\\Sai Krishna\\Desktop\\Bird-Species-Classification-main 2\\Bird-Species-Classification-main\\archive\\train\\Northern Cardinal\\470301-5.wav\n"
     ]
    },
    {
     "name": "stderr",
     "output_type": "stream",
     "text": [
      " 70%|████████████████████████████████████████████████████████                        | 570/814 [03:53<01:28,  2.77it/s]"
     ]
    },
    {
     "name": "stdout",
     "output_type": "stream",
     "text": [
      "lables [2]\n",
      "C:\\Users\\Sai Krishna\\Desktop\\Bird-Species-Classification-main 2\\Bird-Species-Classification-main\\archive\\train\\American Robin\\382342-10.wav\n",
      "C:\\Users\\Sai Krishna\\Desktop\\Bird-Species-Classification-main 2\\Bird-Species-Classification-main\\archive\\train\\American Robin\\382342-10.wav\n"
     ]
    },
    {
     "name": "stderr",
     "output_type": "stream",
     "text": [
      " 70%|████████████████████████████████████████████████████████                        | 571/814 [03:54<01:33,  2.60it/s]"
     ]
    },
    {
     "name": "stdout",
     "output_type": "stream",
     "text": [
      "lables [3]\n",
      "C:\\Users\\Sai Krishna\\Desktop\\Bird-Species-Classification-main 2\\Bird-Species-Classification-main\\archive\\train\\American Robin\\325132-1.wav\n",
      "C:\\Users\\Sai Krishna\\Desktop\\Bird-Species-Classification-main 2\\Bird-Species-Classification-main\\archive\\train\\American Robin\\325132-1.wav\n"
     ]
    },
    {
     "name": "stderr",
     "output_type": "stream",
     "text": [
      " 70%|████████████████████████████████████████████████████████▏                       | 572/814 [03:54<01:36,  2.50it/s]"
     ]
    },
    {
     "name": "stdout",
     "output_type": "stream",
     "text": [
      "lables [2]\n",
      "C:\\Users\\Sai Krishna\\Desktop\\Bird-Species-Classification-main 2\\Bird-Species-Classification-main\\archive\\train\\Song Sparrow\\111671-4.wav\n",
      "C:\\Users\\Sai Krishna\\Desktop\\Bird-Species-Classification-main 2\\Bird-Species-Classification-main\\archive\\train\\Song Sparrow\\111671-4.wav\n"
     ]
    },
    {
     "name": "stderr",
     "output_type": "stream",
     "text": [
      " 70%|████████████████████████████████████████████████████████▎                       | 573/814 [03:55<01:38,  2.45it/s]"
     ]
    },
    {
     "name": "stdout",
     "output_type": "stream",
     "text": [
      "lables [0]\n",
      "C:\\Users\\Sai Krishna\\Desktop\\Bird-Species-Classification-main 2\\Bird-Species-Classification-main\\archive\\train\\Northern Cardinal\\367804-8.wav\n",
      "C:\\Users\\Sai Krishna\\Desktop\\Bird-Species-Classification-main 2\\Bird-Species-Classification-main\\archive\\train\\Northern Cardinal\\367804-8.wav\n"
     ]
    },
    {
     "name": "stderr",
     "output_type": "stream",
     "text": [
      " 71%|████████████████████████████████████████████████████████▍                       | 574/814 [03:55<01:40,  2.40it/s]"
     ]
    },
    {
     "name": "stdout",
     "output_type": "stream",
     "text": [
      "lables [2]\n",
      "C:\\Users\\Sai Krishna\\Desktop\\Bird-Species-Classification-main 2\\Bird-Species-Classification-main\\archive\\train\\American Robin\\446458-11.wav\n",
      "C:\\Users\\Sai Krishna\\Desktop\\Bird-Species-Classification-main 2\\Bird-Species-Classification-main\\archive\\train\\American Robin\\446458-11.wav\n"
     ]
    },
    {
     "name": "stderr",
     "output_type": "stream",
     "text": [
      " 71%|████████████████████████████████████████████████████████▌                       | 575/814 [03:56<01:39,  2.40it/s]"
     ]
    },
    {
     "name": "stdout",
     "output_type": "stream",
     "text": [
      "lables [3]\n",
      "C:\\Users\\Sai Krishna\\Desktop\\Bird-Species-Classification-main 2\\Bird-Species-Classification-main\\archive\\train\\Song Sparrow\\125723-5.wav\n",
      "C:\\Users\\Sai Krishna\\Desktop\\Bird-Species-Classification-main 2\\Bird-Species-Classification-main\\archive\\train\\Song Sparrow\\125723-5.wav\n"
     ]
    },
    {
     "name": "stderr",
     "output_type": "stream",
     "text": [
      " 71%|████████████████████████████████████████████████████████▌                       | 576/814 [03:56<01:39,  2.38it/s]"
     ]
    },
    {
     "name": "stdout",
     "output_type": "stream",
     "text": [
      "lables [0]\n",
      "C:\\Users\\Sai Krishna\\Desktop\\Bird-Species-Classification-main 2\\Bird-Species-Classification-main\\archive\\train\\American Robin\\406326-4.wav\n",
      "C:\\Users\\Sai Krishna\\Desktop\\Bird-Species-Classification-main 2\\Bird-Species-Classification-main\\archive\\train\\American Robin\\406326-4.wav\n"
     ]
    },
    {
     "name": "stderr",
     "output_type": "stream",
     "text": [
      " 71%|████████████████████████████████████████████████████████▋                       | 577/814 [03:56<01:40,  2.37it/s]"
     ]
    },
    {
     "name": "stdout",
     "output_type": "stream",
     "text": [
      "lables [3]\n",
      "C:\\Users\\Sai Krishna\\Desktop\\Bird-Species-Classification-main 2\\Bird-Species-Classification-main\\archive\\train\\Northern Cardinal\\408321-13.wav\n",
      "C:\\Users\\Sai Krishna\\Desktop\\Bird-Species-Classification-main 2\\Bird-Species-Classification-main\\archive\\train\\Northern Cardinal\\408321-13.wav\n"
     ]
    },
    {
     "name": "stderr",
     "output_type": "stream",
     "text": [
      " 71%|████████████████████████████████████████████████████████▊                       | 578/814 [03:57<01:39,  2.36it/s]"
     ]
    },
    {
     "name": "stdout",
     "output_type": "stream",
     "text": [
      "lables [2]\n",
      "C:\\Users\\Sai Krishna\\Desktop\\Bird-Species-Classification-main 2\\Bird-Species-Classification-main\\archive\\train\\Northern Mockingbird\\54018-9.wav\n",
      "C:\\Users\\Sai Krishna\\Desktop\\Bird-Species-Classification-main 2\\Bird-Species-Classification-main\\archive\\train\\Northern Mockingbird\\54018-9.wav\n"
     ]
    },
    {
     "name": "stderr",
     "output_type": "stream",
     "text": [
      " 71%|████████████████████████████████████████████████████████▉                       | 579/814 [03:57<01:39,  2.35it/s]"
     ]
    },
    {
     "name": "stdout",
     "output_type": "stream",
     "text": [
      "lables [1]\n",
      "C:\\Users\\Sai Krishna\\Desktop\\Bird-Species-Classification-main 2\\Bird-Species-Classification-main\\archive\\train\\American Robin\\138063-16.wav\n",
      "C:\\Users\\Sai Krishna\\Desktop\\Bird-Species-Classification-main 2\\Bird-Species-Classification-main\\archive\\train\\American Robin\\138063-16.wav\n"
     ]
    },
    {
     "name": "stderr",
     "output_type": "stream",
     "text": [
      " 71%|█████████████████████████████████████████████████████████                       | 580/814 [03:58<01:38,  2.37it/s]"
     ]
    },
    {
     "name": "stdout",
     "output_type": "stream",
     "text": [
      "lables [3]\n",
      "C:\\Users\\Sai Krishna\\Desktop\\Bird-Species-Classification-main 2\\Bird-Species-Classification-main\\archive\\train\\Bewick's Wren\\173154-13.wav\n",
      "C:\\Users\\Sai Krishna\\Desktop\\Bird-Species-Classification-main 2\\Bird-Species-Classification-main\\archive\\train\\Bewick's Wren\\173154-13.wav\n"
     ]
    },
    {
     "name": "stderr",
     "output_type": "stream",
     "text": [
      " 71%|█████████████████████████████████████████████████████████                       | 581/814 [03:58<01:38,  2.37it/s]"
     ]
    },
    {
     "name": "stdout",
     "output_type": "stream",
     "text": [
      "lables [4]\n",
      "C:\\Users\\Sai Krishna\\Desktop\\Bird-Species-Classification-main 2\\Bird-Species-Classification-main\\archive\\train\\Northern Mockingbird\\542156-1.wav\n",
      "C:\\Users\\Sai Krishna\\Desktop\\Bird-Species-Classification-main 2\\Bird-Species-Classification-main\\archive\\train\\Northern Mockingbird\\542156-1.wav\n"
     ]
    },
    {
     "name": "stderr",
     "output_type": "stream",
     "text": [
      " 71%|█████████████████████████████████████████████████████████▏                      | 582/814 [03:59<01:39,  2.34it/s]"
     ]
    },
    {
     "name": "stdout",
     "output_type": "stream",
     "text": [
      "lables [1]\n",
      "C:\\Users\\Sai Krishna\\Desktop\\Bird-Species-Classification-main 2\\Bird-Species-Classification-main\\archive\\train\\Northern Cardinal\\470301-1.wav\n",
      "C:\\Users\\Sai Krishna\\Desktop\\Bird-Species-Classification-main 2\\Bird-Species-Classification-main\\archive\\train\\Northern Cardinal\\470301-1.wav\n"
     ]
    },
    {
     "name": "stderr",
     "output_type": "stream",
     "text": [
      " 72%|█████████████████████████████████████████████████████████▎                      | 583/814 [03:59<01:36,  2.40it/s]"
     ]
    },
    {
     "name": "stdout",
     "output_type": "stream",
     "text": [
      "lables [2]\n",
      "C:\\Users\\Sai Krishna\\Desktop\\Bird-Species-Classification-main 2\\Bird-Species-Classification-main\\archive\\train\\Bewick's Wren\\417877-8.wav\n",
      "C:\\Users\\Sai Krishna\\Desktop\\Bird-Species-Classification-main 2\\Bird-Species-Classification-main\\archive\\train\\Bewick's Wren\\417877-8.wav\n"
     ]
    },
    {
     "name": "stderr",
     "output_type": "stream",
     "text": [
      " 72%|█████████████████████████████████████████████████████████▍                      | 584/814 [03:59<01:31,  2.52it/s]"
     ]
    },
    {
     "name": "stdout",
     "output_type": "stream",
     "text": [
      "lables [4]\n",
      "C:\\Users\\Sai Krishna\\Desktop\\Bird-Species-Classification-main 2\\Bird-Species-Classification-main\\archive\\train\\Northern Mockingbird\\321914-2.wav\n",
      "C:\\Users\\Sai Krishna\\Desktop\\Bird-Species-Classification-main 2\\Bird-Species-Classification-main\\archive\\train\\Northern Mockingbird\\321914-2.wav\n"
     ]
    },
    {
     "name": "stderr",
     "output_type": "stream",
     "text": [
      " 72%|█████████████████████████████████████████████████████████▍                      | 585/814 [04:00<01:26,  2.64it/s]"
     ]
    },
    {
     "name": "stdout",
     "output_type": "stream",
     "text": [
      "lables [1]\n",
      "C:\\Users\\Sai Krishna\\Desktop\\Bird-Species-Classification-main 2\\Bird-Species-Classification-main\\archive\\train\\American Robin\\177384-8.wav\n",
      "C:\\Users\\Sai Krishna\\Desktop\\Bird-Species-Classification-main 2\\Bird-Species-Classification-main\\archive\\train\\American Robin\\177384-8.wav\n"
     ]
    },
    {
     "name": "stderr",
     "output_type": "stream",
     "text": [
      " 72%|█████████████████████████████████████████████████████████▌                      | 586/814 [04:00<01:24,  2.70it/s]"
     ]
    },
    {
     "name": "stdout",
     "output_type": "stream",
     "text": [
      "lables [3]\n",
      "C:\\Users\\Sai Krishna\\Desktop\\Bird-Species-Classification-main 2\\Bird-Species-Classification-main\\archive\\train\\Northern Cardinal\\559279-8.wav\n",
      "C:\\Users\\Sai Krishna\\Desktop\\Bird-Species-Classification-main 2\\Bird-Species-Classification-main\\archive\\train\\Northern Cardinal\\559279-8.wav\n"
     ]
    },
    {
     "name": "stderr",
     "output_type": "stream",
     "text": [
      " 72%|█████████████████████████████████████████████████████████▋                      | 587/814 [04:00<01:22,  2.76it/s]"
     ]
    },
    {
     "name": "stdout",
     "output_type": "stream",
     "text": [
      "lables [2]\n",
      "C:\\Users\\Sai Krishna\\Desktop\\Bird-Species-Classification-main 2\\Bird-Species-Classification-main\\archive\\train\\Northern Mockingbird\\343928-2.wav\n",
      "C:\\Users\\Sai Krishna\\Desktop\\Bird-Species-Classification-main 2\\Bird-Species-Classification-main\\archive\\train\\Northern Mockingbird\\343928-2.wav\n"
     ]
    },
    {
     "name": "stderr",
     "output_type": "stream",
     "text": [
      " 72%|█████████████████████████████████████████████████████████▊                      | 588/814 [04:01<01:20,  2.81it/s]"
     ]
    },
    {
     "name": "stdout",
     "output_type": "stream",
     "text": [
      "lables [1]\n",
      "C:\\Users\\Sai Krishna\\Desktop\\Bird-Species-Classification-main 2\\Bird-Species-Classification-main\\archive\\train\\American Robin\\563197-7.wav\n",
      "C:\\Users\\Sai Krishna\\Desktop\\Bird-Species-Classification-main 2\\Bird-Species-Classification-main\\archive\\train\\American Robin\\563197-7.wav\n"
     ]
    },
    {
     "name": "stderr",
     "output_type": "stream",
     "text": [
      " 72%|█████████████████████████████████████████████████████████▉                      | 589/814 [04:01<01:25,  2.64it/s]"
     ]
    },
    {
     "name": "stdout",
     "output_type": "stream",
     "text": [
      "lables [3]\n",
      "C:\\Users\\Sai Krishna\\Desktop\\Bird-Species-Classification-main 2\\Bird-Species-Classification-main\\archive\\train\\American Robin\\468991-12.wav\n",
      "C:\\Users\\Sai Krishna\\Desktop\\Bird-Species-Classification-main 2\\Bird-Species-Classification-main\\archive\\train\\American Robin\\468991-12.wav\n"
     ]
    },
    {
     "name": "stderr",
     "output_type": "stream",
     "text": [
      " 72%|█████████████████████████████████████████████████████████▉                      | 590/814 [04:02<01:27,  2.56it/s]"
     ]
    },
    {
     "name": "stdout",
     "output_type": "stream",
     "text": [
      "lables [3]\n",
      "C:\\Users\\Sai Krishna\\Desktop\\Bird-Species-Classification-main 2\\Bird-Species-Classification-main\\archive\\train\\Northern Mockingbird\\13609-4.wav\n",
      "C:\\Users\\Sai Krishna\\Desktop\\Bird-Species-Classification-main 2\\Bird-Species-Classification-main\\archive\\train\\Northern Mockingbird\\13609-4.wav\n"
     ]
    },
    {
     "name": "stderr",
     "output_type": "stream",
     "text": [
      " 73%|██████████████████████████████████████████████████████████                      | 591/814 [04:02<01:29,  2.50it/s]"
     ]
    },
    {
     "name": "stdout",
     "output_type": "stream",
     "text": [
      "lables [1]\n",
      "C:\\Users\\Sai Krishna\\Desktop\\Bird-Species-Classification-main 2\\Bird-Species-Classification-main\\archive\\train\\Northern Mockingbird\\538537-12.wav\n",
      "C:\\Users\\Sai Krishna\\Desktop\\Bird-Species-Classification-main 2\\Bird-Species-Classification-main\\archive\\train\\Northern Mockingbird\\538537-12.wav\n"
     ]
    },
    {
     "name": "stderr",
     "output_type": "stream",
     "text": [
      " 73%|██████████████████████████████████████████████████████████▏                     | 592/814 [04:02<01:31,  2.43it/s]"
     ]
    },
    {
     "name": "stdout",
     "output_type": "stream",
     "text": [
      "lables [1]\n",
      "C:\\Users\\Sai Krishna\\Desktop\\Bird-Species-Classification-main 2\\Bird-Species-Classification-main\\archive\\train\\American Robin\\564544-13.wav\n",
      "C:\\Users\\Sai Krishna\\Desktop\\Bird-Species-Classification-main 2\\Bird-Species-Classification-main\\archive\\train\\American Robin\\564544-13.wav\n"
     ]
    },
    {
     "name": "stderr",
     "output_type": "stream",
     "text": [
      " 73%|██████████████████████████████████████████████████████████▎                     | 593/814 [04:03<01:32,  2.40it/s]"
     ]
    },
    {
     "name": "stdout",
     "output_type": "stream",
     "text": [
      "lables [2]\n",
      "C:\\Users\\Sai Krishna\\Desktop\\Bird-Species-Classification-main 2\\Bird-Species-Classification-main\\archive\\train\\American Robin\\269082-0.wav\n",
      "C:\\Users\\Sai Krishna\\Desktop\\Bird-Species-Classification-main 2\\Bird-Species-Classification-main\\archive\\train\\American Robin\\269082-0.wav\n"
     ]
    },
    {
     "name": "stderr",
     "output_type": "stream",
     "text": [
      " 73%|██████████████████████████████████████████████████████████▍                     | 594/814 [04:03<01:31,  2.39it/s]"
     ]
    },
    {
     "name": "stdout",
     "output_type": "stream",
     "text": [
      "lables [3]\n",
      "C:\\Users\\Sai Krishna\\Desktop\\Bird-Species-Classification-main 2\\Bird-Species-Classification-main\\archive\\train\\Bewick's Wren\\323977-2.wav\n",
      "C:\\Users\\Sai Krishna\\Desktop\\Bird-Species-Classification-main 2\\Bird-Species-Classification-main\\archive\\train\\Bewick's Wren\\323977-2.wav\n"
     ]
    },
    {
     "name": "stderr",
     "output_type": "stream",
     "text": [
      " 73%|██████████████████████████████████████████████████████████▍                     | 595/814 [04:04<01:31,  2.38it/s]"
     ]
    },
    {
     "name": "stdout",
     "output_type": "stream",
     "text": [
      "lables [4]\n",
      "C:\\Users\\Sai Krishna\\Desktop\\Bird-Species-Classification-main 2\\Bird-Species-Classification-main\\archive\\train\\Northern Cardinal\\11713-5.wav\n",
      "C:\\Users\\Sai Krishna\\Desktop\\Bird-Species-Classification-main 2\\Bird-Species-Classification-main\\archive\\train\\Northern Cardinal\\11713-5.wav\n"
     ]
    },
    {
     "name": "stderr",
     "output_type": "stream",
     "text": [
      " 73%|██████████████████████████████████████████████████████████▌                     | 596/814 [04:04<01:31,  2.38it/s]"
     ]
    },
    {
     "name": "stdout",
     "output_type": "stream",
     "text": [
      "lables [2]\n",
      "C:\\Users\\Sai Krishna\\Desktop\\Bird-Species-Classification-main 2\\Bird-Species-Classification-main\\archive\\train\\Bewick's Wren\\15270-6.wav\n",
      "C:\\Users\\Sai Krishna\\Desktop\\Bird-Species-Classification-main 2\\Bird-Species-Classification-main\\archive\\train\\Bewick's Wren\\15270-6.wav\n"
     ]
    },
    {
     "name": "stderr",
     "output_type": "stream",
     "text": [
      " 73%|██████████████████████████████████████████████████████████▋                     | 597/814 [04:05<01:31,  2.38it/s]"
     ]
    },
    {
     "name": "stdout",
     "output_type": "stream",
     "text": [
      "lables [4]\n",
      "C:\\Users\\Sai Krishna\\Desktop\\Bird-Species-Classification-main 2\\Bird-Species-Classification-main\\archive\\train\\Song Sparrow\\408571-0.wav\n",
      "C:\\Users\\Sai Krishna\\Desktop\\Bird-Species-Classification-main 2\\Bird-Species-Classification-main\\archive\\train\\Song Sparrow\\408571-0.wav\n"
     ]
    },
    {
     "name": "stderr",
     "output_type": "stream",
     "text": [
      " 73%|██████████████████████████████████████████████████████████▊                     | 598/814 [04:05<01:30,  2.38it/s]"
     ]
    },
    {
     "name": "stdout",
     "output_type": "stream",
     "text": [
      "lables [0]\n",
      "C:\\Users\\Sai Krishna\\Desktop\\Bird-Species-Classification-main 2\\Bird-Species-Classification-main\\archive\\train\\American Robin\\351863-9.wav\n",
      "C:\\Users\\Sai Krishna\\Desktop\\Bird-Species-Classification-main 2\\Bird-Species-Classification-main\\archive\\train\\American Robin\\351863-9.wav\n"
     ]
    },
    {
     "name": "stderr",
     "output_type": "stream",
     "text": [
      " 74%|██████████████████████████████████████████████████████████▊                     | 599/814 [04:05<01:30,  2.39it/s]"
     ]
    },
    {
     "name": "stdout",
     "output_type": "stream",
     "text": [
      "lables [3]\n",
      "C:\\Users\\Sai Krishna\\Desktop\\Bird-Species-Classification-main 2\\Bird-Species-Classification-main\\archive\\train\\Northern Cardinal\\196163-4.wav\n",
      "C:\\Users\\Sai Krishna\\Desktop\\Bird-Species-Classification-main 2\\Bird-Species-Classification-main\\archive\\train\\Northern Cardinal\\196163-4.wav\n"
     ]
    },
    {
     "name": "stderr",
     "output_type": "stream",
     "text": [
      " 74%|██████████████████████████████████████████████████████████▉                     | 600/814 [04:06<01:29,  2.38it/s]"
     ]
    },
    {
     "name": "stdout",
     "output_type": "stream",
     "text": [
      "lables [2]\n",
      "C:\\Users\\Sai Krishna\\Desktop\\Bird-Species-Classification-main 2\\Bird-Species-Classification-main\\archive\\train\\Northern Cardinal\\563619-1.wav\n",
      "C:\\Users\\Sai Krishna\\Desktop\\Bird-Species-Classification-main 2\\Bird-Species-Classification-main\\archive\\train\\Northern Cardinal\\563619-1.wav\n"
     ]
    },
    {
     "name": "stderr",
     "output_type": "stream",
     "text": [
      " 74%|███████████████████████████████████████████████████████████                     | 601/814 [04:06<01:28,  2.42it/s]"
     ]
    },
    {
     "name": "stdout",
     "output_type": "stream",
     "text": [
      "lables [2]\n",
      "C:\\Users\\Sai Krishna\\Desktop\\Bird-Species-Classification-main 2\\Bird-Species-Classification-main\\archive\\train\\Song Sparrow\\149420-3.wav\n",
      "C:\\Users\\Sai Krishna\\Desktop\\Bird-Species-Classification-main 2\\Bird-Species-Classification-main\\archive\\train\\Song Sparrow\\149420-3.wav\n"
     ]
    },
    {
     "name": "stderr",
     "output_type": "stream",
     "text": [
      " 74%|███████████████████████████████████████████████████████████▏                    | 602/814 [04:07<01:23,  2.53it/s]"
     ]
    },
    {
     "name": "stdout",
     "output_type": "stream",
     "text": [
      "lables [0]\n",
      "C:\\Users\\Sai Krishna\\Desktop\\Bird-Species-Classification-main 2\\Bird-Species-Classification-main\\archive\\train\\Song Sparrow\\362469-5.wav\n",
      "C:\\Users\\Sai Krishna\\Desktop\\Bird-Species-Classification-main 2\\Bird-Species-Classification-main\\archive\\train\\Song Sparrow\\362469-5.wav\n"
     ]
    },
    {
     "name": "stderr",
     "output_type": "stream",
     "text": [
      " 74%|███████████████████████████████████████████████████████████▎                    | 603/814 [04:07<01:20,  2.61it/s]"
     ]
    },
    {
     "name": "stdout",
     "output_type": "stream",
     "text": [
      "lables [0]\n",
      "C:\\Users\\Sai Krishna\\Desktop\\Bird-Species-Classification-main 2\\Bird-Species-Classification-main\\archive\\train\\Northern Cardinal\\469588-0.wav\n",
      "C:\\Users\\Sai Krishna\\Desktop\\Bird-Species-Classification-main 2\\Bird-Species-Classification-main\\archive\\train\\Northern Cardinal\\469588-0.wav\n"
     ]
    },
    {
     "name": "stderr",
     "output_type": "stream",
     "text": [
      " 74%|███████████████████████████████████████████████████████████▎                    | 604/814 [04:07<01:18,  2.68it/s]"
     ]
    },
    {
     "name": "stdout",
     "output_type": "stream",
     "text": [
      "lables [2]\n",
      "C:\\Users\\Sai Krishna\\Desktop\\Bird-Species-Classification-main 2\\Bird-Species-Classification-main\\archive\\train\\Bewick's Wren\\217843-7.wav\n",
      "C:\\Users\\Sai Krishna\\Desktop\\Bird-Species-Classification-main 2\\Bird-Species-Classification-main\\archive\\train\\Bewick's Wren\\217843-7.wav\n"
     ]
    },
    {
     "name": "stderr",
     "output_type": "stream",
     "text": [
      " 74%|███████████████████████████████████████████████████████████▍                    | 605/814 [04:08<01:15,  2.76it/s]"
     ]
    },
    {
     "name": "stdout",
     "output_type": "stream",
     "text": [
      "lables [4]\n",
      "C:\\Users\\Sai Krishna\\Desktop\\Bird-Species-Classification-main 2\\Bird-Species-Classification-main\\archive\\train\\Northern Mockingbird\\489315-12.wav\n",
      "C:\\Users\\Sai Krishna\\Desktop\\Bird-Species-Classification-main 2\\Bird-Species-Classification-main\\archive\\train\\Northern Mockingbird\\489315-12.wav\n"
     ]
    },
    {
     "name": "stderr",
     "output_type": "stream",
     "text": [
      " 74%|███████████████████████████████████████████████████████████▌                    | 606/814 [04:08<01:14,  2.80it/s]"
     ]
    },
    {
     "name": "stdout",
     "output_type": "stream",
     "text": [
      "lables [1]\n",
      "C:\\Users\\Sai Krishna\\Desktop\\Bird-Species-Classification-main 2\\Bird-Species-Classification-main\\archive\\train\\Northern Cardinal\\317502-2.wav\n",
      "C:\\Users\\Sai Krishna\\Desktop\\Bird-Species-Classification-main 2\\Bird-Species-Classification-main\\archive\\train\\Northern Cardinal\\317502-2.wav\n"
     ]
    },
    {
     "name": "stderr",
     "output_type": "stream",
     "text": [
      " 75%|███████████████████████████████████████████████████████████▋                    | 607/814 [04:08<01:18,  2.63it/s]"
     ]
    },
    {
     "name": "stdout",
     "output_type": "stream",
     "text": [
      "lables [2]\n",
      "C:\\Users\\Sai Krishna\\Desktop\\Bird-Species-Classification-main 2\\Bird-Species-Classification-main\\archive\\train\\American Robin\\165291-14.wav\n",
      "C:\\Users\\Sai Krishna\\Desktop\\Bird-Species-Classification-main 2\\Bird-Species-Classification-main\\archive\\train\\American Robin\\165291-14.wav\n"
     ]
    },
    {
     "name": "stderr",
     "output_type": "stream",
     "text": [
      " 75%|███████████████████████████████████████████████████████████▊                    | 608/814 [04:09<01:21,  2.53it/s]"
     ]
    },
    {
     "name": "stdout",
     "output_type": "stream",
     "text": [
      "lables [3]\n",
      "C:\\Users\\Sai Krishna\\Desktop\\Bird-Species-Classification-main 2\\Bird-Species-Classification-main\\archive\\train\\American Robin\\97957-11.wav\n",
      "C:\\Users\\Sai Krishna\\Desktop\\Bird-Species-Classification-main 2\\Bird-Species-Classification-main\\archive\\train\\American Robin\\97957-11.wav\n"
     ]
    },
    {
     "name": "stderr",
     "output_type": "stream",
     "text": [
      " 75%|███████████████████████████████████████████████████████████▊                    | 609/814 [04:09<01:23,  2.47it/s]"
     ]
    },
    {
     "name": "stdout",
     "output_type": "stream",
     "text": [
      "lables [3]\n",
      "C:\\Users\\Sai Krishna\\Desktop\\Bird-Species-Classification-main 2\\Bird-Species-Classification-main\\archive\\train\\Northern Mockingbird\\54725-10.wav\n",
      "C:\\Users\\Sai Krishna\\Desktop\\Bird-Species-Classification-main 2\\Bird-Species-Classification-main\\archive\\train\\Northern Mockingbird\\54725-10.wav\n"
     ]
    },
    {
     "name": "stderr",
     "output_type": "stream",
     "text": [
      " 75%|███████████████████████████████████████████████████████████▉                    | 610/814 [04:10<01:24,  2.42it/s]"
     ]
    },
    {
     "name": "stdout",
     "output_type": "stream",
     "text": [
      "lables [0]\n",
      "C:\\Users\\Sai Krishna\\Desktop\\Bird-Species-Classification-main 2\\Bird-Species-Classification-main\\archive\\train\\American Robin\\313351-6.wav\n",
      "C:\\Users\\Sai Krishna\\Desktop\\Bird-Species-Classification-main 2\\Bird-Species-Classification-main\\archive\\train\\American Robin\\313351-6.wav\n"
     ]
    },
    {
     "name": "stderr",
     "output_type": "stream",
     "text": [
      " 75%|████████████████████████████████████████████████████████████                    | 611/814 [04:10<01:24,  2.40it/s]"
     ]
    },
    {
     "name": "stdout",
     "output_type": "stream",
     "text": [
      "lables [3]\n",
      "C:\\Users\\Sai Krishna\\Desktop\\Bird-Species-Classification-main 2\\Bird-Species-Classification-main\\archive\\train\\American Robin\\70119-8.wav\n",
      "C:\\Users\\Sai Krishna\\Desktop\\Bird-Species-Classification-main 2\\Bird-Species-Classification-main\\archive\\train\\American Robin\\70119-8.wav\n"
     ]
    },
    {
     "name": "stderr",
     "output_type": "stream",
     "text": [
      " 75%|████████████████████████████████████████████████████████████▏                   | 612/814 [04:10<01:24,  2.38it/s]"
     ]
    },
    {
     "name": "stdout",
     "output_type": "stream",
     "text": [
      "lables [3]\n",
      "C:\\Users\\Sai Krishna\\Desktop\\Bird-Species-Classification-main 2\\Bird-Species-Classification-main\\archive\\train\\Northern Cardinal\\415386-6.wav\n",
      "C:\\Users\\Sai Krishna\\Desktop\\Bird-Species-Classification-main 2\\Bird-Species-Classification-main\\archive\\train\\Northern Cardinal\\415386-6.wav\n"
     ]
    },
    {
     "name": "stderr",
     "output_type": "stream",
     "text": [
      " 75%|████████████████████████████████████████████████████████████▏                   | 613/814 [04:11<01:24,  2.37it/s]"
     ]
    },
    {
     "name": "stdout",
     "output_type": "stream",
     "text": [
      "lables [2]\n",
      "C:\\Users\\Sai Krishna\\Desktop\\Bird-Species-Classification-main 2\\Bird-Species-Classification-main\\archive\\train\\American Robin\\564544-14.wav\n",
      "C:\\Users\\Sai Krishna\\Desktop\\Bird-Species-Classification-main 2\\Bird-Species-Classification-main\\archive\\train\\American Robin\\564544-14.wav\n"
     ]
    },
    {
     "name": "stderr",
     "output_type": "stream",
     "text": [
      " 75%|████████████████████████████████████████████████████████████▎                   | 614/814 [04:11<01:24,  2.38it/s]"
     ]
    },
    {
     "name": "stdout",
     "output_type": "stream",
     "text": [
      "lables [3]\n",
      "C:\\Users\\Sai Krishna\\Desktop\\Bird-Species-Classification-main 2\\Bird-Species-Classification-main\\archive\\train\\Northern Cardinal\\313423-2.wav\n",
      "C:\\Users\\Sai Krishna\\Desktop\\Bird-Species-Classification-main 2\\Bird-Species-Classification-main\\archive\\train\\Northern Cardinal\\313423-2.wav\n"
     ]
    },
    {
     "name": "stderr",
     "output_type": "stream",
     "text": [
      " 76%|████████████████████████████████████████████████████████████▍                   | 615/814 [04:12<01:24,  2.36it/s]"
     ]
    },
    {
     "name": "stdout",
     "output_type": "stream",
     "text": [
      "lables [2]\n",
      "C:\\Users\\Sai Krishna\\Desktop\\Bird-Species-Classification-main 2\\Bird-Species-Classification-main\\archive\\train\\Northern Cardinal\\12876-8.wav\n",
      "C:\\Users\\Sai Krishna\\Desktop\\Bird-Species-Classification-main 2\\Bird-Species-Classification-main\\archive\\train\\Northern Cardinal\\12876-8.wav\n"
     ]
    },
    {
     "name": "stderr",
     "output_type": "stream",
     "text": [
      " 76%|████████████████████████████████████████████████████████████▌                   | 616/814 [04:12<01:24,  2.35it/s]"
     ]
    },
    {
     "name": "stdout",
     "output_type": "stream",
     "text": [
      "lables [2]\n",
      "C:\\Users\\Sai Krishna\\Desktop\\Bird-Species-Classification-main 2\\Bird-Species-Classification-main\\archive\\train\\Song Sparrow\\205806-12.wav\n",
      "C:\\Users\\Sai Krishna\\Desktop\\Bird-Species-Classification-main 2\\Bird-Species-Classification-main\\archive\\train\\Song Sparrow\\205806-12.wav\n"
     ]
    },
    {
     "name": "stderr",
     "output_type": "stream",
     "text": [
      " 76%|████████████████████████████████████████████████████████████▋                   | 617/814 [04:13<01:23,  2.35it/s]"
     ]
    },
    {
     "name": "stdout",
     "output_type": "stream",
     "text": [
      "lables [0]\n",
      "C:\\Users\\Sai Krishna\\Desktop\\Bird-Species-Classification-main 2\\Bird-Species-Classification-main\\archive\\train\\American Robin\\468991-3.wav\n",
      "C:\\Users\\Sai Krishna\\Desktop\\Bird-Species-Classification-main 2\\Bird-Species-Classification-main\\archive\\train\\American Robin\\468991-3.wav\n"
     ]
    },
    {
     "name": "stderr",
     "output_type": "stream",
     "text": [
      " 76%|████████████████████████████████████████████████████████████▋                   | 618/814 [04:13<01:23,  2.35it/s]"
     ]
    },
    {
     "name": "stdout",
     "output_type": "stream",
     "text": [
      "lables [3]\n",
      "C:\\Users\\Sai Krishna\\Desktop\\Bird-Species-Classification-main 2\\Bird-Species-Classification-main\\archive\\train\\Northern Cardinal\\451804-4.wav\n",
      "C:\\Users\\Sai Krishna\\Desktop\\Bird-Species-Classification-main 2\\Bird-Species-Classification-main\\archive\\train\\Northern Cardinal\\451804-4.wav\n"
     ]
    },
    {
     "name": "stderr",
     "output_type": "stream",
     "text": [
      " 76%|████████████████████████████████████████████████████████████▊                   | 619/814 [04:13<01:23,  2.34it/s]"
     ]
    },
    {
     "name": "stdout",
     "output_type": "stream",
     "text": [
      "lables [2]\n",
      "C:\\Users\\Sai Krishna\\Desktop\\Bird-Species-Classification-main 2\\Bird-Species-Classification-main\\archive\\train\\Northern Cardinal\\463767-6.wav\n",
      "C:\\Users\\Sai Krishna\\Desktop\\Bird-Species-Classification-main 2\\Bird-Species-Classification-main\\archive\\train\\Northern Cardinal\\463767-6.wav\n"
     ]
    },
    {
     "name": "stderr",
     "output_type": "stream",
     "text": [
      " 76%|████████████████████████████████████████████████████████████▉                   | 620/814 [04:14<01:20,  2.40it/s]"
     ]
    },
    {
     "name": "stdout",
     "output_type": "stream",
     "text": [
      "lables [2]\n",
      "C:\\Users\\Sai Krishna\\Desktop\\Bird-Species-Classification-main 2\\Bird-Species-Classification-main\\archive\\train\\American Robin\\190441-11.wav\n",
      "C:\\Users\\Sai Krishna\\Desktop\\Bird-Species-Classification-main 2\\Bird-Species-Classification-main\\archive\\train\\American Robin\\190441-11.wav\n"
     ]
    },
    {
     "name": "stderr",
     "output_type": "stream",
     "text": [
      " 76%|█████████████████████████████████████████████████████████████                   | 621/814 [04:14<01:18,  2.46it/s]"
     ]
    },
    {
     "name": "stdout",
     "output_type": "stream",
     "text": [
      "lables [3]\n",
      "C:\\Users\\Sai Krishna\\Desktop\\Bird-Species-Classification-main 2\\Bird-Species-Classification-main\\archive\\train\\Northern Cardinal\\362613-10.wav\n",
      "C:\\Users\\Sai Krishna\\Desktop\\Bird-Species-Classification-main 2\\Bird-Species-Classification-main\\archive\\train\\Northern Cardinal\\362613-10.wav\n"
     ]
    },
    {
     "name": "stderr",
     "output_type": "stream",
     "text": [
      " 76%|█████████████████████████████████████████████████████████████▏                  | 622/814 [04:15<01:15,  2.53it/s]"
     ]
    },
    {
     "name": "stdout",
     "output_type": "stream",
     "text": [
      "lables [2]\n",
      "C:\\Users\\Sai Krishna\\Desktop\\Bird-Species-Classification-main 2\\Bird-Species-Classification-main\\archive\\train\\Bewick's Wren\\217854-5.wav\n",
      "C:\\Users\\Sai Krishna\\Desktop\\Bird-Species-Classification-main 2\\Bird-Species-Classification-main\\archive\\train\\Bewick's Wren\\217854-5.wav\n"
     ]
    },
    {
     "name": "stderr",
     "output_type": "stream",
     "text": [
      " 77%|█████████████████████████████████████████████████████████████▏                  | 623/814 [04:15<01:14,  2.56it/s]"
     ]
    },
    {
     "name": "stdout",
     "output_type": "stream",
     "text": [
      "lables [4]\n",
      "C:\\Users\\Sai Krishna\\Desktop\\Bird-Species-Classification-main 2\\Bird-Species-Classification-main\\archive\\train\\Northern Cardinal\\220402-7.wav\n",
      "C:\\Users\\Sai Krishna\\Desktop\\Bird-Species-Classification-main 2\\Bird-Species-Classification-main\\archive\\train\\Northern Cardinal\\220402-7.wav\n"
     ]
    },
    {
     "name": "stderr",
     "output_type": "stream",
     "text": [
      " 77%|█████████████████████████████████████████████████████████████▎                  | 624/814 [04:15<01:11,  2.65it/s]"
     ]
    },
    {
     "name": "stdout",
     "output_type": "stream",
     "text": [
      "lables [2]\n",
      "C:\\Users\\Sai Krishna\\Desktop\\Bird-Species-Classification-main 2\\Bird-Species-Classification-main\\archive\\train\\Bewick's Wren\\351038-8.wav\n",
      "C:\\Users\\Sai Krishna\\Desktop\\Bird-Species-Classification-main 2\\Bird-Species-Classification-main\\archive\\train\\Bewick's Wren\\351038-8.wav\n"
     ]
    },
    {
     "name": "stderr",
     "output_type": "stream",
     "text": [
      " 77%|█████████████████████████████████████████████████████████████▍                  | 625/814 [04:16<01:11,  2.63it/s]"
     ]
    },
    {
     "name": "stdout",
     "output_type": "stream",
     "text": [
      "lables [4]\n",
      "C:\\Users\\Sai Krishna\\Desktop\\Bird-Species-Classification-main 2\\Bird-Species-Classification-main\\archive\\train\\Song Sparrow\\78060-1.wav\n",
      "C:\\Users\\Sai Krishna\\Desktop\\Bird-Species-Classification-main 2\\Bird-Species-Classification-main\\archive\\train\\Song Sparrow\\78060-1.wav\n"
     ]
    },
    {
     "name": "stderr",
     "output_type": "stream",
     "text": [
      " 77%|█████████████████████████████████████████████████████████████▌                  | 626/814 [04:16<01:11,  2.63it/s]"
     ]
    },
    {
     "name": "stdout",
     "output_type": "stream",
     "text": [
      "lables [0]\n",
      "C:\\Users\\Sai Krishna\\Desktop\\Bird-Species-Classification-main 2\\Bird-Species-Classification-main\\archive\\train\\American Robin\\423449-12.wav\n",
      "C:\\Users\\Sai Krishna\\Desktop\\Bird-Species-Classification-main 2\\Bird-Species-Classification-main\\archive\\train\\American Robin\\423449-12.wav\n"
     ]
    },
    {
     "name": "stderr",
     "output_type": "stream",
     "text": [
      " 77%|█████████████████████████████████████████████████████████████▌                  | 627/814 [04:16<01:10,  2.63it/s]"
     ]
    },
    {
     "name": "stdout",
     "output_type": "stream",
     "text": [
      "lables [3]\n",
      "C:\\Users\\Sai Krishna\\Desktop\\Bird-Species-Classification-main 2\\Bird-Species-Classification-main\\archive\\train\\Bewick's Wren\\480035-10.wav\n",
      "C:\\Users\\Sai Krishna\\Desktop\\Bird-Species-Classification-main 2\\Bird-Species-Classification-main\\archive\\train\\Bewick's Wren\\480035-10.wav\n"
     ]
    },
    {
     "name": "stderr",
     "output_type": "stream",
     "text": [
      " 77%|█████████████████████████████████████████████████████████████▋                  | 628/814 [04:17<01:10,  2.62it/s]"
     ]
    },
    {
     "name": "stdout",
     "output_type": "stream",
     "text": [
      "lables [4]\n",
      "C:\\Users\\Sai Krishna\\Desktop\\Bird-Species-Classification-main 2\\Bird-Species-Classification-main\\archive\\train\\Song Sparrow\\111655-1.wav\n",
      "C:\\Users\\Sai Krishna\\Desktop\\Bird-Species-Classification-main 2\\Bird-Species-Classification-main\\archive\\train\\Song Sparrow\\111655-1.wav\n"
     ]
    },
    {
     "name": "stderr",
     "output_type": "stream",
     "text": [
      " 77%|█████████████████████████████████████████████████████████████▊                  | 629/814 [04:17<01:14,  2.50it/s]"
     ]
    },
    {
     "name": "stdout",
     "output_type": "stream",
     "text": [
      "lables [0]\n",
      "C:\\Users\\Sai Krishna\\Desktop\\Bird-Species-Classification-main 2\\Bird-Species-Classification-main\\archive\\train\\Northern Mockingbird\\321899-15.wav\n",
      "C:\\Users\\Sai Krishna\\Desktop\\Bird-Species-Classification-main 2\\Bird-Species-Classification-main\\archive\\train\\Northern Mockingbird\\321899-15.wav\n"
     ]
    },
    {
     "name": "stderr",
     "output_type": "stream",
     "text": [
      " 77%|█████████████████████████████████████████████████████████████▉                  | 630/814 [04:18<01:16,  2.42it/s]"
     ]
    },
    {
     "name": "stdout",
     "output_type": "stream",
     "text": [
      "lables [1]\n",
      "C:\\Users\\Sai Krishna\\Desktop\\Bird-Species-Classification-main 2\\Bird-Species-Classification-main\\archive\\train\\American Robin\\175222-3.wav\n",
      "C:\\Users\\Sai Krishna\\Desktop\\Bird-Species-Classification-main 2\\Bird-Species-Classification-main\\archive\\train\\American Robin\\175222-3.wav\n"
     ]
    },
    {
     "name": "stderr",
     "output_type": "stream",
     "text": [
      " 78%|██████████████████████████████████████████████████████████████                  | 631/814 [04:18<01:17,  2.37it/s]"
     ]
    },
    {
     "name": "stdout",
     "output_type": "stream",
     "text": [
      "lables [0]\n",
      "C:\\Users\\Sai Krishna\\Desktop\\Bird-Species-Classification-main 2\\Bird-Species-Classification-main\\archive\\train\\Bewick's Wren\\217843-2.wav\n",
      "C:\\Users\\Sai Krishna\\Desktop\\Bird-Species-Classification-main 2\\Bird-Species-Classification-main\\archive\\train\\Bewick's Wren\\217843-2.wav\n"
     ]
    },
    {
     "name": "stderr",
     "output_type": "stream",
     "text": [
      " 78%|██████████████████████████████████████████████████████████████                  | 632/814 [04:19<01:16,  2.36it/s]"
     ]
    },
    {
     "name": "stdout",
     "output_type": "stream",
     "text": [
      "lables [4]\n",
      "C:\\Users\\Sai Krishna\\Desktop\\Bird-Species-Classification-main 2\\Bird-Species-Classification-main\\archive\\train\\Song Sparrow\\366597-0.wav\n",
      "C:\\Users\\Sai Krishna\\Desktop\\Bird-Species-Classification-main 2\\Bird-Species-Classification-main\\archive\\train\\Song Sparrow\\366597-0.wav\n"
     ]
    },
    {
     "name": "stderr",
     "output_type": "stream",
     "text": [
      " 78%|██████████████████████████████████████████████████████████████▏                 | 633/814 [04:19<01:16,  2.36it/s]"
     ]
    },
    {
     "name": "stdout",
     "output_type": "stream",
     "text": [
      "lables [0]\n",
      "C:\\Users\\Sai Krishna\\Desktop\\Bird-Species-Classification-main 2\\Bird-Species-Classification-main\\archive\\train\\American Robin\\351863-2.wav\n",
      "C:\\Users\\Sai Krishna\\Desktop\\Bird-Species-Classification-main 2\\Bird-Species-Classification-main\\archive\\train\\American Robin\\351863-2.wav\n"
     ]
    },
    {
     "name": "stderr",
     "output_type": "stream",
     "text": [
      " 78%|██████████████████████████████████████████████████████████████▎                 | 634/814 [04:19<01:16,  2.34it/s]"
     ]
    },
    {
     "name": "stdout",
     "output_type": "stream",
     "text": [
      "lables [3]\n",
      "C:\\Users\\Sai Krishna\\Desktop\\Bird-Species-Classification-main 2\\Bird-Species-Classification-main\\archive\\train\\American Robin\\322822-0.wav\n",
      "C:\\Users\\Sai Krishna\\Desktop\\Bird-Species-Classification-main 2\\Bird-Species-Classification-main\\archive\\train\\American Robin\\322822-0.wav\n"
     ]
    },
    {
     "name": "stderr",
     "output_type": "stream",
     "text": [
      " 78%|██████████████████████████████████████████████████████████████▍                 | 635/814 [04:20<01:17,  2.32it/s]"
     ]
    },
    {
     "name": "stdout",
     "output_type": "stream",
     "text": [
      "lables [3]\n",
      "C:\\Users\\Sai Krishna\\Desktop\\Bird-Species-Classification-main 2\\Bird-Species-Classification-main\\archive\\train\\Northern Cardinal\\466692-10.wav\n",
      "C:\\Users\\Sai Krishna\\Desktop\\Bird-Species-Classification-main 2\\Bird-Species-Classification-main\\archive\\train\\Northern Cardinal\\466692-10.wav\n"
     ]
    },
    {
     "name": "stderr",
     "output_type": "stream",
     "text": [
      " 78%|██████████████████████████████████████████████████████████████▌                 | 636/814 [04:20<01:16,  2.32it/s]"
     ]
    },
    {
     "name": "stdout",
     "output_type": "stream",
     "text": [
      "lables [2]\n",
      "C:\\Users\\Sai Krishna\\Desktop\\Bird-Species-Classification-main 2\\Bird-Species-Classification-main\\archive\\train\\Bewick's Wren\\351049-3.wav\n",
      "C:\\Users\\Sai Krishna\\Desktop\\Bird-Species-Classification-main 2\\Bird-Species-Classification-main\\archive\\train\\Bewick's Wren\\351049-3.wav\n"
     ]
    },
    {
     "name": "stderr",
     "output_type": "stream",
     "text": [
      " 78%|██████████████████████████████████████████████████████████████▌                 | 637/814 [04:21<01:16,  2.32it/s]"
     ]
    },
    {
     "name": "stdout",
     "output_type": "stream",
     "text": [
      "lables [4]\n",
      "C:\\Users\\Sai Krishna\\Desktop\\Bird-Species-Classification-main 2\\Bird-Species-Classification-main\\archive\\train\\Bewick's Wren\\351049-8.wav\n",
      "C:\\Users\\Sai Krishna\\Desktop\\Bird-Species-Classification-main 2\\Bird-Species-Classification-main\\archive\\train\\Bewick's Wren\\351049-8.wav\n"
     ]
    },
    {
     "name": "stderr",
     "output_type": "stream",
     "text": [
      " 78%|██████████████████████████████████████████████████████████████▋                 | 638/814 [04:21<01:15,  2.32it/s]"
     ]
    },
    {
     "name": "stdout",
     "output_type": "stream",
     "text": [
      "lables [4]\n",
      "C:\\Users\\Sai Krishna\\Desktop\\Bird-Species-Classification-main 2\\Bird-Species-Classification-main\\archive\\train\\Bewick's Wren\\351076-6.wav\n",
      "C:\\Users\\Sai Krishna\\Desktop\\Bird-Species-Classification-main 2\\Bird-Species-Classification-main\\archive\\train\\Bewick's Wren\\351076-6.wav\n"
     ]
    },
    {
     "name": "stderr",
     "output_type": "stream",
     "text": [
      " 79%|██████████████████████████████████████████████████████████████▊                 | 639/814 [04:22<01:15,  2.33it/s]"
     ]
    },
    {
     "name": "stdout",
     "output_type": "stream",
     "text": [
      "lables [4]\n",
      "C:\\Users\\Sai Krishna\\Desktop\\Bird-Species-Classification-main 2\\Bird-Species-Classification-main\\archive\\train\\Song Sparrow\\408126-4.wav\n",
      "C:\\Users\\Sai Krishna\\Desktop\\Bird-Species-Classification-main 2\\Bird-Species-Classification-main\\archive\\train\\Song Sparrow\\408126-4.wav\n"
     ]
    },
    {
     "name": "stderr",
     "output_type": "stream",
     "text": [
      " 79%|██████████████████████████████████████████████████████████████▉                 | 640/814 [04:22<01:14,  2.35it/s]"
     ]
    },
    {
     "name": "stdout",
     "output_type": "stream",
     "text": [
      "lables [0]\n",
      "C:\\Users\\Sai Krishna\\Desktop\\Bird-Species-Classification-main 2\\Bird-Species-Classification-main\\archive\\train\\Bewick's Wren\\323974-10.wav\n",
      "C:\\Users\\Sai Krishna\\Desktop\\Bird-Species-Classification-main 2\\Bird-Species-Classification-main\\archive\\train\\Bewick's Wren\\323974-10.wav\n"
     ]
    },
    {
     "name": "stderr",
     "output_type": "stream",
     "text": [
      " 79%|██████████████████████████████████████████████████████████████▉                 | 641/814 [04:22<01:14,  2.33it/s]"
     ]
    },
    {
     "name": "stdout",
     "output_type": "stream",
     "text": [
      "lables [4]\n",
      "C:\\Users\\Sai Krishna\\Desktop\\Bird-Species-Classification-main 2\\Bird-Species-Classification-main\\archive\\train\\Northern Cardinal\\544966-4.wav\n",
      "C:\\Users\\Sai Krishna\\Desktop\\Bird-Species-Classification-main 2\\Bird-Species-Classification-main\\archive\\train\\Northern Cardinal\\544966-4.wav\n"
     ]
    },
    {
     "name": "stderr",
     "output_type": "stream",
     "text": [
      " 79%|███████████████████████████████████████████████████████████████                 | 642/814 [04:23<01:13,  2.33it/s]"
     ]
    },
    {
     "name": "stdout",
     "output_type": "stream",
     "text": [
      "lables [2]\n",
      "C:\\Users\\Sai Krishna\\Desktop\\Bird-Species-Classification-main 2\\Bird-Species-Classification-main\\archive\\train\\Song Sparrow\\375662-5.wav\n",
      "C:\\Users\\Sai Krishna\\Desktop\\Bird-Species-Classification-main 2\\Bird-Species-Classification-main\\archive\\train\\Song Sparrow\\375662-5.wav\n"
     ]
    },
    {
     "name": "stderr",
     "output_type": "stream",
     "text": [
      " 79%|███████████████████████████████████████████████████████████████▏                | 643/814 [04:23<01:13,  2.33it/s]"
     ]
    },
    {
     "name": "stdout",
     "output_type": "stream",
     "text": [
      "lables [0]\n",
      "C:\\Users\\Sai Krishna\\Desktop\\Bird-Species-Classification-main 2\\Bird-Species-Classification-main\\archive\\train\\Northern Mockingbird\\321905-11.wav\n",
      "C:\\Users\\Sai Krishna\\Desktop\\Bird-Species-Classification-main 2\\Bird-Species-Classification-main\\archive\\train\\Northern Mockingbird\\321905-11.wav\n"
     ]
    },
    {
     "name": "stderr",
     "output_type": "stream",
     "text": [
      " 79%|███████████████████████████████████████████████████████████████▎                | 644/814 [04:24<01:12,  2.34it/s]"
     ]
    },
    {
     "name": "stdout",
     "output_type": "stream",
     "text": [
      "lables [1]\n",
      "C:\\Users\\Sai Krishna\\Desktop\\Bird-Species-Classification-main 2\\Bird-Species-Classification-main\\archive\\train\\Bewick's Wren\\173154-2.wav\n",
      "C:\\Users\\Sai Krishna\\Desktop\\Bird-Species-Classification-main 2\\Bird-Species-Classification-main\\archive\\train\\Bewick's Wren\\173154-2.wav\n"
     ]
    },
    {
     "name": "stderr",
     "output_type": "stream",
     "text": [
      " 79%|███████████████████████████████████████████████████████████████▍                | 645/814 [04:24<01:10,  2.39it/s]"
     ]
    },
    {
     "name": "stdout",
     "output_type": "stream",
     "text": [
      "lables [4]\n",
      "C:\\Users\\Sai Krishna\\Desktop\\Bird-Species-Classification-main 2\\Bird-Species-Classification-main\\archive\\train\\Song Sparrow\\306748-9.wav\n",
      "C:\\Users\\Sai Krishna\\Desktop\\Bird-Species-Classification-main 2\\Bird-Species-Classification-main\\archive\\train\\Song Sparrow\\306748-9.wav\n"
     ]
    },
    {
     "name": "stderr",
     "output_type": "stream",
     "text": [
      " 79%|███████████████████████████████████████████████████████████████▍                | 646/814 [04:25<01:06,  2.51it/s]"
     ]
    },
    {
     "name": "stdout",
     "output_type": "stream",
     "text": [
      "lables [0]\n",
      "C:\\Users\\Sai Krishna\\Desktop\\Bird-Species-Classification-main 2\\Bird-Species-Classification-main\\archive\\train\\Bewick's Wren\\217847-5.wav\n",
      "C:\\Users\\Sai Krishna\\Desktop\\Bird-Species-Classification-main 2\\Bird-Species-Classification-main\\archive\\train\\Bewick's Wren\\217847-5.wav\n"
     ]
    },
    {
     "name": "stderr",
     "output_type": "stream",
     "text": [
      " 79%|███████████████████████████████████████████████████████████████▌                | 647/814 [04:25<01:03,  2.62it/s]"
     ]
    },
    {
     "name": "stdout",
     "output_type": "stream",
     "text": [
      "lables [4]\n",
      "C:\\Users\\Sai Krishna\\Desktop\\Bird-Species-Classification-main 2\\Bird-Species-Classification-main\\archive\\train\\Northern Cardinal\\138075-2.wav\n",
      "C:\\Users\\Sai Krishna\\Desktop\\Bird-Species-Classification-main 2\\Bird-Species-Classification-main\\archive\\train\\Northern Cardinal\\138075-2.wav\n"
     ]
    },
    {
     "name": "stderr",
     "output_type": "stream",
     "text": [
      " 80%|███████████████████████████████████████████████████████████████▋                | 648/814 [04:25<01:02,  2.66it/s]"
     ]
    },
    {
     "name": "stdout",
     "output_type": "stream",
     "text": [
      "lables [2]\n",
      "C:\\Users\\Sai Krishna\\Desktop\\Bird-Species-Classification-main 2\\Bird-Species-Classification-main\\archive\\train\\Song Sparrow\\78060-7.wav\n",
      "C:\\Users\\Sai Krishna\\Desktop\\Bird-Species-Classification-main 2\\Bird-Species-Classification-main\\archive\\train\\Song Sparrow\\78060-7.wav\n"
     ]
    },
    {
     "name": "stderr",
     "output_type": "stream",
     "text": [
      " 80%|███████████████████████████████████████████████████████████████▊                | 649/814 [04:26<01:00,  2.75it/s]"
     ]
    },
    {
     "name": "stdout",
     "output_type": "stream",
     "text": [
      "lables [0]\n",
      "C:\\Users\\Sai Krishna\\Desktop\\Bird-Species-Classification-main 2\\Bird-Species-Classification-main\\archive\\train\\Northern Cardinal\\418321-1.wav\n",
      "C:\\Users\\Sai Krishna\\Desktop\\Bird-Species-Classification-main 2\\Bird-Species-Classification-main\\archive\\train\\Northern Cardinal\\418321-1.wav\n"
     ]
    },
    {
     "name": "stderr",
     "output_type": "stream",
     "text": [
      " 80%|███████████████████████████████████████████████████████████████▉                | 650/814 [04:26<00:59,  2.76it/s]"
     ]
    },
    {
     "name": "stdout",
     "output_type": "stream",
     "text": [
      "lables [2]\n",
      "C:\\Users\\Sai Krishna\\Desktop\\Bird-Species-Classification-main 2\\Bird-Species-Classification-main\\archive\\train\\American Robin\\138063-5.wav\n",
      "C:\\Users\\Sai Krishna\\Desktop\\Bird-Species-Classification-main 2\\Bird-Species-Classification-main\\archive\\train\\American Robin\\138063-5.wav\n"
     ]
    },
    {
     "name": "stderr",
     "output_type": "stream",
     "text": [
      " 80%|███████████████████████████████████████████████████████████████▉                | 651/814 [04:26<01:02,  2.61it/s]"
     ]
    },
    {
     "name": "stdout",
     "output_type": "stream",
     "text": [
      "lables [3]\n",
      "C:\\Users\\Sai Krishna\\Desktop\\Bird-Species-Classification-main 2\\Bird-Species-Classification-main\\archive\\train\\Northern Mockingbird\\538537-2.wav\n",
      "C:\\Users\\Sai Krishna\\Desktop\\Bird-Species-Classification-main 2\\Bird-Species-Classification-main\\archive\\train\\Northern Mockingbird\\538537-2.wav\n"
     ]
    },
    {
     "name": "stderr",
     "output_type": "stream",
     "text": [
      " 80%|████████████████████████████████████████████████████████████████                | 652/814 [04:27<01:04,  2.53it/s]"
     ]
    },
    {
     "name": "stdout",
     "output_type": "stream",
     "text": [
      "lables [1]\n",
      "C:\\Users\\Sai Krishna\\Desktop\\Bird-Species-Classification-main 2\\Bird-Species-Classification-main\\archive\\train\\American Robin\\129798-10.wav\n",
      "C:\\Users\\Sai Krishna\\Desktop\\Bird-Species-Classification-main 2\\Bird-Species-Classification-main\\archive\\train\\American Robin\\129798-10.wav\n"
     ]
    },
    {
     "name": "stderr",
     "output_type": "stream",
     "text": [
      " 80%|████████████████████████████████████████████████████████████████▏               | 653/814 [04:27<01:06,  2.43it/s]"
     ]
    },
    {
     "name": "stdout",
     "output_type": "stream",
     "text": [
      "lables [3]\n",
      "C:\\Users\\Sai Krishna\\Desktop\\Bird-Species-Classification-main 2\\Bird-Species-Classification-main\\archive\\train\\Northern Cardinal\\489169-11.wav\n",
      "C:\\Users\\Sai Krishna\\Desktop\\Bird-Species-Classification-main 2\\Bird-Species-Classification-main\\archive\\train\\Northern Cardinal\\489169-11.wav\n"
     ]
    },
    {
     "name": "stderr",
     "output_type": "stream",
     "text": [
      " 80%|████████████████████████████████████████████████████████████████▎               | 654/814 [04:28<01:07,  2.38it/s]"
     ]
    },
    {
     "name": "stdout",
     "output_type": "stream",
     "text": [
      "lables [2]\n",
      "C:\\Users\\Sai Krishna\\Desktop\\Bird-Species-Classification-main 2\\Bird-Species-Classification-main\\archive\\train\\Song Sparrow\\358837-4.wav\n",
      "C:\\Users\\Sai Krishna\\Desktop\\Bird-Species-Classification-main 2\\Bird-Species-Classification-main\\archive\\train\\Song Sparrow\\358837-4.wav\n"
     ]
    },
    {
     "name": "stderr",
     "output_type": "stream",
     "text": [
      " 80%|████████████████████████████████████████████████████████████████▎               | 655/814 [04:28<01:06,  2.38it/s]"
     ]
    },
    {
     "name": "stdout",
     "output_type": "stream",
     "text": [
      "lables [0]\n",
      "C:\\Users\\Sai Krishna\\Desktop\\Bird-Species-Classification-main 2\\Bird-Species-Classification-main\\archive\\train\\American Robin\\423449-6.wav\n",
      "C:\\Users\\Sai Krishna\\Desktop\\Bird-Species-Classification-main 2\\Bird-Species-Classification-main\\archive\\train\\American Robin\\423449-6.wav\n"
     ]
    },
    {
     "name": "stderr",
     "output_type": "stream",
     "text": [
      " 81%|████████████████████████████████████████████████████████████████▍               | 656/814 [04:29<01:07,  2.35it/s]"
     ]
    },
    {
     "name": "stdout",
     "output_type": "stream",
     "text": [
      "lables [3]\n",
      "C:\\Users\\Sai Krishna\\Desktop\\Bird-Species-Classification-main 2\\Bird-Species-Classification-main\\archive\\train\\Northern Cardinal\\460604-0.wav\n",
      "C:\\Users\\Sai Krishna\\Desktop\\Bird-Species-Classification-main 2\\Bird-Species-Classification-main\\archive\\train\\Northern Cardinal\\460604-0.wav\n"
     ]
    },
    {
     "name": "stderr",
     "output_type": "stream",
     "text": [
      " 81%|████████████████████████████████████████████████████████████████▌               | 657/814 [04:29<01:07,  2.34it/s]"
     ]
    },
    {
     "name": "stdout",
     "output_type": "stream",
     "text": [
      "lables [2]\n",
      "C:\\Users\\Sai Krishna\\Desktop\\Bird-Species-Classification-main 2\\Bird-Species-Classification-main\\archive\\train\\Northern Cardinal\\362753-4.wav\n",
      "C:\\Users\\Sai Krishna\\Desktop\\Bird-Species-Classification-main 2\\Bird-Species-Classification-main\\archive\\train\\Northern Cardinal\\362753-4.wav\n"
     ]
    },
    {
     "name": "stderr",
     "output_type": "stream",
     "text": [
      " 81%|████████████████████████████████████████████████████████████████▋               | 658/814 [04:29<01:06,  2.34it/s]"
     ]
    },
    {
     "name": "stdout",
     "output_type": "stream",
     "text": [
      "lables [2]\n",
      "C:\\Users\\Sai Krishna\\Desktop\\Bird-Species-Classification-main 2\\Bird-Species-Classification-main\\archive\\train\\Song Sparrow\\111668-5.wav\n",
      "C:\\Users\\Sai Krishna\\Desktop\\Bird-Species-Classification-main 2\\Bird-Species-Classification-main\\archive\\train\\Song Sparrow\\111668-5.wav\n"
     ]
    },
    {
     "name": "stderr",
     "output_type": "stream",
     "text": [
      " 81%|████████████████████████████████████████████████████████████████▊               | 659/814 [04:30<01:03,  2.43it/s]"
     ]
    },
    {
     "name": "stdout",
     "output_type": "stream",
     "text": [
      "lables [0]\n",
      "C:\\Users\\Sai Krishna\\Desktop\\Bird-Species-Classification-main 2\\Bird-Species-Classification-main\\archive\\train\\Bewick's Wren\\269166-3.wav\n",
      "C:\\Users\\Sai Krishna\\Desktop\\Bird-Species-Classification-main 2\\Bird-Species-Classification-main\\archive\\train\\Bewick's Wren\\269166-3.wav\n"
     ]
    },
    {
     "name": "stderr",
     "output_type": "stream",
     "text": [
      " 81%|████████████████████████████████████████████████████████████████▊               | 660/814 [04:30<01:00,  2.53it/s]"
     ]
    },
    {
     "name": "stdout",
     "output_type": "stream",
     "text": [
      "lables [4]\n",
      "C:\\Users\\Sai Krishna\\Desktop\\Bird-Species-Classification-main 2\\Bird-Species-Classification-main\\archive\\train\\Northern Mockingbird\\469896-2.wav\n",
      "C:\\Users\\Sai Krishna\\Desktop\\Bird-Species-Classification-main 2\\Bird-Species-Classification-main\\archive\\train\\Northern Mockingbird\\469896-2.wav\n"
     ]
    },
    {
     "name": "stderr",
     "output_type": "stream",
     "text": [
      " 81%|████████████████████████████████████████████████████████████████▉               | 661/814 [04:30<00:59,  2.58it/s]"
     ]
    },
    {
     "name": "stdout",
     "output_type": "stream",
     "text": [
      "lables [1]\n",
      "C:\\Users\\Sai Krishna\\Desktop\\Bird-Species-Classification-main 2\\Bird-Species-Classification-main\\archive\\train\\Bewick's Wren\\269166-13.wav\n",
      "C:\\Users\\Sai Krishna\\Desktop\\Bird-Species-Classification-main 2\\Bird-Species-Classification-main\\archive\\train\\Bewick's Wren\\269166-13.wav\n"
     ]
    },
    {
     "name": "stderr",
     "output_type": "stream",
     "text": [
      " 81%|█████████████████████████████████████████████████████████████████               | 662/814 [04:31<00:57,  2.66it/s]"
     ]
    },
    {
     "name": "stdout",
     "output_type": "stream",
     "text": [
      "lables [3]\n",
      "C:\\Users\\Sai Krishna\\Desktop\\Bird-Species-Classification-main 2\\Bird-Species-Classification-main\\archive\\train\\Northern Cardinal\\190526-5.wav\n",
      "C:\\Users\\Sai Krishna\\Desktop\\Bird-Species-Classification-main 2\\Bird-Species-Classification-main\\archive\\train\\Northern Cardinal\\190526-5.wav\n"
     ]
    },
    {
     "name": "stderr",
     "output_type": "stream",
     "text": [
      " 81%|█████████████████████████████████████████████████████████████████▏              | 663/814 [04:31<00:56,  2.69it/s]"
     ]
    },
    {
     "name": "stdout",
     "output_type": "stream",
     "text": [
      "lables [2]\n",
      "C:\\Users\\Sai Krishna\\Desktop\\Bird-Species-Classification-main 2\\Bird-Species-Classification-main\\archive\\train\\Northern Mockingbird\\57040-5.wav\n",
      "C:\\Users\\Sai Krishna\\Desktop\\Bird-Species-Classification-main 2\\Bird-Species-Classification-main\\archive\\train\\Northern Mockingbird\\57040-5.wav\n"
     ]
    },
    {
     "name": "stderr",
     "output_type": "stream",
     "text": [
      " 82%|█████████████████████████████████████████████████████████████████▎              | 664/814 [04:32<00:57,  2.63it/s]"
     ]
    },
    {
     "name": "stdout",
     "output_type": "stream",
     "text": [
      "lables [1]\n",
      "C:\\Users\\Sai Krishna\\Desktop\\Bird-Species-Classification-main 2\\Bird-Species-Classification-main\\archive\\train\\American Robin\\394835-10.wav\n",
      "C:\\Users\\Sai Krishna\\Desktop\\Bird-Species-Classification-main 2\\Bird-Species-Classification-main\\archive\\train\\American Robin\\394835-10.wav\n"
     ]
    },
    {
     "name": "stderr",
     "output_type": "stream",
     "text": [
      " 82%|█████████████████████████████████████████████████████████████████▎              | 665/814 [04:32<00:56,  2.62it/s]"
     ]
    },
    {
     "name": "stdout",
     "output_type": "stream",
     "text": [
      "lables [3]\n",
      "C:\\Users\\Sai Krishna\\Desktop\\Bird-Species-Classification-main 2\\Bird-Species-Classification-main\\archive\\train\\Song Sparrow\\111671-7.wav\n",
      "C:\\Users\\Sai Krishna\\Desktop\\Bird-Species-Classification-main 2\\Bird-Species-Classification-main\\archive\\train\\Song Sparrow\\111671-7.wav\n"
     ]
    },
    {
     "name": "stderr",
     "output_type": "stream",
     "text": [
      " 82%|█████████████████████████████████████████████████████████████████▍              | 666/814 [04:32<00:59,  2.49it/s]"
     ]
    },
    {
     "name": "stdout",
     "output_type": "stream",
     "text": [
      "lables [0]\n",
      "C:\\Users\\Sai Krishna\\Desktop\\Bird-Species-Classification-main 2\\Bird-Species-Classification-main\\archive\\train\\Northern Cardinal\\165345-4.wav\n",
      "C:\\Users\\Sai Krishna\\Desktop\\Bird-Species-Classification-main 2\\Bird-Species-Classification-main\\archive\\train\\Northern Cardinal\\165345-4.wav\n"
     ]
    },
    {
     "name": "stderr",
     "output_type": "stream",
     "text": [
      " 82%|█████████████████████████████████████████████████████████████████▌              | 667/814 [04:33<01:00,  2.42it/s]"
     ]
    },
    {
     "name": "stdout",
     "output_type": "stream",
     "text": [
      "lables [2]\n",
      "C:\\Users\\Sai Krishna\\Desktop\\Bird-Species-Classification-main 2\\Bird-Species-Classification-main\\archive\\train\\Bewick's Wren\\332644-13.wav\n",
      "C:\\Users\\Sai Krishna\\Desktop\\Bird-Species-Classification-main 2\\Bird-Species-Classification-main\\archive\\train\\Bewick's Wren\\332644-13.wav\n"
     ]
    },
    {
     "name": "stderr",
     "output_type": "stream",
     "text": [
      " 82%|█████████████████████████████████████████████████████████████████▋              | 668/814 [04:33<01:01,  2.39it/s]"
     ]
    },
    {
     "name": "stdout",
     "output_type": "stream",
     "text": [
      "lables [4]\n",
      "C:\\Users\\Sai Krishna\\Desktop\\Bird-Species-Classification-main 2\\Bird-Species-Classification-main\\archive\\train\\American Robin\\407819-2.wav\n",
      "C:\\Users\\Sai Krishna\\Desktop\\Bird-Species-Classification-main 2\\Bird-Species-Classification-main\\archive\\train\\American Robin\\407819-2.wav\n"
     ]
    },
    {
     "name": "stderr",
     "output_type": "stream",
     "text": [
      " 82%|█████████████████████████████████████████████████████████████████▋              | 669/814 [04:34<01:00,  2.39it/s]"
     ]
    },
    {
     "name": "stdout",
     "output_type": "stream",
     "text": [
      "lables [3]\n",
      "C:\\Users\\Sai Krishna\\Desktop\\Bird-Species-Classification-main 2\\Bird-Species-Classification-main\\archive\\train\\Song Sparrow\\78059-0.wav\n",
      "C:\\Users\\Sai Krishna\\Desktop\\Bird-Species-Classification-main 2\\Bird-Species-Classification-main\\archive\\train\\Song Sparrow\\78059-0.wav\n"
     ]
    },
    {
     "name": "stderr",
     "output_type": "stream",
     "text": [
      " 82%|█████████████████████████████████████████████████████████████████▊              | 670/814 [04:34<01:00,  2.37it/s]"
     ]
    },
    {
     "name": "stdout",
     "output_type": "stream",
     "text": [
      "lables [0]\n",
      "C:\\Users\\Sai Krishna\\Desktop\\Bird-Species-Classification-main 2\\Bird-Species-Classification-main\\archive\\train\\American Robin\\351861-6.wav\n",
      "C:\\Users\\Sai Krishna\\Desktop\\Bird-Species-Classification-main 2\\Bird-Species-Classification-main\\archive\\train\\American Robin\\351861-6.wav\n"
     ]
    },
    {
     "name": "stderr",
     "output_type": "stream",
     "text": [
      " 82%|█████████████████████████████████████████████████████████████████▉              | 671/814 [04:35<01:01,  2.31it/s]"
     ]
    },
    {
     "name": "stdout",
     "output_type": "stream",
     "text": [
      "lables [3]\n",
      "C:\\Users\\Sai Krishna\\Desktop\\Bird-Species-Classification-main 2\\Bird-Species-Classification-main\\archive\\train\\Song Sparrow\\111671-3.wav\n",
      "C:\\Users\\Sai Krishna\\Desktop\\Bird-Species-Classification-main 2\\Bird-Species-Classification-main\\archive\\train\\Song Sparrow\\111671-3.wav\n"
     ]
    },
    {
     "name": "stderr",
     "output_type": "stream",
     "text": [
      " 83%|██████████████████████████████████████████████████████████████████              | 672/814 [04:35<01:00,  2.33it/s]"
     ]
    },
    {
     "name": "stdout",
     "output_type": "stream",
     "text": [
      "lables [0]\n",
      "C:\\Users\\Sai Krishna\\Desktop\\Bird-Species-Classification-main 2\\Bird-Species-Classification-main\\archive\\train\\Northern Mockingbird\\537579-9.wav\n",
      "C:\\Users\\Sai Krishna\\Desktop\\Bird-Species-Classification-main 2\\Bird-Species-Classification-main\\archive\\train\\Northern Mockingbird\\537579-9.wav\n"
     ]
    },
    {
     "name": "stderr",
     "output_type": "stream",
     "text": [
      " 83%|██████████████████████████████████████████████████████████████████▏             | 673/814 [04:35<01:00,  2.33it/s]"
     ]
    },
    {
     "name": "stdout",
     "output_type": "stream",
     "text": [
      "lables [1]\n",
      "C:\\Users\\Sai Krishna\\Desktop\\Bird-Species-Classification-main 2\\Bird-Species-Classification-main\\archive\\train\\Song Sparrow\\103339-6.wav\n",
      "C:\\Users\\Sai Krishna\\Desktop\\Bird-Species-Classification-main 2\\Bird-Species-Classification-main\\archive\\train\\Song Sparrow\\103339-6.wav\n"
     ]
    },
    {
     "name": "stderr",
     "output_type": "stream",
     "text": [
      " 83%|██████████████████████████████████████████████████████████████████▏             | 674/814 [04:36<00:59,  2.34it/s]"
     ]
    },
    {
     "name": "stdout",
     "output_type": "stream",
     "text": [
      "lables [0]\n",
      "C:\\Users\\Sai Krishna\\Desktop\\Bird-Species-Classification-main 2\\Bird-Species-Classification-main\\archive\\train\\American Robin\\368614-1.wav\n",
      "C:\\Users\\Sai Krishna\\Desktop\\Bird-Species-Classification-main 2\\Bird-Species-Classification-main\\archive\\train\\American Robin\\368614-1.wav\n"
     ]
    },
    {
     "name": "stderr",
     "output_type": "stream",
     "text": [
      " 83%|██████████████████████████████████████████████████████████████████▎             | 675/814 [04:36<00:59,  2.35it/s]"
     ]
    },
    {
     "name": "stdout",
     "output_type": "stream",
     "text": [
      "lables [3]\n",
      "C:\\Users\\Sai Krishna\\Desktop\\Bird-Species-Classification-main 2\\Bird-Species-Classification-main\\archive\\train\\Song Sparrow\\62782-6.wav\n",
      "C:\\Users\\Sai Krishna\\Desktop\\Bird-Species-Classification-main 2\\Bird-Species-Classification-main\\archive\\train\\Song Sparrow\\62782-6.wav\n"
     ]
    },
    {
     "name": "stderr",
     "output_type": "stream",
     "text": [
      " 83%|██████████████████████████████████████████████████████████████████▍             | 676/814 [04:37<00:59,  2.33it/s]"
     ]
    },
    {
     "name": "stdout",
     "output_type": "stream",
     "text": [
      "lables [0]\n",
      "C:\\Users\\Sai Krishna\\Desktop\\Bird-Species-Classification-main 2\\Bird-Species-Classification-main\\archive\\train\\American Robin\\483578-11.wav\n",
      "C:\\Users\\Sai Krishna\\Desktop\\Bird-Species-Classification-main 2\\Bird-Species-Classification-main\\archive\\train\\American Robin\\483578-11.wav\n"
     ]
    },
    {
     "name": "stderr",
     "output_type": "stream",
     "text": [
      " 83%|██████████████████████████████████████████████████████████████████▌             | 677/814 [04:37<00:58,  2.36it/s]"
     ]
    },
    {
     "name": "stdout",
     "output_type": "stream",
     "text": [
      "lables [3]\n",
      "C:\\Users\\Sai Krishna\\Desktop\\Bird-Species-Classification-main 2\\Bird-Species-Classification-main\\archive\\train\\Northern Mockingbird\\139965-1.wav\n",
      "C:\\Users\\Sai Krishna\\Desktop\\Bird-Species-Classification-main 2\\Bird-Species-Classification-main\\archive\\train\\Northern Mockingbird\\139965-1.wav\n"
     ]
    },
    {
     "name": "stderr",
     "output_type": "stream",
     "text": [
      " 83%|██████████████████████████████████████████████████████████████████▋             | 678/814 [04:38<00:54,  2.49it/s]"
     ]
    },
    {
     "name": "stdout",
     "output_type": "stream",
     "text": [
      "lables [1]\n",
      "C:\\Users\\Sai Krishna\\Desktop\\Bird-Species-Classification-main 2\\Bird-Species-Classification-main\\archive\\train\\Song Sparrow\\408127-6.wav\n",
      "C:\\Users\\Sai Krishna\\Desktop\\Bird-Species-Classification-main 2\\Bird-Species-Classification-main\\archive\\train\\Song Sparrow\\408127-6.wav\n"
     ]
    },
    {
     "name": "stderr",
     "output_type": "stream",
     "text": [
      " 83%|██████████████████████████████████████████████████████████████████▋             | 679/814 [04:38<01:11,  1.90it/s]"
     ]
    },
    {
     "name": "stdout",
     "output_type": "stream",
     "text": [
      "lables [4]\n",
      "C:\\Users\\Sai Krishna\\Desktop\\Bird-Species-Classification-main 2\\Bird-Species-Classification-main\\archive\\train\\Northern Cardinal\\71208-10.wav\n",
      "C:\\Users\\Sai Krishna\\Desktop\\Bird-Species-Classification-main 2\\Bird-Species-Classification-main\\archive\\train\\Northern Cardinal\\71208-10.wav\n"
     ]
    },
    {
     "name": "stderr",
     "output_type": "stream",
     "text": [
      " 84%|██████████████████████████████████████████████████████████████████▊             | 680/814 [04:39<01:03,  2.11it/s]"
     ]
    },
    {
     "name": "stdout",
     "output_type": "stream",
     "text": [
      "lables [2]\n",
      "C:\\Users\\Sai Krishna\\Desktop\\Bird-Species-Classification-main 2\\Bird-Species-Classification-main\\archive\\train\\Northern Mockingbird\\54018-2.wav\n",
      "C:\\Users\\Sai Krishna\\Desktop\\Bird-Species-Classification-main 2\\Bird-Species-Classification-main\\archive\\train\\Northern Mockingbird\\54018-2.wav\n"
     ]
    },
    {
     "name": "stderr",
     "output_type": "stream",
     "text": [
      " 84%|██████████████████████████████████████████████████████████████████▉             | 681/814 [04:39<00:59,  2.24it/s]"
     ]
    },
    {
     "name": "stdout",
     "output_type": "stream",
     "text": [
      "lables [1]\n",
      "C:\\Users\\Sai Krishna\\Desktop\\Bird-Species-Classification-main 2\\Bird-Species-Classification-main\\archive\\train\\Northern Cardinal\\363861-17.wav\n",
      "C:\\Users\\Sai Krishna\\Desktop\\Bird-Species-Classification-main 2\\Bird-Species-Classification-main\\archive\\train\\Northern Cardinal\\363861-17.wav\n"
     ]
    },
    {
     "name": "stderr",
     "output_type": "stream",
     "text": [
      " 84%|███████████████████████████████████████████████████████████████████             | 682/814 [04:39<00:56,  2.34it/s]"
     ]
    },
    {
     "name": "stdout",
     "output_type": "stream",
     "text": [
      "lables [2]\n",
      "C:\\Users\\Sai Krishna\\Desktop\\Bird-Species-Classification-main 2\\Bird-Species-Classification-main\\archive\\train\\Song Sparrow\\429249-4.wav\n",
      "C:\\Users\\Sai Krishna\\Desktop\\Bird-Species-Classification-main 2\\Bird-Species-Classification-main\\archive\\train\\Song Sparrow\\429249-4.wav\n"
     ]
    },
    {
     "name": "stderr",
     "output_type": "stream",
     "text": [
      " 84%|███████████████████████████████████████████████████████████████████▏            | 683/814 [04:40<00:53,  2.46it/s]"
     ]
    },
    {
     "name": "stdout",
     "output_type": "stream",
     "text": [
      "lables [0]\n",
      "C:\\Users\\Sai Krishna\\Desktop\\Bird-Species-Classification-main 2\\Bird-Species-Classification-main\\archive\\train\\Bewick's Wren\\408558-8.wav\n",
      "C:\\Users\\Sai Krishna\\Desktop\\Bird-Species-Classification-main 2\\Bird-Species-Classification-main\\archive\\train\\Bewick's Wren\\408558-8.wav\n"
     ]
    },
    {
     "name": "stderr",
     "output_type": "stream",
     "text": [
      " 84%|███████████████████████████████████████████████████████████████████▏            | 684/814 [04:40<00:51,  2.55it/s]"
     ]
    },
    {
     "name": "stdout",
     "output_type": "stream",
     "text": [
      "lables [4]\n",
      "C:\\Users\\Sai Krishna\\Desktop\\Bird-Species-Classification-main 2\\Bird-Species-Classification-main\\archive\\train\\Northern Mockingbird\\541426-14.wav\n",
      "C:\\Users\\Sai Krishna\\Desktop\\Bird-Species-Classification-main 2\\Bird-Species-Classification-main\\archive\\train\\Northern Mockingbird\\541426-14.wav\n"
     ]
    },
    {
     "name": "stderr",
     "output_type": "stream",
     "text": [
      " 84%|███████████████████████████████████████████████████████████████████▎            | 685/814 [04:41<00:49,  2.62it/s]"
     ]
    },
    {
     "name": "stdout",
     "output_type": "stream",
     "text": [
      "lables [4]\n",
      "C:\\Users\\Sai Krishna\\Desktop\\Bird-Species-Classification-main 2\\Bird-Species-Classification-main\\archive\\train\\Northern Mockingbird\\469896-12.wav\n",
      "C:\\Users\\Sai Krishna\\Desktop\\Bird-Species-Classification-main 2\\Bird-Species-Classification-main\\archive\\train\\Northern Mockingbird\\469896-12.wav\n"
     ]
    },
    {
     "name": "stderr",
     "output_type": "stream",
     "text": [
      " 84%|███████████████████████████████████████████████████████████████████▍            | 686/814 [04:41<00:48,  2.63it/s]"
     ]
    },
    {
     "name": "stdout",
     "output_type": "stream",
     "text": [
      "lables [1]\n",
      "C:\\Users\\Sai Krishna\\Desktop\\Bird-Species-Classification-main 2\\Bird-Species-Classification-main\\archive\\train\\Northern Mockingbird\\537579-8.wav\n",
      "C:\\Users\\Sai Krishna\\Desktop\\Bird-Species-Classification-main 2\\Bird-Species-Classification-main\\archive\\train\\Northern Mockingbird\\537579-8.wav\n"
     ]
    },
    {
     "name": "stderr",
     "output_type": "stream",
     "text": [
      " 84%|███████████████████████████████████████████████████████████████████▌            | 687/814 [04:41<00:47,  2.65it/s]"
     ]
    },
    {
     "name": "stdout",
     "output_type": "stream",
     "text": [
      "lables [1]\n",
      "C:\\Users\\Sai Krishna\\Desktop\\Bird-Species-Classification-main 2\\Bird-Species-Classification-main\\archive\\train\\Bewick's Wren\\451298-6.wav\n",
      "C:\\Users\\Sai Krishna\\Desktop\\Bird-Species-Classification-main 2\\Bird-Species-Classification-main\\archive\\train\\Bewick's Wren\\451298-6.wav\n"
     ]
    },
    {
     "name": "stderr",
     "output_type": "stream",
     "text": [
      " 85%|███████████████████████████████████████████████████████████████████▌            | 688/814 [04:42<00:48,  2.59it/s]"
     ]
    },
    {
     "name": "stdout",
     "output_type": "stream",
     "text": [
      "lables [4]\n",
      "C:\\Users\\Sai Krishna\\Desktop\\Bird-Species-Classification-main 2\\Bird-Species-Classification-main\\archive\\train\\Song Sparrow\\128238-8.wav\n",
      "C:\\Users\\Sai Krishna\\Desktop\\Bird-Species-Classification-main 2\\Bird-Species-Classification-main\\archive\\train\\Song Sparrow\\128238-8.wav\n"
     ]
    },
    {
     "name": "stderr",
     "output_type": "stream",
     "text": [
      " 85%|███████████████████████████████████████████████████████████████████▋            | 689/814 [04:42<00:50,  2.49it/s]"
     ]
    },
    {
     "name": "stdout",
     "output_type": "stream",
     "text": [
      "lables [0]\n",
      "C:\\Users\\Sai Krishna\\Desktop\\Bird-Species-Classification-main 2\\Bird-Species-Classification-main\\archive\\train\\Northern Mockingbird\\321906-6.wav\n",
      "C:\\Users\\Sai Krishna\\Desktop\\Bird-Species-Classification-main 2\\Bird-Species-Classification-main\\archive\\train\\Northern Mockingbird\\321906-6.wav\n"
     ]
    },
    {
     "name": "stderr",
     "output_type": "stream",
     "text": [
      " 85%|███████████████████████████████████████████████████████████████████▊            | 690/814 [04:43<00:50,  2.44it/s]"
     ]
    },
    {
     "name": "stdout",
     "output_type": "stream",
     "text": [
      "lables [1]\n",
      "C:\\Users\\Sai Krishna\\Desktop\\Bird-Species-Classification-main 2\\Bird-Species-Classification-main\\archive\\train\\Northern Cardinal\\412669-2.wav\n",
      "C:\\Users\\Sai Krishna\\Desktop\\Bird-Species-Classification-main 2\\Bird-Species-Classification-main\\archive\\train\\Northern Cardinal\\412669-2.wav\n"
     ]
    },
    {
     "name": "stderr",
     "output_type": "stream",
     "text": [
      " 85%|███████████████████████████████████████████████████████████████████▉            | 691/814 [04:43<00:51,  2.37it/s]"
     ]
    },
    {
     "name": "stdout",
     "output_type": "stream",
     "text": [
      "lables [2]\n",
      "C:\\Users\\Sai Krishna\\Desktop\\Bird-Species-Classification-main 2\\Bird-Species-Classification-main\\archive\\train\\Northern Mockingbird\\14213-15.wav\n",
      "C:\\Users\\Sai Krishna\\Desktop\\Bird-Species-Classification-main 2\\Bird-Species-Classification-main\\archive\\train\\Northern Mockingbird\\14213-15.wav\n"
     ]
    },
    {
     "name": "stderr",
     "output_type": "stream",
     "text": [
      " 85%|████████████████████████████████████████████████████████████████████            | 692/814 [04:43<00:51,  2.35it/s]"
     ]
    },
    {
     "name": "stdout",
     "output_type": "stream",
     "text": [
      "lables [1]\n",
      "C:\\Users\\Sai Krishna\\Desktop\\Bird-Species-Classification-main 2\\Bird-Species-Classification-main\\archive\\train\\Northern Cardinal\\317502-0.wav\n",
      "C:\\Users\\Sai Krishna\\Desktop\\Bird-Species-Classification-main 2\\Bird-Species-Classification-main\\archive\\train\\Northern Cardinal\\317502-0.wav\n"
     ]
    },
    {
     "name": "stderr",
     "output_type": "stream",
     "text": [
      " 85%|████████████████████████████████████████████████████████████████████            | 693/814 [04:44<00:51,  2.35it/s]"
     ]
    },
    {
     "name": "stdout",
     "output_type": "stream",
     "text": [
      "lables [2]\n",
      "C:\\Users\\Sai Krishna\\Desktop\\Bird-Species-Classification-main 2\\Bird-Species-Classification-main\\archive\\train\\Bewick's Wren\\325137-6.wav\n",
      "C:\\Users\\Sai Krishna\\Desktop\\Bird-Species-Classification-main 2\\Bird-Species-Classification-main\\archive\\train\\Bewick's Wren\\325137-6.wav\n"
     ]
    },
    {
     "name": "stderr",
     "output_type": "stream",
     "text": [
      " 85%|████████████████████████████████████████████████████████████████████▏           | 694/814 [04:44<00:51,  2.33it/s]"
     ]
    },
    {
     "name": "stdout",
     "output_type": "stream",
     "text": [
      "lables [4]\n",
      "C:\\Users\\Sai Krishna\\Desktop\\Bird-Species-Classification-main 2\\Bird-Species-Classification-main\\archive\\train\\Song Sparrow\\111668-10.wav\n",
      "C:\\Users\\Sai Krishna\\Desktop\\Bird-Species-Classification-main 2\\Bird-Species-Classification-main\\archive\\train\\Song Sparrow\\111668-10.wav\n"
     ]
    },
    {
     "name": "stderr",
     "output_type": "stream",
     "text": [
      " 85%|████████████████████████████████████████████████████████████████████▎           | 695/814 [04:45<00:50,  2.33it/s]"
     ]
    },
    {
     "name": "stdout",
     "output_type": "stream",
     "text": [
      "lables [0]\n",
      "C:\\Users\\Sai Krishna\\Desktop\\Bird-Species-Classification-main 2\\Bird-Species-Classification-main\\archive\\train\\Northern Mockingbird\\321906-4.wav\n",
      "C:\\Users\\Sai Krishna\\Desktop\\Bird-Species-Classification-main 2\\Bird-Species-Classification-main\\archive\\train\\Northern Mockingbird\\321906-4.wav\n"
     ]
    },
    {
     "name": "stderr",
     "output_type": "stream",
     "text": [
      " 86%|████████████████████████████████████████████████████████████████████▍           | 696/814 [04:45<00:50,  2.33it/s]"
     ]
    },
    {
     "name": "stdout",
     "output_type": "stream",
     "text": [
      "lables [1]\n",
      "C:\\Users\\Sai Krishna\\Desktop\\Bird-Species-Classification-main 2\\Bird-Species-Classification-main\\archive\\train\\Bewick's Wren\\205433-3.wav\n",
      "C:\\Users\\Sai Krishna\\Desktop\\Bird-Species-Classification-main 2\\Bird-Species-Classification-main\\archive\\train\\Bewick's Wren\\205433-3.wav\n"
     ]
    },
    {
     "name": "stderr",
     "output_type": "stream",
     "text": [
      " 86%|████████████████████████████████████████████████████████████████████▌           | 697/814 [04:46<00:49,  2.34it/s]"
     ]
    },
    {
     "name": "stdout",
     "output_type": "stream",
     "text": [
      "lables [4]\n",
      "C:\\Users\\Sai Krishna\\Desktop\\Bird-Species-Classification-main 2\\Bird-Species-Classification-main\\archive\\train\\Northern Mockingbird\\321914-3.wav\n",
      "C:\\Users\\Sai Krishna\\Desktop\\Bird-Species-Classification-main 2\\Bird-Species-Classification-main\\archive\\train\\Northern Mockingbird\\321914-3.wav\n"
     ]
    },
    {
     "name": "stderr",
     "output_type": "stream",
     "text": [
      " 86%|████████████████████████████████████████████████████████████████████▌           | 698/814 [04:46<00:49,  2.35it/s]"
     ]
    },
    {
     "name": "stdout",
     "output_type": "stream",
     "text": [
      "lables [1]\n",
      "C:\\Users\\Sai Krishna\\Desktop\\Bird-Species-Classification-main 2\\Bird-Species-Classification-main\\archive\\train\\Northern Mockingbird\\499260-11.wav\n",
      "C:\\Users\\Sai Krishna\\Desktop\\Bird-Species-Classification-main 2\\Bird-Species-Classification-main\\archive\\train\\Northern Mockingbird\\499260-11.wav\n"
     ]
    },
    {
     "name": "stderr",
     "output_type": "stream",
     "text": [
      " 86%|████████████████████████████████████████████████████████████████████▋           | 699/814 [04:46<00:48,  2.36it/s]"
     ]
    },
    {
     "name": "stdout",
     "output_type": "stream",
     "text": [
      "lables [1]\n",
      "C:\\Users\\Sai Krishna\\Desktop\\Bird-Species-Classification-main 2\\Bird-Species-Classification-main\\archive\\train\\American Robin\\129798-13.wav\n",
      "C:\\Users\\Sai Krishna\\Desktop\\Bird-Species-Classification-main 2\\Bird-Species-Classification-main\\archive\\train\\American Robin\\129798-13.wav\n"
     ]
    },
    {
     "name": "stderr",
     "output_type": "stream",
     "text": [
      " 86%|████████████████████████████████████████████████████████████████████▊           | 700/814 [04:47<00:48,  2.35it/s]"
     ]
    },
    {
     "name": "stdout",
     "output_type": "stream",
     "text": [
      "lables [3]\n",
      "C:\\Users\\Sai Krishna\\Desktop\\Bird-Species-Classification-main 2\\Bird-Species-Classification-main\\archive\\train\\Northern Mockingbird\\13610-6.wav\n",
      "C:\\Users\\Sai Krishna\\Desktop\\Bird-Species-Classification-main 2\\Bird-Species-Classification-main\\archive\\train\\Northern Mockingbird\\13610-6.wav\n"
     ]
    },
    {
     "name": "stderr",
     "output_type": "stream",
     "text": [
      " 86%|████████████████████████████████████████████████████████████████████▉           | 701/814 [04:47<00:47,  2.36it/s]"
     ]
    },
    {
     "name": "stdout",
     "output_type": "stream",
     "text": [
      "lables [1]\n",
      "C:\\Users\\Sai Krishna\\Desktop\\Bird-Species-Classification-main 2\\Bird-Species-Classification-main\\archive\\train\\Song Sparrow\\111649-13.wav\n",
      "C:\\Users\\Sai Krishna\\Desktop\\Bird-Species-Classification-main 2\\Bird-Species-Classification-main\\archive\\train\\Song Sparrow\\111649-13.wav\n"
     ]
    },
    {
     "name": "stderr",
     "output_type": "stream",
     "text": [
      " 86%|████████████████████████████████████████████████████████████████████▉           | 702/814 [04:48<00:47,  2.36it/s]"
     ]
    },
    {
     "name": "stdout",
     "output_type": "stream",
     "text": [
      "lables [0]\n",
      "C:\\Users\\Sai Krishna\\Desktop\\Bird-Species-Classification-main 2\\Bird-Species-Classification-main\\archive\\train\\American Robin\\190473-12.wav\n",
      "C:\\Users\\Sai Krishna\\Desktop\\Bird-Species-Classification-main 2\\Bird-Species-Classification-main\\archive\\train\\American Robin\\190473-12.wav\n"
     ]
    },
    {
     "name": "stderr",
     "output_type": "stream",
     "text": [
      " 86%|█████████████████████████████████████████████████████████████████████           | 703/814 [04:48<00:44,  2.51it/s]"
     ]
    },
    {
     "name": "stdout",
     "output_type": "stream",
     "text": [
      "lables [3]\n",
      "C:\\Users\\Sai Krishna\\Desktop\\Bird-Species-Classification-main 2\\Bird-Species-Classification-main\\archive\\train\\American Robin\\368614-5.wav\n",
      "C:\\Users\\Sai Krishna\\Desktop\\Bird-Species-Classification-main 2\\Bird-Species-Classification-main\\archive\\train\\American Robin\\368614-5.wav\n"
     ]
    },
    {
     "name": "stderr",
     "output_type": "stream",
     "text": [
      " 86%|█████████████████████████████████████████████████████████████████████▏          | 704/814 [04:48<00:42,  2.60it/s]"
     ]
    },
    {
     "name": "stdout",
     "output_type": "stream",
     "text": [
      "lables [3]\n",
      "C:\\Users\\Sai Krishna\\Desktop\\Bird-Species-Classification-main 2\\Bird-Species-Classification-main\\archive\\train\\Bewick's Wren\\351093-1.wav\n",
      "C:\\Users\\Sai Krishna\\Desktop\\Bird-Species-Classification-main 2\\Bird-Species-Classification-main\\archive\\train\\Bewick's Wren\\351093-1.wav\n"
     ]
    },
    {
     "name": "stderr",
     "output_type": "stream",
     "text": [
      " 87%|█████████████████████████████████████████████████████████████████████▎          | 705/814 [04:49<00:40,  2.69it/s]"
     ]
    },
    {
     "name": "stdout",
     "output_type": "stream",
     "text": [
      "lables [4]\n",
      "C:\\Users\\Sai Krishna\\Desktop\\Bird-Species-Classification-main 2\\Bird-Species-Classification-main\\archive\\train\\Northern Mockingbird\\357031-7.wav\n",
      "C:\\Users\\Sai Krishna\\Desktop\\Bird-Species-Classification-main 2\\Bird-Species-Classification-main\\archive\\train\\Northern Mockingbird\\357031-7.wav\n"
     ]
    },
    {
     "name": "stderr",
     "output_type": "stream",
     "text": [
      " 87%|█████████████████████████████████████████████████████████████████████▍          | 706/814 [04:49<00:39,  2.75it/s]"
     ]
    },
    {
     "name": "stdout",
     "output_type": "stream",
     "text": [
      "lables [3]\n",
      "C:\\Users\\Sai Krishna\\Desktop\\Bird-Species-Classification-main 2\\Bird-Species-Classification-main\\archive\\train\\Song Sparrow\\408571-9.wav\n",
      "C:\\Users\\Sai Krishna\\Desktop\\Bird-Species-Classification-main 2\\Bird-Species-Classification-main\\archive\\train\\Song Sparrow\\408571-9.wav\n"
     ]
    },
    {
     "name": "stderr",
     "output_type": "stream",
     "text": [
      " 87%|█████████████████████████████████████████████████████████████████████▍          | 707/814 [04:49<00:37,  2.82it/s]"
     ]
    },
    {
     "name": "stdout",
     "output_type": "stream",
     "text": [
      "lables [0]\n",
      "C:\\Users\\Sai Krishna\\Desktop\\Bird-Species-Classification-main 2\\Bird-Species-Classification-main\\archive\\train\\Northern Cardinal\\18344-10.wav\n",
      "C:\\Users\\Sai Krishna\\Desktop\\Bird-Species-Classification-main 2\\Bird-Species-Classification-main\\archive\\train\\Northern Cardinal\\18344-10.wav\n"
     ]
    },
    {
     "name": "stderr",
     "output_type": "stream",
     "text": [
      " 87%|█████████████████████████████████████████████████████████████████████▌          | 708/814 [04:50<00:37,  2.80it/s]"
     ]
    },
    {
     "name": "stdout",
     "output_type": "stream",
     "text": [
      "lables [2]\n",
      "C:\\Users\\Sai Krishna\\Desktop\\Bird-Species-Classification-main 2\\Bird-Species-Classification-main\\archive\\train\\Song Sparrow\\363141-6.wav\n",
      "C:\\Users\\Sai Krishna\\Desktop\\Bird-Species-Classification-main 2\\Bird-Species-Classification-main\\archive\\train\\Song Sparrow\\363141-6.wav\n"
     ]
    },
    {
     "name": "stderr",
     "output_type": "stream",
     "text": [
      " 87%|█████████████████████████████████████████████████████████████████████▋          | 709/814 [04:50<00:37,  2.79it/s]"
     ]
    },
    {
     "name": "stdout",
     "output_type": "stream",
     "text": [
      "lables [0]\n",
      "C:\\Users\\Sai Krishna\\Desktop\\Bird-Species-Classification-main 2\\Bird-Species-Classification-main\\archive\\train\\Northern Cardinal\\412669-6.wav\n",
      "C:\\Users\\Sai Krishna\\Desktop\\Bird-Species-Classification-main 2\\Bird-Species-Classification-main\\archive\\train\\Northern Cardinal\\412669-6.wav\n"
     ]
    },
    {
     "name": "stderr",
     "output_type": "stream",
     "text": [
      " 87%|█████████████████████████████████████████████████████████████████████▊          | 710/814 [04:50<00:37,  2.77it/s]"
     ]
    },
    {
     "name": "stdout",
     "output_type": "stream",
     "text": [
      "lables [2]\n",
      "C:\\Users\\Sai Krishna\\Desktop\\Bird-Species-Classification-main 2\\Bird-Species-Classification-main\\archive\\train\\American Robin\\368615-12.wav\n",
      "C:\\Users\\Sai Krishna\\Desktop\\Bird-Species-Classification-main 2\\Bird-Species-Classification-main\\archive\\train\\American Robin\\368615-12.wav\n"
     ]
    },
    {
     "name": "stderr",
     "output_type": "stream",
     "text": [
      " 87%|█████████████████████████████████████████████████████████████████████▉          | 711/814 [04:51<00:37,  2.76it/s]"
     ]
    },
    {
     "name": "stdout",
     "output_type": "stream",
     "text": [
      "lables [3]\n",
      "C:\\Users\\Sai Krishna\\Desktop\\Bird-Species-Classification-main 2\\Bird-Species-Classification-main\\archive\\train\\Song Sparrow\\125706-5.wav\n",
      "C:\\Users\\Sai Krishna\\Desktop\\Bird-Species-Classification-main 2\\Bird-Species-Classification-main\\archive\\train\\Song Sparrow\\125706-5.wav\n"
     ]
    },
    {
     "name": "stderr",
     "output_type": "stream",
     "text": [
      " 87%|█████████████████████████████████████████████████████████████████████▉          | 712/814 [04:51<00:37,  2.71it/s]"
     ]
    },
    {
     "name": "stdout",
     "output_type": "stream",
     "text": [
      "lables [0]\n",
      "C:\\Users\\Sai Krishna\\Desktop\\Bird-Species-Classification-main 2\\Bird-Species-Classification-main\\archive\\train\\Bewick's Wren\\237263-10.wav\n",
      "C:\\Users\\Sai Krishna\\Desktop\\Bird-Species-Classification-main 2\\Bird-Species-Classification-main\\archive\\train\\Bewick's Wren\\237263-10.wav\n"
     ]
    },
    {
     "name": "stderr",
     "output_type": "stream",
     "text": [
      " 88%|██████████████████████████████████████████████████████████████████████          | 713/814 [04:52<00:37,  2.69it/s]"
     ]
    },
    {
     "name": "stdout",
     "output_type": "stream",
     "text": [
      "lables [4]\n",
      "C:\\Users\\Sai Krishna\\Desktop\\Bird-Species-Classification-main 2\\Bird-Species-Classification-main\\archive\\train\\Northern Cardinal\\196163-9.wav\n",
      "C:\\Users\\Sai Krishna\\Desktop\\Bird-Species-Classification-main 2\\Bird-Species-Classification-main\\archive\\train\\Northern Cardinal\\196163-9.wav\n"
     ]
    },
    {
     "name": "stderr",
     "output_type": "stream",
     "text": [
      " 88%|██████████████████████████████████████████████████████████████████████▏         | 714/814 [04:52<00:39,  2.55it/s]"
     ]
    },
    {
     "name": "stdout",
     "output_type": "stream",
     "text": [
      "lables [2]\n",
      "C:\\Users\\Sai Krishna\\Desktop\\Bird-Species-Classification-main 2\\Bird-Species-Classification-main\\archive\\train\\Northern Mockingbird\\312453-2.wav\n",
      "C:\\Users\\Sai Krishna\\Desktop\\Bird-Species-Classification-main 2\\Bird-Species-Classification-main\\archive\\train\\Northern Mockingbird\\312453-2.wav\n"
     ]
    },
    {
     "name": "stderr",
     "output_type": "stream",
     "text": [
      " 88%|██████████████████████████████████████████████████████████████████████▎         | 715/814 [04:53<00:40,  2.43it/s]"
     ]
    },
    {
     "name": "stdout",
     "output_type": "stream",
     "text": [
      "lables [1]\n",
      "C:\\Users\\Sai Krishna\\Desktop\\Bird-Species-Classification-main 2\\Bird-Species-Classification-main\\archive\\train\\Bewick's Wren\\217911-5.wav\n",
      "C:\\Users\\Sai Krishna\\Desktop\\Bird-Species-Classification-main 2\\Bird-Species-Classification-main\\archive\\train\\Bewick's Wren\\217911-5.wav\n"
     ]
    },
    {
     "name": "stderr",
     "output_type": "stream",
     "text": [
      " 88%|██████████████████████████████████████████████████████████████████████▎         | 716/814 [04:53<00:41,  2.39it/s]"
     ]
    },
    {
     "name": "stdout",
     "output_type": "stream",
     "text": [
      "lables [4]\n",
      "C:\\Users\\Sai Krishna\\Desktop\\Bird-Species-Classification-main 2\\Bird-Species-Classification-main\\archive\\train\\American Robin\\129798-11.wav\n",
      "C:\\Users\\Sai Krishna\\Desktop\\Bird-Species-Classification-main 2\\Bird-Species-Classification-main\\archive\\train\\American Robin\\129798-11.wav\n"
     ]
    },
    {
     "name": "stderr",
     "output_type": "stream",
     "text": [
      " 88%|██████████████████████████████████████████████████████████████████████▍         | 717/814 [04:53<00:41,  2.34it/s]"
     ]
    },
    {
     "name": "stdout",
     "output_type": "stream",
     "text": [
      "lables [3]\n",
      "C:\\Users\\Sai Krishna\\Desktop\\Bird-Species-Classification-main 2\\Bird-Species-Classification-main\\archive\\train\\Song Sparrow\\125706-6.wav\n",
      "C:\\Users\\Sai Krishna\\Desktop\\Bird-Species-Classification-main 2\\Bird-Species-Classification-main\\archive\\train\\Song Sparrow\\125706-6.wav\n"
     ]
    },
    {
     "name": "stderr",
     "output_type": "stream",
     "text": [
      " 88%|██████████████████████████████████████████████████████████████████████▌         | 718/814 [04:54<00:41,  2.33it/s]"
     ]
    },
    {
     "name": "stdout",
     "output_type": "stream",
     "text": [
      "lables [0]\n",
      "C:\\Users\\Sai Krishna\\Desktop\\Bird-Species-Classification-main 2\\Bird-Species-Classification-main\\archive\\train\\Bewick's Wren\\351041-0.wav\n",
      "C:\\Users\\Sai Krishna\\Desktop\\Bird-Species-Classification-main 2\\Bird-Species-Classification-main\\archive\\train\\Bewick's Wren\\351041-0.wav\n"
     ]
    },
    {
     "name": "stderr",
     "output_type": "stream",
     "text": [
      " 88%|██████████████████████████████████████████████████████████████████████▋         | 719/814 [04:54<00:40,  2.34it/s]"
     ]
    },
    {
     "name": "stdout",
     "output_type": "stream",
     "text": [
      "lables [4]\n",
      "C:\\Users\\Sai Krishna\\Desktop\\Bird-Species-Classification-main 2\\Bird-Species-Classification-main\\archive\\train\\Northern Cardinal\\235432-9.wav\n",
      "C:\\Users\\Sai Krishna\\Desktop\\Bird-Species-Classification-main 2\\Bird-Species-Classification-main\\archive\\train\\Northern Cardinal\\235432-9.wav\n"
     ]
    },
    {
     "name": "stderr",
     "output_type": "stream",
     "text": [
      " 88%|██████████████████████████████████████████████████████████████████████▊         | 720/814 [04:55<00:40,  2.33it/s]"
     ]
    },
    {
     "name": "stdout",
     "output_type": "stream",
     "text": [
      "lables [2]\n",
      "C:\\Users\\Sai Krishna\\Desktop\\Bird-Species-Classification-main 2\\Bird-Species-Classification-main\\archive\\train\\Northern Cardinal\\313423-1.wav\n",
      "C:\\Users\\Sai Krishna\\Desktop\\Bird-Species-Classification-main 2\\Bird-Species-Classification-main\\archive\\train\\Northern Cardinal\\313423-1.wav\n"
     ]
    },
    {
     "name": "stderr",
     "output_type": "stream",
     "text": [
      " 89%|██████████████████████████████████████████████████████████████████████▊         | 721/814 [04:55<00:39,  2.33it/s]"
     ]
    },
    {
     "name": "stdout",
     "output_type": "stream",
     "text": [
      "lables [2]\n",
      "C:\\Users\\Sai Krishna\\Desktop\\Bird-Species-Classification-main 2\\Bird-Species-Classification-main\\archive\\train\\Northern Mockingbird\\321941-14.wav\n",
      "C:\\Users\\Sai Krishna\\Desktop\\Bird-Species-Classification-main 2\\Bird-Species-Classification-main\\archive\\train\\Northern Mockingbird\\321941-14.wav\n"
     ]
    },
    {
     "name": "stderr",
     "output_type": "stream",
     "text": [
      " 89%|██████████████████████████████████████████████████████████████████████▉         | 722/814 [04:56<00:39,  2.34it/s]"
     ]
    },
    {
     "name": "stdout",
     "output_type": "stream",
     "text": [
      "lables [1]\n",
      "C:\\Users\\Sai Krishna\\Desktop\\Bird-Species-Classification-main 2\\Bird-Species-Classification-main\\archive\\train\\Song Sparrow\\561356-4.wav\n",
      "C:\\Users\\Sai Krishna\\Desktop\\Bird-Species-Classification-main 2\\Bird-Species-Classification-main\\archive\\train\\Song Sparrow\\561356-4.wav\n"
     ]
    },
    {
     "name": "stderr",
     "output_type": "stream",
     "text": [
      " 89%|███████████████████████████████████████████████████████████████████████         | 723/814 [04:56<00:39,  2.33it/s]"
     ]
    },
    {
     "name": "stdout",
     "output_type": "stream",
     "text": [
      "lables [0]\n",
      "C:\\Users\\Sai Krishna\\Desktop\\Bird-Species-Classification-main 2\\Bird-Species-Classification-main\\archive\\train\\American Robin\\375006-7.wav\n",
      "C:\\Users\\Sai Krishna\\Desktop\\Bird-Species-Classification-main 2\\Bird-Species-Classification-main\\archive\\train\\American Robin\\375006-7.wav\n"
     ]
    },
    {
     "name": "stderr",
     "output_type": "stream",
     "text": [
      " 89%|███████████████████████████████████████████████████████████████████████▏        | 724/814 [04:56<00:38,  2.35it/s]"
     ]
    },
    {
     "name": "stdout",
     "output_type": "stream",
     "text": [
      "lables [3]\n",
      "C:\\Users\\Sai Krishna\\Desktop\\Bird-Species-Classification-main 2\\Bird-Species-Classification-main\\archive\\train\\Song Sparrow\\111289-1.wav\n",
      "C:\\Users\\Sai Krishna\\Desktop\\Bird-Species-Classification-main 2\\Bird-Species-Classification-main\\archive\\train\\Song Sparrow\\111289-1.wav\n"
     ]
    },
    {
     "name": "stderr",
     "output_type": "stream",
     "text": [
      " 89%|███████████████████████████████████████████████████████████████████████▎        | 725/814 [04:57<00:38,  2.34it/s]"
     ]
    },
    {
     "name": "stdout",
     "output_type": "stream",
     "text": [
      "lables [0]\n",
      "C:\\Users\\Sai Krishna\\Desktop\\Bird-Species-Classification-main 2\\Bird-Species-Classification-main\\archive\\train\\American Robin\\34766-0.wav\n",
      "C:\\Users\\Sai Krishna\\Desktop\\Bird-Species-Classification-main 2\\Bird-Species-Classification-main\\archive\\train\\American Robin\\34766-0.wav\n"
     ]
    },
    {
     "name": "stderr",
     "output_type": "stream",
     "text": [
      " 89%|███████████████████████████████████████████████████████████████████████▎        | 726/814 [04:57<00:37,  2.34it/s]"
     ]
    },
    {
     "name": "stdout",
     "output_type": "stream",
     "text": [
      "lables [3]\n",
      "C:\\Users\\Sai Krishna\\Desktop\\Bird-Species-Classification-main 2\\Bird-Species-Classification-main\\archive\\train\\Northern Cardinal\\409007-7.wav\n",
      "C:\\Users\\Sai Krishna\\Desktop\\Bird-Species-Classification-main 2\\Bird-Species-Classification-main\\archive\\train\\Northern Cardinal\\409007-7.wav\n"
     ]
    },
    {
     "name": "stderr",
     "output_type": "stream",
     "text": [
      " 89%|███████████████████████████████████████████████████████████████████████▍        | 727/814 [04:58<00:37,  2.32it/s]"
     ]
    },
    {
     "name": "stdout",
     "output_type": "stream",
     "text": [
      "lables [2]\n",
      "C:\\Users\\Sai Krishna\\Desktop\\Bird-Species-Classification-main 2\\Bird-Species-Classification-main\\archive\\train\\Northern Cardinal\\325690-9.wav\n",
      "C:\\Users\\Sai Krishna\\Desktop\\Bird-Species-Classification-main 2\\Bird-Species-Classification-main\\archive\\train\\Northern Cardinal\\325690-9.wav\n"
     ]
    },
    {
     "name": "stderr",
     "output_type": "stream",
     "text": [
      " 89%|███████████████████████████████████████████████████████████████████████▌        | 728/814 [04:58<00:34,  2.47it/s]"
     ]
    },
    {
     "name": "stdout",
     "output_type": "stream",
     "text": [
      "lables [2]\n",
      "C:\\Users\\Sai Krishna\\Desktop\\Bird-Species-Classification-main 2\\Bird-Species-Classification-main\\archive\\train\\Bewick's Wren\\451298-5.wav\n",
      "C:\\Users\\Sai Krishna\\Desktop\\Bird-Species-Classification-main 2\\Bird-Species-Classification-main\\archive\\train\\Bewick's Wren\\451298-5.wav\n"
     ]
    },
    {
     "name": "stderr",
     "output_type": "stream",
     "text": [
      " 90%|███████████████████████████████████████████████████████████████████████▋        | 729/814 [04:58<00:33,  2.56it/s]"
     ]
    },
    {
     "name": "stdout",
     "output_type": "stream",
     "text": [
      "lables [4]\n",
      "C:\\Users\\Sai Krishna\\Desktop\\Bird-Species-Classification-main 2\\Bird-Species-Classification-main\\archive\\train\\Northern Mockingbird\\172647-12.wav\n",
      "C:\\Users\\Sai Krishna\\Desktop\\Bird-Species-Classification-main 2\\Bird-Species-Classification-main\\archive\\train\\Northern Mockingbird\\172647-12.wav\n"
     ]
    },
    {
     "name": "stderr",
     "output_type": "stream",
     "text": [
      " 90%|███████████████████████████████████████████████████████████████████████▋        | 730/814 [04:59<00:31,  2.64it/s]"
     ]
    },
    {
     "name": "stdout",
     "output_type": "stream",
     "text": [
      "lables [1]\n",
      "C:\\Users\\Sai Krishna\\Desktop\\Bird-Species-Classification-main 2\\Bird-Species-Classification-main\\archive\\train\\Song Sparrow\\111287-4.wav\n",
      "C:\\Users\\Sai Krishna\\Desktop\\Bird-Species-Classification-main 2\\Bird-Species-Classification-main\\archive\\train\\Song Sparrow\\111287-4.wav\n"
     ]
    },
    {
     "name": "stderr",
     "output_type": "stream",
     "text": [
      " 90%|███████████████████████████████████████████████████████████████████████▊        | 731/814 [04:59<00:30,  2.71it/s]"
     ]
    },
    {
     "name": "stdout",
     "output_type": "stream",
     "text": [
      "lables [4]\n",
      "C:\\Users\\Sai Krishna\\Desktop\\Bird-Species-Classification-main 2\\Bird-Species-Classification-main\\archive\\train\\Northern Mockingbird\\18483-7.wav\n",
      "C:\\Users\\Sai Krishna\\Desktop\\Bird-Species-Classification-main 2\\Bird-Species-Classification-main\\archive\\train\\Northern Mockingbird\\18483-7.wav\n"
     ]
    },
    {
     "name": "stderr",
     "output_type": "stream",
     "text": [
      " 90%|███████████████████████████████████████████████████████████████████████▉        | 732/814 [04:59<00:29,  2.74it/s]"
     ]
    },
    {
     "name": "stdout",
     "output_type": "stream",
     "text": [
      "lables [1]\n",
      "C:\\Users\\Sai Krishna\\Desktop\\Bird-Species-Classification-main 2\\Bird-Species-Classification-main\\archive\\train\\American Robin\\351861-1.wav\n",
      "C:\\Users\\Sai Krishna\\Desktop\\Bird-Species-Classification-main 2\\Bird-Species-Classification-main\\archive\\train\\American Robin\\351861-1.wav\n"
     ]
    },
    {
     "name": "stderr",
     "output_type": "stream",
     "text": [
      " 90%|████████████████████████████████████████████████████████████████████████        | 733/814 [05:00<00:31,  2.56it/s]"
     ]
    },
    {
     "name": "stdout",
     "output_type": "stream",
     "text": [
      "lables [3]\n",
      "C:\\Users\\Sai Krishna\\Desktop\\Bird-Species-Classification-main 2\\Bird-Species-Classification-main\\archive\\train\\Northern Mockingbird\\563125-12.wav\n",
      "C:\\Users\\Sai Krishna\\Desktop\\Bird-Species-Classification-main 2\\Bird-Species-Classification-main\\archive\\train\\Northern Mockingbird\\563125-12.wav\n"
     ]
    },
    {
     "name": "stderr",
     "output_type": "stream",
     "text": [
      " 90%|████████████████████████████████████████████████████████████████████████▏       | 734/814 [05:00<00:31,  2.51it/s]"
     ]
    },
    {
     "name": "stdout",
     "output_type": "stream",
     "text": [
      "lables [1]\n",
      "C:\\Users\\Sai Krishna\\Desktop\\Bird-Species-Classification-main 2\\Bird-Species-Classification-main\\archive\\train\\Northern Cardinal\\415386-9.wav\n",
      "C:\\Users\\Sai Krishna\\Desktop\\Bird-Species-Classification-main 2\\Bird-Species-Classification-main\\archive\\train\\Northern Cardinal\\415386-9.wav\n"
     ]
    },
    {
     "name": "stderr",
     "output_type": "stream",
     "text": [
      " 90%|████████████████████████████████████████████████████████████████████████▏       | 735/814 [05:01<00:32,  2.46it/s]"
     ]
    },
    {
     "name": "stdout",
     "output_type": "stream",
     "text": [
      "lables [2]\n",
      "C:\\Users\\Sai Krishna\\Desktop\\Bird-Species-Classification-main 2\\Bird-Species-Classification-main\\archive\\train\\American Robin\\14442-6.wav\n",
      "C:\\Users\\Sai Krishna\\Desktop\\Bird-Species-Classification-main 2\\Bird-Species-Classification-main\\archive\\train\\American Robin\\14442-6.wav\n"
     ]
    },
    {
     "name": "stderr",
     "output_type": "stream",
     "text": [
      " 90%|████████████████████████████████████████████████████████████████████████▎       | 736/814 [05:01<00:32,  2.42it/s]"
     ]
    },
    {
     "name": "stdout",
     "output_type": "stream",
     "text": [
      "lables [3]\n",
      "C:\\Users\\Sai Krishna\\Desktop\\Bird-Species-Classification-main 2\\Bird-Species-Classification-main\\archive\\train\\Bewick's Wren\\173150-13.wav\n",
      "C:\\Users\\Sai Krishna\\Desktop\\Bird-Species-Classification-main 2\\Bird-Species-Classification-main\\archive\\train\\Bewick's Wren\\173150-13.wav\n"
     ]
    },
    {
     "name": "stderr",
     "output_type": "stream",
     "text": [
      " 91%|████████████████████████████████████████████████████████████████████████▍       | 737/814 [05:02<00:32,  2.40it/s]"
     ]
    },
    {
     "name": "stdout",
     "output_type": "stream",
     "text": [
      "lables [4]\n",
      "C:\\Users\\Sai Krishna\\Desktop\\Bird-Species-Classification-main 2\\Bird-Species-Classification-main\\archive\\train\\Northern Mockingbird\\321932-3.wav\n",
      "C:\\Users\\Sai Krishna\\Desktop\\Bird-Species-Classification-main 2\\Bird-Species-Classification-main\\archive\\train\\Northern Mockingbird\\321932-3.wav\n"
     ]
    },
    {
     "name": "stderr",
     "output_type": "stream",
     "text": [
      " 91%|████████████████████████████████████████████████████████████████████████▌       | 738/814 [05:02<00:31,  2.38it/s]"
     ]
    },
    {
     "name": "stdout",
     "output_type": "stream",
     "text": [
      "lables [1]\n",
      "C:\\Users\\Sai Krishna\\Desktop\\Bird-Species-Classification-main 2\\Bird-Species-Classification-main\\archive\\train\\Song Sparrow\\425799-12.wav\n",
      "C:\\Users\\Sai Krishna\\Desktop\\Bird-Species-Classification-main 2\\Bird-Species-Classification-main\\archive\\train\\Song Sparrow\\425799-12.wav\n"
     ]
    },
    {
     "name": "stderr",
     "output_type": "stream",
     "text": [
      " 91%|████████████████████████████████████████████████████████████████████████▋       | 739/814 [05:02<00:31,  2.39it/s]"
     ]
    },
    {
     "name": "stdout",
     "output_type": "stream",
     "text": [
      "lables [0]\n",
      "C:\\Users\\Sai Krishna\\Desktop\\Bird-Species-Classification-main 2\\Bird-Species-Classification-main\\archive\\train\\Northern Mockingbird\\469896-0.wav\n",
      "C:\\Users\\Sai Krishna\\Desktop\\Bird-Species-Classification-main 2\\Bird-Species-Classification-main\\archive\\train\\Northern Mockingbird\\469896-0.wav\n"
     ]
    },
    {
     "name": "stderr",
     "output_type": "stream",
     "text": [
      " 91%|████████████████████████████████████████████████████████████████████████▋       | 740/814 [05:03<00:31,  2.36it/s]"
     ]
    },
    {
     "name": "stdout",
     "output_type": "stream",
     "text": [
      "lables [1]\n",
      "C:\\Users\\Sai Krishna\\Desktop\\Bird-Species-Classification-main 2\\Bird-Species-Classification-main\\archive\\train\\American Robin\\368614-4.wav\n",
      "C:\\Users\\Sai Krishna\\Desktop\\Bird-Species-Classification-main 2\\Bird-Species-Classification-main\\archive\\train\\American Robin\\368614-4.wav\n"
     ]
    },
    {
     "name": "stderr",
     "output_type": "stream",
     "text": [
      " 91%|████████████████████████████████████████████████████████████████████████▊       | 741/814 [05:03<00:31,  2.35it/s]"
     ]
    },
    {
     "name": "stdout",
     "output_type": "stream",
     "text": [
      "lables [3]\n",
      "C:\\Users\\Sai Krishna\\Desktop\\Bird-Species-Classification-main 2\\Bird-Species-Classification-main\\archive\\train\\American Robin\\375006-2.wav\n",
      "C:\\Users\\Sai Krishna\\Desktop\\Bird-Species-Classification-main 2\\Bird-Species-Classification-main\\archive\\train\\American Robin\\375006-2.wav\n"
     ]
    },
    {
     "name": "stderr",
     "output_type": "stream",
     "text": [
      " 91%|████████████████████████████████████████████████████████████████████████▉       | 742/814 [05:04<00:30,  2.37it/s]"
     ]
    },
    {
     "name": "stdout",
     "output_type": "stream",
     "text": [
      "lables [3]\n",
      "C:\\Users\\Sai Krishna\\Desktop\\Bird-Species-Classification-main 2\\Bird-Species-Classification-main\\archive\\train\\Northern Cardinal\\564312-15.wav\n",
      "C:\\Users\\Sai Krishna\\Desktop\\Bird-Species-Classification-main 2\\Bird-Species-Classification-main\\archive\\train\\Northern Cardinal\\564312-15.wav\n"
     ]
    },
    {
     "name": "stderr",
     "output_type": "stream",
     "text": [
      " 91%|█████████████████████████████████████████████████████████████████████████       | 743/814 [05:04<00:30,  2.35it/s]"
     ]
    },
    {
     "name": "stdout",
     "output_type": "stream",
     "text": [
      "lables [2]\n",
      "C:\\Users\\Sai Krishna\\Desktop\\Bird-Species-Classification-main 2\\Bird-Species-Classification-main\\archive\\train\\Northern Mockingbird\\541496-3.wav\n",
      "C:\\Users\\Sai Krishna\\Desktop\\Bird-Species-Classification-main 2\\Bird-Species-Classification-main\\archive\\train\\Northern Mockingbird\\541496-3.wav\n"
     ]
    },
    {
     "name": "stderr",
     "output_type": "stream",
     "text": [
      " 91%|█████████████████████████████████████████████████████████████████████████       | 744/814 [05:05<00:29,  2.35it/s]"
     ]
    },
    {
     "name": "stdout",
     "output_type": "stream",
     "text": [
      "lables [1]\n",
      "C:\\Users\\Sai Krishna\\Desktop\\Bird-Species-Classification-main 2\\Bird-Species-Classification-main\\archive\\train\\Song Sparrow\\375662-4.wav\n",
      "C:\\Users\\Sai Krishna\\Desktop\\Bird-Species-Classification-main 2\\Bird-Species-Classification-main\\archive\\train\\Song Sparrow\\375662-4.wav\n"
     ]
    },
    {
     "name": "stderr",
     "output_type": "stream",
     "text": [
      " 92%|█████████████████████████████████████████████████████████████████████████▏      | 745/814 [05:05<00:28,  2.39it/s]"
     ]
    },
    {
     "name": "stdout",
     "output_type": "stream",
     "text": [
      "lables [0]\n",
      "C:\\Users\\Sai Krishna\\Desktop\\Bird-Species-Classification-main 2\\Bird-Species-Classification-main\\archive\\train\\American Robin\\190441-13.wav\n",
      "C:\\Users\\Sai Krishna\\Desktop\\Bird-Species-Classification-main 2\\Bird-Species-Classification-main\\archive\\train\\American Robin\\190441-13.wav\n"
     ]
    },
    {
     "name": "stderr",
     "output_type": "stream",
     "text": [
      " 92%|█████████████████████████████████████████████████████████████████████████▎      | 746/814 [05:05<00:27,  2.51it/s]"
     ]
    },
    {
     "name": "stdout",
     "output_type": "stream",
     "text": [
      "lables [3]\n",
      "C:\\Users\\Sai Krishna\\Desktop\\Bird-Species-Classification-main 2\\Bird-Species-Classification-main\\archive\\train\\Song Sparrow\\125713-1.wav\n",
      "C:\\Users\\Sai Krishna\\Desktop\\Bird-Species-Classification-main 2\\Bird-Species-Classification-main\\archive\\train\\Song Sparrow\\125713-1.wav\n"
     ]
    },
    {
     "name": "stderr",
     "output_type": "stream",
     "text": [
      " 92%|█████████████████████████████████████████████████████████████████████████▍      | 747/814 [05:06<00:25,  2.61it/s]"
     ]
    },
    {
     "name": "stdout",
     "output_type": "stream",
     "text": [
      "lables [0]\n",
      "C:\\Users\\Sai Krishna\\Desktop\\Bird-Species-Classification-main 2\\Bird-Species-Classification-main\\archive\\train\\Northern Cardinal\\367804-7.wav\n",
      "C:\\Users\\Sai Krishna\\Desktop\\Bird-Species-Classification-main 2\\Bird-Species-Classification-main\\archive\\train\\Northern Cardinal\\367804-7.wav\n"
     ]
    },
    {
     "name": "stderr",
     "output_type": "stream",
     "text": [
      " 92%|█████████████████████████████████████████████████████████████████████████▌      | 748/814 [05:06<00:24,  2.68it/s]"
     ]
    },
    {
     "name": "stdout",
     "output_type": "stream",
     "text": [
      "lables [2]\n",
      "C:\\Users\\Sai Krishna\\Desktop\\Bird-Species-Classification-main 2\\Bird-Species-Classification-main\\archive\\train\\Song Sparrow\\125718-0.wav\n",
      "C:\\Users\\Sai Krishna\\Desktop\\Bird-Species-Classification-main 2\\Bird-Species-Classification-main\\archive\\train\\Song Sparrow\\125718-0.wav\n"
     ]
    },
    {
     "name": "stderr",
     "output_type": "stream",
     "text": [
      " 92%|█████████████████████████████████████████████████████████████████████████▌      | 749/814 [05:06<00:23,  2.76it/s]"
     ]
    },
    {
     "name": "stdout",
     "output_type": "stream",
     "text": [
      "lables [0]\n",
      "C:\\Users\\Sai Krishna\\Desktop\\Bird-Species-Classification-main 2\\Bird-Species-Classification-main\\archive\\train\\Northern Cardinal\\235432-10.wav\n",
      "C:\\Users\\Sai Krishna\\Desktop\\Bird-Species-Classification-main 2\\Bird-Species-Classification-main\\archive\\train\\Northern Cardinal\\235432-10.wav\n"
     ]
    },
    {
     "name": "stderr",
     "output_type": "stream",
     "text": [
      " 92%|█████████████████████████████████████████████████████████████████████████▋      | 750/814 [05:07<00:23,  2.77it/s]"
     ]
    },
    {
     "name": "stdout",
     "output_type": "stream",
     "text": [
      "lables [2]\n",
      "C:\\Users\\Sai Krishna\\Desktop\\Bird-Species-Classification-main 2\\Bird-Species-Classification-main\\archive\\train\\American Robin\\129798-4.wav\n",
      "C:\\Users\\Sai Krishna\\Desktop\\Bird-Species-Classification-main 2\\Bird-Species-Classification-main\\archive\\train\\American Robin\\129798-4.wav\n"
     ]
    },
    {
     "name": "stderr",
     "output_type": "stream",
     "text": [
      " 92%|█████████████████████████████████████████████████████████████████████████▊      | 751/814 [05:07<00:24,  2.59it/s]"
     ]
    },
    {
     "name": "stdout",
     "output_type": "stream",
     "text": [
      "lables [3]\n",
      "C:\\Users\\Sai Krishna\\Desktop\\Bird-Species-Classification-main 2\\Bird-Species-Classification-main\\archive\\train\\Bewick's Wren\\89833-12.wav\n",
      "C:\\Users\\Sai Krishna\\Desktop\\Bird-Species-Classification-main 2\\Bird-Species-Classification-main\\archive\\train\\Bewick's Wren\\89833-12.wav\n"
     ]
    },
    {
     "name": "stderr",
     "output_type": "stream",
     "text": [
      " 92%|█████████████████████████████████████████████████████████████████████████▉      | 752/814 [05:08<00:24,  2.50it/s]"
     ]
    },
    {
     "name": "stdout",
     "output_type": "stream",
     "text": [
      "lables [4]\n",
      "C:\\Users\\Sai Krishna\\Desktop\\Bird-Species-Classification-main 2\\Bird-Species-Classification-main\\archive\\train\\Northern Mockingbird\\312453-13.wav\n",
      "C:\\Users\\Sai Krishna\\Desktop\\Bird-Species-Classification-main 2\\Bird-Species-Classification-main\\archive\\train\\Northern Mockingbird\\312453-13.wav\n"
     ]
    },
    {
     "name": "stderr",
     "output_type": "stream",
     "text": [
      " 93%|██████████████████████████████████████████████████████████████████████████      | 753/814 [05:08<00:25,  2.42it/s]"
     ]
    },
    {
     "name": "stdout",
     "output_type": "stream",
     "text": [
      "lables [0]\n",
      "C:\\Users\\Sai Krishna\\Desktop\\Bird-Species-Classification-main 2\\Bird-Species-Classification-main\\archive\\train\\Song Sparrow\\363141-0.wav\n",
      "C:\\Users\\Sai Krishna\\Desktop\\Bird-Species-Classification-main 2\\Bird-Species-Classification-main\\archive\\train\\Song Sparrow\\363141-0.wav\n"
     ]
    },
    {
     "name": "stderr",
     "output_type": "stream",
     "text": [
      " 93%|██████████████████████████████████████████████████████████████████████████      | 754/814 [05:08<00:25,  2.39it/s]"
     ]
    },
    {
     "name": "stdout",
     "output_type": "stream",
     "text": [
      "lables [0]\n",
      "C:\\Users\\Sai Krishna\\Desktop\\Bird-Species-Classification-main 2\\Bird-Species-Classification-main\\archive\\train\\Northern Cardinal\\125284-10.wav\n",
      "C:\\Users\\Sai Krishna\\Desktop\\Bird-Species-Classification-main 2\\Bird-Species-Classification-main\\archive\\train\\Northern Cardinal\\125284-10.wav\n"
     ]
    },
    {
     "name": "stderr",
     "output_type": "stream",
     "text": [
      " 93%|██████████████████████████████████████████████████████████████████████████▏     | 755/814 [05:09<00:24,  2.37it/s]"
     ]
    },
    {
     "name": "stdout",
     "output_type": "stream",
     "text": [
      "lables [2]\n",
      "C:\\Users\\Sai Krishna\\Desktop\\Bird-Species-Classification-main 2\\Bird-Species-Classification-main\\archive\\train\\Song Sparrow\\103338-8.wav\n",
      "C:\\Users\\Sai Krishna\\Desktop\\Bird-Species-Classification-main 2\\Bird-Species-Classification-main\\archive\\train\\Song Sparrow\\103338-8.wav\n"
     ]
    },
    {
     "name": "stderr",
     "output_type": "stream",
     "text": [
      " 93%|██████████████████████████████████████████████████████████████████████████▎     | 756/814 [05:09<00:24,  2.36it/s]"
     ]
    },
    {
     "name": "stdout",
     "output_type": "stream",
     "text": [
      "lables [0]\n",
      "C:\\Users\\Sai Krishna\\Desktop\\Bird-Species-Classification-main 2\\Bird-Species-Classification-main\\archive\\train\\Northern Mockingbird\\321931-6.wav\n",
      "C:\\Users\\Sai Krishna\\Desktop\\Bird-Species-Classification-main 2\\Bird-Species-Classification-main\\archive\\train\\Northern Mockingbird\\321931-6.wav\n"
     ]
    },
    {
     "name": "stderr",
     "output_type": "stream",
     "text": [
      " 93%|██████████████████████████████████████████████████████████████████████████▍     | 757/814 [05:10<00:24,  2.35it/s]"
     ]
    },
    {
     "name": "stdout",
     "output_type": "stream",
     "text": [
      "lables [1]\n",
      "C:\\Users\\Sai Krishna\\Desktop\\Bird-Species-Classification-main 2\\Bird-Species-Classification-main\\archive\\train\\Song Sparrow\\142620-6.wav\n",
      "C:\\Users\\Sai Krishna\\Desktop\\Bird-Species-Classification-main 2\\Bird-Species-Classification-main\\archive\\train\\Song Sparrow\\142620-6.wav\n"
     ]
    },
    {
     "name": "stderr",
     "output_type": "stream",
     "text": [
      " 93%|██████████████████████████████████████████████████████████████████████████▍     | 758/814 [05:10<00:23,  2.36it/s]"
     ]
    },
    {
     "name": "stdout",
     "output_type": "stream",
     "text": [
      "lables [0]\n",
      "C:\\Users\\Sai Krishna\\Desktop\\Bird-Species-Classification-main 2\\Bird-Species-Classification-main\\archive\\train\\Northern Mockingbird\\179353-7.wav\n",
      "C:\\Users\\Sai Krishna\\Desktop\\Bird-Species-Classification-main 2\\Bird-Species-Classification-main\\archive\\train\\Northern Mockingbird\\179353-7.wav\n"
     ]
    },
    {
     "name": "stderr",
     "output_type": "stream",
     "text": [
      " 93%|██████████████████████████████████████████████████████████████████████████▌     | 759/814 [05:11<00:22,  2.40it/s]"
     ]
    },
    {
     "name": "stdout",
     "output_type": "stream",
     "text": [
      "lables [1]\n",
      "C:\\Users\\Sai Krishna\\Desktop\\Bird-Species-Classification-main 2\\Bird-Species-Classification-main\\archive\\train\\Song Sparrow\\132874-5.wav\n",
      "C:\\Users\\Sai Krishna\\Desktop\\Bird-Species-Classification-main 2\\Bird-Species-Classification-main\\archive\\train\\Song Sparrow\\132874-5.wav\n"
     ]
    },
    {
     "name": "stderr",
     "output_type": "stream",
     "text": [
      " 93%|██████████████████████████████████████████████████████████████████████████▋     | 760/814 [05:11<00:21,  2.54it/s]"
     ]
    },
    {
     "name": "stdout",
     "output_type": "stream",
     "text": [
      "lables [0]\n",
      "C:\\Users\\Sai Krishna\\Desktop\\Bird-Species-Classification-main 2\\Bird-Species-Classification-main\\archive\\train\\Song Sparrow\\125723-7.wav\n",
      "C:\\Users\\Sai Krishna\\Desktop\\Bird-Species-Classification-main 2\\Bird-Species-Classification-main\\archive\\train\\Song Sparrow\\125723-7.wav\n"
     ]
    },
    {
     "name": "stderr",
     "output_type": "stream",
     "text": [
      " 93%|██████████████████████████████████████████████████████████████████████████▊     | 761/814 [05:11<00:20,  2.63it/s]"
     ]
    },
    {
     "name": "stdout",
     "output_type": "stream",
     "text": [
      "lables [0]\n",
      "C:\\Users\\Sai Krishna\\Desktop\\Bird-Species-Classification-main 2\\Bird-Species-Classification-main\\archive\\train\\Bewick's Wren\\217913-4.wav\n",
      "C:\\Users\\Sai Krishna\\Desktop\\Bird-Species-Classification-main 2\\Bird-Species-Classification-main\\archive\\train\\Bewick's Wren\\217913-4.wav\n"
     ]
    },
    {
     "name": "stderr",
     "output_type": "stream",
     "text": [
      " 94%|██████████████████████████████████████████████████████████████████████████▉     | 762/814 [05:12<00:19,  2.68it/s]"
     ]
    },
    {
     "name": "stdout",
     "output_type": "stream",
     "text": [
      "lables [4]\n",
      "C:\\Users\\Sai Krishna\\Desktop\\Bird-Species-Classification-main 2\\Bird-Species-Classification-main\\archive\\train\\American Robin\\320724-8.wav\n",
      "C:\\Users\\Sai Krishna\\Desktop\\Bird-Species-Classification-main 2\\Bird-Species-Classification-main\\archive\\train\\American Robin\\320724-8.wav\n"
     ]
    },
    {
     "name": "stderr",
     "output_type": "stream",
     "text": [
      " 94%|██████████████████████████████████████████████████████████████████████████▉     | 763/814 [05:12<00:18,  2.74it/s]"
     ]
    },
    {
     "name": "stdout",
     "output_type": "stream",
     "text": [
      "lables [3]\n",
      "C:\\Users\\Sai Krishna\\Desktop\\Bird-Species-Classification-main 2\\Bird-Species-Classification-main\\archive\\train\\Northern Mockingbird\\469351-7.wav\n",
      "C:\\Users\\Sai Krishna\\Desktop\\Bird-Species-Classification-main 2\\Bird-Species-Classification-main\\archive\\train\\Northern Mockingbird\\469351-7.wav\n"
     ]
    },
    {
     "name": "stderr",
     "output_type": "stream",
     "text": [
      " 94%|███████████████████████████████████████████████████████████████████████████     | 764/814 [05:12<00:18,  2.68it/s]"
     ]
    },
    {
     "name": "stdout",
     "output_type": "stream",
     "text": [
      "lables [1]\n",
      "C:\\Users\\Sai Krishna\\Desktop\\Bird-Species-Classification-main 2\\Bird-Species-Classification-main\\archive\\train\\Northern Mockingbird\\321923-5.wav\n",
      "C:\\Users\\Sai Krishna\\Desktop\\Bird-Species-Classification-main 2\\Bird-Species-Classification-main\\archive\\train\\Northern Mockingbird\\321923-5.wav\n"
     ]
    },
    {
     "name": "stderr",
     "output_type": "stream",
     "text": [
      " 94%|███████████████████████████████████████████████████████████████████████████▏    | 765/814 [05:13<00:18,  2.71it/s]"
     ]
    },
    {
     "name": "stdout",
     "output_type": "stream",
     "text": [
      "lables [1]\n",
      "C:\\Users\\Sai Krishna\\Desktop\\Bird-Species-Classification-main 2\\Bird-Species-Classification-main\\archive\\train\\Bewick's Wren\\173153-5.wav\n",
      "C:\\Users\\Sai Krishna\\Desktop\\Bird-Species-Classification-main 2\\Bird-Species-Classification-main\\archive\\train\\Bewick's Wren\\173153-5.wav\n"
     ]
    },
    {
     "name": "stderr",
     "output_type": "stream",
     "text": [
      " 94%|███████████████████████████████████████████████████████████████████████████▎    | 766/814 [05:13<00:17,  2.72it/s]"
     ]
    },
    {
     "name": "stdout",
     "output_type": "stream",
     "text": [
      "lables [4]\n",
      "C:\\Users\\Sai Krishna\\Desktop\\Bird-Species-Classification-main 2\\Bird-Species-Classification-main\\archive\\train\\American Robin\\416294-9.wav\n",
      "C:\\Users\\Sai Krishna\\Desktop\\Bird-Species-Classification-main 2\\Bird-Species-Classification-main\\archive\\train\\American Robin\\416294-9.wav\n"
     ]
    },
    {
     "name": "stderr",
     "output_type": "stream",
     "text": [
      " 94%|███████████████████████████████████████████████████████████████████████████▍    | 767/814 [05:13<00:17,  2.72it/s]"
     ]
    },
    {
     "name": "stdout",
     "output_type": "stream",
     "text": [
      "lables [3]\n",
      "C:\\Users\\Sai Krishna\\Desktop\\Bird-Species-Classification-main 2\\Bird-Species-Classification-main\\archive\\train\\Bewick's Wren\\178015-4.wav\n",
      "C:\\Users\\Sai Krishna\\Desktop\\Bird-Species-Classification-main 2\\Bird-Species-Classification-main\\archive\\train\\Bewick's Wren\\178015-4.wav\n"
     ]
    },
    {
     "name": "stderr",
     "output_type": "stream",
     "text": [
      " 94%|███████████████████████████████████████████████████████████████████████████▍    | 768/814 [05:14<00:16,  2.73it/s]"
     ]
    },
    {
     "name": "stdout",
     "output_type": "stream",
     "text": [
      "lables [4]\n",
      "C:\\Users\\Sai Krishna\\Desktop\\Bird-Species-Classification-main 2\\Bird-Species-Classification-main\\archive\\train\\Bewick's Wren\\104637-14.wav\n",
      "C:\\Users\\Sai Krishna\\Desktop\\Bird-Species-Classification-main 2\\Bird-Species-Classification-main\\archive\\train\\Bewick's Wren\\104637-14.wav\n"
     ]
    },
    {
     "name": "stderr",
     "output_type": "stream",
     "text": [
      " 94%|███████████████████████████████████████████████████████████████████████████▌    | 769/814 [05:14<00:16,  2.78it/s]"
     ]
    },
    {
     "name": "stdout",
     "output_type": "stream",
     "text": [
      "lables [4]\n",
      "C:\\Users\\Sai Krishna\\Desktop\\Bird-Species-Classification-main 2\\Bird-Species-Classification-main\\archive\\train\\Northern Cardinal\\375382-13.wav\n",
      "C:\\Users\\Sai Krishna\\Desktop\\Bird-Species-Classification-main 2\\Bird-Species-Classification-main\\archive\\train\\Northern Cardinal\\375382-13.wav\n"
     ]
    },
    {
     "name": "stderr",
     "output_type": "stream",
     "text": [
      " 95%|███████████████████████████████████████████████████████████████████████████▋    | 770/814 [05:15<00:15,  2.76it/s]"
     ]
    },
    {
     "name": "stdout",
     "output_type": "stream",
     "text": [
      "lables [2]\n",
      "C:\\Users\\Sai Krishna\\Desktop\\Bird-Species-Classification-main 2\\Bird-Species-Classification-main\\archive\\train\\Northern Mockingbird\\321923-15.wav\n",
      "C:\\Users\\Sai Krishna\\Desktop\\Bird-Species-Classification-main 2\\Bird-Species-Classification-main\\archive\\train\\Northern Mockingbird\\321923-15.wav\n"
     ]
    },
    {
     "name": "stderr",
     "output_type": "stream",
     "text": [
      " 95%|███████████████████████████████████████████████████████████████████████████▊    | 771/814 [05:15<00:16,  2.60it/s]"
     ]
    },
    {
     "name": "stdout",
     "output_type": "stream",
     "text": [
      "lables [1]\n",
      "C:\\Users\\Sai Krishna\\Desktop\\Bird-Species-Classification-main 2\\Bird-Species-Classification-main\\archive\\train\\Northern Mockingbird\\536012-2.wav\n",
      "C:\\Users\\Sai Krishna\\Desktop\\Bird-Species-Classification-main 2\\Bird-Species-Classification-main\\archive\\train\\Northern Mockingbird\\536012-2.wav\n"
     ]
    },
    {
     "name": "stderr",
     "output_type": "stream",
     "text": [
      " 95%|███████████████████████████████████████████████████████████████████████████▊    | 772/814 [05:15<00:17,  2.42it/s]"
     ]
    },
    {
     "name": "stdout",
     "output_type": "stream",
     "text": [
      "lables [0]\n",
      "C:\\Users\\Sai Krishna\\Desktop\\Bird-Species-Classification-main 2\\Bird-Species-Classification-main\\archive\\train\\Song Sparrow\\189286-4.wav\n",
      "C:\\Users\\Sai Krishna\\Desktop\\Bird-Species-Classification-main 2\\Bird-Species-Classification-main\\archive\\train\\Song Sparrow\\189286-4.wav\n"
     ]
    },
    {
     "name": "stderr",
     "output_type": "stream",
     "text": [
      " 95%|███████████████████████████████████████████████████████████████████████████▉    | 773/814 [05:16<00:17,  2.29it/s]"
     ]
    },
    {
     "name": "stdout",
     "output_type": "stream",
     "text": [
      "lables [0]\n",
      "C:\\Users\\Sai Krishna\\Desktop\\Bird-Species-Classification-main 2\\Bird-Species-Classification-main\\archive\\train\\American Robin\\205803-11.wav\n",
      "C:\\Users\\Sai Krishna\\Desktop\\Bird-Species-Classification-main 2\\Bird-Species-Classification-main\\archive\\train\\American Robin\\205803-11.wav\n"
     ]
    },
    {
     "name": "stderr",
     "output_type": "stream",
     "text": [
      " 95%|████████████████████████████████████████████████████████████████████████████    | 774/814 [05:16<00:17,  2.30it/s]"
     ]
    },
    {
     "name": "stdout",
     "output_type": "stream",
     "text": [
      "lables [2]\n",
      "C:\\Users\\Sai Krishna\\Desktop\\Bird-Species-Classification-main 2\\Bird-Species-Classification-main\\archive\\train\\American Robin\\408817-2.wav\n",
      "C:\\Users\\Sai Krishna\\Desktop\\Bird-Species-Classification-main 2\\Bird-Species-Classification-main\\archive\\train\\American Robin\\408817-2.wav\n"
     ]
    },
    {
     "name": "stderr",
     "output_type": "stream",
     "text": [
      " 95%|████████████████████████████████████████████████████████████████████████████▏   | 775/814 [05:17<00:16,  2.32it/s]"
     ]
    },
    {
     "name": "stdout",
     "output_type": "stream",
     "text": [
      "lables [3]\n",
      "C:\\Users\\Sai Krishna\\Desktop\\Bird-Species-Classification-main 2\\Bird-Species-Classification-main\\archive\\train\\Northern Cardinal\\464152-3.wav\n",
      "C:\\Users\\Sai Krishna\\Desktop\\Bird-Species-Classification-main 2\\Bird-Species-Classification-main\\archive\\train\\Northern Cardinal\\464152-3.wav\n"
     ]
    },
    {
     "name": "stderr",
     "output_type": "stream",
     "text": [
      " 95%|████████████████████████████████████████████████████████████████████████████▎   | 776/814 [05:17<00:15,  2.43it/s]"
     ]
    },
    {
     "name": "stdout",
     "output_type": "stream",
     "text": [
      "lables [2]\n",
      "C:\\Users\\Sai Krishna\\Desktop\\Bird-Species-Classification-main 2\\Bird-Species-Classification-main\\archive\\train\\Song Sparrow\\111667-0.wav\n",
      "C:\\Users\\Sai Krishna\\Desktop\\Bird-Species-Classification-main 2\\Bird-Species-Classification-main\\archive\\train\\Song Sparrow\\111667-0.wav\n"
     ]
    },
    {
     "name": "stderr",
     "output_type": "stream",
     "text": [
      " 95%|████████████████████████████████████████████████████████████████████████████▎   | 777/814 [05:18<00:14,  2.54it/s]"
     ]
    },
    {
     "name": "stdout",
     "output_type": "stream",
     "text": [
      "lables [0]\n",
      "C:\\Users\\Sai Krishna\\Desktop\\Bird-Species-Classification-main 2\\Bird-Species-Classification-main\\archive\\train\\American Robin\\469605-16.wav\n",
      "C:\\Users\\Sai Krishna\\Desktop\\Bird-Species-Classification-main 2\\Bird-Species-Classification-main\\archive\\train\\American Robin\\469605-16.wav\n"
     ]
    },
    {
     "name": "stderr",
     "output_type": "stream",
     "text": [
      " 96%|████████████████████████████████████████████████████████████████████████████▍   | 778/814 [05:18<00:13,  2.64it/s]"
     ]
    },
    {
     "name": "stdout",
     "output_type": "stream",
     "text": [
      "lables [3]\n",
      "C:\\Users\\Sai Krishna\\Desktop\\Bird-Species-Classification-main 2\\Bird-Species-Classification-main\\archive\\train\\Bewick's Wren\\173153-9.wav\n",
      "C:\\Users\\Sai Krishna\\Desktop\\Bird-Species-Classification-main 2\\Bird-Species-Classification-main\\archive\\train\\Bewick's Wren\\173153-9.wav\n"
     ]
    },
    {
     "name": "stderr",
     "output_type": "stream",
     "text": [
      " 96%|████████████████████████████████████████████████████████████████████████████▌   | 779/814 [05:18<00:13,  2.68it/s]"
     ]
    },
    {
     "name": "stdout",
     "output_type": "stream",
     "text": [
      "lables [4]\n",
      "C:\\Users\\Sai Krishna\\Desktop\\Bird-Species-Classification-main 2\\Bird-Species-Classification-main\\archive\\train\\Northern Mockingbird\\321788-2.wav\n",
      "C:\\Users\\Sai Krishna\\Desktop\\Bird-Species-Classification-main 2\\Bird-Species-Classification-main\\archive\\train\\Northern Mockingbird\\321788-2.wav\n"
     ]
    },
    {
     "name": "stderr",
     "output_type": "stream",
     "text": [
      " 96%|████████████████████████████████████████████████████████████████████████████▋   | 780/814 [05:19<00:12,  2.76it/s]"
     ]
    },
    {
     "name": "stdout",
     "output_type": "stream",
     "text": [
      "lables [1]\n",
      "C:\\Users\\Sai Krishna\\Desktop\\Bird-Species-Classification-main 2\\Bird-Species-Classification-main\\archive\\train\\Northern Mockingbird\\232710-3.wav\n",
      "C:\\Users\\Sai Krishna\\Desktop\\Bird-Species-Classification-main 2\\Bird-Species-Classification-main\\archive\\train\\Northern Mockingbird\\232710-3.wav\n"
     ]
    },
    {
     "name": "stderr",
     "output_type": "stream",
     "text": [
      " 96%|████████████████████████████████████████████████████████████████████████████▊   | 781/814 [05:19<00:12,  2.74it/s]"
     ]
    },
    {
     "name": "stdout",
     "output_type": "stream",
     "text": [
      "lables [1]\n",
      "C:\\Users\\Sai Krishna\\Desktop\\Bird-Species-Classification-main 2\\Bird-Species-Classification-main\\archive\\train\\Song Sparrow\\133566-9.wav\n",
      "C:\\Users\\Sai Krishna\\Desktop\\Bird-Species-Classification-main 2\\Bird-Species-Classification-main\\archive\\train\\Song Sparrow\\133566-9.wav\n"
     ]
    },
    {
     "name": "stderr",
     "output_type": "stream",
     "text": [
      " 96%|████████████████████████████████████████████████████████████████████████████▊   | 782/814 [05:19<00:11,  2.77it/s]"
     ]
    },
    {
     "name": "stdout",
     "output_type": "stream",
     "text": [
      "lables [0]\n",
      "C:\\Users\\Sai Krishna\\Desktop\\Bird-Species-Classification-main 2\\Bird-Species-Classification-main\\archive\\train\\American Robin\\322887-12.wav\n",
      "C:\\Users\\Sai Krishna\\Desktop\\Bird-Species-Classification-main 2\\Bird-Species-Classification-main\\archive\\train\\American Robin\\322887-12.wav\n"
     ]
    },
    {
     "name": "stderr",
     "output_type": "stream",
     "text": [
      " 96%|████████████████████████████████████████████████████████████████████████████▉   | 783/814 [05:20<00:11,  2.59it/s]"
     ]
    },
    {
     "name": "stdout",
     "output_type": "stream",
     "text": [
      "lables [3]\n",
      "C:\\Users\\Sai Krishna\\Desktop\\Bird-Species-Classification-main 2\\Bird-Species-Classification-main\\archive\\train\\Song Sparrow\\381570-5.wav\n",
      "C:\\Users\\Sai Krishna\\Desktop\\Bird-Species-Classification-main 2\\Bird-Species-Classification-main\\archive\\train\\Song Sparrow\\381570-5.wav\n"
     ]
    },
    {
     "name": "stderr",
     "output_type": "stream",
     "text": [
      " 96%|█████████████████████████████████████████████████████████████████████████████   | 784/814 [05:20<00:12,  2.50it/s]"
     ]
    },
    {
     "name": "stdout",
     "output_type": "stream",
     "text": [
      "lables [0]\n",
      "C:\\Users\\Sai Krishna\\Desktop\\Bird-Species-Classification-main 2\\Bird-Species-Classification-main\\archive\\train\\Northern Mockingbird\\541426-5.wav\n",
      "C:\\Users\\Sai Krishna\\Desktop\\Bird-Species-Classification-main 2\\Bird-Species-Classification-main\\archive\\train\\Northern Mockingbird\\541426-5.wav\n"
     ]
    },
    {
     "name": "stderr",
     "output_type": "stream",
     "text": [
      " 96%|█████████████████████████████████████████████████████████████████████████████▏  | 785/814 [05:21<00:11,  2.44it/s]"
     ]
    },
    {
     "name": "stdout",
     "output_type": "stream",
     "text": [
      "lables [2]\n",
      "C:\\Users\\Sai Krishna\\Desktop\\Bird-Species-Classification-main 2\\Bird-Species-Classification-main\\archive\\train\\Song Sparrow\\376028-9.wav\n",
      "C:\\Users\\Sai Krishna\\Desktop\\Bird-Species-Classification-main 2\\Bird-Species-Classification-main\\archive\\train\\Song Sparrow\\376028-9.wav\n"
     ]
    },
    {
     "name": "stderr",
     "output_type": "stream",
     "text": [
      " 97%|█████████████████████████████████████████████████████████████████████████████▏  | 786/814 [05:21<00:11,  2.40it/s]"
     ]
    },
    {
     "name": "stdout",
     "output_type": "stream",
     "text": [
      "lables [0]\n",
      "C:\\Users\\Sai Krishna\\Desktop\\Bird-Species-Classification-main 2\\Bird-Species-Classification-main\\archive\\train\\Northern Mockingbird\\138494-6.wav\n",
      "C:\\Users\\Sai Krishna\\Desktop\\Bird-Species-Classification-main 2\\Bird-Species-Classification-main\\archive\\train\\Northern Mockingbird\\138494-6.wav\n"
     ]
    },
    {
     "name": "stderr",
     "output_type": "stream",
     "text": [
      " 97%|█████████████████████████████████████████████████████████████████████████████▎  | 787/814 [05:21<00:11,  2.37it/s]"
     ]
    },
    {
     "name": "stdout",
     "output_type": "stream",
     "text": [
      "lables [1]\n",
      "C:\\Users\\Sai Krishna\\Desktop\\Bird-Species-Classification-main 2\\Bird-Species-Classification-main\\archive\\train\\Bewick's Wren\\172752-11.wav\n",
      "C:\\Users\\Sai Krishna\\Desktop\\Bird-Species-Classification-main 2\\Bird-Species-Classification-main\\archive\\train\\Bewick's Wren\\172752-11.wav\n"
     ]
    },
    {
     "name": "stderr",
     "output_type": "stream",
     "text": [
      " 97%|█████████████████████████████████████████████████████████████████████████████▍  | 788/814 [05:22<00:11,  2.36it/s]"
     ]
    },
    {
     "name": "stdout",
     "output_type": "stream",
     "text": [
      "lables [4]\n",
      "C:\\Users\\Sai Krishna\\Desktop\\Bird-Species-Classification-main 2\\Bird-Species-Classification-main\\archive\\train\\Song Sparrow\\366598-1.wav\n",
      "C:\\Users\\Sai Krishna\\Desktop\\Bird-Species-Classification-main 2\\Bird-Species-Classification-main\\archive\\train\\Song Sparrow\\366598-1.wav\n"
     ]
    },
    {
     "name": "stderr",
     "output_type": "stream",
     "text": [
      " 97%|█████████████████████████████████████████████████████████████████████████████▌  | 789/814 [05:22<00:10,  2.35it/s]"
     ]
    },
    {
     "name": "stdout",
     "output_type": "stream",
     "text": [
      "lables [0]\n",
      "C:\\Users\\Sai Krishna\\Desktop\\Bird-Species-Classification-main 2\\Bird-Species-Classification-main\\archive\\train\\Bewick's Wren\\14172-3.wav\n",
      "C:\\Users\\Sai Krishna\\Desktop\\Bird-Species-Classification-main 2\\Bird-Species-Classification-main\\archive\\train\\Bewick's Wren\\14172-3.wav\n"
     ]
    },
    {
     "name": "stderr",
     "output_type": "stream",
     "text": [
      " 97%|█████████████████████████████████████████████████████████████████████████████▋  | 790/814 [05:23<00:10,  2.34it/s]"
     ]
    },
    {
     "name": "stdout",
     "output_type": "stream",
     "text": [
      "lables [0]\n",
      "C:\\Users\\Sai Krishna\\Desktop\\Bird-Species-Classification-main 2\\Bird-Species-Classification-main\\archive\\train\\Northern Cardinal\\125284-1.wav\n",
      "C:\\Users\\Sai Krishna\\Desktop\\Bird-Species-Classification-main 2\\Bird-Species-Classification-main\\archive\\train\\Northern Cardinal\\125284-1.wav\n"
     ]
    },
    {
     "name": "stderr",
     "output_type": "stream",
     "text": [
      " 97%|█████████████████████████████████████████████████████████████████████████████▋  | 791/814 [05:23<00:09,  2.33it/s]"
     ]
    },
    {
     "name": "stdout",
     "output_type": "stream",
     "text": [
      "lables [2]\n",
      "C:\\Users\\Sai Krishna\\Desktop\\Bird-Species-Classification-main 2\\Bird-Species-Classification-main\\archive\\train\\Song Sparrow\\565242-2.wav\n",
      "C:\\Users\\Sai Krishna\\Desktop\\Bird-Species-Classification-main 2\\Bird-Species-Classification-main\\archive\\train\\Song Sparrow\\565242-2.wav\n"
     ]
    },
    {
     "name": "stderr",
     "output_type": "stream",
     "text": [
      " 97%|█████████████████████████████████████████████████████████████████████████████▊  | 792/814 [05:24<00:09,  2.27it/s]"
     ]
    },
    {
     "name": "stdout",
     "output_type": "stream",
     "text": [
      "lables [2]\n",
      "C:\\Users\\Sai Krishna\\Desktop\\Bird-Species-Classification-main 2\\Bird-Species-Classification-main\\archive\\train\\Northern Mockingbird\\321932-13.wav\n",
      "C:\\Users\\Sai Krishna\\Desktop\\Bird-Species-Classification-main 2\\Bird-Species-Classification-main\\archive\\train\\Northern Mockingbird\\321932-13.wav\n"
     ]
    },
    {
     "name": "stderr",
     "output_type": "stream",
     "text": [
      " 97%|█████████████████████████████████████████████████████████████████████████████▉  | 793/814 [05:24<00:08,  2.37it/s]"
     ]
    },
    {
     "name": "stdout",
     "output_type": "stream",
     "text": [
      "lables [1]\n",
      "C:\\Users\\Sai Krishna\\Desktop\\Bird-Species-Classification-main 2\\Bird-Species-Classification-main\\archive\\train\\Bewick's Wren\\351081-9.wav\n",
      "C:\\Users\\Sai Krishna\\Desktop\\Bird-Species-Classification-main 2\\Bird-Species-Classification-main\\archive\\train\\Bewick's Wren\\351081-9.wav\n"
     ]
    },
    {
     "name": "stderr",
     "output_type": "stream",
     "text": [
      " 98%|██████████████████████████████████████████████████████████████████████████████  | 794/814 [05:24<00:08,  2.45it/s]"
     ]
    },
    {
     "name": "stdout",
     "output_type": "stream",
     "text": [
      "lables [4]\n",
      "C:\\Users\\Sai Krishna\\Desktop\\Bird-Species-Classification-main 2\\Bird-Species-Classification-main\\archive\\train\\Northern Mockingbird\\232710-13.wav\n",
      "C:\\Users\\Sai Krishna\\Desktop\\Bird-Species-Classification-main 2\\Bird-Species-Classification-main\\archive\\train\\Northern Mockingbird\\232710-13.wav\n"
     ]
    },
    {
     "name": "stderr",
     "output_type": "stream",
     "text": [
      " 98%|██████████████████████████████████████████████████████████████████████████████▏ | 795/814 [05:25<00:07,  2.55it/s]"
     ]
    },
    {
     "name": "stdout",
     "output_type": "stream",
     "text": [
      "lables [1]\n",
      "C:\\Users\\Sai Krishna\\Desktop\\Bird-Species-Classification-main 2\\Bird-Species-Classification-main\\archive\\train\\Song Sparrow\\269172-2.wav\n",
      "C:\\Users\\Sai Krishna\\Desktop\\Bird-Species-Classification-main 2\\Bird-Species-Classification-main\\archive\\train\\Song Sparrow\\269172-2.wav\n"
     ]
    },
    {
     "name": "stderr",
     "output_type": "stream",
     "text": [
      " 98%|██████████████████████████████████████████████████████████████████████████████▏ | 796/814 [05:25<00:06,  2.61it/s]"
     ]
    },
    {
     "name": "stdout",
     "output_type": "stream",
     "text": [
      "lables [0]\n",
      "C:\\Users\\Sai Krishna\\Desktop\\Bird-Species-Classification-main 2\\Bird-Species-Classification-main\\archive\\train\\Song Sparrow\\149420-6.wav\n",
      "C:\\Users\\Sai Krishna\\Desktop\\Bird-Species-Classification-main 2\\Bird-Species-Classification-main\\archive\\train\\Song Sparrow\\149420-6.wav\n"
     ]
    },
    {
     "name": "stderr",
     "output_type": "stream",
     "text": [
      " 98%|██████████████████████████████████████████████████████████████████████████████▎ | 797/814 [05:25<00:06,  2.69it/s]"
     ]
    },
    {
     "name": "stdout",
     "output_type": "stream",
     "text": [
      "lables [0]\n",
      "C:\\Users\\Sai Krishna\\Desktop\\Bird-Species-Classification-main 2\\Bird-Species-Classification-main\\archive\\train\\American Robin\\128490-1.wav\n",
      "C:\\Users\\Sai Krishna\\Desktop\\Bird-Species-Classification-main 2\\Bird-Species-Classification-main\\archive\\train\\American Robin\\128490-1.wav\n"
     ]
    },
    {
     "name": "stderr",
     "output_type": "stream",
     "text": [
      " 98%|██████████████████████████████████████████████████████████████████████████████▍ | 798/814 [05:26<00:05,  2.71it/s]"
     ]
    },
    {
     "name": "stdout",
     "output_type": "stream",
     "text": [
      "lables [3]\n",
      "C:\\Users\\Sai Krishna\\Desktop\\Bird-Species-Classification-main 2\\Bird-Species-Classification-main\\archive\\train\\Bewick's Wren\\217835-4.wav\n",
      "C:\\Users\\Sai Krishna\\Desktop\\Bird-Species-Classification-main 2\\Bird-Species-Classification-main\\archive\\train\\Bewick's Wren\\217835-4.wav\n"
     ]
    },
    {
     "name": "stderr",
     "output_type": "stream",
     "text": [
      " 98%|██████████████████████████████████████████████████████████████████████████████▌ | 799/814 [05:26<00:05,  2.74it/s]"
     ]
    },
    {
     "name": "stdout",
     "output_type": "stream",
     "text": [
      "lables [4]\n",
      "C:\\Users\\Sai Krishna\\Desktop\\Bird-Species-Classification-main 2\\Bird-Species-Classification-main\\archive\\train\\Bewick's Wren\\351093-6.wav\n",
      "C:\\Users\\Sai Krishna\\Desktop\\Bird-Species-Classification-main 2\\Bird-Species-Classification-main\\archive\\train\\Bewick's Wren\\351093-6.wav\n"
     ]
    },
    {
     "name": "stderr",
     "output_type": "stream",
     "text": [
      " 98%|██████████████████████████████████████████████████████████████████████████████▌ | 800/814 [05:27<00:05,  2.74it/s]"
     ]
    },
    {
     "name": "stdout",
     "output_type": "stream",
     "text": [
      "lables [0]\n",
      "C:\\Users\\Sai Krishna\\Desktop\\Bird-Species-Classification-main 2\\Bird-Species-Classification-main\\archive\\train\\Song Sparrow\\125714-4.wav\n",
      "C:\\Users\\Sai Krishna\\Desktop\\Bird-Species-Classification-main 2\\Bird-Species-Classification-main\\archive\\train\\Song Sparrow\\125714-4.wav\n"
     ]
    },
    {
     "name": "stderr",
     "output_type": "stream",
     "text": [
      " 98%|██████████████████████████████████████████████████████████████████████████████▋ | 801/814 [05:27<00:04,  2.73it/s]"
     ]
    },
    {
     "name": "stdout",
     "output_type": "stream",
     "text": [
      "lables [0]\n",
      "C:\\Users\\Sai Krishna\\Desktop\\Bird-Species-Classification-main 2\\Bird-Species-Classification-main\\archive\\train\\American Robin\\563612-3.wav\n",
      "C:\\Users\\Sai Krishna\\Desktop\\Bird-Species-Classification-main 2\\Bird-Species-Classification-main\\archive\\train\\American Robin\\563612-3.wav\n"
     ]
    },
    {
     "name": "stderr",
     "output_type": "stream",
     "text": [
      " 99%|██████████████████████████████████████████████████████████████████████████████▊ | 802/814 [05:27<00:04,  2.63it/s]"
     ]
    },
    {
     "name": "stdout",
     "output_type": "stream",
     "text": [
      "lables [3]\n",
      "C:\\Users\\Sai Krishna\\Desktop\\Bird-Species-Classification-main 2\\Bird-Species-Classification-main\\archive\\train\\Bewick's Wren\\212943-9.wav\n",
      "C:\\Users\\Sai Krishna\\Desktop\\Bird-Species-Classification-main 2\\Bird-Species-Classification-main\\archive\\train\\Bewick's Wren\\212943-9.wav\n"
     ]
    },
    {
     "name": "stderr",
     "output_type": "stream",
     "text": [
      " 99%|██████████████████████████████████████████████████████████████████████████████▉ | 803/814 [05:28<00:04,  2.46it/s]"
     ]
    },
    {
     "name": "stdout",
     "output_type": "stream",
     "text": [
      "lables [4]\n",
      "C:\\Users\\Sai Krishna\\Desktop\\Bird-Species-Classification-main 2\\Bird-Species-Classification-main\\archive\\train\\Northern Cardinal\\469588-6.wav\n",
      "C:\\Users\\Sai Krishna\\Desktop\\Bird-Species-Classification-main 2\\Bird-Species-Classification-main\\archive\\train\\Northern Cardinal\\469588-6.wav\n"
     ]
    },
    {
     "name": "stderr",
     "output_type": "stream",
     "text": [
      " 99%|███████████████████████████████████████████████████████████████████████████████ | 804/814 [05:28<00:04,  2.39it/s]"
     ]
    },
    {
     "name": "stdout",
     "output_type": "stream",
     "text": [
      "lables [2]\n",
      "C:\\Users\\Sai Krishna\\Desktop\\Bird-Species-Classification-main 2\\Bird-Species-Classification-main\\archive\\train\\American Robin\\190473-8.wav\n",
      "C:\\Users\\Sai Krishna\\Desktop\\Bird-Species-Classification-main 2\\Bird-Species-Classification-main\\archive\\train\\American Robin\\190473-8.wav\n"
     ]
    },
    {
     "name": "stderr",
     "output_type": "stream",
     "text": [
      " 99%|███████████████████████████████████████████████████████████████████████████████ | 805/814 [05:29<00:03,  2.38it/s]"
     ]
    },
    {
     "name": "stdout",
     "output_type": "stream",
     "text": [
      "lables [3]\n",
      "C:\\Users\\Sai Krishna\\Desktop\\Bird-Species-Classification-main 2\\Bird-Species-Classification-main\\archive\\train\\Song Sparrow\\425799-2.wav\n",
      "C:\\Users\\Sai Krishna\\Desktop\\Bird-Species-Classification-main 2\\Bird-Species-Classification-main\\archive\\train\\Song Sparrow\\425799-2.wav\n"
     ]
    },
    {
     "name": "stderr",
     "output_type": "stream",
     "text": [
      " 99%|███████████████████████████████████████████████████████████████████████████████▏| 806/814 [05:29<00:03,  2.31it/s]"
     ]
    },
    {
     "name": "stdout",
     "output_type": "stream",
     "text": [
      "lables [4]\n",
      "C:\\Users\\Sai Krishna\\Desktop\\Bird-Species-Classification-main 2\\Bird-Species-Classification-main\\archive\\train\\Song Sparrow\\125721-0.wav\n",
      "C:\\Users\\Sai Krishna\\Desktop\\Bird-Species-Classification-main 2\\Bird-Species-Classification-main\\archive\\train\\Song Sparrow\\125721-0.wav\n"
     ]
    },
    {
     "name": "stderr",
     "output_type": "stream",
     "text": [
      " 99%|███████████████████████████████████████████████████████████████████████████████▎| 807/814 [05:30<00:03,  2.25it/s]"
     ]
    },
    {
     "name": "stdout",
     "output_type": "stream",
     "text": [
      "lables [0]\n",
      "C:\\Users\\Sai Krishna\\Desktop\\Bird-Species-Classification-main 2\\Bird-Species-Classification-main\\archive\\train\\Song Sparrow\\121280-10.wav\n",
      "C:\\Users\\Sai Krishna\\Desktop\\Bird-Species-Classification-main 2\\Bird-Species-Classification-main\\archive\\train\\Song Sparrow\\121280-10.wav\n"
     ]
    },
    {
     "name": "stderr",
     "output_type": "stream",
     "text": [
      " 99%|███████████████████████████████████████████████████████████████████████████████▍| 808/814 [05:30<00:02,  2.33it/s]"
     ]
    },
    {
     "name": "stdout",
     "output_type": "stream",
     "text": [
      "lables [0]\n",
      "C:\\Users\\Sai Krishna\\Desktop\\Bird-Species-Classification-main 2\\Bird-Species-Classification-main\\archive\\train\\American Robin\\383961-14.wav\n",
      "C:\\Users\\Sai Krishna\\Desktop\\Bird-Species-Classification-main 2\\Bird-Species-Classification-main\\archive\\train\\American Robin\\383961-14.wav\n"
     ]
    },
    {
     "name": "stderr",
     "output_type": "stream",
     "text": [
      " 99%|███████████████████████████████████████████████████████████████████████████████▌| 809/814 [05:30<00:02,  2.47it/s]"
     ]
    },
    {
     "name": "stdout",
     "output_type": "stream",
     "text": [
      "lables [3]\n",
      "C:\\Users\\Sai Krishna\\Desktop\\Bird-Species-Classification-main 2\\Bird-Species-Classification-main\\archive\\train\\Song Sparrow\\363141-1.wav\n",
      "C:\\Users\\Sai Krishna\\Desktop\\Bird-Species-Classification-main 2\\Bird-Species-Classification-main\\archive\\train\\Song Sparrow\\363141-1.wav\n"
     ]
    },
    {
     "name": "stderr",
     "output_type": "stream",
     "text": [
      "100%|███████████████████████████████████████████████████████████████████████████████▌| 810/814 [05:31<00:01,  2.58it/s]"
     ]
    },
    {
     "name": "stdout",
     "output_type": "stream",
     "text": [
      "lables [0]\n",
      "C:\\Users\\Sai Krishna\\Desktop\\Bird-Species-Classification-main 2\\Bird-Species-Classification-main\\archive\\train\\Song Sparrow\\103449-9.wav\n",
      "C:\\Users\\Sai Krishna\\Desktop\\Bird-Species-Classification-main 2\\Bird-Species-Classification-main\\archive\\train\\Song Sparrow\\103449-9.wav\n"
     ]
    },
    {
     "name": "stderr",
     "output_type": "stream",
     "text": [
      "100%|███████████████████████████████████████████████████████████████████████████████▋| 811/814 [05:31<00:01,  2.67it/s]"
     ]
    },
    {
     "name": "stdout",
     "output_type": "stream",
     "text": [
      "lables [0]\n",
      "C:\\Users\\Sai Krishna\\Desktop\\Bird-Species-Classification-main 2\\Bird-Species-Classification-main\\archive\\train\\Song Sparrow\\132874-4.wav\n",
      "C:\\Users\\Sai Krishna\\Desktop\\Bird-Species-Classification-main 2\\Bird-Species-Classification-main\\archive\\train\\Song Sparrow\\132874-4.wav\n"
     ]
    },
    {
     "name": "stderr",
     "output_type": "stream",
     "text": [
      "100%|███████████████████████████████████████████████████████████████████████████████▊| 812/814 [05:31<00:00,  2.76it/s]"
     ]
    },
    {
     "name": "stdout",
     "output_type": "stream",
     "text": [
      "lables [0]\n",
      "C:\\Users\\Sai Krishna\\Desktop\\Bird-Species-Classification-main 2\\Bird-Species-Classification-main\\archive\\train\\American Robin\\394835-7.wav\n",
      "C:\\Users\\Sai Krishna\\Desktop\\Bird-Species-Classification-main 2\\Bird-Species-Classification-main\\archive\\train\\American Robin\\394835-7.wav\n"
     ]
    },
    {
     "name": "stderr",
     "output_type": "stream",
     "text": [
      "100%|███████████████████████████████████████████████████████████████████████████████▉| 813/814 [05:32<00:00,  2.78it/s]"
     ]
    },
    {
     "name": "stdout",
     "output_type": "stream",
     "text": [
      "lables [3]\n",
      "C:\\Users\\Sai Krishna\\Desktop\\Bird-Species-Classification-main 2\\Bird-Species-Classification-main\\archive\\train\\Northern Mockingbird\\192423-5.wav\n",
      "C:\\Users\\Sai Krishna\\Desktop\\Bird-Species-Classification-main 2\\Bird-Species-Classification-main\\archive\\train\\Northern Mockingbird\\192423-5.wav\n"
     ]
    },
    {
     "name": "stderr",
     "output_type": "stream",
     "text": [
      "100%|████████████████████████████████████████████████████████████████████████████████| 814/814 [05:32<00:00,  2.45it/s]"
     ]
    },
    {
     "name": "stdout",
     "output_type": "stream",
     "text": [
      "lables [1]\n"
     ]
    },
    {
     "name": "stderr",
     "output_type": "stream",
     "text": [
      "\n"
     ]
    },
    {
     "data": {
      "text/plain": [
       "0.931297919710975"
      ]
     },
     "execution_count": 43,
     "metadata": {},
     "output_type": "execute_result"
    }
   ],
   "source": [
    "y_true, y_pred, score = evaluate(model, validation)\n",
    "score"
   ]
  },
  {
   "cell_type": "code",
   "execution_count": 44,
   "metadata": {},
   "outputs": [
    {
     "data": {
      "text/plain": [
       "0.931297919710975"
      ]
     },
     "execution_count": 44,
     "metadata": {},
     "output_type": "execute_result"
    }
   ],
   "source": [
    "from sklearn.metrics import accuracy_score\n",
    "\n",
    "# Assume y_true and y_pred are numpy arrays of true and predicted values\n",
    "score"
   ]
  },
  {
   "cell_type": "markdown",
   "metadata": {},
   "source": [
    "Bird-Species-Classification-main\\archive\\wavfiles\\565240-6.wav"
   ]
  },
  {
   "cell_type": "code",
   "execution_count": 45,
   "metadata": {
    "colab": {
     "base_uri": "https://localhost:8080/"
    },
    "executionInfo": {
     "elapsed": 65,
     "status": "ok",
     "timestamp": 1674921888450,
     "user": {
      "displayName": "Jagadeesh M",
      "userId": "09911460282180839202"
     },
     "user_tz": -330
    },
    "id": "U8EXx08TFszA",
    "outputId": "6c0d93c8-09f5-4f56-8444-287354b9f566",
    "scrolled": true
   },
   "outputs": [
    {
     "name": "stdout",
     "output_type": "stream",
     "text": [
      "              precision    recall  f1-score   support\n",
      "\n",
      "           0       0.90      0.94      0.92       194\n",
      "           1       0.96      0.91      0.94       168\n",
      "           2       0.93      0.95      0.94       150\n",
      "           3       0.95      0.92      0.93       171\n",
      "           4       0.92      0.93      0.92       131\n",
      "\n",
      "   micro avg       0.93      0.93      0.93       814\n",
      "   macro avg       0.93      0.93      0.93       814\n",
      "weighted avg       0.93      0.93      0.93       814\n",
      " samples avg       0.93      0.93      0.93       814\n",
      "\n"
     ]
    }
   ],
   "source": [
    "from sklearn.metrics import classification_report\n",
    "\n",
    "y_true, y_pred = get_sm(y_true, y_pred)\n",
    "print(classification_report(y_true, y_pred))"
   ]
  },
  {
   "cell_type": "code",
   "execution_count": null,
   "metadata": {
    "id": "XWe8jj1Jq7M_"
   },
   "outputs": [],
   "source": []
  },
  {
   "cell_type": "code",
   "execution_count": 53,
   "metadata": {},
   "outputs": [],
   "source": []
  },
  {
   "cell_type": "code",
   "execution_count": null,
   "metadata": {},
   "outputs": [],
   "source": [
    "# pip install tensorflow-metal"
   ]
  },
  {
   "cell_type": "code",
   "execution_count": 54,
   "metadata": {},
   "outputs": [],
   "source": [
    "# validation"
   ]
  },
  {
   "cell_type": "code",
   "execution_count": 52,
   "metadata": {},
   "outputs": [],
   "source": [
    "# input_values_shape = validation_x[\"input_values\"][0].shape\n",
    "# attention_mask_shape = validation_x[\"attention_mask\"].shape\n",
    "\n",
    "# print(\"Input values shape:\", input_values_shape)\n",
    "# print(\"Attention mask shape:\", attention_mask_shape)\n"
   ]
  },
  {
   "cell_type": "code",
   "execution_count": 51,
   "metadata": {},
   "outputs": [],
   "source": [
    "# predictions = model.predict(validation_x)"
   ]
  },
  {
   "cell_type": "code",
   "execution_count": null,
   "metadata": {},
   "outputs": [],
   "source": []
  },
  {
   "cell_type": "code",
   "execution_count": null,
   "metadata": {},
   "outputs": [],
   "source": []
  },
  {
   "cell_type": "code",
   "execution_count": null,
   "metadata": {},
   "outputs": [],
   "source": []
  },
  {
   "cell_type": "code",
   "execution_count": null,
   "metadata": {},
   "outputs": [],
   "source": []
  },
  {
   "cell_type": "code",
   "execution_count": null,
   "metadata": {},
   "outputs": [],
   "source": []
  },
  {
   "cell_type": "code",
   "execution_count": null,
   "metadata": {},
   "outputs": [],
   "source": []
  },
  {
   "cell_type": "code",
   "execution_count": null,
   "metadata": {},
   "outputs": [],
   "source": []
  }
 ],
 "metadata": {
  "accelerator": "GPU",
  "colab": {
   "provenance": []
  },
  "gpuClass": "standard",
  "kernelspec": {
   "display_name": "Python 3 (ipykernel)",
   "language": "python",
   "name": "python3"
  },
  "language_info": {
   "codemirror_mode": {
    "name": "ipython",
    "version": 3
   },
   "file_extension": ".py",
   "mimetype": "text/x-python",
   "name": "python",
   "nbconvert_exporter": "python",
   "pygments_lexer": "ipython3",
   "version": "3.10.11"
  },
  "varInspector": {
   "cols": {
    "lenName": 16,
    "lenType": 16,
    "lenVar": 40
   },
   "kernels_config": {
    "python": {
     "delete_cmd_postfix": "",
     "delete_cmd_prefix": "del ",
     "library": "var_list.py",
     "varRefreshCmd": "print(var_dic_list())"
    },
    "r": {
     "delete_cmd_postfix": ") ",
     "delete_cmd_prefix": "rm(",
     "library": "var_list.r",
     "varRefreshCmd": "cat(var_dic_list()) "
    }
   },
   "types_to_exclude": [
    "module",
    "function",
    "builtin_function_or_method",
    "instance",
    "_Feature"
   ],
   "window_display": false
  },
  "widgets": {
   "application/vnd.jupyter.widget-state+json": {
    "0aa280c088d9450abcf24174d16b3c60": {
     "model_module": "@jupyter-widgets/controls",
     "model_module_version": "1.5.0",
     "model_name": "HTMLModel",
     "state": {
      "_dom_classes": [],
      "_model_module": "@jupyter-widgets/controls",
      "_model_module_version": "1.5.0",
      "_model_name": "HTMLModel",
      "_view_count": null,
      "_view_module": "@jupyter-widgets/controls",
      "_view_module_version": "1.5.0",
      "_view_name": "HTMLView",
      "description": "",
      "description_tooltip": null,
      "layout": "IPY_MODEL_ae09b7163b6242249038eff8c54f1270",
      "placeholder": "​",
      "style": "IPY_MODEL_a2e0189ae3574945b2336e7415fa7cc2",
      "value": " 96/96 [00:05&lt;00:00, 16.12 examples/s]"
     }
    },
    "111140a7c8834455aed97be4a5b2253e": {
     "model_module": "@jupyter-widgets/base",
     "model_module_version": "1.2.0",
     "model_name": "LayoutModel",
     "state": {
      "_model_module": "@jupyter-widgets/base",
      "_model_module_version": "1.2.0",
      "_model_name": "LayoutModel",
      "_view_count": null,
      "_view_module": "@jupyter-widgets/base",
      "_view_module_version": "1.2.0",
      "_view_name": "LayoutView",
      "align_content": null,
      "align_items": null,
      "align_self": null,
      "border": null,
      "bottom": null,
      "display": null,
      "flex": null,
      "flex_flow": null,
      "grid_area": null,
      "grid_auto_columns": null,
      "grid_auto_flow": null,
      "grid_auto_rows": null,
      "grid_column": null,
      "grid_gap": null,
      "grid_row": null,
      "grid_template_areas": null,
      "grid_template_columns": null,
      "grid_template_rows": null,
      "height": null,
      "justify_content": null,
      "justify_items": null,
      "left": null,
      "margin": null,
      "max_height": null,
      "max_width": null,
      "min_height": null,
      "min_width": null,
      "object_fit": null,
      "object_position": null,
      "order": null,
      "overflow": null,
      "overflow_x": null,
      "overflow_y": null,
      "padding": null,
      "right": null,
      "top": null,
      "visibility": null,
      "width": null
     }
    },
    "33b69a8b67d54f20bbdb663d41a53c60": {
     "model_module": "@jupyter-widgets/base",
     "model_module_version": "1.2.0",
     "model_name": "LayoutModel",
     "state": {
      "_model_module": "@jupyter-widgets/base",
      "_model_module_version": "1.2.0",
      "_model_name": "LayoutModel",
      "_view_count": null,
      "_view_module": "@jupyter-widgets/base",
      "_view_module_version": "1.2.0",
      "_view_name": "LayoutView",
      "align_content": null,
      "align_items": null,
      "align_self": null,
      "border": null,
      "bottom": null,
      "display": null,
      "flex": null,
      "flex_flow": null,
      "grid_area": null,
      "grid_auto_columns": null,
      "grid_auto_flow": null,
      "grid_auto_rows": null,
      "grid_column": null,
      "grid_gap": null,
      "grid_row": null,
      "grid_template_areas": null,
      "grid_template_columns": null,
      "grid_template_rows": null,
      "height": null,
      "justify_content": null,
      "justify_items": null,
      "left": null,
      "margin": null,
      "max_height": null,
      "max_width": null,
      "min_height": null,
      "min_width": null,
      "object_fit": null,
      "object_position": null,
      "order": null,
      "overflow": null,
      "overflow_x": null,
      "overflow_y": null,
      "padding": null,
      "right": null,
      "top": null,
      "visibility": "hidden",
      "width": null
     }
    },
    "3fbca77d0b4945b480bde77597109dd2": {
     "model_module": "@jupyter-widgets/controls",
     "model_module_version": "1.5.0",
     "model_name": "ProgressStyleModel",
     "state": {
      "_model_module": "@jupyter-widgets/controls",
      "_model_module_version": "1.5.0",
      "_model_name": "ProgressStyleModel",
      "_view_count": null,
      "_view_module": "@jupyter-widgets/base",
      "_view_module_version": "1.2.0",
      "_view_name": "StyleView",
      "bar_color": null,
      "description_width": ""
     }
    },
    "453888b3c6e9432dac50ba5c26d19842": {
     "model_module": "@jupyter-widgets/controls",
     "model_module_version": "1.5.0",
     "model_name": "HTMLModel",
     "state": {
      "_dom_classes": [],
      "_model_module": "@jupyter-widgets/controls",
      "_model_module_version": "1.5.0",
      "_model_name": "HTMLModel",
      "_view_count": null,
      "_view_module": "@jupyter-widgets/controls",
      "_view_module_version": "1.5.0",
      "_view_name": "HTMLView",
      "description": "",
      "description_tooltip": null,
      "layout": "IPY_MODEL_111140a7c8834455aed97be4a5b2253e",
      "placeholder": "​",
      "style": "IPY_MODEL_5059041a1938466c8f11ae43c6e20c90",
      "value": " 960/960 [00:40&lt;00:00, 23.94 examples/s]"
     }
    },
    "5059041a1938466c8f11ae43c6e20c90": {
     "model_module": "@jupyter-widgets/controls",
     "model_module_version": "1.5.0",
     "model_name": "DescriptionStyleModel",
     "state": {
      "_model_module": "@jupyter-widgets/controls",
      "_model_module_version": "1.5.0",
      "_model_name": "DescriptionStyleModel",
      "_view_count": null,
      "_view_module": "@jupyter-widgets/base",
      "_view_module_version": "1.2.0",
      "_view_name": "StyleView",
      "description_width": ""
     }
    },
    "5132ae33e2a9420b855b48a1b3320d54": {
     "model_module": "@jupyter-widgets/controls",
     "model_module_version": "1.5.0",
     "model_name": "HTMLModel",
     "state": {
      "_dom_classes": [],
      "_model_module": "@jupyter-widgets/controls",
      "_model_module_version": "1.5.0",
      "_model_name": "HTMLModel",
      "_view_count": null,
      "_view_module": "@jupyter-widgets/controls",
      "_view_module_version": "1.5.0",
      "_view_name": "HTMLView",
      "description": "",
      "description_tooltip": null,
      "layout": "IPY_MODEL_dce3d31d53c441d4bf5cc6c2ae39dac7",
      "placeholder": "​",
      "style": "IPY_MODEL_966d4e0db390439ea4f7e9243c07d4f4",
      "value": "Map: 100%"
     }
    },
    "780cedaa760a43b2ae99fe694e417126": {
     "model_module": "@jupyter-widgets/controls",
     "model_module_version": "1.5.0",
     "model_name": "FloatProgressModel",
     "state": {
      "_dom_classes": [],
      "_model_module": "@jupyter-widgets/controls",
      "_model_module_version": "1.5.0",
      "_model_name": "FloatProgressModel",
      "_view_count": null,
      "_view_module": "@jupyter-widgets/controls",
      "_view_module_version": "1.5.0",
      "_view_name": "ProgressView",
      "bar_style": "",
      "description": "",
      "description_tooltip": null,
      "layout": "IPY_MODEL_f1a94e8ac6634a5ab6f1782c42e1eac8",
      "max": 96,
      "min": 0,
      "orientation": "horizontal",
      "style": "IPY_MODEL_3fbca77d0b4945b480bde77597109dd2",
      "value": 96
     }
    },
    "81efd04ce230429d9c0cae00813d62a0": {
     "model_module": "@jupyter-widgets/controls",
     "model_module_version": "1.5.0",
     "model_name": "DescriptionStyleModel",
     "state": {
      "_model_module": "@jupyter-widgets/controls",
      "_model_module_version": "1.5.0",
      "_model_name": "DescriptionStyleModel",
      "_view_count": null,
      "_view_module": "@jupyter-widgets/base",
      "_view_module_version": "1.2.0",
      "_view_name": "StyleView",
      "description_width": ""
     }
    },
    "966d4e0db390439ea4f7e9243c07d4f4": {
     "model_module": "@jupyter-widgets/controls",
     "model_module_version": "1.5.0",
     "model_name": "DescriptionStyleModel",
     "state": {
      "_model_module": "@jupyter-widgets/controls",
      "_model_module_version": "1.5.0",
      "_model_name": "DescriptionStyleModel",
      "_view_count": null,
      "_view_module": "@jupyter-widgets/base",
      "_view_module_version": "1.2.0",
      "_view_name": "StyleView",
      "description_width": ""
     }
    },
    "9a85f9a5d728459a929696169d3dcad5": {
     "model_module": "@jupyter-widgets/controls",
     "model_module_version": "1.5.0",
     "model_name": "FloatProgressModel",
     "state": {
      "_dom_classes": [],
      "_model_module": "@jupyter-widgets/controls",
      "_model_module_version": "1.5.0",
      "_model_name": "FloatProgressModel",
      "_view_count": null,
      "_view_module": "@jupyter-widgets/controls",
      "_view_module_version": "1.5.0",
      "_view_name": "ProgressView",
      "bar_style": "",
      "description": "",
      "description_tooltip": null,
      "layout": "IPY_MODEL_bbfc602d75334b8886a4ca88e5cf3cb8",
      "max": 960,
      "min": 0,
      "orientation": "horizontal",
      "style": "IPY_MODEL_b0d1bda1a0c74f1293eca52412632ec4",
      "value": 960
     }
    },
    "9fd242834e4841f6b50c54048be9e694": {
     "model_module": "@jupyter-widgets/controls",
     "model_module_version": "1.5.0",
     "model_name": "HBoxModel",
     "state": {
      "_dom_classes": [],
      "_model_module": "@jupyter-widgets/controls",
      "_model_module_version": "1.5.0",
      "_model_name": "HBoxModel",
      "_view_count": null,
      "_view_module": "@jupyter-widgets/controls",
      "_view_module_version": "1.5.0",
      "_view_name": "HBoxView",
      "box_style": "",
      "children": [
       "IPY_MODEL_e38dd76466024573b3868d2e2af0b730",
       "IPY_MODEL_780cedaa760a43b2ae99fe694e417126",
       "IPY_MODEL_0aa280c088d9450abcf24174d16b3c60"
      ],
      "layout": "IPY_MODEL_b63d2279bf974dc0bea8d889e98abc6a"
     }
    },
    "a2e0189ae3574945b2336e7415fa7cc2": {
     "model_module": "@jupyter-widgets/controls",
     "model_module_version": "1.5.0",
     "model_name": "DescriptionStyleModel",
     "state": {
      "_model_module": "@jupyter-widgets/controls",
      "_model_module_version": "1.5.0",
      "_model_name": "DescriptionStyleModel",
      "_view_count": null,
      "_view_module": "@jupyter-widgets/base",
      "_view_module_version": "1.2.0",
      "_view_name": "StyleView",
      "description_width": ""
     }
    },
    "a8b703bbcdd440ee92c67f7abcb80eca": {
     "model_module": "@jupyter-widgets/base",
     "model_module_version": "1.2.0",
     "model_name": "LayoutModel",
     "state": {
      "_model_module": "@jupyter-widgets/base",
      "_model_module_version": "1.2.0",
      "_model_name": "LayoutModel",
      "_view_count": null,
      "_view_module": "@jupyter-widgets/base",
      "_view_module_version": "1.2.0",
      "_view_name": "LayoutView",
      "align_content": null,
      "align_items": null,
      "align_self": null,
      "border": null,
      "bottom": null,
      "display": null,
      "flex": null,
      "flex_flow": null,
      "grid_area": null,
      "grid_auto_columns": null,
      "grid_auto_flow": null,
      "grid_auto_rows": null,
      "grid_column": null,
      "grid_gap": null,
      "grid_row": null,
      "grid_template_areas": null,
      "grid_template_columns": null,
      "grid_template_rows": null,
      "height": null,
      "justify_content": null,
      "justify_items": null,
      "left": null,
      "margin": null,
      "max_height": null,
      "max_width": null,
      "min_height": null,
      "min_width": null,
      "object_fit": null,
      "object_position": null,
      "order": null,
      "overflow": null,
      "overflow_x": null,
      "overflow_y": null,
      "padding": null,
      "right": null,
      "top": null,
      "visibility": null,
      "width": null
     }
    },
    "ae09b7163b6242249038eff8c54f1270": {
     "model_module": "@jupyter-widgets/base",
     "model_module_version": "1.2.0",
     "model_name": "LayoutModel",
     "state": {
      "_model_module": "@jupyter-widgets/base",
      "_model_module_version": "1.2.0",
      "_model_name": "LayoutModel",
      "_view_count": null,
      "_view_module": "@jupyter-widgets/base",
      "_view_module_version": "1.2.0",
      "_view_name": "LayoutView",
      "align_content": null,
      "align_items": null,
      "align_self": null,
      "border": null,
      "bottom": null,
      "display": null,
      "flex": null,
      "flex_flow": null,
      "grid_area": null,
      "grid_auto_columns": null,
      "grid_auto_flow": null,
      "grid_auto_rows": null,
      "grid_column": null,
      "grid_gap": null,
      "grid_row": null,
      "grid_template_areas": null,
      "grid_template_columns": null,
      "grid_template_rows": null,
      "height": null,
      "justify_content": null,
      "justify_items": null,
      "left": null,
      "margin": null,
      "max_height": null,
      "max_width": null,
      "min_height": null,
      "min_width": null,
      "object_fit": null,
      "object_position": null,
      "order": null,
      "overflow": null,
      "overflow_x": null,
      "overflow_y": null,
      "padding": null,
      "right": null,
      "top": null,
      "visibility": null,
      "width": null
     }
    },
    "b0d1bda1a0c74f1293eca52412632ec4": {
     "model_module": "@jupyter-widgets/controls",
     "model_module_version": "1.5.0",
     "model_name": "ProgressStyleModel",
     "state": {
      "_model_module": "@jupyter-widgets/controls",
      "_model_module_version": "1.5.0",
      "_model_name": "ProgressStyleModel",
      "_view_count": null,
      "_view_module": "@jupyter-widgets/base",
      "_view_module_version": "1.2.0",
      "_view_name": "StyleView",
      "bar_color": null,
      "description_width": ""
     }
    },
    "b63d2279bf974dc0bea8d889e98abc6a": {
     "model_module": "@jupyter-widgets/base",
     "model_module_version": "1.2.0",
     "model_name": "LayoutModel",
     "state": {
      "_model_module": "@jupyter-widgets/base",
      "_model_module_version": "1.2.0",
      "_model_name": "LayoutModel",
      "_view_count": null,
      "_view_module": "@jupyter-widgets/base",
      "_view_module_version": "1.2.0",
      "_view_name": "LayoutView",
      "align_content": null,
      "align_items": null,
      "align_self": null,
      "border": null,
      "bottom": null,
      "display": null,
      "flex": null,
      "flex_flow": null,
      "grid_area": null,
      "grid_auto_columns": null,
      "grid_auto_flow": null,
      "grid_auto_rows": null,
      "grid_column": null,
      "grid_gap": null,
      "grid_row": null,
      "grid_template_areas": null,
      "grid_template_columns": null,
      "grid_template_rows": null,
      "height": null,
      "justify_content": null,
      "justify_items": null,
      "left": null,
      "margin": null,
      "max_height": null,
      "max_width": null,
      "min_height": null,
      "min_width": null,
      "object_fit": null,
      "object_position": null,
      "order": null,
      "overflow": null,
      "overflow_x": null,
      "overflow_y": null,
      "padding": null,
      "right": null,
      "top": null,
      "visibility": "hidden",
      "width": null
     }
    },
    "bbfc602d75334b8886a4ca88e5cf3cb8": {
     "model_module": "@jupyter-widgets/base",
     "model_module_version": "1.2.0",
     "model_name": "LayoutModel",
     "state": {
      "_model_module": "@jupyter-widgets/base",
      "_model_module_version": "1.2.0",
      "_model_name": "LayoutModel",
      "_view_count": null,
      "_view_module": "@jupyter-widgets/base",
      "_view_module_version": "1.2.0",
      "_view_name": "LayoutView",
      "align_content": null,
      "align_items": null,
      "align_self": null,
      "border": null,
      "bottom": null,
      "display": null,
      "flex": null,
      "flex_flow": null,
      "grid_area": null,
      "grid_auto_columns": null,
      "grid_auto_flow": null,
      "grid_auto_rows": null,
      "grid_column": null,
      "grid_gap": null,
      "grid_row": null,
      "grid_template_areas": null,
      "grid_template_columns": null,
      "grid_template_rows": null,
      "height": null,
      "justify_content": null,
      "justify_items": null,
      "left": null,
      "margin": null,
      "max_height": null,
      "max_width": null,
      "min_height": null,
      "min_width": null,
      "object_fit": null,
      "object_position": null,
      "order": null,
      "overflow": null,
      "overflow_x": null,
      "overflow_y": null,
      "padding": null,
      "right": null,
      "top": null,
      "visibility": null,
      "width": null
     }
    },
    "dce3d31d53c441d4bf5cc6c2ae39dac7": {
     "model_module": "@jupyter-widgets/base",
     "model_module_version": "1.2.0",
     "model_name": "LayoutModel",
     "state": {
      "_model_module": "@jupyter-widgets/base",
      "_model_module_version": "1.2.0",
      "_model_name": "LayoutModel",
      "_view_count": null,
      "_view_module": "@jupyter-widgets/base",
      "_view_module_version": "1.2.0",
      "_view_name": "LayoutView",
      "align_content": null,
      "align_items": null,
      "align_self": null,
      "border": null,
      "bottom": null,
      "display": null,
      "flex": null,
      "flex_flow": null,
      "grid_area": null,
      "grid_auto_columns": null,
      "grid_auto_flow": null,
      "grid_auto_rows": null,
      "grid_column": null,
      "grid_gap": null,
      "grid_row": null,
      "grid_template_areas": null,
      "grid_template_columns": null,
      "grid_template_rows": null,
      "height": null,
      "justify_content": null,
      "justify_items": null,
      "left": null,
      "margin": null,
      "max_height": null,
      "max_width": null,
      "min_height": null,
      "min_width": null,
      "object_fit": null,
      "object_position": null,
      "order": null,
      "overflow": null,
      "overflow_x": null,
      "overflow_y": null,
      "padding": null,
      "right": null,
      "top": null,
      "visibility": null,
      "width": null
     }
    },
    "e38dd76466024573b3868d2e2af0b730": {
     "model_module": "@jupyter-widgets/controls",
     "model_module_version": "1.5.0",
     "model_name": "HTMLModel",
     "state": {
      "_dom_classes": [],
      "_model_module": "@jupyter-widgets/controls",
      "_model_module_version": "1.5.0",
      "_model_name": "HTMLModel",
      "_view_count": null,
      "_view_module": "@jupyter-widgets/controls",
      "_view_module_version": "1.5.0",
      "_view_name": "HTMLView",
      "description": "",
      "description_tooltip": null,
      "layout": "IPY_MODEL_a8b703bbcdd440ee92c67f7abcb80eca",
      "placeholder": "​",
      "style": "IPY_MODEL_81efd04ce230429d9c0cae00813d62a0",
      "value": "Map: 100%"
     }
    },
    "e96df79b4c4046cba35d84ac56d54295": {
     "model_module": "@jupyter-widgets/controls",
     "model_module_version": "1.5.0",
     "model_name": "HBoxModel",
     "state": {
      "_dom_classes": [],
      "_model_module": "@jupyter-widgets/controls",
      "_model_module_version": "1.5.0",
      "_model_name": "HBoxModel",
      "_view_count": null,
      "_view_module": "@jupyter-widgets/controls",
      "_view_module_version": "1.5.0",
      "_view_name": "HBoxView",
      "box_style": "",
      "children": [
       "IPY_MODEL_5132ae33e2a9420b855b48a1b3320d54",
       "IPY_MODEL_9a85f9a5d728459a929696169d3dcad5",
       "IPY_MODEL_453888b3c6e9432dac50ba5c26d19842"
      ],
      "layout": "IPY_MODEL_33b69a8b67d54f20bbdb663d41a53c60"
     }
    },
    "f1a94e8ac6634a5ab6f1782c42e1eac8": {
     "model_module": "@jupyter-widgets/base",
     "model_module_version": "1.2.0",
     "model_name": "LayoutModel",
     "state": {
      "_model_module": "@jupyter-widgets/base",
      "_model_module_version": "1.2.0",
      "_model_name": "LayoutModel",
      "_view_count": null,
      "_view_module": "@jupyter-widgets/base",
      "_view_module_version": "1.2.0",
      "_view_name": "LayoutView",
      "align_content": null,
      "align_items": null,
      "align_self": null,
      "border": null,
      "bottom": null,
      "display": null,
      "flex": null,
      "flex_flow": null,
      "grid_area": null,
      "grid_auto_columns": null,
      "grid_auto_flow": null,
      "grid_auto_rows": null,
      "grid_column": null,
      "grid_gap": null,
      "grid_row": null,
      "grid_template_areas": null,
      "grid_template_columns": null,
      "grid_template_rows": null,
      "height": null,
      "justify_content": null,
      "justify_items": null,
      "left": null,
      "margin": null,
      "max_height": null,
      "max_width": null,
      "min_height": null,
      "min_width": null,
      "object_fit": null,
      "object_position": null,
      "order": null,
      "overflow": null,
      "overflow_x": null,
      "overflow_y": null,
      "padding": null,
      "right": null,
      "top": null,
      "visibility": null,
      "width": null
     }
    }
   }
  }
 },
 "nbformat": 4,
 "nbformat_minor": 4
}
